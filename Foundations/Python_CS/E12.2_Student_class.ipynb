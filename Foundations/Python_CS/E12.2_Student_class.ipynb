{
 "cells": [
  {
   "cell_type": "markdown",
   "metadata": {},
   "source": [
    "# Exercise 12.2\n",
    "\n",
    "1. Create a class for holding a student record entry. It should have the following attributes:\n",
    "   - Surname\n",
    "   - Forename\n",
    "   - Birth year\n",
    "   - Tripos year\n",
    "   - College\n",
    "   - CRSid (optional field)\n",
    "1. Equip your class with the method '`age`' that returns the age of the student\n",
    "1. Equip your class with the method '`__repr__`' such using `print` on a student record displays with the format\n",
    "\n",
    "       Surname: Bloggs, Forename: Andrea, College: Churchill\n",
    "\n",
    "1. Equip your class with the method `__lt__(self, other)` so that a list of record entries can be sorted by \n",
    "   (surname, forename). Create a list of entries and test the sorting. Make sure you have two entries with the same\n",
    "   surname."
   ]
  },
  {
   "cell_type": "code",
   "execution_count": 1,
   "metadata": {},
   "outputs": [],
   "source": [
    "# Import datetime module for calculating student ages\n",
    "import datetime\n",
    "\n",
    "# Import pretty print module for printing sorted student list\n",
    "import pprint"
   ]
  },
  {
   "cell_type": "markdown",
   "metadata": {},
   "source": [
    "### Create Student Class"
   ]
  },
  {
   "cell_type": "code",
   "execution_count": 2,
   "metadata": {
    "collapsed": true
   },
   "outputs": [],
   "source": [
    "class Student:\n",
    "    def __init__(self, surname, forename, birth_year, tripos_year, college, CRSid=None):\n",
    "        self.surname = surname\n",
    "        self.forename = forename\n",
    "        self.birth_year = birth_year\n",
    "        self.tripos_year = tripos_year\n",
    "        self.college = college\n",
    "        self.CRSid = CRSid\n",
    "        \n",
    "    # Function for returning the age of the student\n",
    "    def age(self):\n",
    "        \"Return current student age\"\n",
    "        current = datetime.date.today().year\n",
    "        return (current - self.birth_year)\n",
    "    \n",
    "    # Custom '<' operator (method)\n",
    "    def __lt__(self, other):\n",
    "        if self.surname < other.surname: # Student surname alphabetically before other student's surname\n",
    "            return True\n",
    "        elif self.surname > other.surname:  # Student surname alphabetically after other student's surname \n",
    "            return False\n",
    "        else: # Surnames are identical (sort by forename instead)\n",
    "            if self.forename < other.forename: # Student forename alphabetically before other student's forename\n",
    "                return True\n",
    "            elif self.forename > other.forename:  # Student forename alphabetically after other student's forename \n",
    "                return False\n",
    "    \n",
    "    # This function is called by Python for printing  \n",
    "    def __repr__(self):\n",
    "        return \"Surname: {}, Forename: {}, College: {}\".format(self.surname, self.forename, self.college)"
   ]
  },
  {
   "cell_type": "markdown",
   "metadata": {},
   "source": [
    "### Test Student class"
   ]
  },
  {
   "cell_type": "markdown",
   "metadata": {},
   "source": [
    "Create two Students (with and without CRSid) and print attributes."
   ]
  },
  {
   "cell_type": "code",
   "execution_count": 3,
   "metadata": {},
   "outputs": [
    {
     "name": "stdout",
     "output_type": "stream",
     "text": [
      "Forename: Amy\n",
      "Surname: Smith\n",
      "Birth Year: 1993\n",
      "Tripos Year: 3\n",
      "College: USC\n",
      "CRSid: 54\n"
     ]
    }
   ],
   "source": [
    "# Student 1\n",
    "amy = Student(\"Smith\", \"Amy\", 1993, 3, \"USC\", CRSid = 54)\n",
    "print(\"Forename: {}\".format(amy.forename))\n",
    "print(\"Surname: {}\".format(amy.surname))\n",
    "print(\"Birth Year: {}\".format(amy.birth_year))\n",
    "print(\"Tripos Year: {}\".format(amy.tripos_year))\n",
    "print(\"College: {}\".format(amy.college))\n",
    "print(\"CRSid: {}\".format(amy.CRSid))"
   ]
  },
  {
   "cell_type": "code",
   "execution_count": 4,
   "metadata": {},
   "outputs": [
    {
     "name": "stdout",
     "output_type": "stream",
     "text": [
      "Forename: Bob\n",
      "Surname: Jones\n",
      "Birth Year: 1990\n",
      "Tripos Year: 2\n",
      "College: UW\n",
      "CRSid: None\n"
     ]
    }
   ],
   "source": [
    "# Student 2\n",
    "bob = Student(\"Jones\", \"Bob\", 1990, 2, \"UW\")\n",
    "print(\"Forename: {}\".format(bob.forename))\n",
    "print(\"Surname: {}\".format(bob.surname))\n",
    "print(\"Birth Year: {}\".format(bob.birth_year))\n",
    "print(\"Tripos Year: {}\".format(bob.tripos_year))\n",
    "print(\"College: {}\".format(bob.college))\n",
    "print(\"CRSid: {}\".format(bob.CRSid))"
   ]
  },
  {
   "cell_type": "markdown",
   "metadata": {},
   "source": [
    "Test the '`age`' method"
   ]
  },
  {
   "cell_type": "code",
   "execution_count": 5,
   "metadata": {},
   "outputs": [
    {
     "name": "stdout",
     "output_type": "stream",
     "text": [
      "The current year is: 2017\n",
      "Amy is 24 years old.\n",
      "Bob is 27 years old.\n"
     ]
    }
   ],
   "source": [
    "# Calculate current year for testing age method\n",
    "year = datetime.date.today().year\n",
    "print(\"The current year is: {}\".format(year))\n",
    "\n",
    "# Test age for Amy\n",
    "amy_age = amy.age()\n",
    "print(\"Amy is {} years old.\".format(amy_age))\n",
    "assert amy_age == (year - amy.birth_year)\n",
    "\n",
    "# Test age for Bob\n",
    "bob_age = bob.age()\n",
    "print(\"Bob is {} years old.\".format(bob_age))\n",
    "assert bob_age == (year - bob.birth_year)"
   ]
  },
  {
   "cell_type": "markdown",
   "metadata": {},
   "source": [
    "Test the '`__repr__`' method"
   ]
  },
  {
   "cell_type": "code",
   "execution_count": 6,
   "metadata": {},
   "outputs": [
    {
     "name": "stdout",
     "output_type": "stream",
     "text": [
      "Surname: Smith, Forename: Amy, College: USC\n",
      "Surname: Jones, Forename: Bob, College: UW\n"
     ]
    }
   ],
   "source": [
    "# Print each student (will call __repr__ method)\n",
    "print(amy)\n",
    "print(bob)"
   ]
  },
  {
   "cell_type": "markdown",
   "metadata": {},
   "source": [
    "Test the `'__lt__'` method. This will require creating a list of students (with at least one shared surname) and sorting. "
   ]
  },
  {
   "cell_type": "code",
   "execution_count": 7,
   "metadata": {},
   "outputs": [
    {
     "name": "stdout",
     "output_type": "stream",
     "text": [
      "Unsorted:\n",
      "[Surname: Jones, Forename: Gail, College: LSU,\n",
      " Surname: Smith, Forename: Amy, College: USC,\n",
      " Surname: Edwards, Forename: Isabelle, College: FSU,\n",
      " Surname: Adams, Forename: Diane, College: CalTech,\n",
      " Surname: Roberts, Forename: Carol, College: Yale,\n",
      " Surname: Smith, Forename: John, College: Yale,\n",
      " Surname: Jones, Forename: Bob, College: UW,\n",
      " Surname: Roberts, Forename: Frank, College: ASU,\n",
      " Surname: Martinez, Forename: Howard, College: Harvard,\n",
      " Surname: Jones, Forename: Edward, College: UCSC]\n",
      "\n",
      "Sorted:\n",
      "[Surname: Adams, Forename: Diane, College: CalTech,\n",
      " Surname: Edwards, Forename: Isabelle, College: FSU,\n",
      " Surname: Jones, Forename: Bob, College: UW,\n",
      " Surname: Jones, Forename: Edward, College: UCSC,\n",
      " Surname: Jones, Forename: Gail, College: LSU,\n",
      " Surname: Martinez, Forename: Howard, College: Harvard,\n",
      " Surname: Roberts, Forename: Carol, College: Yale,\n",
      " Surname: Roberts, Forename: Frank, College: ASU,\n",
      " Surname: Smith, Forename: Amy, College: USC,\n",
      " Surname: Smith, Forename: John, College: Yale]\n"
     ]
    }
   ],
   "source": [
    "# Create more students to populate list\n",
    "carol = Student(\"Roberts\", \"Carol\", 1995, 1, \"Yale\")\n",
    "diane = Student(\"Adams\", \"Diane\", 1987, 4, \"CalTech\")\n",
    "edward = Student(\"Jones\", \"Edward\", 1992, 3, \"UCSC\")\n",
    "frank = Student(\"Roberts\", \"Frank\", 1990, 2, \"ASU\")\n",
    "gail = Student(\"Jones\", \"Gail\", 1991, 3, \"LSU\")\n",
    "howard = Student(\"Martinez\", \"Howard\", 1992, 1, \"Harvard\")\n",
    "isabelle = Student(\"Edwards\", \"Isabelle\", 1995, 4, \"FSU\")\n",
    "john = Student(\"Smith\", \"John\", 1989, 2, \"Yale\")\n",
    "\n",
    "# Create list of students not in alphabetical order\n",
    "student_list = [gail, amy, isabelle, diane, carol, john, bob, frank, howard, edward]\n",
    "print(\"Unsorted:\")\n",
    "pprint.pprint(student_list)\n",
    "\n",
    "# Sort student list (will call __lt__ method)\n",
    "student_list.sort()\n",
    "print(\"\\nSorted:\")\n",
    "pprint.pprint(student_list)"
   ]
  }
 ],
 "metadata": {
  "kernelspec": {
   "display_name": "Python 3",
   "language": "python",
   "name": "python3"
  },
  "language_info": {
   "codemirror_mode": {
    "name": "ipython",
    "version": 3
   },
   "file_extension": ".py",
   "mimetype": "text/x-python",
   "name": "python",
   "nbconvert_exporter": "python",
   "pygments_lexer": "ipython3",
   "version": "3.6.1"
  }
 },
 "nbformat": 4,
 "nbformat_minor": 2
}

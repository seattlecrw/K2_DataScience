{
 "cells": [
  {
   "cell_type": "markdown",
   "metadata": {},
   "source": [
    "# Exercise 09.2 (catching and dealing with exceptions)\n",
    "\n",
    "For the loan interest question in Activity 01 that involved user-input, restructure that problem such that \n",
    "it checks the validity of the user input (principal and number of days). For invalid input your program \n",
    "should prompt the user to try again."
   ]
  },
  {
   "cell_type": "markdown",
   "metadata": {},
   "source": [
    "### Write function to prompt a user for the loan principal"
   ]
  },
  {
   "cell_type": "code",
   "execution_count": 1,
   "metadata": {
    "collapsed": true
   },
   "outputs": [],
   "source": [
    "def get_principal():\n",
    "    \"Function that asks user for the loan principal amount, in Â£. If input is invalid, user is prompted to try again\"\n",
    "    try:\n",
    "        # Get principal from user input - if conversion to float fails Python raises an exception\n",
    "        principal = float(input('Please enter the loan principal (amount borrowed, in Â£): '))\n",
    "\n",
    "        # Conversion to float has been successful, but we need to check that loan principal is positive.\n",
    "        # Raise exception if principal is less than 0\n",
    "        if principal < 0:\n",
    "            raise ValueError(\"Principal must be a positive amount\")\n",
    "\n",
    "        return principal\n",
    "    except:\n",
    "        # Getting principal from user input unsuccessful, so print message\n",
    "        print(\"Invalid principal entered. Please try again\")\n",
    "\n",
    "        # Prompt user again to input principal\n",
    "        return get_principal()"
   ]
  },
  {
   "cell_type": "markdown",
   "metadata": {},
   "source": [
    "### Write function to prompt a user for number of days"
   ]
  },
  {
   "cell_type": "code",
   "execution_count": 2,
   "metadata": {
    "collapsed": true
   },
   "outputs": [],
   "source": [
    "def get_number_of_days():\n",
    "    \"Function that asks user for the time of loan in days. If input is invalid, user is prompted to try again\"\n",
    "    try:\n",
    "        # Get number of days from user input - if conversion to float fails Python raises an exception\n",
    "        days = float(input('Please enter the length of the loan (in days): '))\n",
    "\n",
    "        # Conversion to float has been successful, but we need to check that number of days.\n",
    "        # Raise exception if number of days is less than 0\n",
    "        if days < 0:\n",
    "            raise ValueError(\"Loan cannot be of a negative length.\")\n",
    "\n",
    "        return days\n",
    "    except:\n",
    "        # Getting days from user input unsuccessful, so print message\n",
    "        print(\"Invalid number of days entered. Please try again\")\n",
    "\n",
    "        # Prompt user again to input number of days\n",
    "        return get_number_of_days()"
   ]
  },
  {
   "cell_type": "markdown",
   "metadata": {},
   "source": [
    "## Modify loan interest function to utilize new user input methods"
   ]
  },
  {
   "cell_type": "code",
   "execution_count": 3,
   "metadata": {
    "collapsed": true
   },
   "outputs": [],
   "source": [
    "def interest_interactive():\n",
    "    \"\"\" Compute interest payable based on interactive values \"\"\"\n",
    "    # Define interest rates\n",
    "    bank_rate = 0.25\n",
    "    extra_rate = 1.49\n",
    "    daily_rate = (bank_rate + extra_rate) / 365\n",
    "    \n",
    "    # Collect principal value from user\n",
    "    principal = get_principal()\n",
    "            \n",
    "    # Collect time in days from user\n",
    "    days = get_number_of_days()\n",
    "\n",
    "    # Calculate and return interest payable\n",
    "    payable = daily_rate * days * principal\n",
    "    return payable"
   ]
  },
  {
   "cell_type": "markdown",
   "metadata": {},
   "source": [
    "### Test methods with valid and invalid inputs"
   ]
  },
  {
   "cell_type": "code",
   "execution_count": 4,
   "metadata": {},
   "outputs": [
    {
     "name": "stdout",
     "output_type": "stream",
     "text": [
      "Please enter the loan principal (amount borrowed, in Â£): 1500000\n",
      "Please enter the length of the loan (in days): 28\n",
      "Interest payable: Â£200,219.18\n"
     ]
    }
   ],
   "source": [
    "# Valid inputs\n",
    "interactive_test = interest_interactive()\n",
    "print(\"Interest payable: Â£{:,.2f}\".format(interactive_test))"
   ]
  },
  {
   "cell_type": "code",
   "execution_count": 5,
   "metadata": {},
   "outputs": [
    {
     "name": "stdout",
     "output_type": "stream",
     "text": [
      "Please enter the loan principal (amount borrowed, in Â£): -1500000\n",
      "Invalid principal entered. Please try again\n",
      "Please enter the loan principal (amount borrowed, in Â£): -10\n",
      "Invalid principal entered. Please try again\n",
      "Please enter the loan principal (amount borrowed, in Â£): 1500000\n",
      "Please enter the length of the loan (in days): -28\n",
      "Invalid number of days entered. Please try again\n",
      "Please enter the length of the loan (in days): -1\n",
      "Invalid number of days entered. Please try again\n",
      "Please enter the length of the loan (in days): 28\n",
      "Interest payable: Â£200,219.18\n"
     ]
    }
   ],
   "source": [
    "# Invalid inputs\n",
    "interactive_test = interest_interactive()\n",
    "print(\"Interest payable: Â£{:,.2f}\".format(interactive_test))"
   ]
  }
 ],
 "metadata": {
  "kernelspec": {
   "display_name": "Python 3",
   "language": "python",
   "name": "python3"
  },
  "language_info": {
   "codemirror_mode": {
    "name": "ipython",
    "version": 3
   },
   "file_extension": ".py",
   "mimetype": "text/x-python",
   "name": "python",
   "nbconvert_exporter": "python",
   "pygments_lexer": "ipython3",
   "version": "3.6.1"
  }
 },
 "nbformat": 4,
 "nbformat_minor": 2
}

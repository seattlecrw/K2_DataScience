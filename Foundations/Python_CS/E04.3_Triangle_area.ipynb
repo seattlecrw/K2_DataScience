{
 "cells": [
  {
   "cell_type": "markdown",
   "metadata": {},
   "source": [
    "# Exercise 04.3 (functions)\n",
    "\n",
    "Given the coordinates of the vertices of a triangle, $(x_0, y_0)$, $(x_1, y_1)$ and $(x_2, y_2)$, the area $A$ of a triangle is given by:\n",
    "\n",
    "$$\n",
    "A = \\left| \\frac{x_0(y_1  - y_2) + x_1(y_2 - y_0) + x_2(y_0 - y_1)}{2} \\right|\n",
    "$$\n",
    "\n",
    "Write a function that computes the area of a triangle given the coordinates of the vertices."
   ]
  },
  {
   "cell_type": "code",
   "execution_count": 1,
   "metadata": {
    "collapsed": true
   },
   "outputs": [],
   "source": [
    "def area_of_triangle(v0, v1, v2):\n",
    "    \"\"\" Computes the area of a triangle given the coordinates of the vertices\n",
    "        \n",
    "        Arguments:\n",
    "            v0, v1, v2 = triangle vertices composed of tuples (x0, y0), (x1, y1) and (x2, y2), respectively\n",
    "            note on coordinates: v[0] = x, v[1] = y\n",
    "            \n",
    "        Returns:\n",
    "            Float value representing area of triangle defined by vertices v0, v1 and v2\n",
    "    \"\"\"\n",
    "    numerator = (v0[0] * (v1[1] - v2[1])) + (v1[0] * (v2[1] - v0[1])) + (v2[0] * (v0[1] - v1[1]))\n",
    "    return abs(numerator / 2)"
   ]
  },
  {
   "cell_type": "markdown",
   "metadata": {},
   "source": [
    "### Test the output of your function against some known solutions."
   ]
  },
  {
   "cell_type": "code",
   "execution_count": 2,
   "metadata": {},
   "outputs": [
    {
     "data": {
      "text/plain": [
       "222.5"
      ]
     },
     "execution_count": 2,
     "metadata": {},
     "output_type": "execute_result"
    }
   ],
   "source": [
    "# Test against v0 = (15, 15), v1 = (23, 30), v2 = (50, 25)\n",
    "# Expect 222.5\n",
    "area_of_triangle(v0 = (15, 15), v1 = (23, 30), v2 = (50, 25))"
   ]
  },
  {
   "cell_type": "code",
   "execution_count": 3,
   "metadata": {},
   "outputs": [
    {
     "data": {
      "text/plain": [
       "282.5"
      ]
     },
     "execution_count": 3,
     "metadata": {},
     "output_type": "execute_result"
    }
   ],
   "source": [
    "# Test against v0 = (17, 42), v1 = (46, 37), v2 = (20, 22)\n",
    "# Expect 282.5\n",
    "area_of_triangle(v0 = (17, 42), v1 = (46, 37), v2 = (20, 22))"
   ]
  },
  {
   "cell_type": "code",
   "execution_count": 4,
   "metadata": {},
   "outputs": [
    {
     "data": {
      "text/plain": [
       "675.0"
      ]
     },
     "execution_count": 4,
     "metadata": {},
     "output_type": "execute_result"
    }
   ],
   "source": [
    "# Test against v0 = (5, 5), v1 = (50, 5), v2 = (15, 35)\n",
    "# Expect 675.0\n",
    "area_of_triangle(v0 = (5, 5), v1 = (50, 5), v2 = (15, 35))"
   ]
  }
 ],
 "metadata": {
  "kernelspec": {
   "display_name": "Python 3",
   "language": "python",
   "name": "python3"
  },
  "language_info": {
   "codemirror_mode": {
    "name": "ipython",
    "version": 3
   },
   "file_extension": ".py",
   "mimetype": "text/x-python",
   "name": "python",
   "nbconvert_exporter": "python",
   "pygments_lexer": "ipython3",
   "version": "3.6.1"
  }
 },
 "nbformat": 4,
 "nbformat_minor": 2
}

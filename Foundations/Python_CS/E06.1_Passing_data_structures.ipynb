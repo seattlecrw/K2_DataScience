{
 "cells": [
  {
   "cell_type": "markdown",
   "metadata": {},
   "source": [
    "# Exercise 06.1 (selecting and passing data structures)\n",
    "\n",
    "Given the coordinates of the vertices of a triangle, $(x_0, y_0)$, $(x_1, y_1)$ and $(x_2, y_2)$, the area $A$ of a triangle is given by:\n",
    "\n",
    "$$\n",
    "A = \\left| \\frac{x_0(y_1  - y_2) + x_1(y_2 - y_0) + x_2(y_0 - y_1)}{2} \\right|\n",
    "$$\n",
    "\n",
    "Use an appropriate data structure to develop a new version of the function in Activity 04 with a simpler interface (the interface is the arguments that are passed to the function). Add appropriate checks inside your function to validate the input data."
   ]
  },
  {
   "cell_type": "code",
   "execution_count": 1,
   "metadata": {},
   "outputs": [],
   "source": [
    "def area_of_triangle(triangle):\n",
    "    \"\"\" Computes the area of a triangle given the coordinates of the vertices\n",
    "        \n",
    "        Arguments:\n",
    "            triangle = list of triangle vertices (v0, v1, v2) composed of tuples (x0, y0), (x1, y1) and (x2, y2)\n",
    "            note on coordinates: v[0] = x, v[1] = y\n",
    "            \n",
    "        Returns:\n",
    "            Float value representing area of triangle defined by vertices v0, v1 and v2\n",
    "    \"\"\"\n",
    "    # Implement tests on user input\n",
    "    if len(triangle) != 3:\n",
    "        print(\"Triangle must have 3 vertices.\")\n",
    "        return\n",
    "    for vertex in triangle:\n",
    "        if len(vertex) != 2:\n",
    "            print(\"Each triangle vertex must have both 'x' and 'y' coordinates.\")\n",
    "            return\n",
    "    \n",
    "    # Assign each vertex to a variable and calculate area\n",
    "    v0 = triangle[0]\n",
    "    v1 = triangle[1]\n",
    "    v2 = triangle[2]\n",
    "    numerator = (v0[0] * (v1[1] - v2[1])) + (v1[0] * (v2[1] - v0[1])) + (v2[0] * (v0[1] - v1[1]))\n",
    "    return abs(numerator / 2)"
   ]
  },
  {
   "cell_type": "markdown",
   "metadata": {},
   "source": [
    "### Test the output of your function against some known solutions."
   ]
  },
  {
   "cell_type": "code",
   "execution_count": 2,
   "metadata": {},
   "outputs": [
    {
     "data": {
      "text/plain": [
       "222.5"
      ]
     },
     "execution_count": 2,
     "metadata": {},
     "output_type": "execute_result"
    }
   ],
   "source": [
    "# Test against triangle = [v0 = (15, 15), v1 = (23, 30), v2 = (50, 25)]\n",
    "# Expect 222.5\n",
    "triangle = [(15, 15), (23, 30), (50, 25)]\n",
    "area_of_triangle(triangle)"
   ]
  },
  {
   "cell_type": "code",
   "execution_count": 3,
   "metadata": {},
   "outputs": [
    {
     "data": {
      "text/plain": [
       "282.5"
      ]
     },
     "execution_count": 3,
     "metadata": {},
     "output_type": "execute_result"
    }
   ],
   "source": [
    "# Test against triangle = [v0 = (17, 42), v1 = (46, 37), v2 = (20, 22)]\n",
    "# Expect 282.5\n",
    "triangle = [(17, 42), (46, 37), (20, 22)]\n",
    "area_of_triangle(triangle)"
   ]
  },
  {
   "cell_type": "code",
   "execution_count": 4,
   "metadata": {},
   "outputs": [
    {
     "data": {
      "text/plain": [
       "675.0"
      ]
     },
     "execution_count": 4,
     "metadata": {},
     "output_type": "execute_result"
    }
   ],
   "source": [
    "# Test against triangle = [v0 = (5, 5), v1 = (50, 5), v2 = (15, 35)]\n",
    "# Expect 675.0\n",
    "triangle = [(5, 5), (50, 5), (15, 35)]\n",
    "area_of_triangle(triangle)"
   ]
  },
  {
   "cell_type": "markdown",
   "metadata": {},
   "source": [
    "### Test error-checking within function"
   ]
  },
  {
   "cell_type": "code",
   "execution_count": 5,
   "metadata": {},
   "outputs": [
    {
     "name": "stdout",
     "output_type": "stream",
     "text": [
      "Each triangle vertex must have both 'x' and 'y' coordinates.\n"
     ]
    }
   ],
   "source": [
    "# Test against triangle = [v0 = (5,), v1 = (50, 5), v2 = (15, 35)]\n",
    "triangle = [(5,), (50, 5), (15, 35)]\n",
    "area_of_triangle(triangle)"
   ]
  },
  {
   "cell_type": "code",
   "execution_count": 6,
   "metadata": {},
   "outputs": [
    {
     "name": "stdout",
     "output_type": "stream",
     "text": [
      "Triangle must have 3 vertices.\n"
     ]
    }
   ],
   "source": [
    "# Test against triangle = [v0 = (5, 5), v1 = (50, 5)]\n",
    "triangle = [(5, 5), (50, 5)]\n",
    "area_of_triangle(triangle)"
   ]
  }
 ],
 "metadata": {
  "kernelspec": {
   "display_name": "Python 3",
   "language": "python",
   "name": "python3"
  },
  "language_info": {
   "codemirror_mode": {
    "name": "ipython",
    "version": 3
   },
   "file_extension": ".py",
   "mimetype": "text/x-python",
   "name": "python",
   "nbconvert_exporter": "python",
   "pygments_lexer": "ipython3",
   "version": "3.6.1"
  }
 },
 "nbformat": 4,
 "nbformat_minor": 2
}

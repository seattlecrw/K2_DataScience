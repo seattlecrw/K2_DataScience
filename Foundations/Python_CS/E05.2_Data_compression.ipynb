{
 "cells": [
  {
   "cell_type": "markdown",
   "metadata": {},
   "source": [
    "# Exercise 05.2 (data compression)\n",
    "\n",
    "For devices with limited memory, data compression can be important. Data compression is\n",
    "a field of its own, but with libraries we can compress (and uncompress) data easily."
   ]
  },
  {
   "cell_type": "code",
   "execution_count": 1,
   "metadata": {
    "collapsed": true
   },
   "outputs": [],
   "source": [
    "# Import the compression module\n",
    "import zlib\n",
    "\n",
    "# Import modules for generating random strings\n",
    "import random\n",
    "import string"
   ]
  },
  {
   "cell_type": "markdown",
   "metadata": {},
   "source": [
    "## Define text to compress: Here we will use a passage from Shakespeare"
   ]
  },
  {
   "cell_type": "code",
   "execution_count": 2,
   "metadata": {
    "collapsed": true
   },
   "outputs": [],
   "source": [
    "# Create a string that we wish to compress\n",
    "text = \"\"\"\n",
    "Welcome, dear Rosencrantz and Guildenstern!\n",
    "Moreover that we much did long to see you,\n",
    "The need we have to use you did provoke\n",
    "Our hasty sending. Something have you heard\n",
    "Of Hamlet's transformation; so call it,\n",
    "Sith nor the exterior nor the inward man\n",
    "Resembles that it was. What it should be,\n",
    "More than his father's death, that thus hath put him\n",
    "So much from the understanding of himself,\n",
    "I cannot dream of: I entreat you both,\n",
    "That, being of so young days brought up with him,\n",
    "And sith so neighbour'd to his youth and havior,\n",
    "That you vouchsafe your rest here in our court\n",
    "Some little time: so by your companies\n",
    "To draw him on to pleasures, and to gather,\n",
    "So much as from occasion you may glean,\n",
    "Whether aught, to us unknown, afflicts him thus,\n",
    "That, open'd, lies within our remedy.\"\"\""
   ]
  },
  {
   "cell_type": "markdown",
   "metadata": {},
   "source": [
    "## Define function to compress text string, test compression efficiency and check that original and decompressed versions are the same (adapted from assignment)"
   ]
  },
  {
   "cell_type": "code",
   "execution_count": 3,
   "metadata": {},
   "outputs": [],
   "source": [
    "def compress_text(text):\n",
    "    \"\"\" Compress text string and print quality control checks \"\"\"\n",
    "    # Convert Python string to bytes, and check type\n",
    "    text_bytes = text.encode(\"utf-8\")\n",
    "    print(type(text_bytes))\n",
    "\n",
    "    # Get number of bytes (memory) used to store string\n",
    "    print(\"Number of bytes for uncompressed string:\", len(text_bytes))\n",
    "\n",
    "    # Compress string and get number of byes used for compressed string\n",
    "    text_comp = zlib.compress(text_bytes)\n",
    "    print(\"Number of bytes for compressed string:\", len(text_comp))\n",
    "\n",
    "    # Display the compression efficiency\n",
    "    print(\"Compression efficiency: \", len(text_comp)/len(text_bytes))\n",
    "\n",
    "    # Decompress the string\n",
    "    text_decomp = zlib.decompress(text_comp)\n",
    "\n",
    "    # Check that original and decompressed strings are the same\n",
    "    if text == text_decomp.decode(\"utf-8\"):\n",
    "        print(\"All good: original and decompressed strings are the same.\")\n",
    "    else:\n",
    "        print(\"Problem: original and decompressed strings differ.\")"
   ]
  },
  {
   "cell_type": "code",
   "execution_count": 4,
   "metadata": {},
   "outputs": [
    {
     "name": "stdout",
     "output_type": "stream",
     "text": [
      "<class 'bytes'>\n",
      "Number of bytes for uncompressed string: 785\n",
      "Number of bytes for compressed string: 466\n",
      "Compression efficiency:  0.5936305732484076\n",
      "All good: original and decompressed strings are the same.\n"
     ]
    }
   ],
   "source": [
    "# Use function to compress Shakespeare passage text\n",
    "compress_text(text)"
   ]
  },
  {
   "cell_type": "markdown",
   "metadata": {},
   "source": [
    "## 1. Examine the compression efficiency of compressing one large string made up of the passage by Shakespeare repeated 100 times."
   ]
  },
  {
   "cell_type": "code",
   "execution_count": 5,
   "metadata": {},
   "outputs": [
    {
     "name": "stdout",
     "output_type": "stream",
     "text": [
      "<class 'bytes'>\n",
      "Number of bytes for uncompressed string: 78500\n",
      "Number of bytes for compressed string: 925\n",
      "Compression efficiency:  0.01178343949044586\n",
      "All good: original and decompressed strings are the same.\n"
     ]
    }
   ],
   "source": [
    "# Create string consisting of Shakespeare passage repeated 100 times\n",
    "text_x100 = text * 100\n",
    "\n",
    "# Compress repeated-length text\n",
    "compress_text(text_x100)"
   ]
  },
  {
   "cell_type": "markdown",
   "metadata": {},
   "source": [
    "## 2. Examine the compression efficiency of compressing a random string of the same length as the repeated Shakespeare passage.\n",
    "\n",
    "To help you, the below function generates a random string of length `N`:"
   ]
  },
  {
   "cell_type": "code",
   "execution_count": 6,
   "metadata": {},
   "outputs": [
    {
     "name": "stdout",
     "output_type": "stream",
     "text": [
      "ExSFN6ut\n"
     ]
    }
   ],
   "source": [
    "def random_string(N):\n",
    "    return ''.join([random.choice(string.ascii_letters + string.digits) for n in range(N)])\n",
    "\n",
    "print(random_string(8))"
   ]
  },
  {
   "cell_type": "code",
   "execution_count": 7,
   "metadata": {},
   "outputs": [
    {
     "name": "stdout",
     "output_type": "stream",
     "text": [
      "<class 'bytes'>\n",
      "Number of bytes for uncompressed string: 78500\n",
      "Number of bytes for compressed string: 59031\n",
      "Compression efficiency:  0.7519872611464968\n",
      "All good: original and decompressed strings are the same.\n"
     ]
    }
   ],
   "source": [
    "# Create random string the same length as the repeated Shakespeare passage\n",
    "text_random = random_string(len(text_x100))\n",
    "\n",
    "# Compress random text\n",
    "compress_text(text_random)"
   ]
  },
  {
   "cell_type": "markdown",
   "metadata": {},
   "source": [
    "Repeated text is compressed more efficiently than a single passage, although the random string was the least efficiently compressed structure. When there is less underlying pattern in the data, there is less structure that the compression algorithm can utilize to save space while retaining information."
   ]
  }
 ],
 "metadata": {
  "kernelspec": {
   "display_name": "Python 3",
   "language": "python",
   "name": "python3"
  },
  "language_info": {
   "codemirror_mode": {
    "name": "ipython",
    "version": 3
   },
   "file_extension": ".py",
   "mimetype": "text/x-python",
   "name": "python",
   "nbconvert_exporter": "python",
   "pygments_lexer": "ipython3",
   "version": "3.6.1"
  }
 },
 "nbformat": 4,
 "nbformat_minor": 2
}

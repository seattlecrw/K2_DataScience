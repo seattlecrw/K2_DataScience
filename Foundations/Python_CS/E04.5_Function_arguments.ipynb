{
 "cells": [
  {
   "cell_type": "markdown",
   "metadata": {},
   "source": [
    "# Exercise 04.5 (functions and passing functions as arguments)\n",
    "\n",
    "Restructure your program from the bisection exercise in Activity 02 to \n",
    "\n",
    "- Use a Python function to evaluate the mathematical function $f$ that we want to find the root of; \n",
    "\n",
    "and then\n",
    "\n",
    "- Encapsulate the bisection algorithm inside a Python function, which takes as arguments:\n",
    "    - the function we want to find the roots of,\n",
    "    - the points $x_{0}$ and $x_{1}$ between which we want to search for a root,\n",
    "    - the tolerance for exiting the bisection algorithm (exit when $|f(x)| < \\text{tol}$)\n",
    "    - maximum number of iterations (the algorithm should exit once this limit is reached)"
   ]
  },
  {
   "cell_type": "code",
   "execution_count": 1,
   "metadata": {
    "collapsed": true
   },
   "outputs": [],
   "source": [
    "# Import numpy module for solving polynomial functions\n",
    "import numpy as np"
   ]
  },
  {
   "cell_type": "markdown",
   "metadata": {},
   "source": [
    "For the first step, use a function for evaluating $f$, e.g.:\n",
    "\n",
    "    def f(x):\n",
    "        # Put body of the function f(x) here, and return the function value"
   ]
  },
  {
   "cell_type": "code",
   "execution_count": 2,
   "metadata": {
    "collapsed": true
   },
   "outputs": [],
   "source": [
    "# Create a polynomial function based on specified coefficients -> use res\n",
    "def create_f(coefficients):\n",
    "    \"\"\" Creates a polynomial function\n",
    "        \n",
    "        Arguments:\n",
    "            coefficients = list containing coefficients of the polynomial\n",
    "            note: length of the coefficients list will determine the degree of the polynomial\n",
    "            \n",
    "        Returns:\n",
    "            polynomial function (through numpy module)\n",
    "    \"\"\"\n",
    "    return np.poly1d(coefficients)"
   ]
  },
  {
   "cell_type": "markdown",
   "metadata": {},
   "source": [
    "For the second step, encapsulate the bisection algorithm in a function:\n",
    "\n",
    "    def compute_root(f, x0, x1, tol, max_it):\n",
    "        # Implement bisection algorithm here, and return when tolerance is satisfied or\n",
    "        # number of iterations exceeds max_it\n",
    "        \n",
    "        # Return the approximate root, value of f(x) and the number of iterations\n",
    "        return x, f, num_it\n",
    "        \n",
    "    # Compute approximate root of the function f\n",
    "    x, f_x, num_it = compute_root(f, x0=3, x1=6, tol=1.0e-6, max_it=1000)"
   ]
  },
  {
   "cell_type": "code",
   "execution_count": 3,
   "metadata": {
    "collapsed": true
   },
   "outputs": [],
   "source": [
    "def compute_root(f, x0, x1, tol=1.0e-6, max_it=15):\n",
    "    \"\"\" Use the bisection method to find an approximate root within threshold or maximum number of iterations\n",
    "        \n",
    "        Arguments:\n",
    "            f = Function (created by create_f)\n",
    "            x0 = First starting point of the root estimation method\n",
    "            x1 = Second starting point of the root estimation method\n",
    "            tol = Upper limit for the function value at the approximated root\n",
    "            max_it = Maximum number of iterations to compute approximate root\n",
    "            \n",
    "        Return:\n",
    "            x = Approximate root\n",
    "            f(x) = Value of f(x)\n",
    "            num_it = Number of iterations\n",
    "    \"\"\"\n",
    "    # Define midpoint of starting points and initialize iteration counts\n",
    "    x = (x0 + x1)/2\n",
    "    num_it = 0\n",
    "    \n",
    "    # Approximate root within specified threshold, counting iterations\n",
    "    while (abs(f(x)) > tol) and (num_it < max_it):\n",
    "        x = (x0 + x1)/2\n",
    "        if (f(x0) * f(x)) < 0:\n",
    "            x1 = x\n",
    "        else:\n",
    "            x0 = x\n",
    "        num_it += 1\n",
    "\n",
    "    # Return approximate root and number of required iterations\n",
    "    return x, f(x), num_it"
   ]
  },
  {
   "cell_type": "markdown",
   "metadata": {},
   "source": [
    "Test system using the function:\n",
    "\n",
    "$$\n",
    "f(x) = x^3 - 6x^2 + 4x + 12\n",
    "$$\n",
    "\n",
    "This function has one root somewhere between $x_0 = 3$ and $x_1 = 6$. Set tolerance to $\\left| f(x_{r}) \\right| < 1 \\times 10^{-6}$ and 15 maximum iterations. "
   ]
  },
  {
   "cell_type": "code",
   "execution_count": 4,
   "metadata": {},
   "outputs": [
    {
     "name": "stdout",
     "output_type": "stream",
     "text": [
      "Approximate root: 4.534149169921875, Function value: 0.0008896438020826736, Number of iterations: 15\n"
     ]
    }
   ],
   "source": [
    "# Create polynomial function\n",
    "f = create_f([1, -6, 4, 12])\n",
    "\n",
    "# Compute root function\n",
    "root, function_value, iterations = compute_root(f, 3, 6, tol=1.0e-6, max_it=15)\n",
    "print(\"Approximate root: {}, Function value: {}, Number of iterations: {}\".format(root, function_value, iterations))"
   ]
  },
  {
   "cell_type": "markdown",
   "metadata": {},
   "source": [
    "Try testing your program for a different function. A quadratic function, whose roots you can analytically, would be a good test case.\n",
    "\n",
    "$$\n",
    "f(x) = x^2 - x - 2\n",
    "$$\n",
    "\n",
    "This function has one root somewhere between $x_0 = 1$ and $x_1 = 3$ $(x = 2)$. Set default tolerance and iteration limits."
   ]
  },
  {
   "cell_type": "code",
   "execution_count": 5,
   "metadata": {},
   "outputs": [
    {
     "name": "stdout",
     "output_type": "stream",
     "text": [
      "Approximate root: 2.0, Function value: 0.0, Number of iterations: 0\n"
     ]
    }
   ],
   "source": [
    "# Create quadratic function\n",
    "f = create_f([1, -1, -2])\n",
    "\n",
    "# Compute root function\n",
    "root, function_value, iterations = compute_root(f, 1, 3)\n",
    "print(\"Approximate root: {}, Function value: {}, Number of iterations: {}\".format(root, function_value, iterations))"
   ]
  },
  {
   "cell_type": "markdown",
   "metadata": {},
   "source": [
    "### Optional extension \n",
    "\n",
    "Use recursion to write a `compute_root` function that *does not* require a `for` or `while` loop."
   ]
  },
  {
   "cell_type": "code",
   "execution_count": 6,
   "metadata": {
    "collapsed": true
   },
   "outputs": [],
   "source": [
    "def recursive_bisection(f, x0, x1, num_it, max_it=100, tol=1.0e-6): \n",
    "    \"\"\" Approximate polynomial root through bisection method using recursion \"\"\"\n",
    "    x = (x0 + x1)/2\n",
    "    if (abs(f(x)) < tol) or (num_it == max_it):\n",
    "        return x, f(x), num_it # Base case\n",
    "    else:\n",
    "        if (f(x0) * f(x)) < 0:\n",
    "            return recursive_bisection(f, x0, x, num_it + 1, max_it, tol)\n",
    "        else:\n",
    "            return recursive_bisection(f, x, x1, num_it + 1, max_it, tol)"
   ]
  },
  {
   "cell_type": "markdown",
   "metadata": {},
   "source": [
    "Test recursive method using the function:\n",
    "\n",
    "$$\n",
    "f(x) = x^3 - 6x^2 + 4x + 12\n",
    "$$\n",
    "\n",
    "This function has one root somewhere between $x_0 = 3$ and $x_1 = 6$. Set to default tolerance and iteration limits. "
   ]
  },
  {
   "cell_type": "code",
   "execution_count": 7,
   "metadata": {},
   "outputs": [
    {
     "name": "stdout",
     "output_type": "stream",
     "text": [
      "Approximate root: 4.534070134162903, Function value: -7.047073680155336e-07, Number of iterations: 22\n"
     ]
    }
   ],
   "source": [
    "# Create polynomial function\n",
    "f = create_f([1, -6, 4, 12])\n",
    "\n",
    "# Compute root function\n",
    "root, function_value, iterations = recursive_bisection(f, 3, 6, 0)\n",
    "print(\"Approximate root: {}, Function value: {}, Number of iterations: {}\".format(root, function_value, iterations))"
   ]
  }
 ],
 "metadata": {
  "kernelspec": {
   "display_name": "Python 3",
   "language": "python",
   "name": "python3"
  },
  "language_info": {
   "codemirror_mode": {
    "name": "ipython",
    "version": 3
   },
   "file_extension": ".py",
   "mimetype": "text/x-python",
   "name": "python",
   "nbconvert_exporter": "python",
   "pygments_lexer": "ipython3",
   "version": "3.6.1"
  }
 },
 "nbformat": 4,
 "nbformat_minor": 2
}

{
 "cells": [
  {
   "cell_type": "markdown",
   "metadata": {},
   "source": [
    "# Exercise 07.1 (indexing and timing)\n",
    "\n",
    "Practice creating NumPy arrays and explore the timing differences of looping versus vectorized approaches to summing arrays."
   ]
  },
  {
   "cell_type": "code",
   "execution_count": 1,
   "metadata": {
    "collapsed": true
   },
   "outputs": [],
   "source": [
    "import numpy as np"
   ]
  },
  {
   "cell_type": "markdown",
   "metadata": {},
   "source": [
    "### Create two very long NumPy arrays `x` and `y`"
   ]
  },
  {
   "cell_type": "code",
   "execution_count": 2,
   "metadata": {
    "collapsed": true
   },
   "outputs": [],
   "source": [
    "x = np.ones(10000)\n",
    "y = np.random.rand(10000)"
   ]
  },
  {
   "cell_type": "markdown",
   "metadata": {},
   "source": [
    "### Sum the arrays using:\n",
    "\n",
    "1. The NumPy addition syntax, `z = x + y`; and\n",
    "2. A `for` loop that computes the sum entry-by-entry\n",
    "\n",
    "Compare the time required for the two approaches for vectors of different lengths. The values of the array entries are not important for this test."
   ]
  },
  {
   "cell_type": "code",
   "execution_count": 3,
   "metadata": {},
   "outputs": [
    {
     "name": "stdout",
     "output_type": "stream",
     "text": [
      "CPU times: user 214 µs, sys: 112 µs, total: 326 µs\n",
      "Wall time: 205 µs\n"
     ]
    }
   ],
   "source": [
    "# Method 1: NumPy addition syntax z = x + y\n",
    "%time z = x + y"
   ]
  },
  {
   "cell_type": "code",
   "execution_count": 4,
   "metadata": {},
   "outputs": [
    {
     "name": "stdout",
     "output_type": "stream",
     "text": [
      "CPU times: user 6.99 ms, sys: 933 µs, total: 7.92 ms\n",
      "Wall time: 9.4 ms\n"
     ]
    }
   ],
   "source": [
    "# Method 2: For loop to compute the sum entry-by-entry\n",
    "z = []\n",
    "%time for i in range(len(x)): z.append(x[i] + y[i])"
   ]
  },
  {
   "cell_type": "markdown",
   "metadata": {},
   "source": [
    "### Repeat with vectors of length 10"
   ]
  },
  {
   "cell_type": "code",
   "execution_count": 5,
   "metadata": {
    "collapsed": true
   },
   "outputs": [],
   "source": [
    "x = np.ones(10)\n",
    "y = np.random.rand(10)"
   ]
  },
  {
   "cell_type": "code",
   "execution_count": 6,
   "metadata": {},
   "outputs": [
    {
     "name": "stdout",
     "output_type": "stream",
     "text": [
      "CPU times: user 149 µs, sys: 1 µs, total: 150 µs\n",
      "Wall time: 158 µs\n"
     ]
    }
   ],
   "source": [
    "# Method 1: NumPy addition syntax z = x + y\n",
    "%time z = x + y"
   ]
  },
  {
   "cell_type": "code",
   "execution_count": 7,
   "metadata": {},
   "outputs": [
    {
     "name": "stdout",
     "output_type": "stream",
     "text": [
      "CPU times: user 26 µs, sys: 1 µs, total: 27 µs\n",
      "Wall time: 31 µs\n"
     ]
    }
   ],
   "source": [
    "# Method 2: For loop to compute the sum entry-by-entry\n",
    "z = []\n",
    "%time for i in range(len(x)): z.append(x[i] + y[i])"
   ]
  },
  {
   "cell_type": "markdown",
   "metadata": {},
   "source": [
    "### Repeat with vectors of length 1,000,000"
   ]
  },
  {
   "cell_type": "code",
   "execution_count": 8,
   "metadata": {
    "collapsed": true
   },
   "outputs": [],
   "source": [
    "x = np.ones(1000000)\n",
    "y = np.random.rand(1000000)"
   ]
  },
  {
   "cell_type": "code",
   "execution_count": 9,
   "metadata": {},
   "outputs": [
    {
     "name": "stdout",
     "output_type": "stream",
     "text": [
      "CPU times: user 3.18 ms, sys: 3.97 ms, total: 7.15 ms\n",
      "Wall time: 7.16 ms\n"
     ]
    }
   ],
   "source": [
    "# Method 1: NumPy addition syntax z = x + y\n",
    "%time z = x + y"
   ]
  },
  {
   "cell_type": "code",
   "execution_count": 10,
   "metadata": {},
   "outputs": [
    {
     "name": "stdout",
     "output_type": "stream",
     "text": [
      "CPU times: user 554 ms, sys: 18.3 ms, total: 572 ms\n",
      "Wall time: 577 ms\n"
     ]
    }
   ],
   "source": [
    "# Method 2: For loop to compute the sum entry-by-entry\n",
    "z = []\n",
    "%time for i in range(len(x)): z.append(x[i] + y[i])"
   ]
  },
  {
   "cell_type": "markdown",
   "metadata": {},
   "source": [
    "### For short vectors (i.e. length 10), vectorized functions require more set-up time from the processor (although either process is so short that it the difference is essentially meaningless). However, for very long vectors, the vectorized functions speed up the processes by orders of magnitude."
   ]
  }
 ],
 "metadata": {
  "kernelspec": {
   "display_name": "Python 3",
   "language": "python",
   "name": "python3"
  },
  "language_info": {
   "codemirror_mode": {
    "name": "ipython",
    "version": 3
   },
   "file_extension": ".py",
   "mimetype": "text/x-python",
   "name": "python",
   "nbconvert_exporter": "python",
   "pygments_lexer": "ipython3",
   "version": "3.6.1"
  }
 },
 "nbformat": 4,
 "nbformat_minor": 2
}

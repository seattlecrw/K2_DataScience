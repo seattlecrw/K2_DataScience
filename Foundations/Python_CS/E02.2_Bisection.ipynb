{
 "cells": [
  {
   "cell_type": "markdown",
   "metadata": {},
   "source": [
    "## Exercise 02.2 (bisection)\n",
    "\n",
    "Bisection is an iterative method for approximating roots of a function. Say we know that the function $f(x)$ has one root between $x_{0}$ and $x_{1}$ ($x_{0} < x_{1}$). We then:\n",
    "\n",
    "- Evaluate $f$ at the midpoint $x_{\\rm mid} = (x_0 + x_1)/2$, i.e. compute\n",
    "   $f_{\\rm mid} = f(x_{\\rm mid})$\n",
    "- Evaluate $f(x_0) \\cdot f(x_{\\rm mid})$\n",
    "\n",
    "  - If $f(x_0) \\cdot f(x_{\\rm mid}) < 0$: \n",
    "\n",
    "    $f$ must change sign somewhere between $x_0$ and $x_{\\rm mid}$, hence the root must lie between \n",
    "    $x_0$ and $x_{\\rm mid}$, so set $x_1 = x_{\\rm mid}$.\n",
    "   \n",
    "  - Else\n",
    "\n",
    "    $f$ must change sign somewhere between $x_{\\rm mid}$ and $x_1$, so set\n",
    "    $x_0 = x_{\\rm mid}$.\n",
    "\n",
    "The above steps can be repeated a specified number of times, or until $|f_{\\rm mid}|$\n",
    "is below a tolerance, with $x_{\\rm mid}$ being the approximate root."
   ]
  },
  {
   "cell_type": "code",
   "execution_count": 1,
   "metadata": {
    "collapsed": true
   },
   "outputs": [],
   "source": [
    "# Import numpy module for solving polynomial functions\n",
    "import numpy as np"
   ]
  },
  {
   "cell_type": "markdown",
   "metadata": {},
   "source": [
    "### Use the bisection method to find an approximate root $x_{r}$ using 15 iterations \n",
    "\n",
    "Arguments:\n",
    "* coefficients = List of polynomial coefficients to be passed to np.poly1d to create polynomial function\n",
    "* x0 = First starting point of the root estimation method\n",
    "* x1 = Second starting point of the root estimation method\n",
    "\n",
    "Return:\n",
    "* x_mid = approximated root between the two starting values (float value)"
   ]
  },
  {
   "cell_type": "code",
   "execution_count": 2,
   "metadata": {
    "collapsed": true
   },
   "outputs": [],
   "source": [
    "def bisection_v1(coefficients, x0, x1):\n",
    "    \"\"\" Use the bisection method to find an approximate root using 15 iterations \"\"\"\n",
    "    # Define polynomial function\n",
    "    f = np.poly1d(coefficients)\n",
    "    \n",
    "    # Approximate root within 15 iterations\n",
    "    for i in range(15):\n",
    "        x_mid = (x0 + x1)/2\n",
    "        if (f(x0) * f(x_mid)) < 0:\n",
    "            x1 = x_mid\n",
    "        else:\n",
    "            x0 = x_mid\n",
    "    \n",
    "    # Return approximate root\n",
    "    return(x_mid)"
   ]
  },
  {
   "cell_type": "markdown",
   "metadata": {
    "collapsed": true
   },
   "source": [
    "Test bisection_v1 using the function:\n",
    "\n",
    "$$\n",
    "f(x) = x^3 - 6x^2 + 4x + 12\n",
    "$$\n",
    "\n",
    "This function has one root somewhere between $x_0 = 3$ and $x_1 = 6$."
   ]
  },
  {
   "cell_type": "code",
   "execution_count": 3,
   "metadata": {},
   "outputs": [
    {
     "name": "stdout",
     "output_type": "stream",
     "text": [
      "The bisection result after 15 iterations is: 4.5341\n"
     ]
    }
   ],
   "source": [
    "bisection_iterate = bisection_v1([1, -6, 4, 12], 3, 6)  \n",
    "print(\"The bisection result after 15 iterations is: {:.4f}\".format(bisection_iterate))"
   ]
  },
  {
   "cell_type": "markdown",
   "metadata": {},
   "source": [
    "### Use the bisection method to find an approximate root $x_{r}$ such that  $\\left| f(x_{r}) \\right| < threshold$ and report the number of iterations required\n",
    "\n",
    "Arguments:\n",
    "* coefficients = List of polynomial coefficients to be passed to np.poly1d to create polynomial function\n",
    "* x0 = First starting point of the root estimation method\n",
    "* x1 = Second starting point of the root estimation method\n",
    "* threshold = Upper limit for the function value at the approximated root\n",
    "\n",
    "Return:\n",
    "* x_mid = Approximated root between the two starting values (float value)\n",
    "* counts = Number of iterations required to reach convergence at the threshold value"
   ]
  },
  {
   "cell_type": "code",
   "execution_count": 4,
   "metadata": {
    "collapsed": true
   },
   "outputs": [],
   "source": [
    "def bisection_v2(coefficients, x0, x1, threshold):\n",
    "    \"\"\" Use the bisection method to find an approximate root within threshold report number of iterations \"\"\"\n",
    "    # Define polynomial function\n",
    "    f = np.poly1d(coefficients)\n",
    "    \n",
    "    # Define midpoint of starting points and initialize iteration counts\n",
    "    x_mid = (x0 + x1)/2\n",
    "    counts = 0\n",
    "    \n",
    "    # Approximate root within specified threshold, counting iterations\n",
    "    while abs(f(x_mid)) > threshold:\n",
    "        x_mid = (x0 + x1)/2\n",
    "        if (f(x0) * f(x_mid)) < 0:\n",
    "            x1 = x_mid\n",
    "        else:\n",
    "            x0 = x_mid\n",
    "        counts += 1\n",
    "\n",
    "    # Return approximate root and number of required iterations\n",
    "    return(x_mid, counts)  "
   ]
  },
  {
   "cell_type": "markdown",
   "metadata": {},
   "source": [
    "Test bisection_v1 using the function:\n",
    "\n",
    "$$\n",
    "f(x) = x^3 - 6x^2 + 4x + 12\n",
    "$$\n",
    "\n",
    "This function has one root somewhere between $x_0 = 3$ and $x_1 = 6$ (Same function as above). Allow convergence when $\\left| f(x_{r}) \\right| < 1 \\times 10^{-6}$. "
   ]
  },
  {
   "cell_type": "code",
   "execution_count": 5,
   "metadata": {},
   "outputs": [
    {
     "name": "stdout",
     "output_type": "stream",
     "text": [
      "The bisection result by thresholding is: 4.5341, in 23 iterations\n"
     ]
    }
   ],
   "source": [
    "threshold_answer, threshold_counts = bisection_v2([1, -6, 4, 12], 3, 6, 1e-6)  \n",
    "print(\"The bisection result by thresholding is: {:.4f}, in {} iterations\".format(threshold_answer, threshold_counts))"
   ]
  }
 ],
 "metadata": {
  "kernelspec": {
   "display_name": "Python 3",
   "language": "python",
   "name": "python3"
  },
  "language_info": {
   "codemirror_mode": {
    "name": "ipython",
    "version": 3
   },
   "file_extension": ".py",
   "mimetype": "text/x-python",
   "name": "python",
   "nbconvert_exporter": "python",
   "pygments_lexer": "ipython3",
   "version": "3.6.1"
  }
 },
 "nbformat": 4,
 "nbformat_minor": 2
}

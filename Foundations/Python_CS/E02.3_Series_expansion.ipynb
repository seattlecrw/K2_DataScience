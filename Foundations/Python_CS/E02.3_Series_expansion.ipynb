{
 "cells": [
  {
   "cell_type": "markdown",
   "metadata": {},
   "source": [
    "# Exercise 02.3 (series expansion)\n",
    "The power series expansion for sine is: \n",
    "\n",
    "$$\n",
    "\\sin(x) = \\sum_{n = 0}^{\\infty} (-1)^n \\frac{x^{2n +1}}{(2n+1)!}\n",
    "$$\n",
    "\n",
    "(See mathematics data book for a less compact version; the compact version is preferred here as it is simpler to program.)\n",
    "\n",
    "1. Using a `for` statement, approximate $\\sin(3\\pi/2)$ using 15 terms in the series exansion and report the absolute error.\n",
    "\n",
    "1. Using a `while` statement, compute how many terms in the series are required to approximate $\\sin(3\\pi/2)$ to within $1 \\times 10^{-8}$. \n",
    "\n",
    "*Note:* Calculators and computers use iterative or series expansions to compute trigonometric functions, similar to the one above (although they use more efficient formulations than the above series)."
   ]
  },
  {
   "cell_type": "code",
   "execution_count": 1,
   "metadata": {
    "collapsed": true
   },
   "outputs": [],
   "source": [
    "import math"
   ]
  },
  {
   "cell_type": "code",
   "execution_count": 2,
   "metadata": {},
   "outputs": [],
   "source": [
    "# Define method for each term of sine function power series expansion\n",
    "def f(x, n):\n",
    "    \"\"\" Approximate sin(x) using series expansion for each n term \"\"\"\n",
    "    return (-1)**n * ((x**((2*n) + 1)) / math.factorial((2*n) + 1))"
   ]
  },
  {
   "cell_type": "markdown",
   "metadata": {},
   "source": [
    "### Using a `for` statement, approximate $\\sin(3\\pi/2)$ using 15 terms in the series expansion and report the absolute error."
   ]
  },
  {
   "cell_type": "code",
   "execution_count": 3,
   "metadata": {},
   "outputs": [
    {
     "name": "stdout",
     "output_type": "stream",
     "text": [
      "Approximation: -0.9999999999999121\n",
      "Error: -8.79296635503124e-14\n"
     ]
    }
   ],
   "source": [
    "# Define the value of x for which to calculate the sine function\n",
    "x = (3 * math.pi) / 2\n",
    "\n",
    "# Start approximation sum at 0\n",
    "approximation = 0\n",
    "\n",
    "# Add 15 terms of series expansion to function approximation\n",
    "for i in range(15):\n",
    "    x = (3 * math.pi) / 2\n",
    "    approximation += f(x, i)\n",
    "\n",
    "# Calculate the absolute error\n",
    "error = math.sin(x) - approximation\n",
    "\n",
    "# Print approximation\n",
    "print(\"Approximation: {}\".format(approximation))\n",
    "print(\"Error: {}\".format(error))"
   ]
  },
  {
   "cell_type": "markdown",
   "metadata": {},
   "source": [
    "### Using a `while` statement, compute how many terms in the series are required to approximate $\\sin(3\\pi/2)$ to within $1 \\times 10^{-8}$. "
   ]
  },
  {
   "cell_type": "code",
   "execution_count": 4,
   "metadata": {},
   "outputs": [
    {
     "name": "stdout",
     "output_type": "stream",
     "text": [
      "Approximation: -1.0000000042344912\n",
      "Error: 4.234491202126378e-09\n",
      "Number of required terms: 11\n"
     ]
    }
   ],
   "source": [
    "# Define the value of x for which to calculate the sine function\n",
    "x = (3 * math.pi) / 2\n",
    "\n",
    "# Start number of terms at 0 and calculate first iteration\n",
    "terms = 0\n",
    "approximation = f(x, terms)\n",
    "\n",
    "# Calculate the absolute error\n",
    "error = math.sin(x) - approximation\n",
    "\n",
    "# Add terms of series expansion to function approximation until error within 1e-8\n",
    "while abs(error) > 1e-8:\n",
    "    # Add an additional term\n",
    "    terms += 1\n",
    "    \n",
    "    # Calculate the new approximation\n",
    "    approximation += f(x, terms)\n",
    "    \n",
    "    # Calculate the new error\n",
    "    error = math.sin(x) - approximation\n",
    "\n",
    "# Print approximation and number of terms\n",
    "print(\"Approximation: {}\".format(approximation))\n",
    "print(\"Error: {}\".format(error))\n",
    "print(\"Number of required terms: {}\".format(terms))"
   ]
  }
 ],
 "metadata": {
  "kernelspec": {
   "display_name": "Python 3",
   "language": "python",
   "name": "python3"
  },
  "language_info": {
   "codemirror_mode": {
    "name": "ipython",
    "version": 3
   },
   "file_extension": ".py",
   "mimetype": "text/x-python",
   "name": "python",
   "nbconvert_exporter": "python",
   "pygments_lexer": "ipython3",
   "version": "3.6.1"
  }
 },
 "nbformat": 4,
 "nbformat_minor": 2
}

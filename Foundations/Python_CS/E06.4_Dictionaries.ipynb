{
 "cells": [
  {
   "cell_type": "markdown",
   "metadata": {},
   "source": [
    "# Exercise 06.4 (dictionaries)\n",
    "\n",
    "\n",
    "Create a dictionary that maps college names (the key) to college abbreviations for colleges of the University of Cambridge\n",
    "(information from https://en.wikipedia.org/wiki/Colleges_of_the_University_of_Cambridge#Colleges).\n"
   ]
  },
  {
   "cell_type": "code",
   "execution_count": 1,
   "metadata": {
    "collapsed": true
   },
   "outputs": [],
   "source": [
    "# Create dictionary\n",
    "colleges = { \"Christ's\": \"CHR\", \"Churchill\": \"CHU\", \"Clare\": \"CL\", \"Corpus Christi\": \"CLH\", \"Darwin\": \"DAR\",\n",
    "             \"Downing\": \"DOW\", \"Emmanuel\": \"EM\", \"Fitzwilliam\": \"F\", \"Girton\": \"G\", \"Gonville and Caius\": \"CAI\",\n",
    "             \"Homerton\": \"HO\", \"Hughes Hall\": \"HH\", \"Jesus\": \"JE\", \"King's\": \"K\", \"Lucy Cavendish\": \"LC\",\n",
    "             \"Magdalene\": \"M\", \"Murray Edwards\": \"MUR\", \"Newnham\": \"N\", \"Pembroke\": \"PEM\", \"Peterhouse\": \"P\",\n",
    "             \"Queens'\": \"Q\", \"Robinson\": \"R\", \"St Catharine's\": \"CTH\", \"St Edmund's\": \"ED\", \"St John's\": \"JN\",\n",
    "             \"Selwyn\": \"SE\", \"Sidney Sussex\": \"SID\", \"Trinity College\": \"T\", \"Trinity Hall\": \"TH\", \"Wolfson\": \"W\" }"
   ]
  },
  {
   "cell_type": "markdown",
   "metadata": {},
   "source": [
    "From the dictionary, produce and print\n",
    "\n",
    "1. A dictionary from college abbreviation to name; and\n",
    "1. A list of college abbreviations sorted into alphabetical order."
   ]
  },
  {
   "cell_type": "code",
   "execution_count": 2,
   "metadata": {},
   "outputs": [
    {
     "name": "stdout",
     "output_type": "stream",
     "text": [
      "{'CHR': \"Christ's\", 'CHU': 'Churchill', 'CL': 'Clare', 'CLH': 'Corpus Christi', 'DAR': 'Darwin', 'DOW': 'Downing', 'EM': 'Emmanuel', 'F': 'Fitzwilliam', 'G': 'Girton', 'CAI': 'Gonville and Caius', 'HO': 'Homerton', 'HH': 'Hughes Hall', 'JE': 'Jesus', 'K': \"King's\", 'LC': 'Lucy Cavendish', 'M': 'Magdalene', 'MUR': 'Murray Edwards', 'N': 'Newnham', 'PEM': 'Pembroke', 'P': 'Peterhouse', 'Q': \"Queens'\", 'R': 'Robinson', 'CTH': \"St Catharine's\", 'ED': \"St Edmund's\", 'JN': \"St John's\", 'SE': 'Selwyn', 'SID': 'Sidney Sussex', 'T': 'Trinity College', 'TH': 'Trinity Hall', 'W': 'Wolfson'}\n"
     ]
    }
   ],
   "source": [
    "# Create and print a dictionary from college abbreviation to name\n",
    "reversed_colleges = {}\n",
    "for name, abbreviation in colleges.items():\n",
    "    reversed_colleges[abbreviation] = name\n",
    "\n",
    "print(reversed_colleges)"
   ]
  },
  {
   "cell_type": "code",
   "execution_count": 3,
   "metadata": {},
   "outputs": [
    {
     "name": "stdout",
     "output_type": "stream",
     "text": [
      "['CAI', 'CHR', 'CHU', 'CL', 'CLH', 'CTH', 'DAR', 'DOW', 'ED', 'EM', 'F', 'G', 'HH', 'HO', 'JE', 'JN', 'K', 'LC', 'M', 'MUR', 'N', 'P', 'PEM', 'Q', 'R', 'SE', 'SID', 'T', 'TH', 'W']\n"
     ]
    }
   ],
   "source": [
    "# Create list of college abbreviations\n",
    "abbreviations = []\n",
    "for college, abbreviation in colleges.items():\n",
    "    abbreviations.append(abbreviation)\n",
    "\n",
    "# Sort list into alphabetical order and print\n",
    "abbreviations.sort()\n",
    "print(abbreviations)"
   ]
  },
  {
   "cell_type": "markdown",
   "metadata": {},
   "source": [
    "*Optional extension:* Create a dictionary that maps college names (the key) to dictionaries of:\n",
    "\n",
    "- College abbreviation\n",
    "- Year of foundation \n",
    "- Total number students\n",
    "\n",
    "For at least 5 colleges. Take the data from https://en.wikipedia.org/wiki/Colleges_of_the_University_of_Cambridge#Colleges."
   ]
  },
  {
   "cell_type": "code",
   "execution_count": 4,
   "metadata": {
    "collapsed": true
   },
   "outputs": [],
   "source": [
    "# Create dictionary\n",
    "cambridge = { \"Christ's\": { \"abbreviation\": \"CHR\", \"year\": 1505, \"students\": 541 },\n",
    "              \"Churchill\": { \"abbreviation\": \"CHU\", \"year\": 1960, \"students\": 704 },\n",
    "              \"Clare\": { \"abbreviation\": \"CL\", \"year\": 1326, \"students\": 655 },\n",
    "              \"Corpus Christi\": { \"abbreviation\": \"CLH\", \"year\": 1352, \"students\": 467 },\n",
    "              \"Darwin\": { \"abbreviation\": \"DAR\", \"year\": 1964, \"students\": 674 },\n",
    "              \"Downing\": { \"abbreviation\": \"DOW\", \"year\": 1800, \"students\": 623 },\n",
    "              \"Emmanuel\": { \"abbreviation\": \"EM\", \"year\": 1584, \"students\": 750 },\n",
    "              \"Fitzwilliam\": { \"abbreviation\": \"F\", \"year\": 1869, \"students\": 688 },\n",
    "              \"Girton\": { \"abbreviation\": \"G\", \"year\": 1869, \"students\": 677 },\n",
    "              \"Gonville and Caius\": { \"abbreviation\": \"CAI\", \"year\": 1348, \"students\": 719 },\n",
    "              \"Homerton\": { \"abbreviation\": \"HO\", \"year\": 1768, \"students\": 1181 },\n",
    "              \"Hughes Hall\": { \"abbreviation\": \"HH\", \"year\": 1885, \"students\": 419 },\n",
    "              \"Jesus\": { \"abbreviation\": \"JE\", \"year\": 1496, \"students\": 704 },\n",
    "              \"King's\": { \"abbreviation\": \"K\", \"year\": 1441, \"students\": 581 },\n",
    "              \"Lucy Cavendish\": { \"abbreviation\": \"LC\", \"year\": 1965, \"students\": 220 },\n",
    "              \"Magdalene\": { \"abbreviation\": \"M\", \"year\": 1428, \"students\": 493 },\n",
    "              \"Murray Edwards\": { \"abbreviation\": \"MUR\", \"year\": 1954, \"students\": 442 },\n",
    "              \"Newnham\": { \"abbreviation\": \"N\", \"year\": 1871, \"students\": 524 },\n",
    "              \"Pembroke\": { \"abbreviation\": \"PEM\", \"year\": 1347, \"students\": 597 },\n",
    "              \"Peterhouse\": { \"abbreviation\": \"P\", \"year\": 1284, \"students\": 370 },\n",
    "              \"Queens'\": { \"abbreviation\": \"Q\", \"year\": 1448, \"students\": 832 },\n",
    "              \"Robinson\": { \"abbreviation\": \"R\", \"year\": 1977, \"students\": 495 },\n",
    "              \"St Catharine's\": { \"abbreviation\": \"CTH\", \"year\": 1473, \"students\": 621 },\n",
    "              \"St Edmund's\": { \"abbreviation\": \"ED\", \"year\": 1896, \"students\": 331 },\n",
    "              \"St John's\": { \"abbreviation\": \"JN\", \"year\": 1511, \"students\": 831 },\n",
    "              \"Selwyn\": { \"abbreviation\": \"SE\", \"year\": 1882, \"students\": 518 },\n",
    "              \"Sidney Sussex\": { \"abbreviation\": \"SID\", \"year\": 1596, \"students\": 506 },\n",
    "              \"Trinity College\": { \"abbreviation\": \"T\", \"year\": 1546, \"students\": 1030 },\n",
    "              \"Trinity Hall\": { \"abbreviation\": \"TH\", \"year\": 1350, \"students\": 580 },\n",
    "              \"Wolfson\": { \"abbreviation\": \"W\", \"year\": 1965, \"students\": 504 } }"
   ]
  },
  {
   "cell_type": "markdown",
   "metadata": {},
   "source": [
    "Using this dictionary, \n",
    "\n",
    "1. Find the college with the greatest number of students and print the abbreviation; and \n",
    "2. Find the oldest college, and print the number of students and the abbreviation for this college."
   ]
  },
  {
   "cell_type": "code",
   "execution_count": 5,
   "metadata": {},
   "outputs": [
    {
     "name": "stdout",
     "output_type": "stream",
     "text": [
      "Abbreviation: HO\n"
     ]
    }
   ],
   "source": [
    "# Find college with the greatest number of student and print the abbreviation\n",
    "max_students = 0\n",
    "max_college = None\n",
    "for college in cambridge:\n",
    "    if cambridge[college][\"students\"] > max_students:\n",
    "        max_students = cambridge[college][\"students\"]\n",
    "        max_college = cambridge[college][\"abbreviation\"]\n",
    "print(\"Abbreviation: {}\".format(max_college))"
   ]
  },
  {
   "cell_type": "code",
   "execution_count": 6,
   "metadata": {},
   "outputs": [
    {
     "name": "stdout",
     "output_type": "stream",
     "text": [
      "Number of students: 541, Abbreviation: CHR\n"
     ]
    }
   ],
   "source": [
    "# Find the oldest college, and print the number of students and the abbreviation for this college\n",
    "oldest_year = None\n",
    "oldest_college = None\n",
    "for college in cambridge:\n",
    "    if oldest_year == None:\n",
    "        oldest_year = cambridge[college][\"students\"]\n",
    "        oldest_college = cambridge[college]\n",
    "    elif cambridge[college][\"year\"] < oldest_year:\n",
    "        oldest_year = cambridge[college][\"students\"]\n",
    "        oldest_college = cambridge[college]\n",
    "print(\"Number of students: {}, Abbreviation: {}\".format(oldest_college[\"students\"], oldest_college[\"abbreviation\"]))"
   ]
  }
 ],
 "metadata": {
  "kernelspec": {
   "display_name": "Python 3",
   "language": "python",
   "name": "python3"
  },
  "language_info": {
   "codemirror_mode": {
    "name": "ipython",
    "version": 3
   },
   "file_extension": ".py",
   "mimetype": "text/x-python",
   "name": "python",
   "nbconvert_exporter": "python",
   "pygments_lexer": "ipython3",
   "version": "3.6.1"
  }
 },
 "nbformat": 4,
 "nbformat_minor": 2
}

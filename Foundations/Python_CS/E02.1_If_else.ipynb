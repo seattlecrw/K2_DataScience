{
 "cells": [
  {
   "cell_type": "markdown",
   "metadata": {},
   "source": [
    "# Exercise 02.1 If-Else\n",
    "### The following assessment criteria is used to map a score out of 100 to a grade:\n",
    "| Grade            | Raw score  (/100)      |\n",
    "| ---------------- | ---------------------- |\n",
    "| Excellent        | $\\ge 82$               |\n",
    "| Very good        | $\\ge 76.5$ and $< 82$  |\n",
    "| Good             | $\\ge 66$ and $< 76.5$  |\n",
    "| Need improvement | $\\ge 45$ and $< 66$    |\n",
    "| Did you try?     | $< 45$                 |\n",
    "\n",
    "Goal: Write a program that asks for input score and prints the appropriate grade. An error message should be printed if the input score is greater than 100 or less than zero."
   ]
  },
  {
   "cell_type": "code",
   "execution_count": 1,
   "metadata": {
    "collapsed": true
   },
   "outputs": [],
   "source": [
    "def map_grade():\n",
    "    \"\"\" Map a score from 0 to 100 to a grade \"\"\"\n",
    "    # Get user input for score\n",
    "    while True:\n",
    "        try:\n",
    "            score = float(input('Please enter the score to be converted to a grade value: '))\n",
    "        except ValueError:\n",
    "            # Value cannot be coerced to float\n",
    "            print(\"Please enter a numeric score value: \")\n",
    "            continue\n",
    "        else:\n",
    "            if (score < 0 or score > 100):\n",
    "                # Score out of range\n",
    "                print(\"Please enter a score value between 0 and 100: \")\n",
    "                continue\n",
    "            else:\n",
    "                # Value successfully parsed\n",
    "                break\n",
    "            \n",
    "    # Map score to grade\n",
    "    if (score >= 82):\n",
    "        grade = \"Excellent\"\n",
    "    elif (score >= 76.5):\n",
    "        grade = \"Very good\"\n",
    "    elif (score >= 66):\n",
    "        grade = \"Good\"\n",
    "    elif (score >= 45):\n",
    "        grade = \"Need improvement\"\n",
    "    else:\n",
    "        grade = \"Did you try?\"\n",
    "\n",
    "    # Print grade\n",
    "    print(grade)"
   ]
  },
  {
   "cell_type": "markdown",
   "metadata": {},
   "source": [
    "### Test function with score of 100:"
   ]
  },
  {
   "cell_type": "code",
   "execution_count": 2,
   "metadata": {},
   "outputs": [
    {
     "name": "stdout",
     "output_type": "stream",
     "text": [
      "Please enter the score to be converted to a grade value: 100\n",
      "Excellent\n"
     ]
    }
   ],
   "source": [
    "map_grade()"
   ]
  },
  {
   "cell_type": "markdown",
   "metadata": {},
   "source": [
    "### Test function with score of 80:"
   ]
  },
  {
   "cell_type": "code",
   "execution_count": 3,
   "metadata": {},
   "outputs": [
    {
     "name": "stdout",
     "output_type": "stream",
     "text": [
      "Please enter the score to be converted to a grade value: 80\n",
      "Very good\n"
     ]
    }
   ],
   "source": [
    "map_grade()"
   ]
  },
  {
   "cell_type": "markdown",
   "metadata": {},
   "source": [
    "### Test function with score of 70:"
   ]
  },
  {
   "cell_type": "code",
   "execution_count": 4,
   "metadata": {},
   "outputs": [
    {
     "name": "stdout",
     "output_type": "stream",
     "text": [
      "Please enter the score to be converted to a grade value: 70\n",
      "Good\n"
     ]
    }
   ],
   "source": [
    "map_grade()"
   ]
  },
  {
   "cell_type": "markdown",
   "metadata": {},
   "source": [
    "### Test function with score of 60:"
   ]
  },
  {
   "cell_type": "code",
   "execution_count": 5,
   "metadata": {},
   "outputs": [
    {
     "name": "stdout",
     "output_type": "stream",
     "text": [
      "Please enter the score to be converted to a grade value: 60\n",
      "Need improvement\n"
     ]
    }
   ],
   "source": [
    "map_grade()"
   ]
  },
  {
   "cell_type": "markdown",
   "metadata": {},
   "source": [
    "### Test function with score of 50:"
   ]
  },
  {
   "cell_type": "code",
   "execution_count": 6,
   "metadata": {},
   "outputs": [
    {
     "name": "stdout",
     "output_type": "stream",
     "text": [
      "Please enter the score to be converted to a grade value: 50\n",
      "Need improvement\n"
     ]
    }
   ],
   "source": [
    "map_grade()"
   ]
  },
  {
   "cell_type": "markdown",
   "metadata": {},
   "source": [
    "### Test function with invalid inputs and then score of 0:"
   ]
  },
  {
   "cell_type": "code",
   "execution_count": 7,
   "metadata": {},
   "outputs": [
    {
     "name": "stdout",
     "output_type": "stream",
     "text": [
      "Please enter the score to be converted to a grade value: score\n",
      "Please enter a numeric score value: \n",
      "Please enter the score to be converted to a grade value: 150\n",
      "Please enter a score value between 0 and 100: \n",
      "Please enter the score to be converted to a grade value: -50\n",
      "Please enter a score value between 0 and 100: \n",
      "Please enter the score to be converted to a grade value: 0\n",
      "Did you try?\n"
     ]
    }
   ],
   "source": [
    "map_grade()"
   ]
  }
 ],
 "metadata": {
  "kernelspec": {
   "display_name": "Python 3",
   "language": "python",
   "name": "python3"
  },
  "language_info": {
   "codemirror_mode": {
    "name": "ipython",
    "version": 3
   },
   "file_extension": ".py",
   "mimetype": "text/x-python",
   "name": "python",
   "nbconvert_exporter": "python",
   "pygments_lexer": "ipython3",
   "version": "3.6.1"
  }
 },
 "nbformat": 4,
 "nbformat_minor": 2
}

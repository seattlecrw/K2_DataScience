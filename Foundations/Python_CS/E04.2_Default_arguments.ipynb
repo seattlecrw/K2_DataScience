{
 "cells": [
  {
   "cell_type": "markdown",
   "metadata": {},
   "source": [
    "# Exercise 04.2 (functions and default arguments)\n",
    "\n",
    "The magnitude of vector $v$ comprised of components $x, y, z$ is computed using the formula:\n",
    "\n",
    "$\\left|v\\right|=\\sqrt{x^2 + y^2 + z^2}$\n",
    "\n",
    "### Write a single function that takes the components of a vector of length 2 or 3 and returns the magnitude. Use default arguments to handle vectors of length 2 or 3 with the same code."
   ]
  },
  {
   "cell_type": "code",
   "execution_count": 1,
   "metadata": {
    "collapsed": true
   },
   "outputs": [],
   "source": [
    "def magnitude(x, y, z = 0):\n",
    "    \"\"\" Compute the magnitude of vector with components x, y, z (optional)\n",
    "    \n",
    "        Arguments:\n",
    "            x, y = Required vector components\n",
    "            z = Optional vector components (default to 0 adds no magnitude)\n",
    "            \n",
    "        Return:\n",
    "            Float value representing vector magnitude\n",
    "    \"\"\"\n",
    "    return (x**2 + y**2 + z**2)**0.5"
   ]
  },
  {
   "cell_type": "markdown",
   "metadata": {},
   "source": [
    "### Test your function for correctness against hand calculations for a selection of values."
   ]
  },
  {
   "cell_type": "code",
   "execution_count": 2,
   "metadata": {},
   "outputs": [
    {
     "data": {
      "text/plain": [
       "5.0"
      ]
     },
     "execution_count": 2,
     "metadata": {},
     "output_type": "execute_result"
    }
   ],
   "source": [
    "# Test for x = 3, y = 4 (expect 5)\n",
    "magnitude(x = 3, y = 4)"
   ]
  },
  {
   "cell_type": "code",
   "execution_count": 3,
   "metadata": {},
   "outputs": [
    {
     "data": {
      "text/plain": [
       "10.0"
      ]
     },
     "execution_count": 3,
     "metadata": {},
     "output_type": "execute_result"
    }
   ],
   "source": [
    "# Test for x = 6, y = 8 (expect 10)\n",
    "magnitude(x = 6, y = 8)"
   ]
  },
  {
   "cell_type": "code",
   "execution_count": 4,
   "metadata": {},
   "outputs": [
    {
     "data": {
      "text/plain": [
       "9.0"
      ]
     },
     "execution_count": 4,
     "metadata": {},
     "output_type": "execute_result"
    }
   ],
   "source": [
    "# Test for x = 1, y = 4, z = 8 (expect 9)\n",
    "magnitude(x = 1, y = 4, z = 8)"
   ]
  }
 ],
 "metadata": {
  "kernelspec": {
   "display_name": "Python 3",
   "language": "python",
   "name": "python3"
  },
  "language_info": {
   "codemirror_mode": {
    "name": "ipython",
    "version": 3
   },
   "file_extension": ".py",
   "mimetype": "text/x-python",
   "name": "python",
   "nbconvert_exporter": "python",
   "pygments_lexer": "ipython3",
   "version": "3.6.1"
  }
 },
 "nbformat": 4,
 "nbformat_minor": 2
}

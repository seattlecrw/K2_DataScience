{
 "cells": [
  {
   "cell_type": "markdown",
   "metadata": {},
   "source": [
    "# Exercise 06.2 (selecting data structures)\n",
    "\n",
    "For a simple (non-intersecting) polygon with $n$ vertices, $(x_0, y_0)$, $(x_1, y_1)$, . . , $(x_{n-1}, y_{n-1})$, the area $A$ is given by\n",
    "\n",
    "$$\n",
    "A = \\left| \\frac{1}{2} \\sum_{i=0}^{n-1} \\left(x_{i} y _{i+1} - x_{i+1} y_{i} \\right) \\right|\n",
    "$$\n",
    "\n",
    "and where $(x_n, y_n) = (x_0, y_0)$. The vertices should be ordered as you move around the polygon.\n",
    "\n",
    "Write a function that computes the area of a simple polygon with an arbitrary number of vertices. Test your function for some simple shapes. Pay careful attention to the range of any loops."
   ]
  },
  {
   "cell_type": "code",
   "execution_count": 1,
   "metadata": {
    "collapsed": true
   },
   "outputs": [],
   "source": [
    "def area_polygon(polygon):\n",
    "    \"\"\" Calculate the area of a polygon given a list of vertex coordinates\n",
    "        \n",
    "        Arguments:\n",
    "            polygon = list of tuples with (x, y) coordinates of each polygon vertex\n",
    "            \n",
    "        Returns:\n",
    "            float value of polygon area\n",
    "    \"\"\"\n",
    "    # Define x and y indices\n",
    "    x = 0\n",
    "    y = 1\n",
    "    \n",
    "    # Calculate running summation within area calculation\n",
    "    summation = 0\n",
    "    for i in range(len(polygon)):\n",
    "        if i < (len(polygon) - 1):\n",
    "            summation += ((polygon[i][x] * polygon[i + 1][y]) - (polygon[i + 1][x] * polygon[i][y]))\n",
    "        else:\n",
    "            summation += ((polygon[i][x] * polygon[0][y]) - (polygon[0][x] * polygon[i][y]))\n",
    "    \n",
    "    # Complete and return area calculation: divide summation by two and take absolute value\n",
    "    return abs(summation / 2)"
   ]
  },
  {
   "cell_type": "markdown",
   "metadata": {},
   "source": [
    "### Test function with some simple shapes"
   ]
  },
  {
   "cell_type": "code",
   "execution_count": 2,
   "metadata": {},
   "outputs": [
    {
     "data": {
      "text/plain": [
       "25.0"
      ]
     },
     "execution_count": 2,
     "metadata": {},
     "output_type": "execute_result"
    }
   ],
   "source": [
    "# Test with square (expect 25.0)\n",
    "square = [(0,0), (0,5), (5,5), (5,0)]\n",
    "area_polygon(square)"
   ]
  },
  {
   "cell_type": "code",
   "execution_count": 3,
   "metadata": {},
   "outputs": [
    {
     "data": {
      "text/plain": [
       "2.0"
      ]
     },
     "execution_count": 3,
     "metadata": {},
     "output_type": "execute_result"
    }
   ],
   "source": [
    "# Test with triangle (expect 2.0)\n",
    "triangle = [(0,0), (1,2), (2,0)]\n",
    "area_polygon(triangle)"
   ]
  }
 ],
 "metadata": {
  "kernelspec": {
   "display_name": "Python 3",
   "language": "python",
   "name": "python3"
  },
  "language_info": {
   "codemirror_mode": {
    "name": "ipython",
    "version": 3
   },
   "file_extension": ".py",
   "mimetype": "text/x-python",
   "name": "python",
   "nbconvert_exporter": "python",
   "pygments_lexer": "ipython3",
   "version": "3.6.1"
  }
 },
 "nbformat": 4,
 "nbformat_minor": 2
}

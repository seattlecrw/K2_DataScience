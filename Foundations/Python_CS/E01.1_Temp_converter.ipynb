{
 "cells": [
  {
   "cell_type": "markdown",
   "metadata": {},
   "source": [
    "# Exercise 01.1 Convert temperatures from degrees Fahrenheit to degrees Celsius\n",
    "\n",
    "Degrees Fahrenheit ($T_F$) are converted to degrees Celsius ($T_c$) using the formula:\n",
    "\n",
    "$$\n",
    "T_c = 5(T_f - 32)/9\n",
    "$$\n",
    "\n",
    "Write a program to convert 78 degrees Fahrenheit to degrees Celsius and print the result.\n",
    "Write your program such that you can easily change the temperature in Fahrenheit that you are converting from."
   ]
  },
  {
   "cell_type": "markdown",
   "metadata": {},
   "source": [
    "### Write a generic function to convert temperatures (Fahrenheit to Celsius)\n",
    "\n",
    "Arguments:\n",
    "* Tf = temperature in degrees Fahrenheit (expected numeric- print error otherwise)\n",
    "\n",
    "Return:\n",
    "* Tc = temperature in degrees Celsius (float)"
   ]
  },
  {
   "cell_type": "code",
   "execution_count": 1,
   "metadata": {
    "collapsed": true
   },
   "outputs": [],
   "source": [
    "def f_to_c(Tf):\n",
    "    \"\"\" Convert temperature in degrees Fahrenheit to degrees Celsius \"\"\"\n",
    "    # Ensure input is numeric in value\n",
    "    try:\n",
    "        Tf = float(Tf)\n",
    "    except ValueError:\n",
    "        print(\"Error: Temperature conversion is only valid for numeric inputs.\")\n",
    "        return(None)\n",
    "        \n",
    "    \n",
    "    # Calculate and return degrees Celsius\n",
    "    Tc = (5 * (Tf - 32)) / 9\n",
    "    return Tc"
   ]
  },
  {
   "cell_type": "markdown",
   "metadata": {},
   "source": [
    "### Test converter function using 78 degrees Fahrenheit as input"
   ]
  },
  {
   "cell_type": "code",
   "execution_count": 2,
   "metadata": {},
   "outputs": [
    {
     "name": "stdout",
     "output_type": "stream",
     "text": [
      "78° Fahrenheit is: 25.6° Celsius\n"
     ]
    }
   ],
   "source": [
    "convert_78F = f_to_c(78)\n",
    "print(\"78\\xb0 Fahrenheit is: {:.1f}\\xb0 Celsius\".format(convert_78F))"
   ]
  },
  {
   "cell_type": "markdown",
   "metadata": {},
   "source": [
    "### Test converter function using non-numeric input"
   ]
  },
  {
   "cell_type": "code",
   "execution_count": 3,
   "metadata": {},
   "outputs": [
    {
     "name": "stdout",
     "output_type": "stream",
     "text": [
      "Error: Temperature conversion is only valid for numeric inputs.\n"
     ]
    }
   ],
   "source": [
    "convert_string = f_to_c(\"hello, world!\")"
   ]
  }
 ],
 "metadata": {
  "kernelspec": {
   "display_name": "Python 3",
   "language": "python",
   "name": "python3"
  },
  "language_info": {
   "codemirror_mode": {
    "name": "ipython",
    "version": 3
   },
   "file_extension": ".py",
   "mimetype": "text/x-python",
   "name": "python",
   "nbconvert_exporter": "python",
   "pygments_lexer": "ipython3",
   "version": "3.6.1"
  }
 },
 "nbformat": 4,
 "nbformat_minor": 2
}

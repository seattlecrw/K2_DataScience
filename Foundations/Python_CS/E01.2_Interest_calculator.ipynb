{
 "cells": [
  {
   "cell_type": "markdown",
   "metadata": {},
   "source": [
    "# Exercise 01.2 Calculate interest payable on bank loans\n",
    "\n",
    "Interest on a bank loan is charged at fixed rate above the Bank of England 'official Bank Rate'. Interest payable is calculated using the formula:\n",
    "\n",
    "$$\n",
    "Payable = \\dfrac{APR}{365} * Days * Principal\n",
    "$$\n",
    "\n",
    "\n",
    "1. Write a program that computes the interest payable, using the following variables in your program:\n",
    "\n",
    "    1. Loan principal (amount borrowed)\n",
    "    1. Official Bank Rate (percentage, expressed per annum))\n",
    "    1. Rate over the official Bank Rate (percentage, expressed per annum)\n",
    "    1. Time in days\n",
    "\n",
    "  Test your program with a loan principal of Â£150,000, bank rate of 0.25%, rate over the \n",
    "  bank rate of 1.49% and a period of 28 days.\n",
    "    \n",
    "1. Modify your program such that it prompts the user to interactively enter the principal and the \n",
    "   number of days.\n",
    "\n"
   ]
  },
  {
   "cell_type": "markdown",
   "metadata": {},
   "source": [
    "### Write function to calculate interest payable\n",
    "\n",
    "Arguments:\n",
    "* principal = Loan principal (amount borrowed, in Â£)\n",
    "* bank_rate = Official Bank Rate (percentage, expressed per annum), defaults to 0.25%\n",
    "* extra_rate = Rate over the Official Bank Rate (percentage, expressed per annum), defaults to 1.49%\n",
    "* days = Time of loan, in days\n",
    "\n",
    "Return:\n",
    "* payable = interest payable, in Â£ (float value)"
   ]
  },
  {
   "cell_type": "code",
   "execution_count": 1,
   "metadata": {
    "collapsed": true
   },
   "outputs": [],
   "source": [
    "def interest_by_arguments(principal, bank_rate, extra_rate, days):\n",
    "    \"\"\" Compute interest payable based on argument values \"\"\"\n",
    "    try:\n",
    "        # Ensure inputs are numeric in value\n",
    "        principal = float(principal)\n",
    "        bank_rate = float(bank_rate)\n",
    "        extra_rate = float(extra_rate)\n",
    "        days = float(days)\n",
    "    except ValueError:\n",
    "        print(\"Error: Interest calculation only valid for numeric inputs.\")\n",
    "        return None\n",
    "    \n",
    "    # Calculate total daily interest rate\n",
    "    daily_rate = (bank_rate + extra_rate) / 365\n",
    "        \n",
    "    # Calculate and return interest payable\n",
    "    payable = daily_rate * days * principal\n",
    "    return payable"
   ]
  },
  {
   "cell_type": "markdown",
   "metadata": {},
   "source": [
    "Test function with a loan principal of Â£150,000, bank rate of 0.25%, rate over the bank rate of 1.49% and a period of 28 days."
   ]
  },
  {
   "cell_type": "code",
   "execution_count": 2,
   "metadata": {},
   "outputs": [
    {
     "name": "stdout",
     "output_type": "stream",
     "text": [
      "Interest payable: Â£20,021.92\n"
     ]
    }
   ],
   "source": [
    "test_interest = interest_by_arguments(150000, 0.25, 1.49, 28)\n",
    "print(\"Interest payable: Â£{:,.2f}\".format(test_interest))"
   ]
  },
  {
   "cell_type": "markdown",
   "metadata": {},
   "source": [
    "### Modify function such that it prompts the user to interactively enter the principal and the number of days\n",
    "\n",
    "Arguments:\n",
    "* bank_rate = Official Bank Rate (percentage, expressed per annum), defaults to 0.25%\n",
    "* extra_rate = Rate over the Official Bank Rate (percentage, expressed per annum), defaults to 1.49%\n",
    "\n",
    "Return:\n",
    "* payable = interest payable, in Â£ (float value)"
   ]
  },
  {
   "cell_type": "code",
   "execution_count": 3,
   "metadata": {
    "collapsed": true
   },
   "outputs": [],
   "source": [
    "def interest_interactive(bank_rate=0.25, extra_rate=1.49):\n",
    "    \"\"\" Compute interest payable based on interactive values \"\"\"\n",
    "    try:\n",
    "        # Ensure argument values are numeric in value\n",
    "        bank_rate = float(bank_rate)\n",
    "        extra_rate = float(extra_rate)\n",
    "    except ValueError:\n",
    "       print(\"Error: Interest calculation only valid for numeric inputs.\")\n",
    "    \n",
    "    # Collect principal value from user\n",
    "    while True:\n",
    "        try:\n",
    "            principal = float(input('Please enter the loan principal (amount borrowed, in Â£): '))\n",
    "        except ValueError:\n",
    "            # Value cannot be coerced to float\n",
    "            print(\"Please enter a numeric value for the loan principal in Â£: \")\n",
    "            continue\n",
    "        else:\n",
    "            # Value successfully parsed\n",
    "            break\n",
    "            \n",
    "    # Collect time in days from user\n",
    "    while True:\n",
    "        try:\n",
    "            days = float(input('Please enter the time of loan (in days): '))\n",
    "        except ValueError:\n",
    "            # Value cannot be coerced to float\n",
    "            print(\"Please enter a numeric value for the loan time (in days): \")\n",
    "            continue\n",
    "        else:\n",
    "            # Value successfully parsed\n",
    "            break\n",
    "\n",
    "    # Calculate total daily interest rate\n",
    "    daily_rate = (bank_rate + extra_rate) / 365\n",
    "\n",
    "    # Calculate and return interest payable\n",
    "    payable = daily_rate * days * principal\n",
    "    return payable"
   ]
  },
  {
   "cell_type": "markdown",
   "metadata": {},
   "source": [
    "Test function with interactive inputs"
   ]
  },
  {
   "cell_type": "code",
   "execution_count": 4,
   "metadata": {},
   "outputs": [
    {
     "name": "stdout",
     "output_type": "stream",
     "text": [
      "Please enter the loan principal (amount borrowed, in Â£): 150000\n",
      "Please enter the time of loan (in days): 28\n",
      "Interest payable: Â£20,021.92\n"
     ]
    }
   ],
   "source": [
    "interactive_test = interest_interactive()\n",
    "print(\"Interest payable: Â£{:,.2f}\".format(test_interest))"
   ]
  }
 ],
 "metadata": {
  "kernelspec": {
   "display_name": "Python 3",
   "language": "python",
   "name": "python3"
  },
  "language_info": {
   "codemirror_mode": {
    "name": "ipython",
    "version": 3
   },
   "file_extension": ".py",
   "mimetype": "text/x-python",
   "name": "python",
   "nbconvert_exporter": "python",
   "pygments_lexer": "ipython3",
   "version": "3.6.1"
  }
 },
 "nbformat": 4,
 "nbformat_minor": 2
}

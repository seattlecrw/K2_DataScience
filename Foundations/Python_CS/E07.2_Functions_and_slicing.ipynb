{
 "cells": [
  {
   "cell_type": "markdown",
   "metadata": {},
   "source": [
    "# Exercise 07.2 (member functions and slicing)\n",
    "\n",
    "Anonymised scores (out of 60) for an examination are stored in the following NumPy array: "
   ]
  },
  {
   "cell_type": "code",
   "execution_count": 1,
   "metadata": {},
   "outputs": [
    {
     "name": "stdout",
     "output_type": "stream",
     "text": [
      "[ 58.   35.   24.   42.    7.8]\n"
     ]
    }
   ],
   "source": [
    "import numpy as np\n",
    "scores = np.array([58.0, 35.0, 24.0, 42, 7.8])\n",
    "print(scores)"
   ]
  },
  {
   "cell_type": "markdown",
   "metadata": {},
   "source": [
    "### Write a function that takes a NumPy array of the raw scores and returns the scores as a percentage sorted from lowest to highest (try using `scores.sort()`, where `scores` is a NumPy array holding the scores)."
   ]
  },
  {
   "cell_type": "code",
   "execution_count": 2,
   "metadata": {},
   "outputs": [
    {
     "name": "stdout",
     "output_type": "stream",
     "text": [
      "[ 13.          40.          58.33333333  70.          96.66666667]\n"
     ]
    }
   ],
   "source": [
    "# Write function\n",
    "def percentages(scores):\n",
    "    \"\"\" Returns array of scores as percentage sorted from lowest to highest \"\"\"\n",
    "    scores.sort()\n",
    "    return (scores * 100 / 60.0)\n",
    "\n",
    "# Test with anonymised scores\n",
    "percent_scores = percentages(scores)\n",
    "print(percent_scores)"
   ]
  },
  {
   "cell_type": "markdown",
   "metadata": {},
   "source": [
    "### Write a function that returns the maximum, minimum and mean of the raw scores as a dictionary with the keys '`min`', '`max`' and '`mean`'. Use the NumPy array functions `min()`, `max()` and `mean()` to do the computation, e.g. `max = scores.max()`."
   ]
  },
  {
   "cell_type": "code",
   "execution_count": 3,
   "metadata": {},
   "outputs": [
    {
     "name": "stdout",
     "output_type": "stream",
     "text": [
      "Mimimum: 7.8, Maximum: 58.0, Mean: 33.36\n"
     ]
    }
   ],
   "source": [
    "# Write function\n",
    "def summaries(scores):\n",
    "    \"\"\" Returns maximum, minimum and mean of raw scores as a dictionary with keys 'min', 'max' and 'mean' \"\"\"\n",
    "    return { 'min': scores.min(), 'max': scores.max(), 'mean': scores.mean() }\n",
    "\n",
    "# Test with anonymised scores\n",
    "summaries = summaries(scores)\n",
    "print(\"Mimimum: {}, Maximum: {}, Mean: {}\".format(summaries['min'], summaries['max'], summaries['mean']))"
   ]
  },
  {
   "cell_type": "markdown",
   "metadata": {},
   "source": [
    "### Modify your function for the min, max and mean to optionally exclude the highest and lowest scores from the computation of the min, max and mean. *Hint:* sort the array of scores and use array slicing to exclude the first and the last entries."
   ]
  },
  {
   "cell_type": "code",
   "execution_count": 4,
   "metadata": {},
   "outputs": [
    {
     "name": "stdout",
     "output_type": "stream",
     "text": [
      "Mimimum: 24.0, Maximum: 42.0, Mean: 33.666666666666664\n"
     ]
    }
   ],
   "source": [
    "# Write function\n",
    "def summaries(scores, exclude_outliers = True):\n",
    "    \"\"\" Returns maximum, minimum and mean of raw scores as a dictionary with keys 'min', 'max' and 'mean' \"\"\"\n",
    "    if exclude_outliers == True:\n",
    "        scores.sort()\n",
    "        scores = scores[1:len(scores) - 1]\n",
    "    return { 'min': scores.min(), 'max': scores.max(), 'mean': scores.mean() }\n",
    "\n",
    "# Test with anonymised scores\n",
    "summaries = summaries(scores, exclude_outliers = True)\n",
    "print(\"Mimimum: {}, Maximum: {}, Mean: {}\".format(summaries['min'], summaries['max'], summaries['mean']))"
   ]
  }
 ],
 "metadata": {
  "kernelspec": {
   "display_name": "Python 3",
   "language": "python",
   "name": "python3"
  },
  "language_info": {
   "codemirror_mode": {
    "name": "ipython",
    "version": 3
   },
   "file_extension": ".py",
   "mimetype": "text/x-python",
   "name": "python",
   "nbconvert_exporter": "python",
   "pygments_lexer": "ipython3",
   "version": "3.6.1"
  }
 },
 "nbformat": 4,
 "nbformat_minor": 2
}

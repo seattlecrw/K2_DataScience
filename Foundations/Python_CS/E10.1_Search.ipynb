{
 "cells": [
  {
   "cell_type": "markdown",
   "metadata": {},
   "source": [
    "# Exercise 10.1 (search)\n",
    "\n",
    "We want to find a find the largest and smallest values in a long list of numbers. Implement\n",
    "two algorithms, based on:\n",
    "\n",
    "1. Iterating over the list entries; and \n",
    "1. First applying a built-in sort operation to the list."
   ]
  },
  {
   "cell_type": "code",
   "execution_count": 1,
   "metadata": {
    "collapsed": true
   },
   "outputs": [],
   "source": [
    "# Import numpy module\n",
    "import numpy as np"
   ]
  },
  {
   "cell_type": "markdown",
   "metadata": {},
   "source": [
    "## Implement search algorithm based on iterating over list entries"
   ]
  },
  {
   "cell_type": "code",
   "execution_count": 2,
   "metadata": {},
   "outputs": [],
   "source": [
    "def linear_min_max(x):\n",
    "    # Initialize both x_min and x_max to first value in array\n",
    "    x_min = x[[0]]\n",
    "    x_max = x[[0]]\n",
    "    \n",
    "    # Test each value for exceeding min or max value\n",
    "    for value in x:\n",
    "        if value < x_min:\n",
    "            x_min = value\n",
    "        elif value > x_max:\n",
    "            x_max = value\n",
    "            \n",
    "    # Return min and max values\n",
    "    return x_min, x_max"
   ]
  },
  {
   "cell_type": "markdown",
   "metadata": {},
   "source": [
    "## Implement search algorithm based on first applying a built-in sort operation to the list"
   ]
  },
  {
   "cell_type": "code",
   "execution_count": 3,
   "metadata": {},
   "outputs": [],
   "source": [
    "def binary_min_max(x):\n",
    "    # Sort x\n",
    "    x_sorted = np.sort(x, kind='quicksort')\n",
    "    \n",
    "    # Extract extreme values\n",
    "    x_min, x_max = x_sorted[0], x_sorted[-1]\n",
    "    \n",
    "    # Return min and max values\n",
    "    return x_min, x_max"
   ]
  },
  {
   "cell_type": "markdown",
   "metadata": {},
   "source": [
    "## Test algorithms for both consistency and speed"
   ]
  },
  {
   "cell_type": "code",
   "execution_count": 4,
   "metadata": {},
   "outputs": [],
   "source": [
    "# Create large array of random numbers to test\n",
    "x = np.random.rand(1000000)"
   ]
  },
  {
   "cell_type": "code",
   "execution_count": 5,
   "metadata": {},
   "outputs": [
    {
     "name": "stdout",
     "output_type": "stream",
     "text": [
      "CPU times: user 142 ms, sys: 2.01 ms, total: 144 ms\n",
      "Wall time: 143 ms\n",
      "Minimum: 7.171791993609844e-08, Maximum: 0.9999992377812099\n"
     ]
    }
   ],
   "source": [
    "# Run linear search method\n",
    "%time xmin, xmax = linear_min_max(x)\n",
    "print(\"Minimum: {}, Maximum: {}\".format(xmin, xmax))"
   ]
  },
  {
   "cell_type": "code",
   "execution_count": 6,
   "metadata": {},
   "outputs": [
    {
     "name": "stdout",
     "output_type": "stream",
     "text": [
      "CPU times: user 89.7 ms, sys: 5.64 ms, total: 95.4 ms\n",
      "Wall time: 94.2 ms\n",
      "Minimum: 7.171791993609844e-08, Maximum: 0.9999992377812099\n"
     ]
    }
   ],
   "source": [
    "# Run binary search method\n",
    "%time xmin, xmax = binary_min_max(x)\n",
    "print(\"Minimum: {}, Maximum: {}\".format(xmin, xmax))"
   ]
  }
 ],
 "metadata": {
  "kernelspec": {
   "display_name": "Python 3",
   "language": "python",
   "name": "python3"
  },
  "language_info": {
   "codemirror_mode": {
    "name": "ipython",
    "version": 3
   },
   "file_extension": ".py",
   "mimetype": "text/x-python",
   "name": "python",
   "nbconvert_exporter": "python",
   "pygments_lexer": "ipython3",
   "version": "3.6.1"
  }
 },
 "nbformat": 4,
 "nbformat_minor": 2
}

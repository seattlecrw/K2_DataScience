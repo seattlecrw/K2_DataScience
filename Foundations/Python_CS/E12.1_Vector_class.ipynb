{
 "cells": [
  {
   "cell_type": "markdown",
   "metadata": {},
   "source": [
    "# Exercise 12.1\n",
    "\n",
    "Create a class to represent vectors of arbitrary length and which is initialised with a list of values, e.g.:\n",
    "```python\n",
    "x = MyVector([0, 2, 4])\n",
    "```\n",
    "\n",
    "Equip the class with methods that:\n",
    "\n",
    "1. Return the length of the vector\n",
    "2. Compute the norm of the vector $\\sqrt{x \\cdot x}$\n",
    "3. Compute the dot product of the vector with another vector"
   ]
  },
  {
   "cell_type": "code",
   "execution_count": 1,
   "metadata": {
    "collapsed": true
   },
   "outputs": [],
   "source": [
    "# Import numpy module for vector processes\n",
    "import numpy as np"
   ]
  },
  {
   "cell_type": "markdown",
   "metadata": {},
   "source": [
    "## Define MyVector class"
   ]
  },
  {
   "cell_type": "code",
   "execution_count": 2,
   "metadata": {
    "collapsed": true
   },
   "outputs": [],
   "source": [
    "class MyVector:\n",
    "    def __init__(self, x):\n",
    "        self.x = x\n",
    "        \n",
    "    # Return length of vector\n",
    "    def size(self):\n",
    "        \"\"\" Returns the number of elements in MyVector \"\"\"\n",
    "        return len(self.x)\n",
    "    \n",
    "    # This allows access by index, e.g. y[2]\n",
    "    def __getitem__(self, index):\n",
    "        return self.x[index]\n",
    "\n",
    "    # Return norm of vector\n",
    "    def norm(self):\n",
    "        \"\"\" Returns the norm of MyVector (square root of the dot product of MyVector by MyVector) \"\"\"\n",
    "        return (np.dot(self.x, self.x))**0.5\n",
    "    \n",
    "    # Return dot product of vector with another vector\n",
    "    def dot(self, other):\n",
    "        \"\"\" Returns the dot product of MyVector with another vector \"\"\"\n",
    "        return np.dot(self.x, other)"
   ]
  },
  {
   "cell_type": "markdown",
   "metadata": {},
   "source": [
    "## Test your implementation using two vectors of length 3"
   ]
  },
  {
   "cell_type": "markdown",
   "metadata": {},
   "source": [
    "Create vectors for testing:"
   ]
  },
  {
   "cell_type": "code",
   "execution_count": 3,
   "metadata": {
    "collapsed": true
   },
   "outputs": [],
   "source": [
    "# 2 vectors of length 3\n",
    "v1 = [1, 2, 3]\n",
    "v2 = [4, 5, 6]"
   ]
  },
  {
   "cell_type": "markdown",
   "metadata": {},
   "source": [
    "Run tests using $v1$ as MyVector"
   ]
  },
  {
   "cell_type": "code",
   "execution_count": 4,
   "metadata": {},
   "outputs": [],
   "source": [
    "# Create MyVector from v1\n",
    "x1 = MyVector(v1)\n",
    "\n",
    "# Test size method\n",
    "x1_size = x1.size()\n",
    "assert x1_size == 3\n",
    "\n",
    "# Test __getitem__ method\n",
    "assert x1[0] == 1\n",
    "assert x1[1] == 2\n",
    "assert x1[2] == 3\n",
    "\n",
    "# Test norm method\n",
    "x1_norm = x1.norm()\n",
    "assert x1_norm == ( (1*1) + (2*2) + (3*3) )**0.5\n",
    "\n",
    "# Test dot method\n",
    "x1_by_v2 = x1.dot(v2)\n",
    "assert x1_by_v2 == ( (1*4) + (2*5) + (3*6) )"
   ]
  },
  {
   "cell_type": "markdown",
   "metadata": {},
   "source": [
    "Run tests using $v2$ as MyVector"
   ]
  },
  {
   "cell_type": "code",
   "execution_count": 5,
   "metadata": {
    "collapsed": true
   },
   "outputs": [],
   "source": [
    "# Create MyVector from v2\n",
    "x2 = MyVector(v2)\n",
    "\n",
    "# Test size method\n",
    "x2_size = x2.size()\n",
    "assert x2_size == 3\n",
    "\n",
    "# Test __getitem__ method\n",
    "assert x2[0] == 4\n",
    "assert x2[1] == 5\n",
    "assert x2[2] == 6\n",
    "\n",
    "# Test norm method\n",
    "x2_norm = x2.norm()\n",
    "assert x2_norm == ( (4*4) + (5*5) + (6*6) )**0.5\n",
    "\n",
    "# Test dot method\n",
    "x2_by_v1 = x2.dot(v1)\n",
    "assert x2_by_v1 == ( (4*1) + (5*2) + (6*3) )"
   ]
  }
 ],
 "metadata": {
  "kernelspec": {
   "display_name": "Python 3",
   "language": "python",
   "name": "python3"
  },
  "language_info": {
   "codemirror_mode": {
    "name": "ipython",
    "version": 3
   },
   "file_extension": ".py",
   "mimetype": "text/x-python",
   "name": "python",
   "nbconvert_exporter": "python",
   "pygments_lexer": "ipython3",
   "version": "3.6.1"
  }
 },
 "nbformat": 4,
 "nbformat_minor": 2
}

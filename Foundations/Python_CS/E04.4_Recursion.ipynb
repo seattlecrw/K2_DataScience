{
 "cells": [
  {
   "cell_type": "markdown",
   "metadata": {},
   "source": [
    "# Exercise 04.4 (recursion)\n",
    "\n",
    "The factorial of a non-negative integer $n$ ($n!$) is expressed recursively by:\n",
    "\n",
    "$$\n",
    "n! = \n",
    "\\begin{cases}\n",
    "1 & n = 0 \\\\\n",
    "(n - 1)! \\,n & n > 0\n",
    "\\end{cases}\n",
    "$$"
   ]
  },
  {
   "cell_type": "code",
   "execution_count": 1,
   "metadata": {
    "collapsed": true
   },
   "outputs": [],
   "source": [
    "# import math module for use later in notebook\n",
    "import math"
   ]
  },
  {
   "cell_type": "markdown",
   "metadata": {},
   "source": [
    "### Using recursion, program a function for computing the factorial."
   ]
  },
  {
   "cell_type": "code",
   "execution_count": 2,
   "metadata": {
    "collapsed": true
   },
   "outputs": [],
   "source": [
    "def recursive_factorial(n): \n",
    "    \"\"\" Compute the nth factorial using recursion \"\"\"\n",
    "    if n == 0:\n",
    "        return 1  # Base case\n",
    "    else:\n",
    "        return (recursive_factorial(n - 1) * n) "
   ]
  },
  {
   "cell_type": "markdown",
   "metadata": {},
   "source": [
    "### Test your function against the `math.factorial` function, e.g."
   ]
  },
  {
   "cell_type": "code",
   "execution_count": 3,
   "metadata": {},
   "outputs": [
    {
     "name": "stdout",
     "output_type": "stream",
     "text": [
      "Recursive factorial: 120\n",
      "Reference factorial: 120\n"
     ]
    }
   ],
   "source": [
    "# Test with value of 5\n",
    "print(\"Recursive factorial:\", recursive_factorial(5))\n",
    "print(\"Reference factorial:\", math.factorial(5))"
   ]
  },
  {
   "cell_type": "code",
   "execution_count": 4,
   "metadata": {},
   "outputs": [
    {
     "name": "stdout",
     "output_type": "stream",
     "text": [
      "Recursive factorial: 362880\n",
      "Reference factorial: 362880\n"
     ]
    }
   ],
   "source": [
    "# Test with value of 9\n",
    "print(\"Recursive factorial:\", recursive_factorial(9))\n",
    "print(\"Reference factorial:\", math.factorial(9))"
   ]
  },
  {
   "cell_type": "code",
   "execution_count": 5,
   "metadata": {},
   "outputs": [
    {
     "name": "stdout",
     "output_type": "stream",
     "text": [
      "Recursive factorial: 1307674368000\n",
      "Reference factorial: 1307674368000\n"
     ]
    }
   ],
   "source": [
    "# Test with value of 15\n",
    "print(\"Recursive factorial:\", recursive_factorial(15))\n",
    "print(\"Reference factorial:\", math.factorial(15))"
   ]
  }
 ],
 "metadata": {
  "kernelspec": {
   "display_name": "Python 3",
   "language": "python",
   "name": "python3"
  },
  "language_info": {
   "codemirror_mode": {
    "name": "ipython",
    "version": 3
   },
   "file_extension": ".py",
   "mimetype": "text/x-python",
   "name": "python",
   "nbconvert_exporter": "python",
   "pygments_lexer": "ipython3",
   "version": "3.6.1"
  }
 },
 "nbformat": 4,
 "nbformat_minor": 2
}

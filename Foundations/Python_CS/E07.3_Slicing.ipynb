{
 "cells": [
  {
   "cell_type": "markdown",
   "metadata": {},
   "source": [
    "# Exercise 07.3 (slicing)\n",
    "\n",
    "For the following exercises, use the two-dimensional array 'A'. Print the results to the screen to check. Try to use array slicing such that your code would still work if the dimensions of `A` were enlarged."
   ]
  },
  {
   "cell_type": "code",
   "execution_count": 1,
   "metadata": {},
   "outputs": [
    {
     "name": "stdout",
     "output_type": "stream",
     "text": [
      "[[   4.      7.     -2.43   67.1 ]\n",
      " [  -4.     64.     54.7    -3.33]\n",
      " [   2.43   23.2     3.64    4.11]\n",
      " [   1.2     2.5  -113.2   323.22]]\n"
     ]
    }
   ],
   "source": [
    "import numpy as np\n",
    "A = np.array([[4.0, 7.0, -2.43, 67.1],\n",
    "             [-4.0, 64.0, 54.7, -3.33],\n",
    "             [2.43, 23.2, 3.64, 4.11],\n",
    "             [1.2, 2.5, -113.2, 323.22]])\n",
    "print(A)"
   ]
  },
  {
   "cell_type": "markdown",
   "metadata": {},
   "source": [
    "## Use array slicing to extract the third column as a 1D array"
   ]
  },
  {
   "cell_type": "code",
   "execution_count": 2,
   "metadata": {},
   "outputs": [
    {
     "name": "stdout",
     "output_type": "stream",
     "text": [
      "[  -2.43   54.7     3.64 -113.2 ]\n"
     ]
    }
   ],
   "source": [
    "column_3 = A[:, 2]\n",
    "print(column_3)"
   ]
  },
  {
   "cell_type": "markdown",
   "metadata": {},
   "source": [
    "## Use array slicing to extract the first two rows as a 2D sub-array"
   ]
  },
  {
   "cell_type": "code",
   "execution_count": 3,
   "metadata": {},
   "outputs": [
    {
     "name": "stdout",
     "output_type": "stream",
     "text": [
      "[[  4.     7.    -2.43  67.1 ]]\n"
     ]
    }
   ],
   "source": [
    "first_2_rows = A[0:1, :]\n",
    "print(first_2_rows)"
   ]
  },
  {
   "cell_type": "markdown",
   "metadata": {},
   "source": [
    "## Use array slicing to extract the bottom-right $2 \\times 2$ block as a 2D sub-array"
   ]
  },
  {
   "cell_type": "code",
   "execution_count": 4,
   "metadata": {},
   "outputs": [
    {
     "name": "stdout",
     "output_type": "stream",
     "text": [
      "[[   3.64    4.11]\n",
      " [-113.2   323.22]]\n"
     ]
    }
   ],
   "source": [
    "bottom_right = A[-2:, -2:]\n",
    "print(bottom_right)"
   ]
  },
  {
   "cell_type": "markdown",
   "metadata": {},
   "source": [
    "## Use array slicing to sum the last column"
   ]
  },
  {
   "cell_type": "code",
   "execution_count": 5,
   "metadata": {},
   "outputs": [
    {
     "name": "stdout",
     "output_type": "stream",
     "text": [
      "391.1\n"
     ]
    }
   ],
   "source": [
    "last_column_sum = A[:, -1].sum()\n",
    "print(last_column_sum)"
   ]
  },
  {
   "cell_type": "markdown",
   "metadata": {},
   "source": [
    "## Compute the tranpose of `A` (search online to find the function/syntax to do this)."
   ]
  },
  {
   "cell_type": "code",
   "execution_count": 6,
   "metadata": {},
   "outputs": [
    {
     "name": "stdout",
     "output_type": "stream",
     "text": [
      "[[   4.     -4.      2.43    1.2 ]\n",
      " [   7.     64.     23.2     2.5 ]\n",
      " [  -2.43   54.7     3.64 -113.2 ]\n",
      " [  67.1    -3.33    4.11  323.22]]\n"
     ]
    }
   ],
   "source": [
    "A_transpose = A.transpose()\n",
    "print(A_transpose)"
   ]
  }
 ],
 "metadata": {
  "kernelspec": {
   "display_name": "Python 3",
   "language": "python",
   "name": "python3"
  },
  "language_info": {
   "codemirror_mode": {
    "name": "ipython",
    "version": 3
   },
   "file_extension": ".py",
   "mimetype": "text/x-python",
   "name": "python",
   "nbconvert_exporter": "python",
   "pygments_lexer": "ipython3",
   "version": "3.6.1"
  }
 },
 "nbformat": 4,
 "nbformat_minor": 2
}

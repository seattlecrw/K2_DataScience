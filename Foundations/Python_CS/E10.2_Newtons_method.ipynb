{
 "cells": [
  {
   "cell_type": "markdown",
   "metadata": {},
   "source": [
    "# Exercise 10.2 (Newton's method for root finding)\n",
    "\n",
    "Newton's method can be used to find a root $x$ of a function $f(x)$ such that\n",
    "\n",
    "$$\n",
    "f(x) = 0\n",
    "$$\n",
    "\n",
    "A Taylor series expansion of $f$ about $x_{i}$ reads:\n",
    "\n",
    "$$\n",
    "f(x_{i+1}) = f(x_{i}) + \\left. f^{\\prime} \\right|_{x_{i}} (x_{i+1} - x_{i}) +  O((x_{i+1} - x_{i})^{2})\n",
    "$$\n",
    "\n",
    "\n",
    "If we neglect the higher-order terms and set $f(x_{i+1})$ to zero, we have Newton's method:\n",
    "\n",
    "\\begin{align}\n",
    "x_{i + 1} &= - \\frac{f(x_{i})}{f^{\\prime}(x_{i})} + x_{i}\n",
    "\\\\\n",
    "x_{i} &\\leftarrow x_{i+1}\n",
    "\\end{align}\n",
    "\n",
    "In Newton's method, the above is applied iteratively until $\\left|f(x_{i + 1})\\right|$ is below a tolerance value."
   ]
  },
  {
   "cell_type": "code",
   "execution_count": 1,
   "metadata": {
    "collapsed": true
   },
   "outputs": [],
   "source": [
    "# Import numpy module\n",
    "import numpy as np\n",
    "\n",
    "# Import pytest module for exception testing\n",
    "import pytest\n",
    "\n",
    "# Import modules for plotting\n",
    "import matplotlib\n",
    "import matplotlib.pyplot as plt\n",
    "\n",
    "# Configure plots to appear inline in Jupyter notebook\n",
    "%matplotlib inline"
   ]
  },
  {
   "cell_type": "markdown",
   "metadata": {},
   "source": [
    "## Task:\n",
    "\n",
    "Develop an implementation of Newton's method, where `f` is the mathematical function, `df` is the first derivative function, `x0` is the initial guess, `tol` is the stopping tolerance, and `max_it` is the maximum number \n",
    "of iterations.\n",
    "\n",
    "Your implementation should raise an exception if the maximum number of iterations (`max_it`)\n",
    "is exceeded."
   ]
  },
  {
   "cell_type": "code",
   "execution_count": 2,
   "metadata": {
    "collapsed": true
   },
   "outputs": [],
   "source": [
    "def newton(f, df, x0, tol, max_it, verbose=False):\n",
    "    \"\"\" Implement Newton's method of finding root for a mathematical function\n",
    "    \n",
    "        Arguments:\n",
    "            * f = mathematical function for evaluating x, aka f(x)\n",
    "            * df = derivative function for f(x), aka df(x)\n",
    "            * x0 = initial guess for starting iterations\n",
    "            * tol = acceptable function value distance from 0 for stopping iterations\n",
    "            * max_it = maximum number of iterations before stopping\n",
    "            \n",
    "        Returns:\n",
    "            * x1 = Newton's method calculation for function root\n",
    "    \"\"\"\n",
    "    # Initialize iteration value to 0, x1 to initial guess\n",
    "    iterations = 0\n",
    "    x1 = x0\n",
    "    \n",
    "    # Iterate through Newton's method until reaching tolerance level or maximum iterations\n",
    "    while (abs(f(x1)) > tol):\n",
    "        if iterations > max_it:\n",
    "            raise ValueError(\"Maximum number of iterations exceeded\")\n",
    "        if df(x1) == 0:\n",
    "            raise ZeroDivisionError(\"Function derivative cannot equal zero\")\n",
    "        x1 = -(f(x1) / df(x1)) + x1\n",
    "        if verbose:\n",
    "            print(\"x = {}, f(x) = {}\".format(x1, f(x1)))\n",
    "        iterations += 1\n",
    "    \n",
    "    # Return root as calculated by Newton's method\n",
    "    return x1"
   ]
  },
  {
   "cell_type": "markdown",
   "metadata": {},
   "source": [
    "## Assignment:\n",
    "\n",
    "Use your program to find the roots of:\n",
    "    \n",
    "$$\n",
    "f(x) = \\tan(x) - 2x\n",
    "$$\n",
    "\n",
    "near $x = 1.2$"
   ]
  },
  {
   "cell_type": "markdown",
   "metadata": {},
   "source": [
    "### Define mathematical function $f(x) = tan(x) - 2x$"
   ]
  },
  {
   "cell_type": "code",
   "execution_count": 3,
   "metadata": {
    "collapsed": true
   },
   "outputs": [],
   "source": [
    "# Define mathematical function\n",
    "def f(x):\n",
    "    # Evaluate function at x and return value\n",
    "    return np.tan(x) - (2 * x)"
   ]
  },
  {
   "cell_type": "markdown",
   "metadata": {},
   "source": [
    "### Define first derivative of mathematical function $f'(x) = sec^2(x) - 2$\n",
    "\n",
    "#### Note: For programmatic ease, this function is equivalent to $f'(x) = 1/cos(x)^2 - 2$"
   ]
  },
  {
   "cell_type": "code",
   "execution_count": 4,
   "metadata": {
    "collapsed": true
   },
   "outputs": [],
   "source": [
    "# Define derivative of mathematical function\n",
    "def df(x):\n",
    "    # Evaluate df/dx at x and return value\n",
    "    return (1 / np.cos(x)**2) - 2"
   ]
  },
  {
   "cell_type": "markdown",
   "metadata": {},
   "source": [
    "### Test with valid inputs"
   ]
  },
  {
   "cell_type": "code",
   "execution_count": 5,
   "metadata": {},
   "outputs": [
    {
     "data": {
      "text/plain": [
       "-1.1655611930408862"
      ]
     },
     "execution_count": 5,
     "metadata": {},
     "output_type": "execute_result"
    }
   ],
   "source": [
    "# Test using parameter x = -1.2\n",
    "root1 = newton(f, df, -1.2, 1.0e-6, 100)\n",
    "root1"
   ]
  },
  {
   "cell_type": "code",
   "execution_count": 6,
   "metadata": {},
   "outputs": [
    {
     "data": {
      "text/plain": [
       "0"
      ]
     },
     "execution_count": 6,
     "metadata": {},
     "output_type": "execute_result"
    }
   ],
   "source": [
    "# Test using parameter x = 0\n",
    "root2 = newton(f, df, 0, 1.0e-6, 100)\n",
    "root2"
   ]
  },
  {
   "cell_type": "code",
   "execution_count": 7,
   "metadata": {},
   "outputs": [
    {
     "data": {
      "text/plain": [
       "1.1655611930408862"
      ]
     },
     "execution_count": 7,
     "metadata": {},
     "output_type": "execute_result"
    }
   ],
   "source": [
    "# Test using parameter x = 1.2\n",
    "root3 = newton(f, df, 1.2, 1.0e-6, 100)\n",
    "root3"
   ]
  },
  {
   "cell_type": "markdown",
   "metadata": {},
   "source": [
    "### Test that invalid inputs get caught (using pytest)\n",
    "\n",
    "#### Note: ZeroDivisionError will not be raised in this case, as this only occurs when the tolerance has already passed and returned from function"
   ]
  },
  {
   "cell_type": "code",
   "execution_count": 8,
   "metadata": {
    "collapsed": true
   },
   "outputs": [],
   "source": [
    "# Check that restricted number of iterations ValueError\n",
    "with pytest.raises(ValueError):\n",
    "    newton(f, df, 1.2, 1.0e-6, 1)"
   ]
  },
  {
   "cell_type": "markdown",
   "metadata": {},
   "source": [
    "### Plot $f(x)$ and $f^{\\prime}(x)$ on the same graph between $-\\pi/2$ and $\\pi/2$, and show the roots computed by Newton's method."
   ]
  },
  {
   "cell_type": "code",
   "execution_count": 9,
   "metadata": {},
   "outputs": [
    {
     "data": {
      "image/png": "[encoded data removed]",
      "text/plain": [
       "<matplotlib.figure.Figure at 0x10bb835c0>"
      ]
     },
     "metadata": {},
     "output_type": "display_data"
    }
   ],
   "source": [
    "# Define number space for plotting\n",
    "num_points = 50\n",
    "x = np.linspace(-np.pi/2, np.pi/2, num = num_points)\n",
    "\n",
    "# Plot f(x) and df(x), and add label for each\n",
    "plt.plot(x, f(x), label=\"$f(x)$\")\n",
    "plt.plot(x, df(x), label=\"$f'(x)$\")\n",
    "\n",
    "# Plot calculated roots\n",
    "plt.plot([root1, root2, root3], [0, 0, 0], 'ro', label=\"Roots\")\n",
    "\n",
    "# Label the graph\n",
    "plt.xlabel('$x$')\n",
    "plt.ylabel('Value')\n",
    "plt.title(\"Newton's Method for Root Finding\")\n",
    "\n",
    "# Add legend\n",
    "plt.legend()\n",
    "\n",
    "# Define plot limits\n",
    "plt.ylim(-1, 1);\n",
    "plt.xlim(x[0], x[-1]);"
   ]
  },
  {
   "cell_type": "markdown",
   "metadata": {},
   "source": [
    "Newton's method can be sensitive to the starting value. What happens if you start at $x = 0.9$? It may help to add a print statement in the iteration loop, showing $x$ and $f$ at each iteration.\n",
    "\n",
    "* Note: $x = 0.9$ is too far from a true root, causing the algorithm to fluctuate wildly and veer farther from the correct answer"
   ]
  },
  {
   "cell_type": "code",
   "execution_count": 10,
   "metadata": {},
   "outputs": [
    {
     "name": "stdout",
     "output_type": "stream",
     "text": [
      "x = 1.8181002473542383, f(x) = -7.597035324185375\n",
      "x = 2.3353201132969303, f(x) = -5.713285365321914\n",
      "x = 67.92318000585634, f(x) = -138.35777585317194\n",
      "x = 93.99295831480038, f(x) = -188.2464005596422\n",
      "x = -107.95606253109432, f(x) = 213.72523809054803\n",
      "x = -164.46013967152396, f(x) = 326.96846893752263\n",
      "x = -280.8370883130485, f(x) = 558.8058096058801\n",
      "x = -358.1533857040006, f(x) = 716.2949476622929\n",
      "x = 358.2417146829099, f(x) = -716.3829409857734\n",
      "x = -365.4489932132657, f(x) = 729.2542489118345\n",
      "x = -793.9499692156928, f(x) = 1589.092436571932\n"
     ]
    }
   ],
   "source": [
    "# Run Newton's method starting at x = 0.9\n",
    "with pytest.raises(ValueError):\n",
    "    newton(f, df, 0.9, 1.0e-6, 10, verbose=True)"
   ]
  },
  {
   "cell_type": "markdown",
   "metadata": {},
   "source": [
    "### Extension (optional)\n",
    "\n",
    "For a complicated function we might not know how to compute the derivative, or it may be very complicated\n",
    "to evaluate. Write a function that computes the *numerical derivative* of $f(x)$ by evaluating \n",
    "$(f(x + dx) - f(x - dx)) / (2dx)$, where $dx$ is small. How should you choose $dx$?"
   ]
  },
  {
   "cell_type": "code",
   "execution_count": 11,
   "metadata": {
    "collapsed": true
   },
   "outputs": [],
   "source": [
    "# Define numeric derivative of mathematical function\n",
    "def numeric_df(x):\n",
    "    # Evaluate df/dx at x and return value\n",
    "    dx = 0.01\n",
    "    return (f(x + dx) - f(x - dx)) / (2 * dx)"
   ]
  },
  {
   "cell_type": "code",
   "execution_count": 12,
   "metadata": {},
   "outputs": [
    {
     "data": {
      "text/plain": [
       "1.1655612379180718"
      ]
     },
     "execution_count": 12,
     "metadata": {},
     "output_type": "execute_result"
    }
   ],
   "source": [
    "# Test using parameter x = 1.2\n",
    "newton(f, numeric_df, 1.2, 1.0e-6, 100)"
   ]
  }
 ],
 "metadata": {
  "kernelspec": {
   "display_name": "Python 3",
   "language": "python",
   "name": "python3"
  },
  "language_info": {
   "codemirror_mode": {
    "name": "ipython",
    "version": 3
   },
   "file_extension": ".py",
   "mimetype": "text/x-python",
   "name": "python",
   "nbconvert_exporter": "python",
   "pygments_lexer": "ipython3",
   "version": "3.6.1"
  }
 },
 "nbformat": 4,
 "nbformat_minor": 2
}

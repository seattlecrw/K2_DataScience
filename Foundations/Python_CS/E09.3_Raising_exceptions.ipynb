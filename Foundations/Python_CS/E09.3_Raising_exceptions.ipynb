{
 "cells": [
  {
   "cell_type": "markdown",
   "metadata": {},
   "source": [
    "# Exercise 09.3 (raising exceptions)\n",
    "\n",
    "Modify your program from the bisection exercise in Activity 04 to raise an error if the maximum number of iterations is exceeded. Reduce the maximum allowed iterations to test that an exception is raised.\n",
    "\n",
    "Add any other checks on the input data that you think are appropriate."
   ]
  },
  {
   "cell_type": "code",
   "execution_count": 1,
   "metadata": {
    "collapsed": true
   },
   "outputs": [],
   "source": [
    "# Import numpy module for solving polynomial functions\n",
    "import numpy as np\n",
    "\n",
    "# Import pytest module for exception testing\n",
    "import pytest"
   ]
  },
  {
   "cell_type": "markdown",
   "metadata": {},
   "source": [
    "### Define function to create polynomial from specified coefficients"
   ]
  },
  {
   "cell_type": "code",
   "execution_count": 2,
   "metadata": {
    "collapsed": true
   },
   "outputs": [],
   "source": [
    "# Create a polynomial function\n",
    "def create_f(coefficients):\n",
    "    \"\"\" Creates a polynomial function\n",
    "        \n",
    "        Arguments:\n",
    "            coefficients = list containing coefficients of the polynomial\n",
    "            note: length of the coefficients list will determine the degree of the polynomial\n",
    "            \n",
    "        Returns:\n",
    "            polynomial function (through numpy module)\n",
    "    \"\"\"\n",
    "    return np.poly1d(coefficients)"
   ]
  },
  {
   "cell_type": "markdown",
   "metadata": {},
   "source": [
    "### Define function to compute root using bisection algorithm (with error testing)"
   ]
  },
  {
   "cell_type": "code",
   "execution_count": 3,
   "metadata": {
    "collapsed": true
   },
   "outputs": [],
   "source": [
    "def compute_root(f, x0, x1, tol=1.0e-6, max_it=15):\n",
    "    \"\"\" Use the bisection method to find an approximate root within threshold or maximum number of iterations\n",
    "        \n",
    "        Arguments:\n",
    "            f = Function (created by create_f)\n",
    "            x0 = First starting point of the root estimation method\n",
    "            x1 = Second starting point of the root estimation method\n",
    "            tol = Upper limit for the function value at the approximated root\n",
    "            max_it = Maximum number of iterations to compute approximate root\n",
    "            \n",
    "        Return:\n",
    "            x = Approximate root\n",
    "            f(x) = Value of f(x)\n",
    "            num_it = Number of iterations\n",
    "    \"\"\"\n",
    "    # Define midpoint of starting points and initialize iteration counts\n",
    "    x = (x0 + x1)/2\n",
    "    num_it = 0\n",
    "    \n",
    "    # Ensure that the tolerance is between x0 and x1 (note: should be near 0)\n",
    "    if (tol < f(x0)) or (tol > f(x1)):\n",
    "            raise ValueError(\"Initial f(x0) and f(x1) must surround tolerance (which should be near 0).\")\n",
    "    \n",
    "    # Approximate root within specified threshold, counting iterations\n",
    "    while (abs(f(x)) > tol):\n",
    "        if num_it > max_it:\n",
    "            raise ValueError(\"Maximum number of iterations exceeded\")\n",
    "        x = (x0 + x1)/2\n",
    "        if (f(x0) * f(x)) < 0:\n",
    "            x1 = x\n",
    "        else:\n",
    "            x0 = x\n",
    "        num_it += 1\n",
    "\n",
    "    # Return approximate root and number of required iterations\n",
    "    return x, f(x), num_it"
   ]
  },
  {
   "cell_type": "markdown",
   "metadata": {},
   "source": [
    "$$\n",
    "f(x) = x^3 - 6x^2 + 4x + 12\n",
    "$$\n",
    "\n",
    "This function has one root somewhere between $x_0 = 3$ and $x_1 = 6$. Set tolerance to $\\left| f(x_{r}) \\right| < 1 \\times 10^{-6}$ and 100 maximum iterations. "
   ]
  },
  {
   "cell_type": "code",
   "execution_count": 4,
   "metadata": {},
   "outputs": [
    {
     "name": "stdout",
     "output_type": "stream",
     "text": [
      "Approximate root: 4.534070134162903, Function value: -7.047073680155336e-07, Number of iterations: 23\n"
     ]
    }
   ],
   "source": [
    "# Create polynomial function\n",
    "f = create_f([1, -6, 4, 12])\n",
    "\n",
    "# Compute root function with valid inputs\n",
    "root, function_value, iterations = compute_root(f, 3, 6, tol=1.0e-6, max_it=100)\n",
    "print(\"Approximate root: {}, Function value: {}, Number of iterations: {}\".format(root, function_value, iterations))"
   ]
  },
  {
   "cell_type": "markdown",
   "metadata": {},
   "source": [
    "### Use pytest to ensure that max_it error is triggered"
   ]
  },
  {
   "cell_type": "code",
   "execution_count": 5,
   "metadata": {
    "collapsed": true
   },
   "outputs": [],
   "source": [
    "# Check that max_it = 1 raises a ValueError\n",
    "with pytest.raises(ValueError):\n",
    "    root, function_value, iterations = compute_root(f, 3, 6, tol=1.0e-6, max_it=1)\n",
    "\n",
    "# Check that max_it = 5 raises a ValueError\n",
    "with pytest.raises(ValueError):\n",
    "    root, function_value, iterations = compute_root(f, 3, 6, tol=1.0e-6, max_it=5)\n",
    "    \n",
    "# Check that max_it = 10 raises a ValueError\n",
    "with pytest.raises(ValueError):\n",
    "    root, function_value, iterations = compute_root(f, 3, 6, tol=1.0e-6, max_it=10)"
   ]
  },
  {
   "cell_type": "markdown",
   "metadata": {},
   "source": [
    "### Use pytest to ensure that tolerance error is triggered"
   ]
  },
  {
   "cell_type": "code",
   "execution_count": 6,
   "metadata": {
    "collapsed": true
   },
   "outputs": [],
   "source": [
    "# Check that max_it = 1 raises a ValueError\n",
    "with pytest.raises(ValueError):\n",
    "    root, function_value, iterations = compute_root(f, -5, -3, tol=1.0e-6, max_it=100)\n",
    "\n",
    "# Check that max_it = 5 raises a ValueError\n",
    "with pytest.raises(ValueError):\n",
    "    root, function_value, iterations = compute_root(f, 30, 600, tol=1.0e-6, max_it=100)\n",
    "    \n",
    "# Check that max_it = 10 raises a ValueError\n",
    "with pytest.raises(ValueError):\n",
    "    root, function_value, iterations = compute_root(f, 7, 7.5, tol=1.0e-6, max_it=100)"
   ]
  }
 ],
 "metadata": {
  "kernelspec": {
   "display_name": "Python 3",
   "language": "python",
   "name": "python3"
  },
  "language_info": {
   "codemirror_mode": {
    "name": "ipython",
    "version": 3
   },
   "file_extension": ".py",
   "mimetype": "text/x-python",
   "name": "python",
   "nbconvert_exporter": "python",
   "pygments_lexer": "ipython3",
   "version": "3.6.1"
  }
 },
 "nbformat": 4,
 "nbformat_minor": 2
}

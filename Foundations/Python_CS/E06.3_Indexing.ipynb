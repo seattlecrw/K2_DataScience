{
 "cells": [
  {
   "cell_type": "markdown",
   "metadata": {},
   "source": [
    "# Exercise 06.3 (indexing)\n",
    "\n",
    "Write a function that uses list indexing to add two vectors of arbitrary length, and returns the new vector. Include a check that the vector sizes match, and print a warning message if there is a size mismatch. The more error information you provide, the easier it would be for someone using your function to debug their code.\n",
    "\n",
    "Add some tests of your code.\n",
    "\n",
    "*Hint*: You can create a list of zeros of length `n` by\n",
    "\n",
    "    z = [0]*n"
   ]
  },
  {
   "cell_type": "code",
   "execution_count": 1,
   "metadata": {
    "collapsed": true
   },
   "outputs": [],
   "source": [
    "def add_vectors(v1, v2):\n",
    "    \"\"\" Adds two vectors of arbitrary length, checking that the vector sizes match \"\"\"\n",
    "    # Check that vector sizes match\n",
    "    if len(v1) > len(v2):\n",
    "        print(\"Warning! First vector has {} elements, while second only has {}!\".format(len(v1), len(v2)))\n",
    "        return\n",
    "    elif len(v2) > len(v1):\n",
    "        print(\"Warning! Second vector has {} elements, while first only has {}!\".format(len(v2), len(v1)))\n",
    "        return\n",
    "        \n",
    "    # Use list indexing to add the two vectors\n",
    "    v_sum = [None]*len(v1)\n",
    "    for i in range(len(v_sum)):\n",
    "        v_sum[i] = v1[i] + v2[i]\n",
    "    return v_sum"
   ]
  },
  {
   "cell_type": "markdown",
   "metadata": {},
   "source": [
    "### Test code with both functional and error-inducing arguments"
   ]
  },
  {
   "cell_type": "code",
   "execution_count": 2,
   "metadata": {},
   "outputs": [
    {
     "data": {
      "text/plain": [
       "[4, 6, 8]"
      ]
     },
     "execution_count": 2,
     "metadata": {},
     "output_type": "execute_result"
    }
   ],
   "source": [
    "# Test with functional arguments\n",
    "v1 = [1, 2, 3]\n",
    "v2 = [3, 4, 5]\n",
    "add_vectors(v1, v2)"
   ]
  },
  {
   "cell_type": "code",
   "execution_count": 3,
   "metadata": {},
   "outputs": [
    {
     "name": "stdout",
     "output_type": "stream",
     "text": [
      "Warning! First vector has 4 elements, while second only has 2!\n"
     ]
    }
   ],
   "source": [
    "# Test with v1 longer than v2\n",
    "v1 = [1, 2, 3, 4]\n",
    "v2 = [5, 6]\n",
    "add_vectors(v1, v2)"
   ]
  },
  {
   "cell_type": "code",
   "execution_count": 4,
   "metadata": {},
   "outputs": [
    {
     "name": "stdout",
     "output_type": "stream",
     "text": [
      "Warning! Second vector has 4 elements, while first only has 2!\n"
     ]
    }
   ],
   "source": [
    "# Test with v2 longer than v1\n",
    "v1 = [1, 2]\n",
    "v2 = [3, 4, 5, 6]\n",
    "add_vectors(v1, v2)"
   ]
  },
  {
   "cell_type": "markdown",
   "metadata": {},
   "source": [
    "*Optional (advanced):* Try writing a one-line version of this operation using list comprehension and the built-in function [`zip`](https://docs.python.org/3/library/functions.html#zip)."
   ]
  },
  {
   "cell_type": "code",
   "execution_count": 5,
   "metadata": {},
   "outputs": [
    {
     "data": {
      "text/plain": [
       "[4, 6, 8]"
      ]
     },
     "execution_count": 5,
     "metadata": {},
     "output_type": "execute_result"
    }
   ],
   "source": [
    "# Test with functional arguments\n",
    "v1 = [1, 2, 3]\n",
    "v2 = [3, 4, 5]\n",
    "v_sum = [a[0] + a[1] for a in zip(v1, v2)]\n",
    "v_sum"
   ]
  }
 ],
 "metadata": {
  "kernelspec": {
   "display_name": "Python 3",
   "language": "python",
   "name": "python3"
  },
  "language_info": {
   "codemirror_mode": {
    "name": "ipython",
    "version": 3
   },
   "file_extension": ".py",
   "mimetype": "text/x-python",
   "name": "python",
   "nbconvert_exporter": "python",
   "pygments_lexer": "ipython3",
   "version": "3.6.1"
  }
 },
 "nbformat": 4,
 "nbformat_minor": 2
}

{
 "cells": [
  {
   "cell_type": "markdown",
   "metadata": {},
   "source": [
    "# Exercise 07.4 (optional extension)\n",
    "\n",
    "In a previous exercise you implemented the bisection algorithm to find approximate roots of the function:\n",
    "\n",
    "$$\n",
    "f(x) = x^3 - 6x^2 + 4x + 12\n",
    "$$\n",
    "\n",
    "This function has one root somewhere between $x_0 = 3$ and $x_1 = 6$."
   ]
  },
  {
   "cell_type": "code",
   "execution_count": 1,
   "metadata": {
    "collapsed": true
   },
   "outputs": [],
   "source": [
    "# Import numpy module and scipy bisect method\n",
    "import numpy as np\n",
    "from scipy.optimize import bisect\n",
    "\n",
    "# Create polynomial using coefficients of function above:\n",
    "f = np.poly1d([1, -6, 4, 12])"
   ]
  },
  {
   "cell_type": "markdown",
   "metadata": {},
   "source": [
    "Use the SciPy bisection function `optimize.bisect` (http://docs.scipy.org/doc/scipy-0.14.0/reference/generated/scipy.optimize.bisect.html) to find roots of the mathematical function that was used in the previous exercise. Compare the results computed by SciPy and your program from the earlier exercise, and compare the computational time (using `%time`)."
   ]
  },
  {
   "cell_type": "code",
   "execution_count": 2,
   "metadata": {},
   "outputs": [
    {
     "name": "stdout",
     "output_type": "stream",
     "text": [
      "CPU times: user 888 µs, sys: 251 µs, total: 1.14 ms\n",
      "Wall time: 908 µs\n",
      "4.534070196722951\n"
     ]
    }
   ],
   "source": [
    "# Test SciPy results and timing\n",
    "%time root = bisect(f, a = 3, b = 6)\n",
    "print(root)"
   ]
  },
  {
   "cell_type": "code",
   "execution_count": 3,
   "metadata": {},
   "outputs": [
    {
     "name": "stdout",
     "output_type": "stream",
     "text": [
      "CPU times: user 774 µs, sys: 237 µs, total: 1.01 ms\n",
      "Wall time: 814 µs\n",
      "4.534149169921875\n"
     ]
    }
   ],
   "source": [
    "# Bring in previous bisection function\n",
    "def compute_root(f, x0, x1, tol=1.0e-6, max_it=15):\n",
    "    \"\"\" Use the bisection method to find an approximate root within threshold or maximum number of iterations\n",
    "        \n",
    "        Arguments:\n",
    "            f = Function (created by create_f)\n",
    "            x0 = First starting point of the root estimation method\n",
    "            x1 = Second starting point of the root estimation method\n",
    "            tol = Upper limit for the function value at the approximated root\n",
    "            max_it = Maximum number of iterations to compute approximate root\n",
    "            \n",
    "        Return:\n",
    "            x = Approximate root\n",
    "            f(x) = Value of f(x)\n",
    "            num_it = Number of iterations\n",
    "    \"\"\"\n",
    "    # Define midpoint of starting points and initialize iteration counts\n",
    "    x = (x0 + x1)/2\n",
    "    num_it = 0\n",
    "    \n",
    "    # Approximate root within specified threshold, counting iterations\n",
    "    while (abs(f(x)) > tol) and (num_it < max_it):\n",
    "        x = (x0 + x1)/2\n",
    "        if (f(x0) * f(x)) < 0:\n",
    "            x1 = x\n",
    "        else:\n",
    "            x0 = x\n",
    "        num_it += 1\n",
    "\n",
    "    # Return approximate root and number of required iterations\n",
    "    return x, f(x), num_it\n",
    "\n",
    "# Test results and timing\n",
    "%time root = compute_root(f, x0 = 3, x1 = 6)\n",
    "print(root[0])"
   ]
  }
 ],
 "metadata": {
  "kernelspec": {
   "display_name": "Python 3",
   "language": "python",
   "name": "python3"
  },
  "language_info": {
   "codemirror_mode": {
    "name": "ipython",
    "version": 3
   },
   "file_extension": ".py",
   "mimetype": "text/x-python",
   "name": "python",
   "nbconvert_exporter": "python",
   "pygments_lexer": "ipython3",
   "version": "3.6.1"
  }
 },
 "nbformat": 4,
 "nbformat_minor": 2
}

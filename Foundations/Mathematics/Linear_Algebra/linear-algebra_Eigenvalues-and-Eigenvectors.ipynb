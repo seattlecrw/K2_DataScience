{
 "cells": [
  {
   "cell_type": "markdown",
   "metadata": {},
   "source": [
    "# Linear Algebra\n",
    "Although its name may sound harmless, Linear Algebra is by no means a trivial branch of mathematics, and the deeper you dive into Data Science and Statistics, the more often you will encounter its concepts.  In this exercise, we'll start with some basic operations on matrices and vectors, then move onto Eigenvalues and Eigenvectors, and conclude with some Matrix Decompositions."
   ]
  },
  {
   "cell_type": "code",
   "execution_count": 1,
   "metadata": {
    "collapsed": true
   },
   "outputs": [],
   "source": [
    "# Import modules\n",
    "import numpy as np\n",
    "import numpy.linalg as LA\n",
    "import matplotlib.pyplot as plt\n",
    "import math\n",
    "\n",
    "# Configure Jupyter notebook \n",
    "%matplotlib inline"
   ]
  },
  {
   "cell_type": "markdown",
   "metadata": {},
   "source": [
    "## Eigenvalues and Eigenvectors\n",
    "No discussion of Linear Algebra would be complete without taking a look at Eigenvalues and Eigenvectors.  The root word \"eigen\" comes from the German meaning \"characteristic\", and these values and associated vectors, represent some interesting properties of a given matrix.  Namely, for a given matrix $\\textbf{A}$ and vector $\\vec{v}$, the eigenvalue(s), $\\lambda$, of $\\textbf{A}$, are the $\\lambda$ that satisfy the relationship $$\\textbf{A} \\vec{v} = \\lambda \\vec{v}$$ Keep in mind that $\\lambda$ is a *scalar* quantity, and when you multiply a vector by a scalar quantity, you just scale, or stretch, the vector in space.  Therefore, the above relationship says that the eigenvalues $\\lambda$ of $\\textbf{A}$, and associated eigenvectors $\\vec{v}$, are the vectors that when multiplied by $\\textbf{A}$ just \"stretch\" in space (no rotations).\n",
    "\n",
    "Now that may not sound very special, but the applicability of these concepts cannot be understated.  Eigenvalues and vectors have a tendency to crop up in any mathematically grounded discipline and Data Science is no exception.\n",
    "\n",
    "For a more detailed explanation, see \n",
    "- [Great math formula explanation](http://www.visiondummy.com/2014/03/eigenvalues-eigenvectors/)\n",
    "- [Visual explanation of Eigenvectors and Eigenvalues](http://setosa.io/ev/eigenvectors-and-eigenvalues/)\n",
    "\n",
    "before proceding with the following exercises."
   ]
  },
  {
   "cell_type": "markdown",
   "metadata": {},
   "source": [
    "1. Generate a matrix $$\\textbf{A} = \\begin{bmatrix} 0 & 1 \\\\ -2 & -3 \\end{bmatrix}$$ and two vectors of your choosing, labeled $\\vec{v}_1$ and $\\vec{v}_2$.  Then compute the vectors $$\\vec{v}_1' = \\textbf{A}\\vec{v}_1$$ $$\\vec{v}_2' = \\textbf{A}\\vec{v}_2$$ And plot all 4 vectors with appropriate labels.  Comment on your results.\n",
    "1. Now compute the eigenvalues and eigenvectors of $\\textbf{A}$, then plot $\\textbf{A}\\vec{v}$ and $\\lambda\\vec{v}$ on seperate plots, where $\\lambda$ is the eigenvalue of $\\textbf{A}$.  Comment on your results.\n",
    "1. How do the results of part (2) differ from part (1)?\n",
    "1. Define a new 3x3 matrix of the form $$\\textbf{A} = \\begin{bmatrix} -2 & -4 & 2 \\\\ -2 & 1 & 2 \\\\ 4 & 2 & 5 \\end{bmatrix}$$ and compute the eigenvalues and vectors.  What can you say about the number of eigenvectors in your results?\n",
    "1. Define a new 3x3 matrix of the form $$\\textbf{B} = \\begin{bmatrix} -2 & -4 & 2 \\\\ -2 & 1 & 2 \\\\ 1 & 2 & -1 \\end{bmatrix}$$ and compute the eigenvalues and vectors.  What can you say about the eigenvalues in your results?  Do they differ from what you saw in part (4)?\n",
    "1. Compute the inverse of $\\textbf{A}$ and $\\textbf{B}$ above.  Comment on your results.\n",
    "1. Compute the determinant of $\\textbf{A}$ and $\\textbf{B}$.  How might your results relate to the eigen values you computed above?\n",
    "1. Consider the rotation matrix $$\\textbf{R} = \\begin{bmatrix} cos(\\theta) & sin(\\theta) \\\\ -sin(\\theta) & cos(\\theta)\\end{bmatrix}$$.  Using a value of $\\theta = 90$, compute the inner product of the columns, $\\textbf{R}^T$, $\\textbf{R}^{-1}$, $det(\\textbf{R})$, and the eigenvalues and eigenvectors.  Comment on your results."
   ]
  },
  {
   "cell_type": "markdown",
   "metadata": {
    "collapsed": true
   },
   "source": [
    "### Question 1\n",
    "A. Generate a matrix $$\\textbf{A} = \\begin{bmatrix} 0 & 1 \\\\ -2 & -3 \\end{bmatrix}$$ and two vectors of your choosing, labeled $\\vec{v}_1$ and $\\vec{v}_2$."
   ]
  },
  {
   "cell_type": "code",
   "execution_count": 2,
   "metadata": {
    "collapsed": true
   },
   "outputs": [],
   "source": [
    "# Generate a matrix A and vectors v1 and v2\n",
    "A = np.matrix([[0, 1], [-2, -3]])\n",
    "v1 = np.matrix([[2], [3]])\n",
    "v2 = np.matrix([[-1], [4]])"
   ]
  },
  {
   "cell_type": "markdown",
   "metadata": {},
   "source": [
    "B. Compute the vectors $$\\vec{v}_1' = \\textbf{A}\\vec{v}_1$$ $$\\vec{v}_2' = \\textbf{A}\\vec{v}_2$$"
   ]
  },
  {
   "cell_type": "code",
   "execution_count": 3,
   "metadata": {
    "collapsed": true
   },
   "outputs": [],
   "source": [
    "# Compute the vectors v1' = Av1 and v2' = Av2\n",
    "v1_prime = A * v1\n",
    "v2_prime = A * v2"
   ]
  },
  {
   "cell_type": "markdown",
   "metadata": {},
   "source": [
    "C. Plot all 4 vectors with appropriate labels."
   ]
  },
  {
   "cell_type": "code",
   "execution_count": 4,
   "metadata": {},
   "outputs": [
    {
     "data": {
      "image/png": "[encoded data removed]",
      "text/plain": [
       "<matplotlib.figure.Figure at 0x1098a7dd8>"
      ]
     },
     "metadata": {},
     "output_type": "display_data"
    }
   ],
   "source": [
    "# Create data structure for plotting\n",
    "vectors = [np.insert(x, 0, [0, 0]) for x in [v1.getA1(), v1_prime.getA1(), v2.getA1(), v2_prime.getA1()]]\n",
    "labels = ['v1', 'v1_prime', 'v2', 'v2_prime']\n",
    "colors = ['red', 'blue', 'green', 'purple']\n",
    "\n",
    "# Plot using quiver\n",
    "plt.figure()\n",
    "ax = plt.gca()\n",
    "\n",
    "for i in range(len(vectors)):\n",
    "    X, Y, U, V = vectors[i]\n",
    "    Q = ax.quiver(X, Y, U, V, angles = 'xy', scale_units = 'xy', scale = 1, color = colors[i], label = labels[i])\n",
    "ax.legend(labels, loc = 'lower right')\n",
    "ax.set_xlim([-2, 6])\n",
    "ax.set_ylim([-20, 6])\n",
    "\n",
    "# Adjust splines\n",
    "ax = plt.gca()\n",
    "ax.spines['right'].set_color('none')\n",
    "ax.spines['top'].set_color('none')\n",
    "ax.xaxis.set_ticks_position('bottom')\n",
    "ax.spines['bottom'].set_position(['data', 0])\n",
    "ax.yaxis.set_ticks_position('left')\n",
    "ax.spines['left'].set_position(['data', 0])\n",
    "\n",
    "# Show plot\n",
    "plt.show()"
   ]
  },
  {
   "cell_type": "markdown",
   "metadata": {},
   "source": [
    "D. Comment on your results.\n",
    "* Multiplication by the matrix $A$ rotated vectors $v1$ and $v2$."
   ]
  },
  {
   "cell_type": "markdown",
   "metadata": {},
   "source": [
    "### Question 2\n",
    "\n",
    "A. Compute the eigenvalues and eigenvectors of matrix $A$."
   ]
  },
  {
   "cell_type": "code",
   "execution_count": 5,
   "metadata": {},
   "outputs": [
    {
     "name": "stdout",
     "output_type": "stream",
     "text": [
      "Eigenvalues:\n",
      "[-1. -2.]\n",
      "\n",
      "Eigenvectors:\n",
      "[[ 0.70710678 -0.4472136 ]\n",
      " [-0.70710678  0.89442719]]\n"
     ]
    }
   ],
   "source": [
    "# Compute the eigenvalues and eigenvectors of A\n",
    "lambdas, evecs = LA.eig(A)\n",
    "\n",
    "# Print results\n",
    "print(\"Eigenvalues:\")\n",
    "print(lambdas)\n",
    "print(\"\\nEigenvectors:\")\n",
    "print(evecs)"
   ]
  },
  {
   "cell_type": "markdown",
   "metadata": {},
   "source": [
    "B. Plot $\\textbf{A}\\vec{v}$"
   ]
  },
  {
   "cell_type": "code",
   "execution_count": 6,
   "metadata": {},
   "outputs": [
    {
     "data": {
      "image/png": "[encoded data removed]",
      "text/plain": [
       "<matplotlib.figure.Figure at 0x109981e48>"
      ]
     },
     "metadata": {},
     "output_type": "display_data"
    }
   ],
   "source": [
    "# Create data structure for plotting\n",
    "vectors = [np.insert(x, 0, [0, 0]) for x in [evecs.transpose()[0].getA1(), (A*evecs).transpose()[0].getA1(),\n",
    "                                             evecs.transpose()[1].getA1(), (A*evecs).transpose()[1].getA1()]]\n",
    "labels = ['e_vec1', 'A*e_vec1', 'e_vec2', 'A*e_vec2']\n",
    "colors = ['red', 'blue', 'green', 'purple']\n",
    "\n",
    "# Plot using quiver\n",
    "plt.figure()\n",
    "plt.title('Av')\n",
    "ax = plt.gca()\n",
    "\n",
    "for i in range(len(vectors)):\n",
    "    X, Y, U, V = vectors[i]\n",
    "    Q = ax.quiver(X, Y, U, V, angles = 'xy', scale_units = 'xy', scale = 1, color = colors[i], label = labels[i])\n",
    "ax.legend(labels, loc = 'lower right')\n",
    "ax.set_xlim([-2, 2])\n",
    "ax.set_ylim([-2, 2])\n",
    "\n",
    "# Adjust splines\n",
    "ax = plt.gca()\n",
    "ax.spines['right'].set_color('none')\n",
    "ax.spines['top'].set_color('none')\n",
    "ax.xaxis.set_ticks_position('bottom')\n",
    "ax.spines['bottom'].set_position(['data', 0])\n",
    "ax.yaxis.set_ticks_position('left')\n",
    "ax.spines['left'].set_position(['data', 0])\n",
    "\n",
    "# Show plot\n",
    "plt.show()"
   ]
  },
  {
   "cell_type": "markdown",
   "metadata": {},
   "source": [
    "C. Plot $\\lambda\\vec{v}$"
   ]
  },
  {
   "cell_type": "code",
   "execution_count": 7,
   "metadata": {},
   "outputs": [
    {
     "data": {
      "image/png": "[encoded data removed]",
      "text/plain": [
       "<matplotlib.figure.Figure at 0x109a4fa58>"
      ]
     },
     "metadata": {},
     "output_type": "display_data"
    }
   ],
   "source": [
    "# Create data structure for plotting\n",
    "vectors = [np.insert(x, 0, [0, 0]) for x in [evecs.transpose()[0].getA1(), (lambdas[0]*evecs).transpose()[0].getA1(),\n",
    "                                             evecs.transpose()[1].getA1(), (lambdas[1]*evecs).transpose()[1].getA1()]]\n",
    "labels = ['e_vec1', 'lambda1*e_vec1', 'e_vec2', 'lambda2*e_vec2']\n",
    "colors = ['red', 'blue', 'green', 'purple']\n",
    "\n",
    "# Plot using quiver\n",
    "plt.figure()\n",
    "plt.title('lv')\n",
    "ax = plt.gca()\n",
    "\n",
    "for i in range(len(vectors)):\n",
    "    X, Y, U, V = vectors[i]\n",
    "    Q = ax.quiver(X, Y, U, V, angles = 'xy', scale_units = 'xy', scale = 1, color = colors[i], label = labels[i])\n",
    "ax.legend(labels, loc = 'upper right')\n",
    "ax.set_xlim([-2, 2])\n",
    "ax.set_ylim([-2, 2])\n",
    "\n",
    "# Adjust splines\n",
    "ax = plt.gca()\n",
    "ax.spines['right'].set_color('none')\n",
    "ax.spines['top'].set_color('none')\n",
    "ax.xaxis.set_ticks_position('bottom')\n",
    "ax.spines['bottom'].set_position(['data', 0])\n",
    "ax.yaxis.set_ticks_position('left')\n",
    "ax.spines['left'].set_position(['data', 0])\n",
    "\n",
    "# Show plot\n",
    "plt.show()"
   ]
  },
  {
   "cell_type": "markdown",
   "metadata": {},
   "source": [
    "D. Comment on your results.\n",
    "* Multiplying the eigenvectors times the matrix is equivalent to multiplying the eigenvectors to the eigenvalues."
   ]
  },
  {
   "cell_type": "markdown",
   "metadata": {},
   "source": [
    "### Question 3"
   ]
  },
  {
   "cell_type": "markdown",
   "metadata": {
    "collapsed": true
   },
   "source": [
    "#### How do the results of part (2) differ from part (1)?\n",
    "* Part (1) transformed the matrix, rotating the result in space. However, the eigenvectors and eigenvalues did not rotate the matrix but only scaled the result in space along the same vectors."
   ]
  },
  {
   "cell_type": "markdown",
   "metadata": {},
   "source": [
    "### Question 4\n",
    "\n",
    "Define a new 3x3 matrix of the form $$\\textbf{A} = \\begin{bmatrix} -2 & -4 & 2 \\\\ -2 & 1 & 2 \\\\ 4 & 2 & 5 \\end{bmatrix}$$ and compute the eigenvalues and vectors."
   ]
  },
  {
   "cell_type": "code",
   "execution_count": 8,
   "metadata": {},
   "outputs": [
    {
     "name": "stdout",
     "output_type": "stream",
     "text": [
      "Eigenvalues:\n",
      "[-5.  3.  6.]\n",
      "\n",
      "Eigenvectors:\n",
      "[[ 0.81649658  0.53452248  0.05842062]\n",
      " [ 0.40824829 -0.80178373  0.35052374]\n",
      " [-0.40824829 -0.26726124  0.93472998]]\n"
     ]
    }
   ],
   "source": [
    "# Define new 3x3 matrix A\n",
    "A = np.matrix([[-2, -4, 2], [-2, 1, 2], [4, 2, 5]])\n",
    "\n",
    "# Compute eigenvectors and eigenvalues\n",
    "evals_A, evecs_A = LA.eig(A)\n",
    "\n",
    "# Print results\n",
    "print(\"Eigenvalues:\")\n",
    "print(evals_A)\n",
    "print(\"\\nEigenvectors:\")\n",
    "print(evecs_A)"
   ]
  },
  {
   "cell_type": "markdown",
   "metadata": {},
   "source": [
    "#### What can you say about the number of eigenvectors in your results?\n",
    "* The matrix has the same number of eigenvectors as its dimension."
   ]
  },
  {
   "cell_type": "markdown",
   "metadata": {},
   "source": [
    "### Question 5\n",
    "\n",
    "Define a new 3x3 matrix of the form $$\\textbf{B} = \\begin{bmatrix} -2 & -4 & 2 \\\\ -2 & 1 & 2 \\\\ 1 & 2 & -1 \\end{bmatrix}$$ and compute the eigenvalues and vectors."
   ]
  },
  {
   "cell_type": "code",
   "execution_count": 9,
   "metadata": {},
   "outputs": [
    {
     "name": "stdout",
     "output_type": "stream",
     "text": [
      "Eigenvalues:\n",
      "[ -5.00000000e+00   1.45716772e-16   3.00000000e+00]\n",
      "\n",
      "Eigenvectors:\n",
      "[[  8.16496581e-01   7.07106781e-01  -5.34522484e-01]\n",
      " [  4.08248290e-01  -1.18308270e-16   8.01783726e-01]\n",
      " [ -4.08248290e-01   7.07106781e-01   2.67261242e-01]]\n"
     ]
    }
   ],
   "source": [
    "# Define new 3x3 matrix A\n",
    "B = np.matrix([[-2, -4, 2], [-2, 1, 2], [1, 2, -1]])\n",
    "\n",
    "# Compute eigenvectors and eigenvalues\n",
    "evals_B, evecs_B = LA.eig(B)\n",
    "\n",
    "# Print results\n",
    "print(\"Eigenvalues:\")\n",
    "print(evals_B)\n",
    "print(\"\\nEigenvectors:\")\n",
    "print(evecs_B)"
   ]
  },
  {
   "cell_type": "markdown",
   "metadata": {},
   "source": [
    "#### What can you say about the number of eigenvectors in your results? Do they differ from part (4)?\n",
    "* One eigenvector of this matrix is 0, within floating point error. This was not the case in part (4)."
   ]
  },
  {
   "cell_type": "markdown",
   "metadata": {},
   "source": [
    "### Question 6\n",
    "\n",
    "Compute the inverse of $\\textbf{A}$ and $\\textbf{B}$ above."
   ]
  },
  {
   "cell_type": "code",
   "execution_count": 10,
   "metadata": {},
   "outputs": [
    {
     "name": "stdout",
     "output_type": "stream",
     "text": [
      "[[-0.01111111 -0.26666667  0.11111111]\n",
      " [-0.2         0.2        -0.        ]\n",
      " [ 0.08888889  0.13333333  0.11111111]]\n"
     ]
    }
   ],
   "source": [
    "# Compute the inverse of A\n",
    "try:\n",
    "    A_inv = LA.inv(A)\n",
    "    print(A_inv)\n",
    "except:\n",
    "    print(\"Singular matrix.\")"
   ]
  },
  {
   "cell_type": "code",
   "execution_count": 11,
   "metadata": {},
   "outputs": [
    {
     "name": "stdout",
     "output_type": "stream",
     "text": [
      "Singular matrix.\n"
     ]
    }
   ],
   "source": [
    "# Compute the inverse of B\n",
    "try:\n",
    "    B_inv = LA.inv(B)\n",
    "    print(B_inv)\n",
    "except:\n",
    "    print(\"Singular matrix.\")"
   ]
  },
  {
   "cell_type": "markdown",
   "metadata": {},
   "source": [
    "#### Comment on your results.\n",
    "* The matrix that had the same number of non-zero eigenvectors as dimensions is invertible, but not the matrix with one eigenvector equal to zero."
   ]
  },
  {
   "cell_type": "markdown",
   "metadata": {},
   "source": [
    "### Question 7\n",
    "\n",
    "Compute the determinant of $\\textbf{A}$ and $\\textbf{B}$."
   ]
  },
  {
   "cell_type": "code",
   "execution_count": 12,
   "metadata": {},
   "outputs": [
    {
     "data": {
      "text/plain": [
       "-90.0"
      ]
     },
     "execution_count": 12,
     "metadata": {},
     "output_type": "execute_result"
    }
   ],
   "source": [
    "# Compute the determinant of A\n",
    "LA.det(A)"
   ]
  },
  {
   "cell_type": "code",
   "execution_count": 13,
   "metadata": {},
   "outputs": [
    {
     "data": {
      "text/plain": [
       "0.0"
      ]
     },
     "execution_count": 13,
     "metadata": {},
     "output_type": "execute_result"
    }
   ],
   "source": [
    "# Compute the determinant of B\n",
    "LA.det(B)"
   ]
  },
  {
   "cell_type": "markdown",
   "metadata": {},
   "source": [
    "#### How might your results relate to the eigenvalues you computed above?\n",
    "* If there are fewer non-zero eigenvalues than dimensions of the matrix, the determinant of the matrix is also zero. (Defining a non-invertible or singular matrix.)"
   ]
  },
  {
   "cell_type": "markdown",
   "metadata": {},
   "source": [
    "### Question 8"
   ]
  },
  {
   "cell_type": "markdown",
   "metadata": {},
   "source": [
    "Consider the rotation matrix $$\\textbf{R} = \\begin{bmatrix} cos(\\theta) & sin(\\theta) \\\\ -sin(\\theta) & cos(\\theta)\\end{bmatrix}$$.  Using a value of $\\theta = 90$, compute the inner product of the columns, $\\textbf{R}^T$, $\\textbf{R}^{-1}$, $det(\\textbf{R})$, and the eigenvalues and eigenvectors.  Comment on your results."
   ]
  },
  {
   "cell_type": "code",
   "execution_count": 14,
   "metadata": {},
   "outputs": [
    {
     "data": {
      "text/plain": [
       "matrix([[  6.12323400e-17,   1.00000000e+00],\n",
       "        [ -1.00000000e+00,   6.12323400e-17]])"
      ]
     },
     "execution_count": 14,
     "metadata": {},
     "output_type": "execute_result"
    }
   ],
   "source": [
    "# Create rotation matrix with theta = 90 degrees\n",
    "t = np.deg2rad(90)\n",
    "R = np.matrix([[math.cos(t), math.sin(t)], [-math.sin(t), math.cos(t)]])\n",
    "R"
   ]
  },
  {
   "cell_type": "code",
   "execution_count": 15,
   "metadata": {},
   "outputs": [
    {
     "data": {
      "text/plain": [
       "0.0"
      ]
     },
     "execution_count": 15,
     "metadata": {},
     "output_type": "execute_result"
    }
   ],
   "source": [
    "# Compute inner product of the columns\n",
    "np.dot(np.array([np.cos(t), np.sin(t)]), np.array([-np.sin(t), np.cos(t)]))"
   ]
  },
  {
   "cell_type": "code",
   "execution_count": 16,
   "metadata": {},
   "outputs": [
    {
     "data": {
      "text/plain": [
       "matrix([[  6.12323400e-17,  -1.00000000e+00],\n",
       "        [  1.00000000e+00,   6.12323400e-17]])"
      ]
     },
     "execution_count": 16,
     "metadata": {},
     "output_type": "execute_result"
    }
   ],
   "source": [
    "# Compute the transpose of R\n",
    "R.T"
   ]
  },
  {
   "cell_type": "code",
   "execution_count": 17,
   "metadata": {},
   "outputs": [
    {
     "data": {
      "text/plain": [
       "matrix([[  6.12323400e-17,  -1.00000000e+00],\n",
       "        [  1.00000000e+00,   6.12323400e-17]])"
      ]
     },
     "execution_count": 17,
     "metadata": {},
     "output_type": "execute_result"
    }
   ],
   "source": [
    "# Compute the inverse of R\n",
    "LA.inv(R)"
   ]
  },
  {
   "cell_type": "code",
   "execution_count": 18,
   "metadata": {},
   "outputs": [
    {
     "data": {
      "text/plain": [
       "1.0"
      ]
     },
     "execution_count": 18,
     "metadata": {},
     "output_type": "execute_result"
    }
   ],
   "source": [
    "# Compute the determinant of R\n",
    "LA.det(R)"
   ]
  },
  {
   "cell_type": "code",
   "execution_count": 19,
   "metadata": {},
   "outputs": [
    {
     "name": "stdout",
     "output_type": "stream",
     "text": [
      "Eigenvalues:\n",
      "[  6.12323400e-17+1.j   6.12323400e-17-1.j]\n",
      "\n",
      "Eigenvectors:\n",
      "[[ 0.70710678+0.j          0.70710678-0.j        ]\n",
      " [ 0.00000000+0.70710678j  0.00000000-0.70710678j]]\n"
     ]
    }
   ],
   "source": [
    "# Compute the eigenvectors and eigenvalues of R\n",
    "lambdas, v_s = LA.eig(R)\n",
    "\n",
    "# Print results\n",
    "print(\"Eigenvalues:\")\n",
    "print(lambdas)\n",
    "print(\"\\nEigenvectors:\")\n",
    "print(v_s)"
   ]
  },
  {
   "cell_type": "markdown",
   "metadata": {},
   "source": [
    "#### Comment on your results.\n",
    "* Since the dot product of the columns is 0, this matrix is defined as orthogonal. Other ways of seeing the orthogonality of the matrix is the fact that the transpose is equal to the inverse, the determinant is equal to 1 (the same would also be true of -1), and the eigenvectors/eigenvalues are complex conjugates of one another."
   ]
  }
 ],
 "metadata": {
  "anaconda-cloud": {},
  "kernelspec": {
   "display_name": "Python 3",
   "language": "python",
   "name": "python3"
  },
  "language_info": {
   "codemirror_mode": {
    "name": "ipython",
    "version": 3
   },
   "file_extension": ".py",
   "mimetype": "text/x-python",
   "name": "python",
   "nbconvert_exporter": "python",
   "pygments_lexer": "ipython3",
   "version": "3.6.1"
  }
 },
 "nbformat": 4,
 "nbformat_minor": 2
}

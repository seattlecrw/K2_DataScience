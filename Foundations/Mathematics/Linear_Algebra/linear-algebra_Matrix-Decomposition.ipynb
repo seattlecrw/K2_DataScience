{
 "cells": [
  {
   "cell_type": "markdown",
   "metadata": {},
   "source": [
    "# Linear Algebra\n",
    "Although its name may sound harmless, Linear Algebra is by no means a trivial branch of mathematics, and the deeper you dive into Data Science and Statistics, the more often you will encounter its concepts.  In this exercise, we'll start with some basic operations on matrices and vectors, then move onto Eigenvalues and Eigenvectors, and conclude with some Matrix Decompositions."
   ]
  },
  {
   "cell_type": "code",
   "execution_count": 1,
   "metadata": {
    "collapsed": true
   },
   "outputs": [],
   "source": [
    "# Import modules\n",
    "import numpy as np\n",
    "import numpy.linalg as LA"
   ]
  },
  {
   "cell_type": "markdown",
   "metadata": {},
   "source": [
    "## Matrix Decomposition\n",
    "Matrix Decomposition can be thought of as rewriting a given matrix as a product of other (and often simpler) matrices.  For example, given a matrix $\\textbf{A}$, one can decompose $\\textbf{A}$ into the following. $$\\textbf{A} = \\textbf{Q} \\Lambda \\textbf{Q}^{-1}$$\n",
    "where $\\textbf{Q}$ is a matrix whose *$i^{th}$* column is the *$i^{th}$* eigenvector of $\\textbf{A}$, and $\\Lambda$ is a matrix containing all of the corresponding eigenvalues on the main diagonal.  Decomposing $\\textbf{A}$ in this manner is called an Eigendecomposition.  Such matrix decompositions, form the basis of many techniques in Data Science and other mathematical disciplines."
   ]
  },
  {
   "cell_type": "markdown",
   "metadata": {},
   "source": [
    "1. Compute the eigenvalues and eigenvectors of matrix $$\\textbf{A} = \\begin{bmatrix} -2 & -4 & 2 \\\\ -2 & 1 & 2 \\\\ 4 & 2 & 5 \\end{bmatrix}$$\n",
    "1. Construct a matrix $\\textbf{Q}$ whose columns are the eigenvectors of $\\textbf{A}$.\n",
    "1. Construct a set of three vectors $\\vec{\\lambda_1} \\dots \\vec{\\lambda_n}$, whose *$n^{th}$* element is the *$n^{th}$* eigenvalue of $\\textbf{A}$ while all other elements are 0.  The second vector, for example, would be $$\\vec{\\lambda_2} = \\begin{bmatrix} 0 \\\\ \\lambda_2 \\\\ 0 \\end{bmatrix}$$\n",
    "1. Now try multiplying various combinations of $\\textbf{A}$, $\\textbf{Q}$, and $\\vec{\\lambda_n}$ together.  What is the relationship among them?\n",
    "1. Solve the relationship you found in part (4) for $\\textbf{A}$ and verify that this is the eigenvalue decomposition.\n",
    "1. Another very useful matrix decomposition is the Singular Value Decomposition (SVD) which is used, for example, in Principal Component Analysis.  A full discussion of this decomposition is beyond the scope of this exercise, but singular values are the square roots of the eigenvalues of $\\textbf{A}\\textbf{A}^T$ (for the real case).  Using numpy, perform a SVD on $\\textbf{A}$ used above, and verify that the values on the main diagonal of the singular matrix are the square roots of the eigenvalues of $\\textbf{A}$."
   ]
  },
  {
   "cell_type": "markdown",
   "metadata": {
    "collapsed": true
   },
   "source": [
    "### Question 1\n",
    "Compute the eigenvalues and eigenvectors of matrix $$\\textbf{A} = \\begin{bmatrix} -2 & -4 & 2 \\\\ -2 & 1 & 2 \\\\ 4 & 2 & 5 \\end{bmatrix}$$"
   ]
  },
  {
   "cell_type": "code",
   "execution_count": 2,
   "metadata": {},
   "outputs": [
    {
     "name": "stdout",
     "output_type": "stream",
     "text": [
      "Eigenvalues:\n",
      "[-5.  3.  6.]\n",
      "\n",
      "Eigenvectors:\n",
      "[[ 0.81649658  0.53452248  0.05842062]\n",
      " [ 0.40824829 -0.80178373  0.35052374]\n",
      " [-0.40824829 -0.26726124  0.93472998]]\n"
     ]
    }
   ],
   "source": [
    "# Define matrix A\n",
    "A = np.matrix([[-2, -4, 2], [-2, 1, 2], [4, 2, 5]])\n",
    "\n",
    "# Compute eigenvectors and eigenvalues\n",
    "evals_A, evecs_A = LA.eig(A)\n",
    "\n",
    "# Print results\n",
    "print(\"Eigenvalues:\")\n",
    "print(evals_A)\n",
    "print(\"\\nEigenvectors:\")\n",
    "print(evecs_A)"
   ]
  },
  {
   "cell_type": "markdown",
   "metadata": {},
   "source": [
    "### Question 2\n",
    "Construct a matrix $\\textbf{Q}$ whose columns are the eigenvectors of $\\textbf{A}$."
   ]
  },
  {
   "cell_type": "code",
   "execution_count": 3,
   "metadata": {},
   "outputs": [
    {
     "data": {
      "text/plain": [
       "matrix([[ 0.81649658,  0.53452248,  0.05842062],\n",
       "        [ 0.40824829, -0.80178373,  0.35052374],\n",
       "        [-0.40824829, -0.26726124,  0.93472998]])"
      ]
     },
     "execution_count": 3,
     "metadata": {},
     "output_type": "execute_result"
    }
   ],
   "source": [
    "Q = evecs_A\n",
    "Q"
   ]
  },
  {
   "cell_type": "markdown",
   "metadata": {},
   "source": [
    "### Question 3\n",
    "Construct a set of three vectors $\\vec{\\lambda_1} \\dots \\vec{\\lambda_n}$, whose *$n^{th}$* element is the *$n^{th}$* eigenvalue of $\\textbf{A}$ while all other elements are 0.  The second vector, for example, would be $$\\vec{\\lambda_2} = \\begin{bmatrix} 0 \\\\ \\lambda_2 \\\\ 0 \\end{bmatrix}$$"
   ]
  },
  {
   "cell_type": "code",
   "execution_count": 4,
   "metadata": {},
   "outputs": [
    {
     "name": "stdout",
     "output_type": "stream",
     "text": [
      "lambda1: [-5.  0.  0.]\n",
      "lambda2: [ 0.  3.  0.]\n",
      "lambda3: [ 0.  0.  6.]\n"
     ]
    }
   ],
   "source": [
    "# Create lambda vectors\n",
    "lambda1 = np.array([evals_A[0], 0, 0])\n",
    "lambda2 = np.array([0, evals_A[1], 0])\n",
    "lambda3 = np.array([0, 0, evals_A[2]])\n",
    "\n",
    "# Print lambda vectors\n",
    "print(\"lambda1: {}\".format(lambda1))\n",
    "print(\"lambda2: {}\".format(lambda2))\n",
    "print(\"lambda3: {}\".format(lambda3))"
   ]
  },
  {
   "cell_type": "markdown",
   "metadata": {},
   "source": [
    "### Question 4\n",
    "Now try multiplying various combinations of $\\textbf{A}$, $\\textbf{Q}$, and $\\vec{\\lambda_n}$ together."
   ]
  },
  {
   "cell_type": "code",
   "execution_count": 5,
   "metadata": {},
   "outputs": [
    {
     "data": {
      "text/plain": [
       "matrix([[-4.0824829 ,  1.60356745,  0.35052374],\n",
       "        [-2.04124145, -2.40535118,  2.10314246],\n",
       "        [ 2.04124145, -0.80178373,  5.60837988]])"
      ]
     },
     "execution_count": 5,
     "metadata": {},
     "output_type": "execute_result"
    }
   ],
   "source": [
    "AQ = A*Q\n",
    "AQ"
   ]
  },
  {
   "cell_type": "code",
   "execution_count": 6,
   "metadata": {},
   "outputs": [
    {
     "data": {
      "text/plain": [
       "matrix([[-4.0824829 ,  0.        ,  0.        ],\n",
       "        [-2.04124145,  0.        ,  0.        ],\n",
       "        [ 2.04124145,  0.        ,  0.        ]])"
      ]
     },
     "execution_count": 6,
     "metadata": {},
     "output_type": "execute_result"
    }
   ],
   "source": [
    "Ql_1 = Q[:, 0]*lambda1\n",
    "Ql_1"
   ]
  },
  {
   "cell_type": "code",
   "execution_count": 7,
   "metadata": {},
   "outputs": [
    {
     "data": {
      "text/plain": [
       "matrix([[ 0.        ,  1.60356745,  0.        ],\n",
       "        [ 0.        , -2.40535118,  0.        ],\n",
       "        [ 0.        , -0.80178373,  0.        ]])"
      ]
     },
     "execution_count": 7,
     "metadata": {},
     "output_type": "execute_result"
    }
   ],
   "source": [
    "Ql_2 = Q[:, 1]*lambda2\n",
    "Ql_2"
   ]
  },
  {
   "cell_type": "code",
   "execution_count": 8,
   "metadata": {},
   "outputs": [
    {
     "data": {
      "text/plain": [
       "matrix([[ 0.        ,  0.        ,  0.35052374],\n",
       "        [ 0.        ,  0.        ,  2.10314246],\n",
       "        [ 0.        ,  0.        ,  5.60837988]])"
      ]
     },
     "execution_count": 8,
     "metadata": {},
     "output_type": "execute_result"
    }
   ],
   "source": [
    "Ql_3 = Q[:, 2]*lambda3\n",
    "Ql_3"
   ]
  },
  {
   "cell_type": "markdown",
   "metadata": {},
   "source": [
    "#### What is the relationship among them?\n",
    "* Multiplying a column of A by the same column of Q is the same as multiplying that column of Q by the respective lambda vector. It is the basis of the equality $$\\textbf{AQ} = \\textbf{Q} \\Lambda$$"
   ]
  },
  {
   "cell_type": "markdown",
   "metadata": {},
   "source": [
    "### Question 5\n",
    "Solve the relationship you found in part (4) for $\\textbf{A}$ and verify that this is the eigenvalue decomposition.\n",
    "* Solving for A gives the equality $$\\textbf{A} = \\textbf{Q} \\Lambda \\textbf{Q}^{-1}$$"
   ]
  },
  {
   "cell_type": "code",
   "execution_count": 9,
   "metadata": {},
   "outputs": [
    {
     "data": {
      "text/plain": [
       "matrix([[-5.,  0.,  0.],\n",
       "        [ 0.,  3.,  0.],\n",
       "        [ 0.,  0.,  6.]])"
      ]
     },
     "execution_count": 9,
     "metadata": {},
     "output_type": "execute_result"
    }
   ],
   "source": [
    "# Build matrix of lambda vectors\n",
    "L = np.matrix(np.column_stack((lambda1.T, lambda2.T, lambda3.T)))\n",
    "L"
   ]
  },
  {
   "cell_type": "code",
   "execution_count": 10,
   "metadata": {},
   "outputs": [
    {
     "data": {
      "text/plain": [
       "matrix([[-2., -4.,  2.],\n",
       "        [-2.,  1.,  2.],\n",
       "        [ 4.,  2.,  5.]])"
      ]
     },
     "execution_count": 10,
     "metadata": {},
     "output_type": "execute_result"
    }
   ],
   "source": [
    "# The product of these matrices is equal to A, confirming eigenvalue decomposition.\n",
    "Q * L * LA.inv(Q)"
   ]
  },
  {
   "cell_type": "markdown",
   "metadata": {},
   "source": [
    "### Question 6\n",
    "Another very useful matrix decomposition is the Singular Value Decomposition (SVD) which is used, for example, in Principal Component Analysis.  A full discussion of this decomposition is beyond the scope of this exercise, but singular values are the square roots of the eigenvalues of $\\textbf{A}\\textbf{A}^T$ (for the real case).  Using numpy, perform a SVD on $\\textbf{A}$ used above, and verify that the values on the main diagonal of the singular matrix are the square roots of the eigenvalues of $\\textbf{A}$."
   ]
  },
  {
   "cell_type": "code",
   "execution_count": 11,
   "metadata": {},
   "outputs": [
    {
     "data": {
      "text/plain": [
       "array([ 6.84194927,  4.89577909,  2.68683407])"
      ]
     },
     "execution_count": 11,
     "metadata": {},
     "output_type": "execute_result"
    }
   ],
   "source": [
    "# Compute S\n",
    "S = LA.svd(A, compute_uv = False)\n",
    "S"
   ]
  },
  {
   "cell_type": "code",
   "execution_count": 12,
   "metadata": {},
   "outputs": [
    {
     "name": "stdout",
     "output_type": "stream",
     "text": [
      "Eigenvalues:\n",
      "[ 46.81226975  23.96865293   7.21907732]\n",
      "\n",
      "Eigenvectors:\n",
      "[[-0.24098755 -0.92983436 -0.27808823]\n",
      " [ 0.07685262 -0.30391589  0.94959402]\n",
      " [ 0.96748058 -0.20746853 -0.14470016]]\n"
     ]
    }
   ],
   "source": [
    "# Compute eigenvectors and eigenvalues of AA_T\n",
    "evals, evecs = LA.eig(A*A.T)\n",
    "\n",
    "# Print results\n",
    "print(\"Eigenvalues:\")\n",
    "print(evals)\n",
    "print(\"\\nEigenvectors:\")\n",
    "print(evecs)"
   ]
  },
  {
   "cell_type": "code",
   "execution_count": 13,
   "metadata": {},
   "outputs": [
    {
     "data": {
      "text/plain": [
       "array([ 6.84194927,  4.89577909,  2.68683407])"
      ]
     },
     "execution_count": 13,
     "metadata": {},
     "output_type": "execute_result"
    }
   ],
   "source": [
    "# Compute square roots of eigenvalues to compare\n",
    "np.sqrt(evals)"
   ]
  },
  {
   "cell_type": "markdown",
   "metadata": {},
   "source": [
    "The SVD decomposition does in fact give the square roots of the eigenvalues, as expected."
   ]
  }
 ],
 "metadata": {
  "anaconda-cloud": {},
  "kernelspec": {
   "display_name": "Python 3",
   "language": "python",
   "name": "python3"
  },
  "language_info": {
   "codemirror_mode": {
    "name": "ipython",
    "version": 3
   },
   "file_extension": ".py",
   "mimetype": "text/x-python",
   "name": "python",
   "nbconvert_exporter": "python",
   "pygments_lexer": "ipython3",
   "version": "3.6.1"
  }
 },
 "nbformat": 4,
 "nbformat_minor": 2
}

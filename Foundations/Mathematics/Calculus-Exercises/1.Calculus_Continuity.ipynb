{
 "cells": [
  {
   "cell_type": "markdown",
   "metadata": {},
   "source": [
    "# Calculus Programming Challenges"
   ]
  },
  {
   "cell_type": "markdown",
   "metadata": {},
   "source": [
    "## #1: Verify the Continuity of a Function at a Point"
   ]
  },
  {
   "cell_type": "markdown",
   "metadata": {},
   "source": [
    "A necessary, but not sufficient, condition for a function to be differentiable at a point is that it must be continuous at that point. That is, the function must be defined at that point and its left-hand limit and right-hand limit must exist and be equal to the value of the function at that point. If $f(x)$ is the function and $x = a$ is the point we are interested in evaluating, this is mathematically stated as\n",
    "\n",
    "$$\\lim_{x\\to a^+}f(x) = \\lim_{x\\to a^-}f(x) = f(a)$$\n",
    "\n",
    "Your challenge here is to write a program that will (1) accept a single-variable function and a value of that variable as inputs and (2) check whether the input function is continuous at the point where the variable assumes the value input.\n",
    "\n",
    "Here is a sample working of the completed solution:"
   ]
  },
  {
   "cell_type": "markdown",
   "metadata": {},
   "source": [
    "`Enter a function in one variable: 1/x\n",
    "Enter the variable: x\n",
    "Enter the point to check the continuity at: 1 \n",
    "1/x is continuous at 1.0`"
   ]
  },
  {
   "cell_type": "markdown",
   "metadata": {},
   "source": [
    "The function $1/x$ is discontinuous at 0, so let’s check that:"
   ]
  },
  {
   "cell_type": "markdown",
   "metadata": {},
   "source": [
    "`Enter a function in one variable: 1/x\n",
    "Enter the variable: x\n",
    "Enter the point to check the continuity at: 0 \n",
    "1/x is not continuous at 0.0`"
   ]
  },
  {
   "cell_type": "code",
   "execution_count": 1,
   "metadata": {
    "collapsed": true
   },
   "outputs": [],
   "source": [
    "# Import modules\n",
    "from sympy import Limit, Symbol, sympify, SympifyError"
   ]
  },
  {
   "cell_type": "code",
   "execution_count": 2,
   "metadata": {
    "collapsed": true
   },
   "outputs": [],
   "source": [
    "# Define function\n",
    "def verify_continuity():\n",
    "    # Get user input\n",
    "    f = input('Enter a function in one variable: ')\n",
    "    x = Symbol(input('Enter the variable: '))\n",
    "    point = float(input('Enter the point at which to check the continuity: '))\n",
    "    \n",
    "    # Convert function to symbolized version\n",
    "    try:\n",
    "        f = sympify(f)\n",
    "    except SympifyError:\n",
    "        print('Invalid function')\n",
    "    else:\n",
    "        # Determine continuity (is left limit equal to right limit and is function defined at point?)\n",
    "        left_limit = Limit(f, x, point, dir = '-').doit()\n",
    "        right_limit = Limit(f, x, point, dir = '+').doit()\n",
    "        function_point = f.subs({ x: point })\n",
    "        if left_limit == right_limit and function_point == left_limit:\n",
    "            print(\"{} is continuous at {}\".format(f, point))\n",
    "        else:\n",
    "            print(\"{} is not continuous at {}\".format(f, point))"
   ]
  },
  {
   "cell_type": "code",
   "execution_count": 3,
   "metadata": {},
   "outputs": [
    {
     "name": "stdout",
     "output_type": "stream",
     "text": [
      "Enter a function in one variable: 1/x\n",
      "Enter the variable: x\n",
      "Enter the point at which to check the continuity: 1\n",
      "1/x is continuous at 1.0\n"
     ]
    }
   ],
   "source": [
    "# Test with continuous input\n",
    "verify_continuity()"
   ]
  },
  {
   "cell_type": "code",
   "execution_count": 4,
   "metadata": {},
   "outputs": [
    {
     "name": "stdout",
     "output_type": "stream",
     "text": [
      "Enter a function in one variable: 1/x\n",
      "Enter the variable: x\n",
      "Enter the point at which to check the continuity: 0\n",
      "1/x is not continuous at 0.0\n"
     ]
    }
   ],
   "source": [
    "# Test with non-continuous input\n",
    "verify_continuity()"
   ]
  }
 ],
 "metadata": {
  "kernelspec": {
   "display_name": "Python 3",
   "language": "python",
   "name": "python3"
  },
  "language_info": {
   "codemirror_mode": {
    "name": "ipython",
    "version": 3
   },
   "file_extension": ".py",
   "mimetype": "text/x-python",
   "name": "python",
   "nbconvert_exporter": "python",
   "pygments_lexer": "ipython3",
   "version": "3.6.1"
  }
 },
 "nbformat": 4,
 "nbformat_minor": 2
}

{
 "cells": [
  {
   "cell_type": "markdown",
   "metadata": {},
   "source": [
    "# Calculus Programming Challenges"
   ]
  },
  {
   "cell_type": "markdown",
   "metadata": {},
   "source": [
    "## #3: Area Between Two Curves"
   ]
  },
  {
   "cell_type": "markdown",
   "metadata": {},
   "source": [
    "We learned that the integral\n",
    "\n",
    "$$\\int_{a}^{b} f(x) dx$$\n",
    "\n",
    "expresses the area enclosed by the function $f(x)$, with the x-axis between $x = a$ and $x = b$. The area between two curves is thus expressed as the integral\n",
    "\n",
    "$$\\int_{a}^{b} (f(x)-g(x)) dx$$\n",
    "\n",
    "where $a$ and $b$ are the points of intersection of the two curves with $a < b$. The function $f(x)$ is referred to as the *upper function* and $g(x)$ as the *lower function*. Figure 1-9 illustrates this, assuming $f(x) = x$ and $g(x) = x^2$, with a = 0 and b = 1.\n",
    "\n",
    "Your challenge here is to write a program that will allow the user to input any two single-variable functions of $x$ and print the enclosed area between the two. The program should make it clear that the first function entered should be the upper function, and it should also ask for the values of $x$ between which to find the area."
   ]
  },
  {
   "cell_type": "markdown",
   "metadata": {},
   "source": [
    "<img src='fig7-9.png' style='width:450px' />\n",
    "\n",
    "*Figure 1-9: The functions f(x) = x and g(x) = x2 enclose an area between x = 0 and x = 1.0.*"
   ]
  },
  {
   "cell_type": "code",
   "execution_count": 1,
   "metadata": {
    "collapsed": true
   },
   "outputs": [],
   "source": [
    "# Import modules\n",
    "from sympy import Integral, Symbol, sympify, SympifyError"
   ]
  },
  {
   "cell_type": "code",
   "execution_count": 2,
   "metadata": {},
   "outputs": [
    {
     "name": "stdout",
     "output_type": "stream",
     "text": [
      "Enter a single-variable function for the upper curve: x\n",
      "Enter a same-variable function for the lower curve: x**2\n",
      "Enter the variable by which to integrate the functions: x\n",
      "Enter the left-most point to start the area calculation: 0\n",
      "Enter the right-most point to start the area calculation: 1\n",
      "Area between the curves: 0.166666666666667\n"
     ]
    }
   ],
   "source": [
    "'''\n",
    "Use integrals to find the area between two curves\n",
    "'''\n",
    "def area_between_curves(f, g, var, a, b):\n",
    "    \"\"\"\n",
    "    f = upper function, g = lower function (both single-function)\n",
    "    a, b = left and right bounds\n",
    "    var = function variable\n",
    "    \"\"\"\n",
    "    f_integral = Integral(f, (var, a, b)).doit().evalf()\n",
    "    g_integral = Integral(g, (var, a, b)).doit().evalf()\n",
    "    return f_integral - g_integral\n",
    "    \n",
    "if __name__ == '__main__':\n",
    "    # Get inputs from user\n",
    "    f = input('Enter a single-variable function for the upper curve: ')\n",
    "    g = input('Enter a same-variable function for the lower curve: ')\n",
    "    var = Symbol(input('Enter the variable by which to integrate the functions: '))\n",
    "    a = float(input('Enter the left-most point to start the area calculation: '))\n",
    "    b = float(input('Enter the right-most point to start the area calculation: '))\n",
    "    \n",
    "    # Create symbolized functions\n",
    "    try:\n",
    "        f = sympify(f)\n",
    "        g = sympify(g)\n",
    "    except SympifyError:\n",
    "        print('Invalid function(s) entered')\n",
    "    else:\n",
    "        area = area_between_curves(f, g, var, a, b)\n",
    "        print(\"Area between the curves: {}\".format(area))"
   ]
  }
 ],
 "metadata": {
  "kernelspec": {
   "display_name": "Python 3",
   "language": "python",
   "name": "python3"
  },
  "language_info": {
   "codemirror_mode": {
    "name": "ipython",
    "version": 3
   },
   "file_extension": ".py",
   "mimetype": "text/x-python",
   "name": "python",
   "nbconvert_exporter": "python",
   "pygments_lexer": "ipython3",
   "version": "3.6.1"
  }
 },
 "nbformat": 4,
 "nbformat_minor": 2
}

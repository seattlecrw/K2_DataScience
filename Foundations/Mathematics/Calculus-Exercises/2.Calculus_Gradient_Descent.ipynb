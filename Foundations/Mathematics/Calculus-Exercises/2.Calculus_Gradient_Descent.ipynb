{
 "cells": [
  {
   "cell_type": "markdown",
   "metadata": {},
   "source": [
    "# Calculus Programming Challenges"
   ]
  },
  {
   "cell_type": "markdown",
   "metadata": {},
   "source": [
    "## #2: Implement the Gradient Descent"
   ]
  },
  {
   "cell_type": "markdown",
   "metadata": {},
   "source": [
    "The gradient descent method is used to find the minimum value of a function. Similar to the gradient ascent method, the gradient descent method is an iterative method: we start with an initial value of the variable and gradually get closer to the variable value that corresponds to the minimum value of the function. The step that gets us closer is the equation\n",
    "\n",
    "$$x_{new} = x_{old} - \\lambda \\frac{df}{dx}$$\n",
    "\n",
    "where $\\lambda$ is the step size and\n",
    "\n",
    "$$\\frac{df}{dx}$$\n",
    "\n",
    "is the result of differentiating the function. Thus, the only difference from the gradient ascent method is how we obtain the value of `x_new` from `x_old`. \n",
    "\n",
    "Your challenge is to implement a generic program using the gradient descent algorithm to find the minimum value of a single-variable function specified as input by the user. The program should also create a graph of the function and show all the intermediate values it found before finding the minimum."
   ]
  },
  {
   "cell_type": "code",
   "execution_count": 1,
   "metadata": {
    "collapsed": true
   },
   "outputs": [],
   "source": [
    "# Import modules\n",
    "import numpy as np\n",
    "from sympy import Symbol, Derivative, sympify, SympifyError, solve\n",
    "import matplotlib.pyplot as plt\n",
    "\n",
    "# Configure Jupyter plotting\n",
    "%matplotlib inline"
   ]
  },
  {
   "cell_type": "code",
   "execution_count": 2,
   "metadata": {},
   "outputs": [
    {
     "name": "stdout",
     "output_type": "stream",
     "text": [
      "Enter a function in one variable: x**2 + 3*x\n",
      "Enter the variable to differentiate with respect to: x\n",
      "Enter the initial value of the variable: 0.5\n",
      "x: -1.49500167298399\n",
      "Minimum value: -2.24997501672704\n"
     ]
    },
    {
     "data": {
      "image/png": "[encoded data removed]",
      "text/plain": [
       "<matplotlib.figure.Figure at 0x1095b8d30>"
      ]
     },
     "metadata": {},
     "output_type": "display_data"
    }
   ],
   "source": [
    "'''\n",
    "Use gradient descent to find the maximum value of a single-variable function\n",
    "'''\n",
    "def grad_descent(x0, f1x, x):\n",
    "    # Is there a solution for f1x?\n",
    "    if not solve(f1x):\n",
    "        print(\"Cannot continue, solution for {} = 0 does not exist\".format(f1x))\n",
    "        return None\n",
    "    \n",
    "    # Define threshold, step size\n",
    "    epsilon =  1e-6\n",
    "    step_size = 1e-4\n",
    "    \n",
    "    # Iterate through algorithm until difference within threshold\n",
    "    x_old = x0\n",
    "    x_new = x_old - step_size*f1x.subs({ x: x_old}).evalf()\n",
    "    x_traversed = []\n",
    "    while abs(x_old - x_new) > epsilon:\n",
    "        x_traversed.append(x_new)\n",
    "        x_old = x_new\n",
    "        x_new = x_old - step_size*f1x.subs({ x: x_old }).evalf()\n",
    "    return x_new, x_traversed\n",
    "\n",
    "def create_plot(x_traversed, f, var):\n",
    "    x_val = np.arange(-1, 1, 0.01)\n",
    "    f_val = [f.subs({ var: x }) for x in x_val]\n",
    "    plt.plot(x_val, f_val, 'bo')\n",
    "    \n",
    "    f_traversed = [f.subs({ var: x }) for x in x_traversed]\n",
    "    plt.plot(x_traversed, f_traversed, 'r.')\n",
    "    \n",
    "    plt.legend(['Function', 'Intermediate Points'], loc = 'best')\n",
    "    plt.show()\n",
    "    \n",
    "\n",
    "if __name__ == '__main__':\n",
    "    # Get inputs from user\n",
    "    f = input('Enter a function in one variable: ')\n",
    "    var = Symbol(input('Enter the variable to differentiate with respect to: '))\n",
    "    var0 = float(input('Enter the initial value of the variable: '))\n",
    "    \n",
    "    # Create symbolized function\n",
    "    try:\n",
    "        f = sympify(f)\n",
    "    except SympifyError:\n",
    "        print('Invalid function entered')\n",
    "    else:\n",
    "        # Find minimum value (if possible)\n",
    "        d = Derivative(f, var).doit()\n",
    "        var_min, x_traversed = grad_descent(var0, d, var)\n",
    "        if var_min:\n",
    "            print('{}: {}'.format(var.name, var_min))\n",
    "            print('Minimum value: {}'.format(f.subs({ var: var_min })))\n",
    "            \n",
    "        # Create plot of function and intermediate values\n",
    "        create_plot(x_traversed, f, var)"
   ]
  }
 ],
 "metadata": {
  "kernelspec": {
   "display_name": "Python 3",
   "language": "python",
   "name": "python3"
  },
  "language_info": {
   "codemirror_mode": {
    "name": "ipython",
    "version": 3
   },
   "file_extension": ".py",
   "mimetype": "text/x-python",
   "name": "python",
   "nbconvert_exporter": "python",
   "pygments_lexer": "ipython3",
   "version": "3.6.1"
  }
 },
 "nbformat": 4,
 "nbformat_minor": 2
}

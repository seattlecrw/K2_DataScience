{
 "cells": [
  {
   "cell_type": "markdown",
   "metadata": {},
   "source": [
    "# Calculus Programming Challenges"
   ]
  },
  {
   "cell_type": "markdown",
   "metadata": {},
   "source": [
    "## #4: Finding the Length of a Curve"
   ]
  },
  {
   "cell_type": "markdown",
   "metadata": {},
   "source": [
    "Let’s say you just completed cycling along a road that looks roughly like Figure 1-10. Because you didn’t have an odometer, you want to know whether there’s a mathematical way to determine the distance you cycled. First, we’ll need to find an equation—even an approximation will do—that describes this path."
   ]
  },
  {
   "cell_type": "markdown",
   "metadata": {},
   "source": [
    "<img src='fig7-10.png' style='width:450px' />\n",
    "\n",
    "*Figure 1-10: An approximation of the cycling path*"
   ]
  },
  {
   "cell_type": "markdown",
   "metadata": {},
   "source": [
    "Notice how it looks very similar to the quadratic functions you learned about in algebra? In fact, for this challenge, let’s assume that the equation is $y=f(x)=2x^2 +3x + 1$ and that you cycled from point $A (−5, 36)$ to point $B (10, 231)$. To find the length of this arc—that is, the distance you cycled—we’ll need to calculate the integral\n",
    "\n",
    "$$\\int_{a}^{b}\\sqrt{1+\\left(\\frac{dy}{dx}\\right)^2} dx,$$\n",
    "\n",
    "where $y$ describes the preceding function. Your challenge here is to write a program that will calculate the length of the arc, $AB$. You may also want to generalize your solution so that it allows you to find the length of the arc between any two points for any arbitrary function, $f(x)$."
   ]
  },
  {
   "cell_type": "code",
   "execution_count": 1,
   "metadata": {
    "collapsed": true
   },
   "outputs": [],
   "source": [
    "# Import modules\n",
    "from sympy import Derivative, Integral, Symbol, sympify, SympifyError, sqrt"
   ]
  },
  {
   "cell_type": "code",
   "execution_count": 2,
   "metadata": {},
   "outputs": [
    {
     "name": "stdout",
     "output_type": "stream",
     "text": [
      "Enter a function in one variable: 2*x**2 + 3*x + 1\n",
      "Enter the variable of the function: x\n",
      "Enter the lower limit of the integral: -5\n",
      "Enter the upper limit of the integral: 10\n",
      "The length of 2*x**2 + 3*x + 1 from -5.0 to 10.0 is: 268.372650946022\n"
     ]
    }
   ],
   "source": [
    "'''\n",
    "Use derivatives and integrals to find the length of a curve.\n",
    "'''\n",
    "def curve_length(f, var, a, b):\n",
    "    d = Derivative(f, var).doit()\n",
    "    return Integral(sqrt(1 + d**2), (var, a, b)).doit().evalf()\n",
    "\n",
    "if __name__ == '__main__':\n",
    "    # Get user inputs\n",
    "    f = input('Enter a function in one variable: ')\n",
    "    var = Symbol(input('Enter the variable of the function: '))\n",
    "    a = float(input('Enter the lower limit of the integral: '))\n",
    "    b = float(input('Enter the upper limit of the integral: '))\n",
    "    \n",
    "    # Create symbolized version of function\n",
    "    try:\n",
    "        f = sympify(f)\n",
    "    except SympifyError:\n",
    "        print('Invalid function entered')\n",
    "    else:\n",
    "        # Calculate length of curve and print result\n",
    "        length = curve_length(f, var, a, b)\n",
    "        print(\"The length of {} from {} to {} is: {}\".format(f, a, b, length))"
   ]
  }
 ],
 "metadata": {
  "kernelspec": {
   "display_name": "Python 3",
   "language": "python",
   "name": "python3"
  },
  "language_info": {
   "codemirror_mode": {
    "name": "ipython",
    "version": 3
   },
   "file_extension": ".py",
   "mimetype": "text/x-python",
   "name": "python",
   "nbconvert_exporter": "python",
   "pygments_lexer": "ipython3",
   "version": "3.6.1"
  }
 },
 "nbformat": 4,
 "nbformat_minor": 2
}

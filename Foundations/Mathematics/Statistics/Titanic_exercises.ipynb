{
 "cells": [
  {
   "cell_type": "markdown",
   "metadata": {},
   "source": [
    "# Titanic Data Set - Statistics Review\n",
    "\n",
    "[Variable Descriptions](https://www.kaggle.com/c/titanic/data)."
   ]
  },
  {
   "cell_type": "code",
   "execution_count": 1,
   "metadata": {
    "collapsed": true
   },
   "outputs": [],
   "source": [
    "# Configure Jupyter notebook to plot inline\n",
    "%matplotlib inline"
   ]
  },
  {
   "cell_type": "code",
   "execution_count": 2,
   "metadata": {
    "collapsed": true
   },
   "outputs": [],
   "source": [
    "# Import modules\n",
    "import numpy as np\n",
    "import pandas as pd\n",
    "import math\n",
    "import scipy.stats as stats\n",
    "import matplotlib.pyplot as plt"
   ]
  },
  {
   "cell_type": "code",
   "execution_count": 3,
   "metadata": {},
   "outputs": [
    {
     "data": {
      "text/html": [
       "<div>\n",
       "<style>\n",
       "    .dataframe thead tr:only-child th {\n",
       "        text-align: right;\n",
       "    }\n",
       "\n",
       "    .dataframe thead th {\n",
       "        text-align: left;\n",
       "    }\n",
       "\n",
       "    .dataframe tbody tr th {\n",
       "        vertical-align: top;\n",
       "    }\n",
       "</style>\n",
       "<table border=\"1\" class=\"dataframe\">\n",
       "  <thead>\n",
       "    <tr style=\"text-align: right;\">\n",
       "      <th></th>\n",
       "      <th>PassengerId</th>\n",
       "      <th>Survived</th>\n",
       "      <th>Pclass</th>\n",
       "      <th>Name</th>\n",
       "      <th>Sex</th>\n",
       "      <th>Age</th>\n",
       "      <th>SibSp</th>\n",
       "      <th>Parch</th>\n",
       "      <th>Ticket</th>\n",
       "      <th>Fare</th>\n",
       "      <th>Cabin</th>\n",
       "      <th>Embarked</th>\n",
       "    </tr>\n",
       "  </thead>\n",
       "  <tbody>\n",
       "    <tr>\n",
       "      <th>0</th>\n",
       "      <td>1</td>\n",
       "      <td>0</td>\n",
       "      <td>3</td>\n",
       "      <td>Braund, Mr. Owen Harris</td>\n",
       "      <td>male</td>\n",
       "      <td>22.0</td>\n",
       "      <td>1</td>\n",
       "      <td>0</td>\n",
       "      <td>A/5 21171</td>\n",
       "      <td>7.2500</td>\n",
       "      <td>NaN</td>\n",
       "      <td>S</td>\n",
       "    </tr>\n",
       "    <tr>\n",
       "      <th>1</th>\n",
       "      <td>2</td>\n",
       "      <td>1</td>\n",
       "      <td>1</td>\n",
       "      <td>Cumings, Mrs. John Bradley (Florence Briggs Th...</td>\n",
       "      <td>female</td>\n",
       "      <td>38.0</td>\n",
       "      <td>1</td>\n",
       "      <td>0</td>\n",
       "      <td>PC 17599</td>\n",
       "      <td>71.2833</td>\n",
       "      <td>C85</td>\n",
       "      <td>C</td>\n",
       "    </tr>\n",
       "    <tr>\n",
       "      <th>2</th>\n",
       "      <td>3</td>\n",
       "      <td>1</td>\n",
       "      <td>3</td>\n",
       "      <td>Heikkinen, Miss. Laina</td>\n",
       "      <td>female</td>\n",
       "      <td>26.0</td>\n",
       "      <td>0</td>\n",
       "      <td>0</td>\n",
       "      <td>STON/O2. 3101282</td>\n",
       "      <td>7.9250</td>\n",
       "      <td>NaN</td>\n",
       "      <td>S</td>\n",
       "    </tr>\n",
       "    <tr>\n",
       "      <th>3</th>\n",
       "      <td>4</td>\n",
       "      <td>1</td>\n",
       "      <td>1</td>\n",
       "      <td>Futrelle, Mrs. Jacques Heath (Lily May Peel)</td>\n",
       "      <td>female</td>\n",
       "      <td>35.0</td>\n",
       "      <td>1</td>\n",
       "      <td>0</td>\n",
       "      <td>113803</td>\n",
       "      <td>53.1000</td>\n",
       "      <td>C123</td>\n",
       "      <td>S</td>\n",
       "    </tr>\n",
       "    <tr>\n",
       "      <th>4</th>\n",
       "      <td>5</td>\n",
       "      <td>0</td>\n",
       "      <td>3</td>\n",
       "      <td>Allen, Mr. William Henry</td>\n",
       "      <td>male</td>\n",
       "      <td>35.0</td>\n",
       "      <td>0</td>\n",
       "      <td>0</td>\n",
       "      <td>373450</td>\n",
       "      <td>8.0500</td>\n",
       "      <td>NaN</td>\n",
       "      <td>S</td>\n",
       "    </tr>\n",
       "  </tbody>\n",
       "</table>\n",
       "</div>"
      ],
      "text/plain": [
       "   PassengerId  Survived  Pclass  \\\n",
       "0            1         0       3   \n",
       "1            2         1       1   \n",
       "2            3         1       3   \n",
       "3            4         1       1   \n",
       "4            5         0       3   \n",
       "\n",
       "                                                Name     Sex   Age  SibSp  \\\n",
       "0                            Braund, Mr. Owen Harris    male  22.0      1   \n",
       "1  Cumings, Mrs. John Bradley (Florence Briggs Th...  female  38.0      1   \n",
       "2                             Heikkinen, Miss. Laina  female  26.0      0   \n",
       "3       Futrelle, Mrs. Jacques Heath (Lily May Peel)  female  35.0      1   \n",
       "4                           Allen, Mr. William Henry    male  35.0      0   \n",
       "\n",
       "   Parch            Ticket     Fare Cabin Embarked  \n",
       "0      0         A/5 21171   7.2500   NaN        S  \n",
       "1      0          PC 17599  71.2833   C85        C  \n",
       "2      0  STON/O2. 3101282   7.9250   NaN        S  \n",
       "3      0            113803  53.1000  C123        S  \n",
       "4      0            373450   8.0500   NaN        S  "
      ]
     },
     "execution_count": 3,
     "metadata": {},
     "output_type": "execute_result"
    }
   ],
   "source": [
    "# Read in titanic (training) data\n",
    "titanic = pd.read_csv(\"train.csv\")\n",
    "titanic.head()"
   ]
  },
  {
   "cell_type": "markdown",
   "metadata": {},
   "source": [
    "**Describe the data. **\n",
    "- How big?\n",
    "- What are the columns and what do they mean?"
   ]
  },
  {
   "cell_type": "code",
   "execution_count": 4,
   "metadata": {},
   "outputs": [
    {
     "name": "stdout",
     "output_type": "stream",
     "text": [
      "The data has 891 rows and 12 columns.\n"
     ]
    }
   ],
   "source": [
    "# How big is the data frame?\n",
    "rows, columns = titanic.shape\n",
    "print(\"The data has {} rows and {} columns.\".format(rows, columns))"
   ]
  },
  {
   "cell_type": "raw",
   "metadata": {},
   "source": [
    "The data in each column, as defined by the Kaggle website (linked above), refer to the following:\n",
    "\n",
    "PassengerId : Identification number for each passenger\n",
    "Survived : Did passenger survive? ( 0 = no, 1 = yes ) \n",
    "Pclass : Passenger ticket class ( 1 = 1st = upper, 2 = 2nd = middle, 3 = 3rd = lower )\n",
    "Name: Name (and title)\n",
    "Sex : Sex ( male / female )\n",
    "Age : Age ( in years )\n",
    "SibSp : # of siblings / spouses aboard the Titanic\n",
    "Parch : # of parents / children aboard the Titanic\n",
    "Ticket : Ticket number\t\n",
    "Fare :\tFare\t\n",
    "Cabin : Cabin number\t\n",
    "Embarked : Port of Embarkation ( C = Cherbourg, Q = Queenstown, S = Southampton )"
   ]
  },
  {
   "cell_type": "code",
   "execution_count": 5,
   "metadata": {},
   "outputs": [
    {
     "data": {
      "text/plain": [
       "PassengerId      int64\n",
       "Survived         int64\n",
       "Pclass           int64\n",
       "Name            object\n",
       "Sex             object\n",
       "Age            float64\n",
       "SibSp            int64\n",
       "Parch            int64\n",
       "Ticket          object\n",
       "Fare           float64\n",
       "Cabin           object\n",
       "Embarked        object\n",
       "dtype: object"
      ]
     },
     "execution_count": 5,
     "metadata": {},
     "output_type": "execute_result"
    }
   ],
   "source": [
    "# Data type by column name\n",
    "titanic.dtypes"
   ]
  },
  {
   "cell_type": "code",
   "execution_count": 6,
   "metadata": {},
   "outputs": [
    {
     "data": {
      "text/html": [
       "<div>\n",
       "<style>\n",
       "    .dataframe thead tr:only-child th {\n",
       "        text-align: right;\n",
       "    }\n",
       "\n",
       "    .dataframe thead th {\n",
       "        text-align: left;\n",
       "    }\n",
       "\n",
       "    .dataframe tbody tr th {\n",
       "        vertical-align: top;\n",
       "    }\n",
       "</style>\n",
       "<table border=\"1\" class=\"dataframe\">\n",
       "  <thead>\n",
       "    <tr style=\"text-align: right;\">\n",
       "      <th></th>\n",
       "      <th>PassengerId</th>\n",
       "      <th>Survived</th>\n",
       "      <th>Pclass</th>\n",
       "      <th>Name</th>\n",
       "      <th>Sex</th>\n",
       "      <th>Age</th>\n",
       "      <th>SibSp</th>\n",
       "      <th>Parch</th>\n",
       "      <th>Ticket</th>\n",
       "      <th>Fare</th>\n",
       "      <th>Cabin</th>\n",
       "      <th>Embarked</th>\n",
       "    </tr>\n",
       "  </thead>\n",
       "  <tbody>\n",
       "    <tr>\n",
       "      <th>count</th>\n",
       "      <td>891.000000</td>\n",
       "      <td>891.000000</td>\n",
       "      <td>891.000000</td>\n",
       "      <td>891</td>\n",
       "      <td>891</td>\n",
       "      <td>714.000000</td>\n",
       "      <td>891.000000</td>\n",
       "      <td>891.000000</td>\n",
       "      <td>891</td>\n",
       "      <td>891.000000</td>\n",
       "      <td>204</td>\n",
       "      <td>889</td>\n",
       "    </tr>\n",
       "    <tr>\n",
       "      <th>unique</th>\n",
       "      <td>NaN</td>\n",
       "      <td>NaN</td>\n",
       "      <td>NaN</td>\n",
       "      <td>891</td>\n",
       "      <td>2</td>\n",
       "      <td>NaN</td>\n",
       "      <td>NaN</td>\n",
       "      <td>NaN</td>\n",
       "      <td>681</td>\n",
       "      <td>NaN</td>\n",
       "      <td>147</td>\n",
       "      <td>3</td>\n",
       "    </tr>\n",
       "    <tr>\n",
       "      <th>top</th>\n",
       "      <td>NaN</td>\n",
       "      <td>NaN</td>\n",
       "      <td>NaN</td>\n",
       "      <td>Rice, Master. Arthur</td>\n",
       "      <td>male</td>\n",
       "      <td>NaN</td>\n",
       "      <td>NaN</td>\n",
       "      <td>NaN</td>\n",
       "      <td>CA. 2343</td>\n",
       "      <td>NaN</td>\n",
       "      <td>C23 C25 C27</td>\n",
       "      <td>S</td>\n",
       "    </tr>\n",
       "    <tr>\n",
       "      <th>freq</th>\n",
       "      <td>NaN</td>\n",
       "      <td>NaN</td>\n",
       "      <td>NaN</td>\n",
       "      <td>1</td>\n",
       "      <td>577</td>\n",
       "      <td>NaN</td>\n",
       "      <td>NaN</td>\n",
       "      <td>NaN</td>\n",
       "      <td>7</td>\n",
       "      <td>NaN</td>\n",
       "      <td>4</td>\n",
       "      <td>644</td>\n",
       "    </tr>\n",
       "    <tr>\n",
       "      <th>mean</th>\n",
       "      <td>446.000000</td>\n",
       "      <td>0.383838</td>\n",
       "      <td>2.308642</td>\n",
       "      <td>NaN</td>\n",
       "      <td>NaN</td>\n",
       "      <td>29.699118</td>\n",
       "      <td>0.523008</td>\n",
       "      <td>0.381594</td>\n",
       "      <td>NaN</td>\n",
       "      <td>32.204208</td>\n",
       "      <td>NaN</td>\n",
       "      <td>NaN</td>\n",
       "    </tr>\n",
       "    <tr>\n",
       "      <th>std</th>\n",
       "      <td>257.353842</td>\n",
       "      <td>0.486592</td>\n",
       "      <td>0.836071</td>\n",
       "      <td>NaN</td>\n",
       "      <td>NaN</td>\n",
       "      <td>14.526497</td>\n",
       "      <td>1.102743</td>\n",
       "      <td>0.806057</td>\n",
       "      <td>NaN</td>\n",
       "      <td>49.693429</td>\n",
       "      <td>NaN</td>\n",
       "      <td>NaN</td>\n",
       "    </tr>\n",
       "    <tr>\n",
       "      <th>min</th>\n",
       "      <td>1.000000</td>\n",
       "      <td>0.000000</td>\n",
       "      <td>1.000000</td>\n",
       "      <td>NaN</td>\n",
       "      <td>NaN</td>\n",
       "      <td>0.420000</td>\n",
       "      <td>0.000000</td>\n",
       "      <td>0.000000</td>\n",
       "      <td>NaN</td>\n",
       "      <td>0.000000</td>\n",
       "      <td>NaN</td>\n",
       "      <td>NaN</td>\n",
       "    </tr>\n",
       "    <tr>\n",
       "      <th>25%</th>\n",
       "      <td>223.500000</td>\n",
       "      <td>0.000000</td>\n",
       "      <td>2.000000</td>\n",
       "      <td>NaN</td>\n",
       "      <td>NaN</td>\n",
       "      <td>20.125000</td>\n",
       "      <td>0.000000</td>\n",
       "      <td>0.000000</td>\n",
       "      <td>NaN</td>\n",
       "      <td>7.910400</td>\n",
       "      <td>NaN</td>\n",
       "      <td>NaN</td>\n",
       "    </tr>\n",
       "    <tr>\n",
       "      <th>50%</th>\n",
       "      <td>446.000000</td>\n",
       "      <td>0.000000</td>\n",
       "      <td>3.000000</td>\n",
       "      <td>NaN</td>\n",
       "      <td>NaN</td>\n",
       "      <td>28.000000</td>\n",
       "      <td>0.000000</td>\n",
       "      <td>0.000000</td>\n",
       "      <td>NaN</td>\n",
       "      <td>14.454200</td>\n",
       "      <td>NaN</td>\n",
       "      <td>NaN</td>\n",
       "    </tr>\n",
       "    <tr>\n",
       "      <th>75%</th>\n",
       "      <td>668.500000</td>\n",
       "      <td>1.000000</td>\n",
       "      <td>3.000000</td>\n",
       "      <td>NaN</td>\n",
       "      <td>NaN</td>\n",
       "      <td>38.000000</td>\n",
       "      <td>1.000000</td>\n",
       "      <td>0.000000</td>\n",
       "      <td>NaN</td>\n",
       "      <td>31.000000</td>\n",
       "      <td>NaN</td>\n",
       "      <td>NaN</td>\n",
       "    </tr>\n",
       "    <tr>\n",
       "      <th>max</th>\n",
       "      <td>891.000000</td>\n",
       "      <td>1.000000</td>\n",
       "      <td>3.000000</td>\n",
       "      <td>NaN</td>\n",
       "      <td>NaN</td>\n",
       "      <td>80.000000</td>\n",
       "      <td>8.000000</td>\n",
       "      <td>6.000000</td>\n",
       "      <td>NaN</td>\n",
       "      <td>512.329200</td>\n",
       "      <td>NaN</td>\n",
       "      <td>NaN</td>\n",
       "    </tr>\n",
       "  </tbody>\n",
       "</table>\n",
       "</div>"
      ],
      "text/plain": [
       "        PassengerId    Survived      Pclass                  Name   Sex  \\\n",
       "count    891.000000  891.000000  891.000000                   891   891   \n",
       "unique          NaN         NaN         NaN                   891     2   \n",
       "top             NaN         NaN         NaN  Rice, Master. Arthur  male   \n",
       "freq            NaN         NaN         NaN                     1   577   \n",
       "mean     446.000000    0.383838    2.308642                   NaN   NaN   \n",
       "std      257.353842    0.486592    0.836071                   NaN   NaN   \n",
       "min        1.000000    0.000000    1.000000                   NaN   NaN   \n",
       "25%      223.500000    0.000000    2.000000                   NaN   NaN   \n",
       "50%      446.000000    0.000000    3.000000                   NaN   NaN   \n",
       "75%      668.500000    1.000000    3.000000                   NaN   NaN   \n",
       "max      891.000000    1.000000    3.000000                   NaN   NaN   \n",
       "\n",
       "               Age       SibSp       Parch    Ticket        Fare        Cabin  \\\n",
       "count   714.000000  891.000000  891.000000       891  891.000000          204   \n",
       "unique         NaN         NaN         NaN       681         NaN          147   \n",
       "top            NaN         NaN         NaN  CA. 2343         NaN  C23 C25 C27   \n",
       "freq           NaN         NaN         NaN         7         NaN            4   \n",
       "mean     29.699118    0.523008    0.381594       NaN   32.204208          NaN   \n",
       "std      14.526497    1.102743    0.806057       NaN   49.693429          NaN   \n",
       "min       0.420000    0.000000    0.000000       NaN    0.000000          NaN   \n",
       "25%      20.125000    0.000000    0.000000       NaN    7.910400          NaN   \n",
       "50%      28.000000    0.000000    0.000000       NaN   14.454200          NaN   \n",
       "75%      38.000000    1.000000    0.000000       NaN   31.000000          NaN   \n",
       "max      80.000000    8.000000    6.000000       NaN  512.329200          NaN   \n",
       "\n",
       "       Embarked  \n",
       "count       889  \n",
       "unique        3  \n",
       "top           S  \n",
       "freq        644  \n",
       "mean        NaN  \n",
       "std         NaN  \n",
       "min         NaN  \n",
       "25%         NaN  \n",
       "50%         NaN  \n",
       "75%         NaN  \n",
       "max         NaN  "
      ]
     },
     "execution_count": 6,
     "metadata": {},
     "output_type": "execute_result"
    }
   ],
   "source": [
    "# Describe data from each column\n",
    "titanic.describe(include = 'all')"
   ]
  },
  {
   "cell_type": "markdown",
   "metadata": {},
   "source": [
    "**What’s the average age of:**\n",
    "\n",
    "- Any Titanic passenger\n",
    "- A survivor\n",
    "- A non-surviving first-class passenger\n",
    "- Male survivors older than 30 from anywhere but Queenstown"
   ]
  },
  {
   "cell_type": "code",
   "execution_count": 7,
   "metadata": {},
   "outputs": [
    {
     "name": "stdout",
     "output_type": "stream",
     "text": [
      "Mean age of all Titanic passengers : 29.69911764705882\n",
      "Mean age of a Titanic survivor : 28.343689655172415\n",
      "Mean age of a non-surviving first-class passenger : 43.6953125\n",
      "Mean age of a male survivor over 30 not from Queenstown : 41.48780487804878\n"
     ]
    }
   ],
   "source": [
    "# Calculate average ages\n",
    "mean_age = titanic.Age.mean()\n",
    "mean_survivor_age = titanic[titanic.Survived == 1].Age.mean()\n",
    "mean_class1_nonsurvivor_age = titanic[(titanic.Pclass  == 1) & (titanic.Survived == 0)].Age.mean()\n",
    "mean_male_survivor_over30_notQ = titanic[(titanic.Sex == 'male') & (titanic.Survived == 1) & \\\n",
    "                                         (titanic.Age > 30) & (titanic.Embarked != 'Q')].Age.mean()\n",
    "\n",
    "# Print averages\n",
    "print(\"Mean age of all Titanic passengers : {}\".format(mean_age))\n",
    "print(\"Mean age of a Titanic survivor : {}\".format(mean_survivor_age))\n",
    "print(\"Mean age of a non-surviving first-class passenger : {}\".format(mean_class1_nonsurvivor_age))\n",
    "print(\"Mean age of a male survivor over 30 not from Queenstown : {}\".format(mean_male_survivor_over30_notQ))"
   ]
  },
  {
   "cell_type": "markdown",
   "metadata": {},
   "source": [
    "**For the groups from the previous task, how far (in years) are the average ages from the median ages?**"
   ]
  },
  {
   "cell_type": "code",
   "execution_count": 8,
   "metadata": {},
   "outputs": [
    {
     "name": "stdout",
     "output_type": "stream",
     "text": [
      "Median age of all Titanic passengers : 28.0\n",
      "Median age of a Titanic survivor : 28.0\n",
      "Median age of a non-surviving first-class passenger : 45.25\n",
      "Median age of a male survivor over 30 not from Queenstown : 38.0\n"
     ]
    }
   ],
   "source": [
    "# Calculate median ages\n",
    "median_age = titanic.Age.median()\n",
    "median_survivor_age = titanic[titanic.Survived == 1].Age.median()\n",
    "median_class1_nonsurvivor_age = titanic[(titanic.Pclass  == 1) & (titanic.Survived == 0)].Age.median()\n",
    "median_male_survivor_over30_notQ = titanic[(titanic.Sex == 'male') & (titanic.Survived == 1) & \\\n",
    "                                           (titanic.Age > 30) & (titanic.Embarked != 'Q')].Age.median()\n",
    "\n",
    "# Print medians\n",
    "print(\"Median age of all Titanic passengers : {}\".format(median_age))\n",
    "print(\"Median age of a Titanic survivor : {}\".format(median_survivor_age))\n",
    "print(\"Median age of a non-surviving first-class passenger : {}\".format(median_class1_nonsurvivor_age))\n",
    "print(\"Median age of a male survivor over 30 not from Queenstown : {}\".format(median_male_survivor_over30_notQ))"
   ]
  },
  {
   "cell_type": "code",
   "execution_count": 9,
   "metadata": {},
   "outputs": [
    {
     "name": "stdout",
     "output_type": "stream",
     "text": [
      "Differences between averages and medians:\n",
      "All passengers : 1.69911764705882\n",
      "All survivors : 0.34368965517241534\n",
      "Non-surviving first-class passengers : -1.5546875\n",
      "Male survivors over 30 not from Queenstown : 3.4878048780487774\n"
     ]
    }
   ],
   "source": [
    "# Calculate differences between means and medians for each group\n",
    "age_diff = mean_age - median_age\n",
    "survivor_age_diff = mean_survivor_age - median_survivor_age\n",
    "class1_nonsurvivor_age_diff = mean_class1_nonsurvivor_age - median_class1_nonsurvivor_age\n",
    "male_survivor_over30_notQ_diff = mean_male_survivor_over30_notQ - median_male_survivor_over30_notQ\n",
    "\n",
    "# Print difference between average and median for each group\n",
    "print(\"Differences between averages and medians:\")\n",
    "print(\"All passengers : {}\".format(age_diff))\n",
    "print(\"All survivors : {}\".format(survivor_age_diff))\n",
    "print(\"Non-surviving first-class passengers : {}\".format(class1_nonsurvivor_age_diff))\n",
    "print(\"Male survivors over 30 not from Queenstown : {}\".format(male_survivor_over30_notQ_diff))"
   ]
  },
  {
   "cell_type": "markdown",
   "metadata": {},
   "source": [
    "**What’s the most common:**\n",
    "- Passenger class\n",
    "- Port of Embarkation\n",
    "- Number of siblings or spouses aboard for survivors"
   ]
  },
  {
   "cell_type": "code",
   "execution_count": 10,
   "metadata": {},
   "outputs": [
    {
     "name": "stdout",
     "output_type": "stream",
     "text": [
      "Most common passenger class : 3\n",
      "Most common port of embarkation : S\n",
      "Most common number of siblings/spouses aboard for survivors : 0\n"
     ]
    }
   ],
   "source": [
    "# Calculate most common == mode for each request\n",
    "passenger_mode = titanic.Pclass.mode()[0]\n",
    "embark_mode = titanic.Embarked.mode()[0]\n",
    "sibsp_survivor_mode = titanic[titanic.Survived == 1].SibSp.mode()[0]\n",
    "\n",
    "# Print results\n",
    "print(\"Most common passenger class : {}\".format(passenger_mode))\n",
    "print(\"Most common port of embarkation : {}\".format(embark_mode))\n",
    "print(\"Most common number of siblings/spouses aboard for survivors : {}\".format(sibsp_survivor_mode))"
   ]
  },
  {
   "cell_type": "markdown",
   "metadata": {},
   "source": [
    "**Within what range of standard deviations from the mean (0-1, 1-2, 2-3) is the median ticket price? Is it above or below the mean?**"
   ]
  },
  {
   "cell_type": "code",
   "execution_count": 11,
   "metadata": {},
   "outputs": [
    {
     "name": "stdout",
     "output_type": "stream",
     "text": [
      "The median fare is between 0 and 1 standard deviations from the mean.\n"
     ]
    }
   ],
   "source": [
    "# Calculate mean and median ticket prices, along with standard deviation\n",
    "mean_price = titanic.Fare.mean()\n",
    "median_price = titanic.Fare.median()\n",
    "stdev_price = titanic.Fare.std()\n",
    "\n",
    "# Calculate range of standard deviations from the mean for the median ticket price\n",
    "zscore = (median_price - mean_price) / stdev_price\n",
    "bottom_range = math.floor(abs(zscore))\n",
    "top_range = math.ceil(abs(zscore))\n",
    "\n",
    "# Answer question\n",
    "print(\"The median fare is between {} and {} standard deviations from the mean.\".format(bottom_range, top_range))"
   ]
  },
  {
   "cell_type": "markdown",
   "metadata": {},
   "source": [
    "**How much more expensive was the 90th percentile ticket than the 5th percentile ticket? Are they the same class?**"
   ]
  },
  {
   "cell_type": "code",
   "execution_count": 12,
   "metadata": {},
   "outputs": [
    {
     "name": "stdout",
     "output_type": "stream",
     "text": [
      "The difference between the 90th and 5th percentile tickets was: $70.73.\n",
      "The 90% fare came from class 1.\n",
      "The 5% fare came from class 3.\n"
     ]
    }
   ],
   "source": [
    "# Determine price of 90th percentile and 5th percentile tickets\n",
    "fare_90th = np.percentile(titanic.Fare, 90)\n",
    "fare_5th = np.percentile(titanic.Fare, 5)\n",
    "print(\"The difference between the 90th and 5th percentile tickets was: ${:.2f}.\".format(fare_90th - fare_5th))\n",
    "\n",
    "# Determine the port of each percentile fare\n",
    "fares_sorted = titanic.sort_values(['Fare'])\n",
    "def percentile_class(percentile):\n",
    "    index = len(fares_sorted) * percentile // 100\n",
    "    return fares_sorted.iloc[index].Pclass\n",
    "print(\"The 90% fare came from class {}.\".format(percentile_class(90)))\n",
    "print(\"The 5% fare came from class {}.\".format(percentile_class(5)))"
   ]
  },
  {
   "cell_type": "markdown",
   "metadata": {},
   "source": [
    "**The highest average ticket price was paid by passengers from which port? Null ports don’t count.**"
   ]
  },
  {
   "cell_type": "code",
   "execution_count": 13,
   "metadata": {},
   "outputs": [
    {
     "name": "stdout",
     "output_type": "stream",
     "text": [
      "The highest average fare was $59.95, paid by passengers from Cherbourg.\n"
     ]
    }
   ],
   "source": [
    "# Select rows containing a valid port value\n",
    "port_df = titanic[titanic['Embarked'].notnull()]\n",
    "\n",
    "# Group by port\n",
    "port_groups = port_df.groupby(port_df.Embarked)\n",
    "\n",
    "# Average ticket price by port\n",
    "avg_port_fares = port_groups.Fare.mean()\n",
    "max_port = avg_port_fares.idxmax()\n",
    "max_avg = avg_port_fares.max()\n",
    "port_codes = { 'C' : 'Cherbourg', 'Q' : 'Queenstown', 'S' : 'Southampton' }\n",
    "print(\"The highest average fare was ${:.2f}, paid by passengers from {}.\".format(max_avg, port_codes[max_port]))"
   ]
  },
  {
   "cell_type": "markdown",
   "metadata": {},
   "source": [
    "**What is the most common passenger class for each port?**"
   ]
  },
  {
   "cell_type": "code",
   "execution_count": 14,
   "metadata": {},
   "outputs": [
    {
     "name": "stdout",
     "output_type": "stream",
     "text": [
      "The most common passenger class from Cherbourg is: 1.\n",
      "The most common passenger class from Queenstown is: 3.\n",
      "The most common passenger class from Southampton is: 3.\n"
     ]
    }
   ],
   "source": [
    "# Get passenger class modes per port group\n",
    "port_class_mode = titanic.groupby(titanic.Embarked).Pclass.apply(lambda x: x.mode()[0])\n",
    "print(\"The most common passenger class from Cherbourg is: {}.\".format(port_class_mode['C']))\n",
    "print(\"The most common passenger class from Queenstown is: {}.\".format(port_class_mode['Q']))\n",
    "print(\"The most common passenger class from Southampton is: {}.\".format(port_class_mode['S']))"
   ]
  },
  {
   "cell_type": "markdown",
   "metadata": {},
   "source": [
    "**What fraction of surviving 1st-class males paid lower than double the overall median ticket price?**"
   ]
  },
  {
   "cell_type": "code",
   "execution_count": 15,
   "metadata": {},
   "outputs": [
    {
     "name": "stdout",
     "output_type": "stream",
     "text": [
      "Proportion of surviving 1st class men who paid < 2x overall median fare: 0.24\n"
     ]
    }
   ],
   "source": [
    "# Who were the surviving 1st class males?\n",
    "surviving_class1_males = titanic[(titanic.Sex == \"male\") & (titanic.Survived == 1) & (titanic.Pclass == 1)]\n",
    "\n",
    "# Which among these paid lower than double the overall median ticket price (calculated above)?\n",
    "low_fare_group = surviving_class1_males[surviving_class1_males.Fare < (median_price * 2)]\n",
    "low_fare_fraction = low_fare_group.PassengerId.count() / surviving_class1_males.PassengerId.count()\n",
    "print(\"Proportion of surviving 1st class men who paid < 2x overall median fare: {:.2f}\".format(low_fare_fraction))"
   ]
  },
  {
   "cell_type": "markdown",
   "metadata": {},
   "source": [
    "**How much older/younger was the average surviving passenger with family members than the average non-surviving passenger without them?**"
   ]
  },
  {
   "cell_type": "code",
   "execution_count": 16,
   "metadata": {},
   "outputs": [
    {
     "name": "stdout",
     "output_type": "stream",
     "text": [
      "The avg survivor with family was 6.8 years younger than a non-survivor without family.\n"
     ]
    }
   ],
   "source": [
    "# Select rows containing a valid age value\n",
    "age_df = titanic.dropna(subset=['Age']) \n",
    "\n",
    "# Split dataframe into survivors with family members and non-survivors without family members\n",
    "survivor_has_fam = age_df[(age_df.Survived == 1) & ((age_df.SibSp > 0) | (age_df.Parch > 0))]\n",
    "nonsurvivor_no_fam = age_df[(age_df.Survived == 0) & ((age_df.SibSp == 0) | (age_df.Parch == 0))]\n",
    "\n",
    "# Identify mean ages of each group\n",
    "survivor_has_fam_meanAge = survivor_has_fam.Age.mean()\n",
    "nonsurvivor_no_fam_meanAge = nonsurvivor_no_fam.Age.mean()\n",
    "\n",
    "# Older or younger? And by how much?\n",
    "if survivor_has_fam_meanAge < nonsurvivor_no_fam_meanAge:\n",
    "    diff = nonsurvivor_no_fam_meanAge - survivor_has_fam_meanAge\n",
    "    print(\"The avg survivor with family was {:.1f} years younger than a non-survivor without family.\".format(diff))\n",
    "elif survivor_has_fam_meanAge > nonsurvivor_no_fam_meanAge:\n",
    "    diff = survivor_has_fam_meanAge - nonsurvivor_no_fam_meanAge\n",
    "    print(\"The avg survivor with family was {:.1f} years older than a non-survivor without family.\".format(diff))\n",
    "else:\n",
    "    print(\"The avg survivor with family was the same age as the avg non-survivor without family.\")"
   ]
  },
  {
   "cell_type": "markdown",
   "metadata": {},
   "source": [
    "**Display the relationship (i.e. make a plot) between survival rate and the quantile of the ticket price for 20 integer quantiles.**\n",
    "- To be clearer, what I want is for you to specify 20 quantiles, and for each of those quantiles divide the number of survivors in that quantile by the total number of people in that quantile. That’ll give you the survival rate in that quantile.\n",
    "- Then plot a line of the survival rate against the ticket fare quantiles.\n",
    "- Make sure you label your axes."
   ]
  },
  {
   "cell_type": "code",
   "execution_count": 17,
   "metadata": {},
   "outputs": [
    {
     "data": {
      "text/plain": [
       "0.00 : 7.22        0.068182\n",
       "7.22 : 7.55        0.181818\n",
       "7.55 : 7.75        0.318182\n",
       "7.75 : 7.88        0.272727\n",
       "7.88 : 7.92        0.136364\n",
       "7.92 : 8.05        0.227273\n",
       "8.05 : 9.22        0.136364\n",
       "9.22 : 10.50       0.272727\n",
       "10.50 : 13.00      0.500000\n",
       "13.00 : 14.46      0.340909\n",
       "14.50 : 16.70      0.409091\n",
       "16.70 : 23.00      0.477273\n",
       "23.00 : 26.00      0.409091\n",
       "26.00 : 27.75      0.568182\n",
       "27.75 : 31.27      0.363636\n",
       "31.27 : 42.40      0.409091\n",
       "46.90 : 57.00      0.545455\n",
       "57.00 : 79.20      0.545455\n",
       "79.20 : 133.65     0.795455\n",
       "134.50 : 512.33    0.714286\n",
       "dtype: float64"
      ]
     },
     "execution_count": 17,
     "metadata": {},
     "output_type": "execute_result"
    }
   ],
   "source": [
    "# Specify 20 fare quantiles\n",
    "total = len(fares_sorted)\n",
    "breaks = 20\n",
    "span = math.ceil(total / breaks)\n",
    "\n",
    "# Calculate survival rates (number of survivors in each quartile by total number of people in each quartile)\n",
    "survival_rates = pd.Series()\n",
    "for i in range(0, total, span):\n",
    "    end = (i + (span - 1)) if (i + span) < total else (total - 1)\n",
    "    quantile = fares_sorted.iloc[i:end]\n",
    "    rate = len(quantile[quantile.Survived == 1]) / len(quantile)\n",
    "    label = \"{:.2f} : {:.2f}\".format(fares_sorted.iloc[i]['Fare'], fares_sorted.iloc[end]['Fare'])\n",
    "    survival_rates[label] = rate\n",
    "survival_rates"
   ]
  },
  {
   "cell_type": "code",
   "execution_count": 18,
   "metadata": {},
   "outputs": [
    {
     "data": {
      "image/png": "[encoded data removed]",
      "text/plain": [
       "<matplotlib.figure.Figure at 0x119311fd0>"
      ]
     },
     "metadata": {},
     "output_type": "display_data"
    }
   ],
   "source": [
    "# Plot survival rate vs ticket fare quantiles\n",
    "survival_rates.plot(figsize = (12, 5), xticks = range(0, 20), rot = 90, color = 'blue', linewidth = 2.0)\n",
    "plt.ylabel('Fraction of survivors')\n",
    "plt.xlabel('Quantile for ticket price')\n",
    "plt.title('Survival rate by ticket price');"
   ]
  },
  {
   "cell_type": "markdown",
   "metadata": {},
   "source": [
    "**For each of the following characteristics, find the median in the data:**\n",
    "- Age\n",
    "- Ticket price\n",
    "- Siblings/spouses\n",
    "- Parents/children"
   ]
  },
  {
   "cell_type": "code",
   "execution_count": 19,
   "metadata": {},
   "outputs": [
    {
     "name": "stdout",
     "output_type": "stream",
     "text": [
      "Median age: 28.0\n",
      "Median ticket price: 14.4542\n",
      "Median number of siblings/spouses: 0.0\n",
      "Median number of parents/children: 0.0\n"
     ]
    }
   ],
   "source": [
    "# Median characteristics\n",
    "median_age = titanic.Age.median()\n",
    "median_fare = titanic.Fare.median()\n",
    "median_sibsp = titanic.SibSp.median()\n",
    "median_parch = titanic.Parch.median()\n",
    "\n",
    "# Print results\n",
    "print(\"Median age: {}\".format(median_age))\n",
    "print(\"Median ticket price: {}\".format(median_fare))\n",
    "print(\"Median number of siblings/spouses: {}\".format(median_sibsp))\n",
    "print(\"Median number of parents/children: {}\".format(median_parch))"
   ]
  },
  {
   "cell_type": "markdown",
   "metadata": {},
   "source": [
    "**If you were to use these medians to draw numerical boundaries separating survivors from non-survivors, which of these characteristics would be the best choice and why?**"
   ]
  },
  {
   "cell_type": "code",
   "execution_count": 20,
   "metadata": {},
   "outputs": [
    {
     "name": "stdout",
     "output_type": "stream",
     "text": [
      "Below median age: 0.4088397790055249\n",
      "Above median age: 0.4034090909090909\n",
      "Difference (above - below): -0.005430688096433989\n"
     ]
    }
   ],
   "source": [
    "# Find samples at/below and above median for age\n",
    "below_med_age = titanic[titanic.Age <= median_age]\n",
    "above_med_age = titanic[titanic.Age > median_age]\n",
    "\n",
    "# Calculate survival rates for each group\n",
    "survRate_belowMedAge = len(below_med_age[below_med_age.Survived == 1]) / len(below_med_age)\n",
    "survRate_aboveMedAge = len(above_med_age[above_med_age.Survived == 1]) / len(above_med_age)\n",
    "\n",
    "# Print results\n",
    "print(\"Below median age: {}\".format(survRate_belowMedAge))\n",
    "print(\"Above median age: {}\".format(survRate_aboveMedAge))\n",
    "print(\"Difference (above - below): {}\".format(survRate_aboveMedAge - survRate_belowMedAge))"
   ]
  },
  {
   "cell_type": "code",
   "execution_count": 21,
   "metadata": {},
   "outputs": [
    {
     "name": "stdout",
     "output_type": "stream",
     "text": [
      "Below median ticket price: 0.2505592841163311\n",
      "Above median ticket price: 0.5180180180180181\n",
      "Difference (above - below): 0.26745873390168695\n"
     ]
    }
   ],
   "source": [
    "# Find samples at/below and above median for ticket price\n",
    "below_med_fare = titanic[titanic.Fare <= median_fare]\n",
    "above_med_fare = titanic[titanic.Fare > median_fare]\n",
    "\n",
    "# Calculate survival rates for each group\n",
    "survRate_belowMedFare = len(below_med_fare[below_med_fare.Survived == 1]) / len(below_med_fare)\n",
    "survRate_aboveMedFare = len(above_med_fare[above_med_fare.Survived == 1]) / len(above_med_fare)\n",
    "\n",
    "# Print results\n",
    "print(\"Below median ticket price: {}\".format(survRate_belowMedFare))\n",
    "print(\"Above median ticket price: {}\".format(survRate_aboveMedFare))\n",
    "print(\"Difference (above - below): {}\".format(survRate_aboveMedFare - survRate_belowMedFare))"
   ]
  },
  {
   "cell_type": "code",
   "execution_count": 22,
   "metadata": {},
   "outputs": [
    {
     "name": "stdout",
     "output_type": "stream",
     "text": [
      "Below median number of siblings/spouses: 0.34539473684210525\n",
      "Above median number of siblings/spouses: 0.4664310954063604\n",
      "Difference (above - below): 0.12103635856425515\n"
     ]
    }
   ],
   "source": [
    "# Find samples at/below and above median for number of siblings/spouses\n",
    "below_med_sibsp = titanic[titanic.SibSp <= median_sibsp]\n",
    "above_med_sibsp = titanic[titanic.SibSp > median_sibsp]\n",
    "\n",
    "# Calculate survival rates for each group\n",
    "survRate_belowMedSibSp = len(below_med_sibsp[below_med_sibsp.Survived == 1]) / len(below_med_sibsp)\n",
    "survRate_aboveMedSibSp = len(above_med_sibsp[above_med_sibsp.Survived == 1]) / len(above_med_sibsp)\n",
    "\n",
    "# Print results\n",
    "print(\"Below median number of siblings/spouses: {}\".format(survRate_belowMedSibSp))\n",
    "print(\"Above median number of siblings/spouses: {}\".format(survRate_aboveMedSibSp))\n",
    "print(\"Difference (above - below): {}\".format(survRate_aboveMedSibSp - survRate_belowMedSibSp))"
   ]
  },
  {
   "cell_type": "code",
   "execution_count": 23,
   "metadata": {},
   "outputs": [
    {
     "name": "stdout",
     "output_type": "stream",
     "text": [
      "Below median number of parents/children: 0.34365781710914456\n",
      "Above median number of parents/children: 0.5117370892018779\n",
      "Difference (above - below): 0.16807927209273332\n"
     ]
    }
   ],
   "source": [
    "# Find samples at/below and above median for number of parents/children\n",
    "below_med_parch = titanic[titanic.Parch <= median_parch]\n",
    "above_med_parch = titanic[titanic.Parch > median_parch]\n",
    "\n",
    "# Calculate survival rates for each group\n",
    "survRate_belowMedParch = len(below_med_parch[below_med_parch.Survived == 1]) / len(below_med_parch)\n",
    "survRate_aboveMedParch = len(above_med_parch[above_med_parch.Survived == 1]) / len(above_med_parch)\n",
    "\n",
    "# Print results\n",
    "print(\"Below median number of parents/children: {}\".format(survRate_belowMedParch))\n",
    "print(\"Above median number of parents/children: {}\".format(survRate_aboveMedParch))\n",
    "print(\"Difference (above - below): {}\".format(survRate_aboveMedParch - survRate_belowMedParch))"
   ]
  },
  {
   "cell_type": "raw",
   "metadata": {
    "collapsed": true
   },
   "source": [
    "The best choice of characteristic for distinguishing survivors and non-survivors based on median is using median ticket price. This item has the largest difference in survival between those passengers at/below the median as compared to those above the median value."
   ]
  },
  {
   "cell_type": "markdown",
   "metadata": {},
   "source": [
    "**Plot the distribution of passenger ages. Choose visually-meaningful bin sizes and label your axes.**"
   ]
  },
  {
   "cell_type": "code",
   "execution_count": 24,
   "metadata": {},
   "outputs": [
    {
     "data": {
      "image/png": "[encoded data removed]",
      "text/plain": [
       "<matplotlib.figure.Figure at 0x119311860>"
      ]
     },
     "metadata": {},
     "output_type": "display_data"
    }
   ],
   "source": [
    "# Plot histogram of passenger ages\n",
    "plt.hist(age_df.Age, bins = 25, color = 'blue')\n",
    "plt.axis([0, 80, 0, 85])\n",
    "plt.xlabel('Passenger Age')\n",
    "plt.ylabel('Frequency')\n",
    "plt.title('Distribution of passenger ages');"
   ]
  },
  {
   "cell_type": "markdown",
   "metadata": {},
   "source": [
    "**Find the probability that:**\n",
    "- A passenger survived\n",
    "- A passenger was male\n",
    "- A passenger was female and had at least one sibling or spouse on board\n",
    "- A survivor was from Cherbourg\n",
    "- A passenger was less than 10 years old\n",
    "- A passenger was between 25 and 40 years old\n",
    "- A passenger was either younger than 20 years old or older than 50"
   ]
  },
  {
   "cell_type": "code",
   "execution_count": 25,
   "metadata": {},
   "outputs": [
    {
     "data": {
      "text/plain": [
       "0.3838383838383838"
      ]
     },
     "execution_count": 25,
     "metadata": {},
     "output_type": "execute_result"
    }
   ],
   "source": [
    "# Probability that a passenger survived\n",
    "survived_prob = len(titanic[titanic.Survived == 1]) / len(titanic)\n",
    "survived_prob"
   ]
  },
  {
   "cell_type": "code",
   "execution_count": 26,
   "metadata": {},
   "outputs": [
    {
     "data": {
      "text/plain": [
       "0.6475869809203143"
      ]
     },
     "execution_count": 26,
     "metadata": {},
     "output_type": "execute_result"
    }
   ],
   "source": [
    "# Probability that a passenger was male\n",
    "male_prob = len(titanic[titanic.Sex == 'male']) / len(titanic)\n",
    "male_prob"
   ]
  },
  {
   "cell_type": "code",
   "execution_count": 27,
   "metadata": {},
   "outputs": [
    {
     "data": {
      "text/plain": [
       "0.15712682379349047"
      ]
     },
     "execution_count": 27,
     "metadata": {},
     "output_type": "execute_result"
    }
   ],
   "source": [
    "# Probability that a passenger was female and had at least one sibling or spouse on board\n",
    "female_sibsp_prob = len(titanic[(titanic.Sex == 'female') & (titanic.SibSp >= 1)]) / len(titanic)\n",
    "female_sibsp_prob"
   ]
  },
  {
   "cell_type": "code",
   "execution_count": 28,
   "metadata": {},
   "outputs": [
    {
     "data": {
      "text/plain": [
       "0.2719298245614035"
      ]
     },
     "execution_count": 28,
     "metadata": {},
     "output_type": "execute_result"
    }
   ],
   "source": [
    "# Probability that a survivor was from Cherbourg\n",
    "survivor = titanic[titanic.Survived == 1]\n",
    "survivor_C_prob = len(survivor[survivor.Embarked == 'C']) / len(survivor)\n",
    "survivor_C_prob"
   ]
  },
  {
   "cell_type": "code",
   "execution_count": 29,
   "metadata": {},
   "outputs": [
    {
     "data": {
      "text/plain": [
       "0.06958473625140292"
      ]
     },
     "execution_count": 29,
     "metadata": {},
     "output_type": "execute_result"
    }
   ],
   "source": [
    "# Probability that a passenger was less than 10 years old\n",
    "under10_prob = len(titanic[titanic.Age < 10]) / len(titanic)\n",
    "under10_prob"
   ]
  },
  {
   "cell_type": "code",
   "execution_count": 30,
   "metadata": {},
   "outputs": [
    {
     "data": {
      "text/plain": [
       "0.32098765432098764"
      ]
     },
     "execution_count": 30,
     "metadata": {},
     "output_type": "execute_result"
    }
   ],
   "source": [
    "# Probability that a passenger was between 25 and 40 years old\n",
    "between25and40_prob = len(titanic[(titanic.Age >= 25) & (titanic.Age <= 40)]) / len(titanic)\n",
    "between25and40_prob"
   ]
  },
  {
   "cell_type": "code",
   "execution_count": 31,
   "metadata": {},
   "outputs": [
    {
     "data": {
      "text/plain": [
       "0.2558922558922559"
      ]
     },
     "execution_count": 31,
     "metadata": {},
     "output_type": "execute_result"
    }
   ],
   "source": [
    "# Probability that a passenger was either younger than 20 years old or older than 50\n",
    "under20_over50_prob = len(titanic[(titanic.Age < 20) | (titanic.Age > 50)]) / len(titanic)\n",
    "under20_over50_prob"
   ]
  },
  {
   "cell_type": "markdown",
   "metadata": {},
   "source": [
    "**Knowing nothing else about the passengers aside from the survival rate of the population (see question above), if I choose 100 passengers at random from the passenger list, what’s the probability that exactly 42 passengers survive?**"
   ]
  },
  {
   "cell_type": "code",
   "execution_count": 32,
   "metadata": {},
   "outputs": [
    {
     "data": {
      "text/plain": [
       "0.061330411815167886"
      ]
     },
     "execution_count": 32,
     "metadata": {},
     "output_type": "execute_result"
    }
   ],
   "source": [
    "stats.binom.pmf(k = 42, n = 100, p = survived_prob)"
   ]
  },
  {
   "cell_type": "markdown",
   "metadata": {},
   "source": [
    "**What’s the probability that at least 42 of those 100 passengers survive?**"
   ]
  },
  {
   "cell_type": "code",
   "execution_count": 33,
   "metadata": {},
   "outputs": [
    {
     "data": {
      "text/plain": [
       "0.25940724207261701"
      ]
     },
     "execution_count": 33,
     "metadata": {},
     "output_type": "execute_result"
    }
   ],
   "source": [
    "prob_atLeast42 = 1 - stats.binom.cdf(k = 41, n = 100, p = survived_prob)\n",
    "prob_atLeast42"
   ]
  },
  {
   "cell_type": "markdown",
   "metadata": {},
   "source": [
    "**Take random samples of 100 passengers and find out how many you need before the fraction of those samples where at least 42 passengers survive matches the probability you calculated previously (within Δp≈0.05).**\n",
    "\n",
    "Answers will vary based on chosen seeds. What would happen if you drew every sample with the same seed?\n",
    "\n",
    "Plot the survival fraction vs the number of random samples."
   ]
  },
  {
   "cell_type": "code",
   "execution_count": 34,
   "metadata": {},
   "outputs": [
    {
     "name": "stdout",
     "output_type": "stream",
     "text": [
      "It took 4 iterations to reach a cumulative fraction of 0.25.\n"
     ]
    }
   ],
   "source": [
    "# Set up data frame to hold results\n",
    "samples = pd.DataFrame(index = ['survivors', 'at_least_42', 'cum_fraction'])\n",
    "cum_fraction = 0\n",
    "\n",
    "# Iterate until cumulative fraction matches previous calculation within tolerance\n",
    "seed = 1\n",
    "index = 1\n",
    "while abs(cum_fraction - prob_atLeast42) >= 0.05:\n",
    "    sample = titanic.sample(n = 100, random_state = seed)\n",
    "    survivors = sample.Survived.sum()\n",
    "    at_least_42 = survivors >= 42\n",
    "    n_prev_successes = samples.transpose()['at_least_42'].sum()\n",
    "    cum_fraction = (at_least_42 + n_prev_successes) / (1 + len(samples.columns))\n",
    "    samples[index] = [survivors, at_least_42, cum_fraction]\n",
    "    index += 1\n",
    "    seed += 1\n",
    "    \n",
    "print(\"It took {} iterations to reach a cumulative fraction of {}.\".format(index - 1, cum_fraction))"
   ]
  },
  {
   "cell_type": "raw",
   "metadata": {},
   "source": [
    "If the seed were not changed with each iteration, the same sample would be drawn each round and would not represent changes in proportions due to sampling effects. Moreover, if the first sample did not result in at least 42 survivors, the algorithm would never converge but would instead remain at a cumulative fraction of 0."
   ]
  },
  {
   "cell_type": "markdown",
   "metadata": {},
   "source": [
    "**Is there a statistically significant difference between:**\n",
    "- The ages of male and female survivors?\n",
    "- The fares paid by passengers from Queenstown and the passengers from Cherbourg?\n",
    "\n",
    "**Use a 95% confidence level.**"
   ]
  },
  {
   "cell_type": "code",
   "execution_count": 35,
   "metadata": {},
   "outputs": [
    {
     "data": {
      "text/plain": [
       "Ttest_indResult(statistic=-0.79089662277024664, pvalue=0.43018823932007377)"
      ]
     },
     "execution_count": 35,
     "metadata": {},
     "output_type": "execute_result"
    }
   ],
   "source": [
    "# Ages of male and female survivors\n",
    "male_survivors = age_df[(age_df.Sex == 'male') & (age_df.Survived == 1)]\n",
    "female_survivors = age_df[(age_df.Sex == 'female') & (age_df.Survived == 1)]\n",
    "stats.ttest_ind(a = male_survivors.Age, b = female_survivors.Age, equal_var = False)"
   ]
  },
  {
   "cell_type": "code",
   "execution_count": 36,
   "metadata": {},
   "outputs": [
    {
     "data": {
      "text/plain": [
       "Ttest_indResult(statistic=-6.9951971047186809, pvalue=4.5792033919567422e-11)"
      ]
     },
     "execution_count": 36,
     "metadata": {},
     "output_type": "execute_result"
    }
   ],
   "source": [
    "# Fares paid by passengers from Queenstown and passengers from Cherbourg\n",
    "Q_passengers = titanic[titanic.Embarked == 'Q']\n",
    "C_passengers = titanic[titanic.Embarked == 'C']\n",
    "stats.ttest_ind(a = Q_passengers.Fare, b = C_passengers.Fare, equal_var = False)"
   ]
  },
  {
   "cell_type": "raw",
   "metadata": {},
   "source": [
    "There is no statistically significant difference (p < 0.05) between ages of male and female survivors. However, there is a statistically significant difference in the fares paid by passengers from Queenstown versus those from Cherbourg."
   ]
  },
  {
   "cell_type": "markdown",
   "metadata": {},
   "source": [
    "**Accompany your p-values with histograms showing the distributions of both compared populations.**"
   ]
  },
  {
   "cell_type": "code",
   "execution_count": 37,
   "metadata": {},
   "outputs": [
    {
     "data": {
      "image/png": "[encoded data removed]",
      "text/plain": [
       "<matplotlib.figure.Figure at 0x119738438>"
      ]
     },
     "metadata": {},
     "output_type": "display_data"
    }
   ],
   "source": [
    "# Ages of male and female survivors\n",
    "plt.hist(male_survivors.Age, bins = 25, color = 'blue', histtype = 'step', label = 'Male')\n",
    "plt.hist(female_survivors.Age, bins = 25, color = 'red', histtype = 'step', label = 'Female')\n",
    "plt.xlabel('Passenger Age')\n",
    "plt.ylabel('Frequency')\n",
    "plt.legend(loc = 'best')\n",
    "plt.title('Age Distributions of Male vs Female Survivors');"
   ]
  },
  {
   "cell_type": "code",
   "execution_count": 38,
   "metadata": {},
   "outputs": [
    {
     "data": {
      "image/png": "[encoded data removed]",
      "text/plain": [
       "<matplotlib.figure.Figure at 0x11973dac8>"
      ]
     },
     "metadata": {},
     "output_type": "display_data"
    }
   ],
   "source": [
    "# Fares paid by passengers from Queenstown and passengers from Cherbourg\n",
    "plt.hist(Q_passengers.Fare, bins = 10, color = 'blue', histtype = 'step', label = 'Queenstown')\n",
    "plt.hist(C_passengers.Fare, bins = 10, color = 'red', histtype = 'step', label = 'Cherbourg')\n",
    "plt.xlabel('Ticket price')\n",
    "plt.ylabel('Frequency')\n",
    "plt.legend(loc = 'best')\n",
    "plt.title('Fare Distributions from Queenstown vs Cherbourg');"
   ]
  },
  {
   "cell_type": "markdown",
   "metadata": {},
   "source": [
    "**Did survivors pay more for their tickets than those that did not? Use a 95% confidence level.**"
   ]
  },
  {
   "cell_type": "code",
   "execution_count": 39,
   "metadata": {},
   "outputs": [
    {
     "name": "stdout",
     "output_type": "stream",
     "text": [
      "Mean Survivor Fare : 48.39540760233917, Mean Non-survivor Fare : 22.117886885245877\n"
     ]
    },
    {
     "data": {
      "text/plain": [
       "Ttest_indResult(statistic=6.8390992590852537, pvalue=2.6993323503141236e-11)"
      ]
     },
     "execution_count": 39,
     "metadata": {},
     "output_type": "execute_result"
    }
   ],
   "source": [
    "# Define survivor/non-survivor\n",
    "survivor = titanic[titanic.Survived == 1]\n",
    "nonsurvivor = titanic[titanic.Survived == 0]\n",
    "\n",
    "print(\"Mean Survivor Fare : {}, Mean Non-survivor Fare : {}\".format(survivor.Fare.mean(), nonsurvivor.Fare.mean()))\n",
    "stats.ttest_ind(a = survivor.Fare, b = nonsurvivor.Fare, equal_var = False)"
   ]
  },
  {
   "cell_type": "raw",
   "metadata": {},
   "source": [
    "Survivors did pay significantly more (p < 0.05) than non-survivors."
   ]
  },
  {
   "cell_type": "markdown",
   "metadata": {},
   "source": [
    "**Did a given first-class passenger have fewer family members on board than a given third-class passenger? Use a 95% confidence level.**"
   ]
  },
  {
   "cell_type": "code",
   "execution_count": 40,
   "metadata": {},
   "outputs": [
    {
     "name": "stdout",
     "output_type": "stream",
     "text": [
      "Mean 1st class family totals : 0.7731481481481481\n",
      "Mean 3rd class family totals : 1.0081466395112015\n"
     ]
    },
    {
     "data": {
      "text/plain": [
       "Ttest_indResult(statistic=-2.0799075748873195, pvalue=0.037907385748521927)"
      ]
     },
     "execution_count": 40,
     "metadata": {},
     "output_type": "execute_result"
    }
   ],
   "source": [
    "# Create total family member column\n",
    "titanic['fam_total'] = titanic.SibSp + titanic.Parch\n",
    "\n",
    "# Identify first-class and third-class passenger groups\n",
    "first_class = titanic[titanic.Pclass == 1]\n",
    "third_class = titanic[titanic.Pclass == 3]\n",
    "\n",
    "print(\"Mean 1st class family totals : {}\".format(first_class.fam_total.mean()))\n",
    "print(\"Mean 3rd class family totals : {}\".format(third_class.fam_total.mean()))\n",
    "stats.ttest_ind(a = first_class.fam_total, b = third_class.fam_total, equal_var = False)"
   ]
  },
  {
   "cell_type": "raw",
   "metadata": {},
   "source": [
    "A given first-class passenger has fewer family member on board than a given third-class passenger (p < 0.05)."
   ]
  }
 ],
 "metadata": {
  "anaconda-cloud": {},
  "kernelspec": {
   "display_name": "Python 3",
   "language": "python",
   "name": "python3"
  },
  "language_info": {
   "codemirror_mode": {
    "name": "ipython",
    "version": 3
   },
   "file_extension": ".py",
   "mimetype": "text/x-python",
   "name": "python",
   "nbconvert_exporter": "python",
   "pygments_lexer": "ipython3",
   "version": "3.6.1"
  }
 },
 "nbformat": 4,
 "nbformat_minor": 1
}

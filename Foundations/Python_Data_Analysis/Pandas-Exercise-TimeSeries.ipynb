{
 "cells": [
  {
   "cell_type": "markdown",
   "metadata": {
    "collapsed": true
   },
   "source": [
    "# Pandas Exercise\n",
    "\n",
    "When working on real world data tasks, you'll quickly realize that a large portion of your time is spent manipulating raw data into a form that you can actually work with, a process often called *data munging* or *data wrangling*.  Different programming langauges have different methods and packages to handle this task, with varying degrees of ease, and luckily for us, Python has an excellent one called Pandas which we will be using in this exercise."
   ]
  },
  {
   "cell_type": "code",
   "execution_count": 1,
   "metadata": {
    "collapsed": true
   },
   "outputs": [],
   "source": [
    "# Import pandas\n",
    "import pandas as pd\n",
    "\n",
    "# Imports for stock prices\n",
    "import datetime as dt\n",
    "import pandas_datareader.data as web"
   ]
  },
  {
   "cell_type": "markdown",
   "metadata": {},
   "source": [
    "## Time Series\n",
    "In many situations you may not know the relationship between two variables but you do know that there ought to be one.  Take for example the daily price of beef and grain.  It is reasonable to assume that there exists *some*, perhaps even  a causal, relationship between these two, but due to the complexity of the phenomenon, and the vast number of underlying latent variables involved (fuel price, politics, famine, etc...), you likely have little hope to uncover such a relationship in a reasonable amount of time.  However, you do know that these two variables *are* related in time and may exibit some pattern that repeats itself in time.  Identifying these types of patterns is called Time Series Analysis and sequencing your data such that each data point is represented as a unique point in time is called a Time Series.  The canonical example of a Time Series is, of course, stock market data which is what we will be using for this exercise\n",
    "\n",
    "Do the following exercises.\n",
    "\n",
    "1. Create a `start` and `end` `datetime` object, starting at a date of your choosing and ending today.\n",
    "1. For three stocks of your choosing, put their symbols into a list and use pandas to [retrieve their data](http://pandas-datareader.readthedocs.io/en/latest/remote_data.html) from google for the time frame you created in part (1).  Print the results.\n",
    "1. Create a Data Frame called `stock_open` for the open prices of the stocks you retrieved in part (2).  Print the first few rows.\n",
    "1. Compute the total, average, and maximum price for each stock weekly.\n",
    "1. For each stock, return the weeks for which the opening stock price was greater than the yearly daily average."
   ]
  },
  {
   "cell_type": "code",
   "execution_count": 2,
   "metadata": {},
   "outputs": [],
   "source": [
    "# Question 1\n",
    "start = dt.datetime(2017, 1, 1)\n",
    "end = dt.datetime.today()"
   ]
  },
  {
   "cell_type": "code",
   "execution_count": 3,
   "metadata": {},
   "outputs": [
    {
     "data": {
      "text/plain": [
       "<class 'pandas.core.panel.Panel'>\n",
       "Dimensions: 5 (items) x 142 (major_axis) x 3 (minor_axis)\n",
       "Items axis: Open to Volume\n",
       "Major_axis axis: 2017-01-03 00:00:00 to 2017-07-26 00:00:00\n",
       "Minor_axis axis: AAPL to TGT"
      ]
     },
     "execution_count": 3,
     "metadata": {},
     "output_type": "execute_result"
    }
   ],
   "source": [
    "# Question 2\n",
    "# AAPL = Apple, LUV = Southwest Airlines, TGT = Target Corporation\n",
    "stocks = ['AAPL', 'LUV', 'TGT']\n",
    "data = web.DataReader(stocks, 'google', start, end)\n",
    "data"
   ]
  },
  {
   "cell_type": "code",
   "execution_count": 4,
   "metadata": {},
   "outputs": [
    {
     "data": {
      "text/html": [
       "<div>\n",
       "<style>\n",
       "    .dataframe thead tr:only-child th {\n",
       "        text-align: right;\n",
       "    }\n",
       "\n",
       "    .dataframe thead th {\n",
       "        text-align: left;\n",
       "    }\n",
       "\n",
       "    .dataframe tbody tr th {\n",
       "        vertical-align: top;\n",
       "    }\n",
       "</style>\n",
       "<table border=\"1\" class=\"dataframe\">\n",
       "  <thead>\n",
       "    <tr style=\"text-align: right;\">\n",
       "      <th></th>\n",
       "      <th>AAPL</th>\n",
       "      <th>LUV</th>\n",
       "      <th>TGT</th>\n",
       "    </tr>\n",
       "    <tr>\n",
       "      <th>Date</th>\n",
       "      <th></th>\n",
       "      <th></th>\n",
       "      <th></th>\n",
       "    </tr>\n",
       "  </thead>\n",
       "  <tbody>\n",
       "    <tr>\n",
       "      <th>2017-01-03</th>\n",
       "      <td>115.80</td>\n",
       "      <td>50.40</td>\n",
       "      <td>72.66</td>\n",
       "    </tr>\n",
       "    <tr>\n",
       "      <th>2017-01-04</th>\n",
       "      <td>115.85</td>\n",
       "      <td>50.25</td>\n",
       "      <td>73.10</td>\n",
       "    </tr>\n",
       "    <tr>\n",
       "      <th>2017-01-05</th>\n",
       "      <td>115.92</td>\n",
       "      <td>51.44</td>\n",
       "      <td>72.33</td>\n",
       "    </tr>\n",
       "    <tr>\n",
       "      <th>2017-01-06</th>\n",
       "      <td>116.78</td>\n",
       "      <td>50.49</td>\n",
       "      <td>71.98</td>\n",
       "    </tr>\n",
       "    <tr>\n",
       "      <th>2017-01-09</th>\n",
       "      <td>117.95</td>\n",
       "      <td>50.00</td>\n",
       "      <td>71.55</td>\n",
       "    </tr>\n",
       "  </tbody>\n",
       "</table>\n",
       "</div>"
      ],
      "text/plain": [
       "              AAPL    LUV    TGT\n",
       "Date                            \n",
       "2017-01-03  115.80  50.40  72.66\n",
       "2017-01-04  115.85  50.25  73.10\n",
       "2017-01-05  115.92  51.44  72.33\n",
       "2017-01-06  116.78  50.49  71.98\n",
       "2017-01-09  117.95  50.00  71.55"
      ]
     },
     "execution_count": 4,
     "metadata": {},
     "output_type": "execute_result"
    }
   ],
   "source": [
    "# Question 3\n",
    "stock_open = data['Open']\n",
    "stock_open.head()"
   ]
  },
  {
   "cell_type": "code",
   "execution_count": 5,
   "metadata": {},
   "outputs": [
    {
     "name": "stdout",
     "output_type": "stream",
     "text": [
      "Total:\n",
      "             AAPL     LUV     TGT\n",
      "week year                        \n",
      "1    2017  464.35  202.58  290.07\n",
      "2    2017  593.47  255.00  357.11\n",
      "3    2017  478.19  201.54  270.48\n",
      "4    2017  603.78  255.72  322.05\n",
      "5    2017  625.40  262.01  319.25\n",
      "\n",
      "Average:\n",
      "               AAPL     LUV      TGT\n",
      "week year                           \n",
      "1    2017  116.0875  50.645  72.5175\n",
      "2    2017  118.6940  51.000  71.4220\n",
      "3    2017  119.5475  50.385  67.6200\n",
      "4    2017  120.7560  51.144  64.4100\n",
      "5    2017  125.0800  52.402  63.8500\n",
      "\n",
      "Maximum:\n",
      "             AAPL    LUV    TGT\n",
      "week year                      \n",
      "1    2017  116.78  51.44  73.10\n",
      "2    2017  119.11  51.77  71.68\n",
      "3    2017  120.45  50.88  70.76\n",
      "4    2017  122.14  54.08  64.85\n",
      "5    2017  128.31  53.00  63.98\n"
     ]
    }
   ],
   "source": [
    "# Question 4\n",
    "# Compute the total, average, and maximum price for each stock weekly.\n",
    "# Break into week and year to avoid mixing previous years\n",
    "stock_open['week'] = stock_open.index.week\n",
    "stock_open['year'] = stock_open.index.year\n",
    "\n",
    "# Totals\n",
    "totals_by_week = stock_open.groupby(['week', 'year']).sum()\n",
    "print(\"Total:\")\n",
    "print(totals_by_week.head())\n",
    "\n",
    "# Averages\n",
    "means_by_week = stock_open.groupby(['week', 'year']).mean()\n",
    "print(\"\\nAverage:\")\n",
    "print(means_by_week.head())\n",
    "\n",
    "# Maximums\n",
    "max_by_week = stock_open.groupby(['week', 'year']).max()\n",
    "print(\"\\nMaximum:\")\n",
    "print(max_by_week.head())"
   ]
  },
  {
   "cell_type": "code",
   "execution_count": 6,
   "metadata": {},
   "outputs": [],
   "source": [
    "# Question 5\n",
    "above_average = []\n",
    "for stock in stocks:\n",
    "    average = stock_open[stock].mean()\n",
    "    above_average.append(means_by_week[stock][means_by_week[stock] > average])"
   ]
  }
 ],
 "metadata": {
  "anaconda-cloud": {},
  "kernelspec": {
   "display_name": "Python 3",
   "language": "python",
   "name": "python3"
  },
  "language_info": {
   "codemirror_mode": {
    "name": "ipython",
    "version": 3
   },
   "file_extension": ".py",
   "mimetype": "text/x-python",
   "name": "python",
   "nbconvert_exporter": "python",
   "pygments_lexer": "ipython3",
   "version": "3.6.1"
  }
 },
 "nbformat": 4,
 "nbformat_minor": 2
}

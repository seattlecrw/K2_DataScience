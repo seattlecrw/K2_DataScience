{
 "cells": [
  {
   "cell_type": "markdown",
   "metadata": {
    "collapsed": true
   },
   "source": [
    "# SQLite3 in Python\n",
    "In this tutorial, we will use the sqlite3 module in Python to demonstrate how you can write queries and work with a SQLite3 database in Python.  In practice, you will often be working with other types of databases, but the concepts will all be the same so SQLite is a good place to start.\n",
    "\n",
    "## Setting up the Environment\n",
    "In order to follow this exercise, you'll need SQLite3 installed.  Binaries for Windows, Linux, and Mac can all be obtained on their [webpage](https://www.sqlite.org/download.html).  Once you have it installed, type `sqlite3` into your OS console.  If you see a promt saying `sqlite>` all is in order and you're ready to proceed.\n",
    "\n",
    "Now you'll need to get some data.  Head over to the [R Datasets Repository](https://vincentarelbundock.github.io/Rdatasets/datasets.html) and pickup the Titanic and mtcars data set and place them in the same directory as this notebook.\n",
    "\n",
    "Open up the console in your OS and navigate to the directory containing this notebook.  You'll have to type a command something like `cd [path to directory]`.  Once you are in the proper directory, type `sqlite3` to bring up the SQLite prompt and enter the following.\n",
    "\n",
    "`.mode csv\n",
    ".import Titanic.csv Titanic\n",
    ".import mtcars.csv mtcars`\n",
    "\n",
    "This imports the data as tables into your SQLite enviroment, named Titanic and mtcars respectively.  In order to use this with Python, we'll have to save it is a database file.  To do so type\n",
    "\n",
    "`.save myDB.db`\n",
    "\n",
    "into the SQLite console.  Inside your directory, you should now see a file called `myDB.db` containing the two tables we just imported into SQLite.  Now exit your SQLite session and we're ready to move on to Python."
   ]
  },
  {
   "cell_type": "markdown",
   "metadata": {},
   "source": [
    "## sqlite3 Module Basics\n",
    "Now that we've created a database file, we can start working in Python.  First bring in the `sqlite3` package and execute the following."
   ]
  },
  {
   "cell_type": "code",
   "execution_count": 1,
   "metadata": {
    "collapsed": true
   },
   "outputs": [],
   "source": [
    "import sqlite3\n",
    "\n",
    "sqlite_db = './myDB.db' # path to db file\n",
    "conn = sqlite3.connect(sqlite_db) # connection object\n",
    "c = conn.cursor() # cursor object"
   ]
  },
  {
   "cell_type": "markdown",
   "metadata": {},
   "source": [
    "The `connect()` function opens a connection to our database and the `cursor` object will be used to issue SQL statements.  Let's try out a simple query on the `Titanic` table."
   ]
  },
  {
   "cell_type": "code",
   "execution_count": 2,
   "metadata": {},
   "outputs": [
    {
     "data": {
      "text/plain": [
       "[('1', 'Allen, Miss Elisabeth Walton', '1st', '29', 'female', '1', '1'),\n",
       " ('2', 'Allison, Miss Helen Loraine', '1st', '2', 'female', '0', '1'),\n",
       " ('3', 'Allison, Mr Hudson Joshua Creighton', '1st', '30', 'male', '0', '0'),\n",
       " ('4',\n",
       "  'Allison, Mrs Hudson JC (Bessie Waldo Daniels)',\n",
       "  '1st',\n",
       "  '25',\n",
       "  'female',\n",
       "  '0',\n",
       "  '1'),\n",
       " ('5', 'Allison, Master Hudson Trevor', '1st', '0.92', 'male', '1', '0')]"
      ]
     },
     "execution_count": 2,
     "metadata": {},
     "output_type": "execute_result"
    }
   ],
   "source": [
    "c.execute(\"SELECT * FROM Titanic LIMIT 5\")\n",
    "c.fetchall()"
   ]
  },
  {
   "cell_type": "markdown",
   "metadata": {},
   "source": [
    "And take a look at the mtcars data as well"
   ]
  },
  {
   "cell_type": "code",
   "execution_count": 3,
   "metadata": {},
   "outputs": [
    {
     "name": "stdout",
     "output_type": "stream",
     "text": [
      "('Mazda RX4', '21', '6', '160', '110', '3.9', '2.62', '16.46', '0', '1', '4', '4')\n",
      "('Mazda RX4 Wag', '21', '6', '160', '110', '3.9', '2.875', '17.02', '0', '1', '4', '4')\n",
      "('Datsun 710', '22.8', '4', '108', '93', '3.85', '2.32', '18.61', '1', '1', '4', '1')\n",
      "('Hornet 4 Drive', '21.4', '6', '258', '110', '3.08', '3.215', '19.44', '1', '0', '3', '1')\n",
      "('Hornet Sportabout', '18.7', '8', '360', '175', '3.15', '3.44', '17.02', '0', '0', '3', '2')\n"
     ]
    }
   ],
   "source": [
    "result = c.execute(\"SELECT * FROM mtcars LIMIT 5\")\n",
    "for row in result:\n",
    "    print(row)"
   ]
  },
  {
   "cell_type": "markdown",
   "metadata": {},
   "source": [
    "Note that we used two ways to display the data.  The first `fetchall()` method just returns all returned rows, while the second method formats them a bit more nicely.  It looks like the Titanic dataset contains an index row.  Let's remove it."
   ]
  },
  {
   "cell_type": "code",
   "execution_count": 4,
   "metadata": {
    "collapsed": true
   },
   "outputs": [],
   "source": [
    "c.execute(\"CREATE TABLE temp AS SELECT Name, PClass, Age, Sex, Survived, SexCode FROM Titanic;\")\n",
    "c.execute(\"DROP TABLE Titanic;\")\n",
    "c.execute(\"ALTER TABLE temp RENAME TO Titanic;\")\n",
    "conn.commit()\n",
    "conn.close()"
   ]
  },
  {
   "cell_type": "markdown",
   "metadata": {},
   "source": [
    "Notice that the last two `conn.commit()` and `conn.close()` calls.  The first commits all changes to the database and the final closes the connection.  It is good practice to always do this.  Let's verify that all worked as intended."
   ]
  },
  {
   "cell_type": "code",
   "execution_count": 5,
   "metadata": {},
   "outputs": [
    {
     "name": "stdout",
     "output_type": "stream",
     "text": [
      "('Allen, Miss Elisabeth Walton', '1st', '29', 'female', '1', '1')\n",
      "('Allison, Miss Helen Loraine', '1st', '2', 'female', '0', '1')\n",
      "('Allison, Mr Hudson Joshua Creighton', '1st', '30', 'male', '0', '0')\n",
      "('Allison, Mrs Hudson JC (Bessie Waldo Daniels)', '1st', '25', 'female', '0', '1')\n",
      "('Allison, Master Hudson Trevor', '1st', '0.92', 'male', '1', '0')\n",
      "('Anderson, Mr Harry', '1st', '47', 'male', '1', '0')\n",
      "('Andrews, Miss Kornelia Theodosia', '1st', '63', 'female', '1', '1')\n",
      "('Andrews, Mr Thomas, jr', '1st', '39', 'male', '0', '0')\n",
      "('Appleton, Mrs Edward Dale (Charlotte Lamson)', '1st', '58', 'female', '1', '1')\n",
      "('Artagaveytia, Mr Ramon', '1st', '71', 'male', '0', '0')\n"
     ]
    }
   ],
   "source": [
    "conn = sqlite3.connect(sqlite_db)\n",
    "c = conn.cursor()\n",
    "\n",
    "results = c.execute(\"SELECT * from TITANIC LIMIT 10\")\n",
    "for row in results:\n",
    "    print(row)\n",
    "conn.close()"
   ]
  },
  {
   "cell_type": "markdown",
   "metadata": {},
   "source": [
    "And it appears that the unwanted column was sucessfully removed.\n",
    "\n",
    "**Exercise:** Add a new column, of type `char`, called `class`, to the mtcars data set, containing `low`, `med` or `high` for cars with `mpg` < 15, `mpg` < 20, and `mpg` > 20 respectively.  Be sure to properly open, commit, and close the connection before proceding."
   ]
  },
  {
   "cell_type": "code",
   "execution_count": 6,
   "metadata": {},
   "outputs": [
    {
     "name": "stdout",
     "output_type": "stream",
     "text": [
      "('Mazda RX4', '21', '6', '160', '110', '3.9', '2.62', '16.46', '0', '1', '4', '4', 'high')\n",
      "('Mazda RX4 Wag', '21', '6', '160', '110', '3.9', '2.875', '17.02', '0', '1', '4', '4', 'high')\n",
      "('Datsun 710', '22.8', '4', '108', '93', '3.85', '2.32', '18.61', '1', '1', '4', '1', 'high')\n",
      "('Hornet 4 Drive', '21.4', '6', '258', '110', '3.08', '3.215', '19.44', '1', '0', '3', '1', 'high')\n",
      "('Hornet Sportabout', '18.7', '8', '360', '175', '3.15', '3.44', '17.02', '0', '0', '3', '2', 'med')\n",
      "('Valiant', '18.1', '6', '225', '105', '2.76', '3.46', '20.22', '1', '0', '3', '1', 'med')\n",
      "('Duster 360', '14.3', '8', '360', '245', '3.21', '3.57', '15.84', '0', '0', '3', '4', 'low')\n",
      "('Merc 240D', '24.4', '4', '146.7', '62', '3.69', '3.19', '20', '1', '0', '4', '2', 'high')\n",
      "('Merc 230', '22.8', '4', '140.8', '95', '3.92', '3.15', '22.9', '1', '0', '4', '2', 'high')\n",
      "('Merc 280', '19.2', '6', '167.6', '123', '3.92', '3.44', '18.3', '1', '0', '4', '4', 'med')\n"
     ]
    }
   ],
   "source": [
    "# Open connection\n",
    "conn = sqlite3.connect(sqlite_db)\n",
    "c = conn.cursor()\n",
    "\n",
    "# Add 'class' column to mtcars data set\n",
    "c.execute(\"ALTER TABLE mtcars ADD class char;\")\n",
    "c.execute(\"\"\"UPDATE mtcars\n",
    "             SET class = CASE WHEN mpg < 15 THEN 'low'\n",
    "                              WHEN mpg < 20 THEN 'med'\n",
    "                              WHEN mpg > 20 THEN 'high'\n",
    "             END;\"\"\")\n",
    "conn.commit()\n",
    "\n",
    "# Print first 10 rows and close connection\n",
    "results = c.execute(\"SELECT * from mtcars LIMIT 10\")\n",
    "for row in results:\n",
    "    print(row)\n",
    "conn.close()"
   ]
  },
  {
   "cell_type": "markdown",
   "metadata": {
    "collapsed": true
   },
   "source": [
    "## Security\n",
    "Very often in practice, you may be working with some web API and will find yourself in a situation where you need to build a query using variables, either provided by the user or otherwise.  One way to do this would be something like the following."
   ]
  },
  {
   "cell_type": "code",
   "execution_count": 7,
   "metadata": {},
   "outputs": [
    {
     "name": "stdout",
     "output_type": "stream",
     "text": [
      "('Mazda RX4', '21', '6', '160', '110', '3.9', '2.62', '16.46', '0', '1', '4', '4', 'high')\n",
      "('Mazda RX4 Wag', '21', '6', '160', '110', '3.9', '2.875', '17.02', '0', '1', '4', '4', 'high')\n",
      "('Datsun 710', '22.8', '4', '108', '93', '3.85', '2.32', '18.61', '1', '1', '4', '1', 'high')\n",
      "('Hornet 4 Drive', '21.4', '6', '258', '110', '3.08', '3.215', '19.44', '1', '0', '3', '1', 'high')\n",
      "('Merc 240D', '24.4', '4', '146.7', '62', '3.69', '3.19', '20', '1', '0', '4', '2', 'high')\n",
      "('Merc 230', '22.8', '4', '140.8', '95', '3.92', '3.15', '22.9', '1', '0', '4', '2', 'high')\n",
      "('Fiat 128', '32.4', '4', '78.7', '66', '4.08', '2.2', '19.47', '1', '1', '4', '1', 'high')\n",
      "('Honda Civic', '30.4', '4', '75.7', '52', '4.93', '1.615', '18.52', '1', '1', '4', '2', 'high')\n",
      "('Toyota Corolla', '33.9', '4', '71.1', '65', '4.22', '1.835', '19.9', '1', '1', '4', '1', 'high')\n",
      "('Toyota Corona', '21.5', '4', '120.1', '97', '3.7', '2.465', '20.01', '1', '0', '3', '1', 'high')\n",
      "('Fiat X1-9', '27.3', '4', '79', '66', '4.08', '1.935', '18.9', '1', '1', '4', '1', 'high')\n",
      "('Porsche 914-2', '26', '4', '120.3', '91', '4.43', '2.14', '16.7', '0', '1', '5', '2', 'high')\n",
      "('Lotus Europa', '30.4', '4', '95.1', '113', '3.77', '1.513', '16.9', '1', '1', '5', '2', 'high')\n",
      "('Volvo 142E', '21.4', '4', '121', '109', '4.11', '2.78', '18.6', '1', '1', '4', '2', 'high')\n",
      "('name', 'mpg', 'cyl', 'disp', 'hp', 'drat', 'wt', 'qsec', 'vs', 'am', 'gear', 'carb', 'high')\n",
      "('Mazda RX4', '21', '6', '160', '110', '3.9', '2.62', '16.46', '0', '1', '4', '4', 'high')\n",
      "('Mazda RX4 Wag', '21', '6', '160', '110', '3.9', '2.875', '17.02', '0', '1', '4', '4', 'high')\n",
      "('Datsun 710', '22.8', '4', '108', '93', '3.85', '2.32', '18.61', '1', '1', '4', '1', 'high')\n",
      "('Hornet 4 Drive', '21.4', '6', '258', '110', '3.08', '3.215', '19.44', '1', '0', '3', '1', 'high')\n",
      "('Merc 240D', '24.4', '4', '146.7', '62', '3.69', '3.19', '20', '1', '0', '4', '2', 'high')\n",
      "('Merc 230', '22.8', '4', '140.8', '95', '3.92', '3.15', '22.9', '1', '0', '4', '2', 'high')\n",
      "('Fiat 128', '32.4', '4', '78.7', '66', '4.08', '2.2', '19.47', '1', '1', '4', '1', 'high')\n",
      "('Honda Civic', '30.4', '4', '75.7', '52', '4.93', '1.615', '18.52', '1', '1', '4', '2', 'high')\n",
      "('Toyota Corolla', '33.9', '4', '71.1', '65', '4.22', '1.835', '19.9', '1', '1', '4', '1', 'high')\n",
      "('Toyota Corona', '21.5', '4', '120.1', '97', '3.7', '2.465', '20.01', '1', '0', '3', '1', 'high')\n",
      "('Fiat X1-9', '27.3', '4', '79', '66', '4.08', '1.935', '18.9', '1', '1', '4', '1', 'high')\n",
      "('Porsche 914-2', '26', '4', '120.3', '91', '4.43', '2.14', '16.7', '0', '1', '5', '2', 'high')\n",
      "('Lotus Europa', '30.4', '4', '95.1', '113', '3.77', '1.513', '16.9', '1', '1', '5', '2', 'high')\n",
      "('Volvo 142E', '21.4', '4', '121', '109', '4.11', '2.78', '18.6', '1', '1', '4', '2', 'high')\n"
     ]
    }
   ],
   "source": [
    "cl = \"'high'\" # variable to be used in query\n",
    "\n",
    "conn = sqlite3.connect(sqlite_db)\n",
    "c = conn.cursor()\n",
    "\n",
    "results = c.execute(\"SELECT * FROM mtcars WHERE class = %s\" % cl)\n",
    "for row in results:\n",
    "    print(row)"
   ]
  },
  {
   "cell_type": "markdown",
   "metadata": {},
   "source": [
    "However, you should **never** write a query in this way.  Reason being, it is very susceptible to [SQL injection attacks](https://en.wikipedia.org/wiki/SQL_injection).  For example, suppose that the variable `cl` was defined by the user via a web interface with a drop down menu, and somehow (in the simplest case by typing the URL) the user set `cl = 'high AND low`.  The result would then be"
   ]
  },
  {
   "cell_type": "code",
   "execution_count": 8,
   "metadata": {},
   "outputs": [
    {
     "name": "stdout",
     "output_type": "stream",
     "text": [
      "('Mazda RX4', '21', '6', '160', '110', '3.9', '2.62', '16.46', '0', '1', '4', '4', 'high')\n",
      "('Mazda RX4 Wag', '21', '6', '160', '110', '3.9', '2.875', '17.02', '0', '1', '4', '4', 'high')\n",
      "('Datsun 710', '22.8', '4', '108', '93', '3.85', '2.32', '18.61', '1', '1', '4', '1', 'high')\n",
      "('Hornet 4 Drive', '21.4', '6', '258', '110', '3.08', '3.215', '19.44', '1', '0', '3', '1', 'high')\n",
      "('Duster 360', '14.3', '8', '360', '245', '3.21', '3.57', '15.84', '0', '0', '3', '4', 'low')\n",
      "('Merc 240D', '24.4', '4', '146.7', '62', '3.69', '3.19', '20', '1', '0', '4', '2', 'high')\n",
      "('Merc 230', '22.8', '4', '140.8', '95', '3.92', '3.15', '22.9', '1', '0', '4', '2', 'high')\n",
      "('Cadillac Fleetwood', '10.4', '8', '472', '205', '2.93', '5.25', '17.98', '0', '0', '3', '4', 'low')\n",
      "('Lincoln Continental', '10.4', '8', '460', '215', '3', '5.424', '17.82', '0', '0', '3', '4', 'low')\n",
      "('Chrysler Imperial', '14.7', '8', '440', '230', '3.23', '5.345', '17.42', '0', '0', '3', '4', 'low')\n",
      "('Fiat 128', '32.4', '4', '78.7', '66', '4.08', '2.2', '19.47', '1', '1', '4', '1', 'high')\n",
      "('Honda Civic', '30.4', '4', '75.7', '52', '4.93', '1.615', '18.52', '1', '1', '4', '2', 'high')\n",
      "('Toyota Corolla', '33.9', '4', '71.1', '65', '4.22', '1.835', '19.9', '1', '1', '4', '1', 'high')\n",
      "('Toyota Corona', '21.5', '4', '120.1', '97', '3.7', '2.465', '20.01', '1', '0', '3', '1', 'high')\n",
      "('Camaro Z28', '13.3', '8', '350', '245', '3.73', '3.84', '15.41', '0', '0', '3', '4', 'low')\n",
      "('Fiat X1-9', '27.3', '4', '79', '66', '4.08', '1.935', '18.9', '1', '1', '4', '1', 'high')\n",
      "('Porsche 914-2', '26', '4', '120.3', '91', '4.43', '2.14', '16.7', '0', '1', '5', '2', 'high')\n",
      "('Lotus Europa', '30.4', '4', '95.1', '113', '3.77', '1.513', '16.9', '1', '1', '5', '2', 'high')\n",
      "('Volvo 142E', '21.4', '4', '121', '109', '4.11', '2.78', '18.6', '1', '1', '4', '2', 'high')\n",
      "('name', 'mpg', 'cyl', 'disp', 'hp', 'drat', 'wt', 'qsec', 'vs', 'am', 'gear', 'carb', 'high')\n",
      "('Mazda RX4', '21', '6', '160', '110', '3.9', '2.62', '16.46', '0', '1', '4', '4', 'high')\n",
      "('Mazda RX4 Wag', '21', '6', '160', '110', '3.9', '2.875', '17.02', '0', '1', '4', '4', 'high')\n",
      "('Datsun 710', '22.8', '4', '108', '93', '3.85', '2.32', '18.61', '1', '1', '4', '1', 'high')\n",
      "('Hornet 4 Drive', '21.4', '6', '258', '110', '3.08', '3.215', '19.44', '1', '0', '3', '1', 'high')\n",
      "('Duster 360', '14.3', '8', '360', '245', '3.21', '3.57', '15.84', '0', '0', '3', '4', 'low')\n",
      "('Merc 240D', '24.4', '4', '146.7', '62', '3.69', '3.19', '20', '1', '0', '4', '2', 'high')\n",
      "('Merc 230', '22.8', '4', '140.8', '95', '3.92', '3.15', '22.9', '1', '0', '4', '2', 'high')\n",
      "('Cadillac Fleetwood', '10.4', '8', '472', '205', '2.93', '5.25', '17.98', '0', '0', '3', '4', 'low')\n",
      "('Lincoln Continental', '10.4', '8', '460', '215', '3', '5.424', '17.82', '0', '0', '3', '4', 'low')\n",
      "('Chrysler Imperial', '14.7', '8', '440', '230', '3.23', '5.345', '17.42', '0', '0', '3', '4', 'low')\n",
      "('Fiat 128', '32.4', '4', '78.7', '66', '4.08', '2.2', '19.47', '1', '1', '4', '1', 'high')\n",
      "('Honda Civic', '30.4', '4', '75.7', '52', '4.93', '1.615', '18.52', '1', '1', '4', '2', 'high')\n",
      "('Toyota Corolla', '33.9', '4', '71.1', '65', '4.22', '1.835', '19.9', '1', '1', '4', '1', 'high')\n",
      "('Toyota Corona', '21.5', '4', '120.1', '97', '3.7', '2.465', '20.01', '1', '0', '3', '1', 'high')\n",
      "('Camaro Z28', '13.3', '8', '350', '245', '3.73', '3.84', '15.41', '0', '0', '3', '4', 'low')\n",
      "('Fiat X1-9', '27.3', '4', '79', '66', '4.08', '1.935', '18.9', '1', '1', '4', '1', 'high')\n",
      "('Porsche 914-2', '26', '4', '120.3', '91', '4.43', '2.14', '16.7', '0', '1', '5', '2', 'high')\n",
      "('Lotus Europa', '30.4', '4', '95.1', '113', '3.77', '1.513', '16.9', '1', '1', '5', '2', 'high')\n",
      "('Volvo 142E', '21.4', '4', '121', '109', '4.11', '2.78', '18.6', '1', '1', '4', '2', 'high')\n"
     ]
    }
   ],
   "source": [
    "cl = \"'high' OR class = 'low'\"\n",
    "results = c.execute(\"SELECT * FROM mtcars WHERE class = %s\" % cl)\n",
    "for row in results:\n",
    "    print(row)"
   ]
  },
  {
   "cell_type": "markdown",
   "metadata": {},
   "source": [
    "which is clearly not how we intended the user to access our data.  It isn't too hard to see how an attacker could exploit this to return all sorts of information that we never intended the user to have access to.  Luckily, we can get around this issue pretty easily by doing the following."
   ]
  },
  {
   "cell_type": "code",
   "execution_count": 9,
   "metadata": {},
   "outputs": [
    {
     "name": "stdout",
     "output_type": "stream",
     "text": [
      "('Mazda RX4', '21', '6', '160', '110', '3.9', '2.62', '16.46', '0', '1', '4', '4', 'high')\n",
      "('Mazda RX4 Wag', '21', '6', '160', '110', '3.9', '2.875', '17.02', '0', '1', '4', '4', 'high')\n",
      "('Datsun 710', '22.8', '4', '108', '93', '3.85', '2.32', '18.61', '1', '1', '4', '1', 'high')\n",
      "('Hornet 4 Drive', '21.4', '6', '258', '110', '3.08', '3.215', '19.44', '1', '0', '3', '1', 'high')\n",
      "('Merc 240D', '24.4', '4', '146.7', '62', '3.69', '3.19', '20', '1', '0', '4', '2', 'high')\n",
      "('Merc 230', '22.8', '4', '140.8', '95', '3.92', '3.15', '22.9', '1', '0', '4', '2', 'high')\n",
      "('Fiat 128', '32.4', '4', '78.7', '66', '4.08', '2.2', '19.47', '1', '1', '4', '1', 'high')\n",
      "('Honda Civic', '30.4', '4', '75.7', '52', '4.93', '1.615', '18.52', '1', '1', '4', '2', 'high')\n",
      "('Toyota Corolla', '33.9', '4', '71.1', '65', '4.22', '1.835', '19.9', '1', '1', '4', '1', 'high')\n",
      "('Toyota Corona', '21.5', '4', '120.1', '97', '3.7', '2.465', '20.01', '1', '0', '3', '1', 'high')\n",
      "('Fiat X1-9', '27.3', '4', '79', '66', '4.08', '1.935', '18.9', '1', '1', '4', '1', 'high')\n",
      "('Porsche 914-2', '26', '4', '120.3', '91', '4.43', '2.14', '16.7', '0', '1', '5', '2', 'high')\n",
      "('Lotus Europa', '30.4', '4', '95.1', '113', '3.77', '1.513', '16.9', '1', '1', '5', '2', 'high')\n",
      "('Volvo 142E', '21.4', '4', '121', '109', '4.11', '2.78', '18.6', '1', '1', '4', '2', 'high')\n",
      "('name', 'mpg', 'cyl', 'disp', 'hp', 'drat', 'wt', 'qsec', 'vs', 'am', 'gear', 'carb', 'high')\n",
      "('Mazda RX4', '21', '6', '160', '110', '3.9', '2.62', '16.46', '0', '1', '4', '4', 'high')\n",
      "('Mazda RX4 Wag', '21', '6', '160', '110', '3.9', '2.875', '17.02', '0', '1', '4', '4', 'high')\n",
      "('Datsun 710', '22.8', '4', '108', '93', '3.85', '2.32', '18.61', '1', '1', '4', '1', 'high')\n",
      "('Hornet 4 Drive', '21.4', '6', '258', '110', '3.08', '3.215', '19.44', '1', '0', '3', '1', 'high')\n",
      "('Merc 240D', '24.4', '4', '146.7', '62', '3.69', '3.19', '20', '1', '0', '4', '2', 'high')\n",
      "('Merc 230', '22.8', '4', '140.8', '95', '3.92', '3.15', '22.9', '1', '0', '4', '2', 'high')\n",
      "('Fiat 128', '32.4', '4', '78.7', '66', '4.08', '2.2', '19.47', '1', '1', '4', '1', 'high')\n",
      "('Honda Civic', '30.4', '4', '75.7', '52', '4.93', '1.615', '18.52', '1', '1', '4', '2', 'high')\n",
      "('Toyota Corolla', '33.9', '4', '71.1', '65', '4.22', '1.835', '19.9', '1', '1', '4', '1', 'high')\n",
      "('Toyota Corona', '21.5', '4', '120.1', '97', '3.7', '2.465', '20.01', '1', '0', '3', '1', 'high')\n",
      "('Fiat X1-9', '27.3', '4', '79', '66', '4.08', '1.935', '18.9', '1', '1', '4', '1', 'high')\n",
      "('Porsche 914-2', '26', '4', '120.3', '91', '4.43', '2.14', '16.7', '0', '1', '5', '2', 'high')\n",
      "('Lotus Europa', '30.4', '4', '95.1', '113', '3.77', '1.513', '16.9', '1', '1', '5', '2', 'high')\n",
      "('Volvo 142E', '21.4', '4', '121', '109', '4.11', '2.78', '18.6', '1', '1', '4', '2', 'high')\n"
     ]
    }
   ],
   "source": [
    "cl = ('high', )\n",
    "results = c.execute(\"SELECT * FROM mtcars WHERE class=?\", cl)\n",
    "for row in results:\n",
    "    print(row)"
   ]
  },
  {
   "cell_type": "markdown",
   "metadata": {},
   "source": [
    "which makes use of sqlite3 module's built in functionality to avoid injection attacks.  In the above, `?` is used as a placeholder for values which will be inserted into the query.  We can also access using the `:` placeholder and a dictionary object."
   ]
  },
  {
   "cell_type": "code",
   "execution_count": 10,
   "metadata": {},
   "outputs": [
    {
     "name": "stdout",
     "output_type": "stream",
     "text": [
      "('Mazda RX4', '21', '6', '160', '110', '3.9', '2.62', '16.46', '0', '1', '4', '4', 'high')\n",
      "('Mazda RX4 Wag', '21', '6', '160', '110', '3.9', '2.875', '17.02', '0', '1', '4', '4', 'high')\n",
      "('Datsun 710', '22.8', '4', '108', '93', '3.85', '2.32', '18.61', '1', '1', '4', '1', 'high')\n",
      "('Hornet 4 Drive', '21.4', '6', '258', '110', '3.08', '3.215', '19.44', '1', '0', '3', '1', 'high')\n",
      "('Merc 240D', '24.4', '4', '146.7', '62', '3.69', '3.19', '20', '1', '0', '4', '2', 'high')\n",
      "('Merc 230', '22.8', '4', '140.8', '95', '3.92', '3.15', '22.9', '1', '0', '4', '2', 'high')\n",
      "('Fiat 128', '32.4', '4', '78.7', '66', '4.08', '2.2', '19.47', '1', '1', '4', '1', 'high')\n",
      "('Honda Civic', '30.4', '4', '75.7', '52', '4.93', '1.615', '18.52', '1', '1', '4', '2', 'high')\n",
      "('Toyota Corolla', '33.9', '4', '71.1', '65', '4.22', '1.835', '19.9', '1', '1', '4', '1', 'high')\n",
      "('Toyota Corona', '21.5', '4', '120.1', '97', '3.7', '2.465', '20.01', '1', '0', '3', '1', 'high')\n",
      "('Fiat X1-9', '27.3', '4', '79', '66', '4.08', '1.935', '18.9', '1', '1', '4', '1', 'high')\n",
      "('Porsche 914-2', '26', '4', '120.3', '91', '4.43', '2.14', '16.7', '0', '1', '5', '2', 'high')\n",
      "('Lotus Europa', '30.4', '4', '95.1', '113', '3.77', '1.513', '16.9', '1', '1', '5', '2', 'high')\n",
      "('Volvo 142E', '21.4', '4', '121', '109', '4.11', '2.78', '18.6', '1', '1', '4', '2', 'high')\n",
      "('name', 'mpg', 'cyl', 'disp', 'hp', 'drat', 'wt', 'qsec', 'vs', 'am', 'gear', 'carb', 'high')\n",
      "('Mazda RX4', '21', '6', '160', '110', '3.9', '2.62', '16.46', '0', '1', '4', '4', 'high')\n",
      "('Mazda RX4 Wag', '21', '6', '160', '110', '3.9', '2.875', '17.02', '0', '1', '4', '4', 'high')\n",
      "('Datsun 710', '22.8', '4', '108', '93', '3.85', '2.32', '18.61', '1', '1', '4', '1', 'high')\n",
      "('Hornet 4 Drive', '21.4', '6', '258', '110', '3.08', '3.215', '19.44', '1', '0', '3', '1', 'high')\n",
      "('Merc 240D', '24.4', '4', '146.7', '62', '3.69', '3.19', '20', '1', '0', '4', '2', 'high')\n",
      "('Merc 230', '22.8', '4', '140.8', '95', '3.92', '3.15', '22.9', '1', '0', '4', '2', 'high')\n",
      "('Fiat 128', '32.4', '4', '78.7', '66', '4.08', '2.2', '19.47', '1', '1', '4', '1', 'high')\n",
      "('Honda Civic', '30.4', '4', '75.7', '52', '4.93', '1.615', '18.52', '1', '1', '4', '2', 'high')\n",
      "('Toyota Corolla', '33.9', '4', '71.1', '65', '4.22', '1.835', '19.9', '1', '1', '4', '1', 'high')\n",
      "('Toyota Corona', '21.5', '4', '120.1', '97', '3.7', '2.465', '20.01', '1', '0', '3', '1', 'high')\n",
      "('Fiat X1-9', '27.3', '4', '79', '66', '4.08', '1.935', '18.9', '1', '1', '4', '1', 'high')\n",
      "('Porsche 914-2', '26', '4', '120.3', '91', '4.43', '2.14', '16.7', '0', '1', '5', '2', 'high')\n",
      "('Lotus Europa', '30.4', '4', '95.1', '113', '3.77', '1.513', '16.9', '1', '1', '5', '2', 'high')\n",
      "('Volvo 142E', '21.4', '4', '121', '109', '4.11', '2.78', '18.6', '1', '1', '4', '2', 'high')\n"
     ]
    }
   ],
   "source": [
    "cl = 'high'\n",
    "results = c.execute(\"SELECT * FROM mtcars WHERE class=:class\", {'class': cl})\n",
    "for row in results:\n",
    "    print(row)"
   ]
  },
  {
   "cell_type": "markdown",
   "metadata": {},
   "source": [
    "Which returns the same results but accessed by name.\n",
    "\n",
    "**Exercise:** What if you wanted to select cars with both `class = 'high'` or `class = 'low` using the `?` place holder like above?  Consult the sqlite3 [documentation](https://docs.python.org/2/library/sqlite3.html) and write a query, using `?`, doing just that and print your results."
   ]
  },
  {
   "cell_type": "code",
   "execution_count": 11,
   "metadata": {},
   "outputs": [
    {
     "name": "stdout",
     "output_type": "stream",
     "text": [
      "('Mazda RX4', '21', '6', '160', '110', '3.9', '2.62', '16.46', '0', '1', '4', '4', 'high')\n",
      "('Mazda RX4 Wag', '21', '6', '160', '110', '3.9', '2.875', '17.02', '0', '1', '4', '4', 'high')\n",
      "('Datsun 710', '22.8', '4', '108', '93', '3.85', '2.32', '18.61', '1', '1', '4', '1', 'high')\n",
      "('Hornet 4 Drive', '21.4', '6', '258', '110', '3.08', '3.215', '19.44', '1', '0', '3', '1', 'high')\n",
      "('Duster 360', '14.3', '8', '360', '245', '3.21', '3.57', '15.84', '0', '0', '3', '4', 'low')\n",
      "('Merc 240D', '24.4', '4', '146.7', '62', '3.69', '3.19', '20', '1', '0', '4', '2', 'high')\n",
      "('Merc 230', '22.8', '4', '140.8', '95', '3.92', '3.15', '22.9', '1', '0', '4', '2', 'high')\n",
      "('Cadillac Fleetwood', '10.4', '8', '472', '205', '2.93', '5.25', '17.98', '0', '0', '3', '4', 'low')\n",
      "('Lincoln Continental', '10.4', '8', '460', '215', '3', '5.424', '17.82', '0', '0', '3', '4', 'low')\n",
      "('Chrysler Imperial', '14.7', '8', '440', '230', '3.23', '5.345', '17.42', '0', '0', '3', '4', 'low')\n",
      "('Fiat 128', '32.4', '4', '78.7', '66', '4.08', '2.2', '19.47', '1', '1', '4', '1', 'high')\n",
      "('Honda Civic', '30.4', '4', '75.7', '52', '4.93', '1.615', '18.52', '1', '1', '4', '2', 'high')\n",
      "('Toyota Corolla', '33.9', '4', '71.1', '65', '4.22', '1.835', '19.9', '1', '1', '4', '1', 'high')\n",
      "('Toyota Corona', '21.5', '4', '120.1', '97', '3.7', '2.465', '20.01', '1', '0', '3', '1', 'high')\n",
      "('Camaro Z28', '13.3', '8', '350', '245', '3.73', '3.84', '15.41', '0', '0', '3', '4', 'low')\n",
      "('Fiat X1-9', '27.3', '4', '79', '66', '4.08', '1.935', '18.9', '1', '1', '4', '1', 'high')\n",
      "('Porsche 914-2', '26', '4', '120.3', '91', '4.43', '2.14', '16.7', '0', '1', '5', '2', 'high')\n",
      "('Lotus Europa', '30.4', '4', '95.1', '113', '3.77', '1.513', '16.9', '1', '1', '5', '2', 'high')\n",
      "('Volvo 142E', '21.4', '4', '121', '109', '4.11', '2.78', '18.6', '1', '1', '4', '2', 'high')\n",
      "('name', 'mpg', 'cyl', 'disp', 'hp', 'drat', 'wt', 'qsec', 'vs', 'am', 'gear', 'carb', 'high')\n",
      "('Mazda RX4', '21', '6', '160', '110', '3.9', '2.62', '16.46', '0', '1', '4', '4', 'high')\n",
      "('Mazda RX4 Wag', '21', '6', '160', '110', '3.9', '2.875', '17.02', '0', '1', '4', '4', 'high')\n",
      "('Datsun 710', '22.8', '4', '108', '93', '3.85', '2.32', '18.61', '1', '1', '4', '1', 'high')\n",
      "('Hornet 4 Drive', '21.4', '6', '258', '110', '3.08', '3.215', '19.44', '1', '0', '3', '1', 'high')\n",
      "('Duster 360', '14.3', '8', '360', '245', '3.21', '3.57', '15.84', '0', '0', '3', '4', 'low')\n",
      "('Merc 240D', '24.4', '4', '146.7', '62', '3.69', '3.19', '20', '1', '0', '4', '2', 'high')\n",
      "('Merc 230', '22.8', '4', '140.8', '95', '3.92', '3.15', '22.9', '1', '0', '4', '2', 'high')\n",
      "('Cadillac Fleetwood', '10.4', '8', '472', '205', '2.93', '5.25', '17.98', '0', '0', '3', '4', 'low')\n",
      "('Lincoln Continental', '10.4', '8', '460', '215', '3', '5.424', '17.82', '0', '0', '3', '4', 'low')\n",
      "('Chrysler Imperial', '14.7', '8', '440', '230', '3.23', '5.345', '17.42', '0', '0', '3', '4', 'low')\n",
      "('Fiat 128', '32.4', '4', '78.7', '66', '4.08', '2.2', '19.47', '1', '1', '4', '1', 'high')\n",
      "('Honda Civic', '30.4', '4', '75.7', '52', '4.93', '1.615', '18.52', '1', '1', '4', '2', 'high')\n",
      "('Toyota Corolla', '33.9', '4', '71.1', '65', '4.22', '1.835', '19.9', '1', '1', '4', '1', 'high')\n",
      "('Toyota Corona', '21.5', '4', '120.1', '97', '3.7', '2.465', '20.01', '1', '0', '3', '1', 'high')\n",
      "('Camaro Z28', '13.3', '8', '350', '245', '3.73', '3.84', '15.41', '0', '0', '3', '4', 'low')\n",
      "('Fiat X1-9', '27.3', '4', '79', '66', '4.08', '1.935', '18.9', '1', '1', '4', '1', 'high')\n",
      "('Porsche 914-2', '26', '4', '120.3', '91', '4.43', '2.14', '16.7', '0', '1', '5', '2', 'high')\n",
      "('Lotus Europa', '30.4', '4', '95.1', '113', '3.77', '1.513', '16.9', '1', '1', '5', '2', 'high')\n",
      "('Volvo 142E', '21.4', '4', '121', '109', '4.11', '2.78', '18.6', '1', '1', '4', '2', 'high')\n"
     ]
    }
   ],
   "source": [
    "# Use placeholders to select both 'high' and 'low' classes\n",
    "cl = 'high'\n",
    "c2 = 'low'\n",
    "results = c.execute(\"SELECT * FROM mtcars WHERE class=? or class=?\", (cl, c2))\n",
    "for row in results:\n",
    "    print(row)"
   ]
  },
  {
   "cell_type": "markdown",
   "metadata": {},
   "source": [
    "## Inserting Data and Error Checking\n",
    "You may find yourself in a situation where you want to insert new data into an existing table in your database.  This isn't too hard to do with the sqlite3 module, but since you will be committing permanent changes to the database, you will want to do so with caution, performing proper error checking as you move along.\n",
    "\n",
    "Before getting into inserts and error checks, let's make a copy of the `Titanic` table that we can play with."
   ]
  },
  {
   "cell_type": "code",
   "execution_count": 12,
   "metadata": {
    "collapsed": true
   },
   "outputs": [],
   "source": [
    "conn = sqlite3.connect(sqlite_db)\n",
    "c = conn.cursor()\n",
    "\n",
    "c.execute(\"CREATE TABLE Titanic_temp AS SELECT * FROM Titanic;\")\n",
    "\n",
    "conn.commit()\n",
    "conn.close()"
   ]
  },
  {
   "cell_type": "markdown",
   "metadata": {},
   "source": [
    "And make sure everything appears as it should."
   ]
  },
  {
   "cell_type": "code",
   "execution_count": 13,
   "metadata": {},
   "outputs": [
    {
     "name": "stdout",
     "output_type": "stream",
     "text": [
      "('Allen, Miss Elisabeth Walton', '1st', '29', 'female', '1', '1')\n",
      "('Allison, Miss Helen Loraine', '1st', '2', 'female', '0', '1')\n",
      "('Allison, Mr Hudson Joshua Creighton', '1st', '30', 'male', '0', '0')\n",
      "('Allison, Mrs Hudson JC (Bessie Waldo Daniels)', '1st', '25', 'female', '0', '1')\n",
      "('Allison, Master Hudson Trevor', '1st', '0.92', 'male', '1', '0')\n"
     ]
    }
   ],
   "source": [
    "conn = sqlite3.connect(sqlite_db)\n",
    "c = conn.cursor()\n",
    "\n",
    "results = c.execute(\"SELECT * from Titanic_temp LIMIT 5\")\n",
    "for row in results:\n",
    "    print(row)\n",
    "\n",
    "conn.close()"
   ]
  },
  {
   "cell_type": "markdown",
   "metadata": {},
   "source": [
    "All looks in order.  Now let's try inserting some data into the newly created `Titanic_temp` table."
   ]
  },
  {
   "cell_type": "code",
   "execution_count": 14,
   "metadata": {},
   "outputs": [
    {
     "ename": "OperationalError",
     "evalue": "table Titanic_temp has 6 columns but 5 values were supplied",
     "output_type": "error",
     "traceback": [
      "\u001b[0;31m---------------------------------------------------------------------------\u001b[0m",
      "\u001b[0;31mOperationalError\u001b[0m                          Traceback (most recent call last)",
      "\u001b[0;32m<ipython-input-14-cf1c23a2d76c>\u001b[0m in \u001b[0;36m<module>\u001b[0;34m()\u001b[0m\n\u001b[1;32m      2\u001b[0m \u001b[0mc\u001b[0m \u001b[0;34m=\u001b[0m \u001b[0mconn\u001b[0m\u001b[0;34m.\u001b[0m\u001b[0mcursor\u001b[0m\u001b[0;34m(\u001b[0m\u001b[0;34m)\u001b[0m\u001b[0;34m\u001b[0m\u001b[0m\n\u001b[1;32m      3\u001b[0m \u001b[0;34m\u001b[0m\u001b[0m\n\u001b[0;32m----> 4\u001b[0;31m \u001b[0mc\u001b[0m\u001b[0;34m.\u001b[0m\u001b[0mexecute\u001b[0m\u001b[0;34m(\u001b[0m\u001b[0;34m\"INSERT INTO Titanic_temp VALUES ('Jane', '2nd', '29', 'female', '1')\"\u001b[0m\u001b[0;34m)\u001b[0m\u001b[0;34m\u001b[0m\u001b[0m\n\u001b[0m\u001b[1;32m      5\u001b[0m \u001b[0mresults\u001b[0m \u001b[0;34m=\u001b[0m \u001b[0mc\u001b[0m\u001b[0;34m.\u001b[0m\u001b[0mexecute\u001b[0m\u001b[0;34m(\u001b[0m\u001b[0;34m\"SELECT * FROM Titanic_temp LIMIT 5\"\u001b[0m\u001b[0;34m)\u001b[0m\u001b[0;34m\u001b[0m\u001b[0m\n\u001b[1;32m      6\u001b[0m \u001b[0;32mfor\u001b[0m \u001b[0mrow\u001b[0m \u001b[0;32min\u001b[0m \u001b[0mresults\u001b[0m\u001b[0;34m:\u001b[0m\u001b[0;34m\u001b[0m\u001b[0m\n",
      "\u001b[0;31mOperationalError\u001b[0m: table Titanic_temp has 6 columns but 5 values were supplied"
     ]
    }
   ],
   "source": [
    "conn = sqlite3.connect(sqlite_db)\n",
    "c = conn.cursor()\n",
    "\n",
    "c.execute(\"INSERT INTO Titanic_temp VALUES ('Jane', '2nd', '29', 'female', '1')\")\n",
    "results = c.execute(\"SELECT * FROM Titanic_temp LIMIT 5\")\n",
    "for row in results:\n",
    "    print(row)\n",
    "\n",
    "conn.close()"
   ]
  },
  {
   "cell_type": "markdown",
   "metadata": {},
   "source": [
    "Notice that we got back an error indicating that we didn't provide enough data points for a complete row.  It's good practice to have a way for our code to handle this type of error.  So instead, let's do"
   ]
  },
  {
   "cell_type": "code",
   "execution_count": 15,
   "metadata": {},
   "outputs": [
    {
     "name": "stdout",
     "output_type": "stream",
     "text": [
      "Error table Titanic_temp has 6 columns but 5 values were supplied:\n"
     ]
    }
   ],
   "source": [
    "import sys\n",
    "\n",
    "conn = None\n",
    "\n",
    "try:\n",
    "    conn = sqlite3.connect(sqlite_db)\n",
    "    c = conn.cursor()\n",
    "\n",
    "    c.execute(\"INSERT INTO Titanic_temp VALUES ('Jane', '2nd', '29', 'female', '1')\")\n",
    "    results = c.execute(\"SELECT * FROM Titanic_temp LIMIT 5\")\n",
    "    for row in results:\n",
    "        print(row)\n",
    "        \n",
    "except sqlite3.Error as e:\n",
    "        print(\"Error %s:\" % e.args[0])\n",
    "        \n",
    "finally:\n",
    "    if conn:\n",
    "        conn.close()"
   ]
  },
  {
   "cell_type": "markdown",
   "metadata": {},
   "source": [
    "The error is now caught by the interpreter, preventing our data from becoming corrupted or halting the program (if that is what we intended).  \n",
    "\n",
    "The above works by first setting the `conn` vairable to `None` so that if there is an error connecting to the database, the error can be handled in the `finally` clause.  The `try` statements, tells the interpreter to \"try\" this block of code, and if there is an exception, the `exception` clause tells it how to handle the error.\n",
    "\n",
    "There is however, a much more concise way to do this using `with`."
   ]
  },
  {
   "cell_type": "code",
   "execution_count": 16,
   "metadata": {},
   "outputs": [
    {
     "ename": "OperationalError",
     "evalue": "table Titanic_temp has 6 columns but 5 values were supplied",
     "output_type": "error",
     "traceback": [
      "\u001b[0;31m---------------------------------------------------------------------------\u001b[0m",
      "\u001b[0;31mOperationalError\u001b[0m                          Traceback (most recent call last)",
      "\u001b[0;32m<ipython-input-16-d0f7bbee86b9>\u001b[0m in \u001b[0;36m<module>\u001b[0;34m()\u001b[0m\n\u001b[1;32m      5\u001b[0m     \u001b[0mc\u001b[0m \u001b[0;34m=\u001b[0m \u001b[0mconn\u001b[0m\u001b[0;34m.\u001b[0m\u001b[0mcursor\u001b[0m\u001b[0;34m(\u001b[0m\u001b[0;34m)\u001b[0m\u001b[0;34m\u001b[0m\u001b[0m\n\u001b[1;32m      6\u001b[0m \u001b[0;34m\u001b[0m\u001b[0m\n\u001b[0;32m----> 7\u001b[0;31m     \u001b[0mc\u001b[0m\u001b[0;34m.\u001b[0m\u001b[0mexecute\u001b[0m\u001b[0;34m(\u001b[0m\u001b[0;34m\"INSERT INTO Titanic_temp VALUES ('Jane', '2nd', '29', 'female', '1')\"\u001b[0m\u001b[0;34m)\u001b[0m\u001b[0;34m\u001b[0m\u001b[0m\n\u001b[0m\u001b[1;32m      8\u001b[0m     \u001b[0mresults\u001b[0m \u001b[0;34m=\u001b[0m \u001b[0mc\u001b[0m\u001b[0;34m.\u001b[0m\u001b[0mexecute\u001b[0m\u001b[0;34m(\u001b[0m\u001b[0;34m\"SELECT * FROM Titanic_temp LIMIT 5\"\u001b[0m\u001b[0;34m)\u001b[0m\u001b[0;34m\u001b[0m\u001b[0m\n\u001b[1;32m      9\u001b[0m     \u001b[0;32mfor\u001b[0m \u001b[0mrow\u001b[0m \u001b[0;32min\u001b[0m \u001b[0mresults\u001b[0m\u001b[0;34m:\u001b[0m\u001b[0;34m\u001b[0m\u001b[0m\n",
      "\u001b[0;31mOperationalError\u001b[0m: table Titanic_temp has 6 columns but 5 values were supplied"
     ]
    }
   ],
   "source": [
    "conn = sqlite3.connect(sqlite_db)\n",
    "\n",
    "with conn:\n",
    "    conn = sqlite3.connect(sqlite_db)\n",
    "    c = conn.cursor()\n",
    "\n",
    "    c.execute(\"INSERT INTO Titanic_temp VALUES ('Jane', '2nd', '29', 'female', '1')\")\n",
    "    results = c.execute(\"SELECT * FROM Titanic_temp LIMIT 5\")\n",
    "    for row in results:\n",
    "        print(row)"
   ]
  },
  {
   "cell_type": "markdown",
   "metadata": {},
   "source": [
    "We don't get the custom error handling, but by using `with`, the resource `conn` is closed automatically upon sucessful completion or an error.  Situations where we want to handle errors in specific ways will lend themselves to a `try` statement, but for most of our puposes, the more concice `with` works better.  Let's fix the query so that it should insert itself correctly into the database now."
   ]
  },
  {
   "cell_type": "code",
   "execution_count": 17,
   "metadata": {},
   "outputs": [
    {
     "name": "stdout",
     "output_type": "stream",
     "text": [
      "('Jane', '2nd', '29', 'female', '1', '0')\n"
     ]
    }
   ],
   "source": [
    "conn = sqlite3.connect(sqlite_db)\n",
    "\n",
    "with conn:\n",
    "    conn = sqlite3.connect(sqlite_db)\n",
    "    c = conn.cursor()\n",
    "\n",
    "    c.execute(\"INSERT INTO Titanic_temp VALUES ('Jane', '2nd', '29', 'female', '1', '0')\")\n",
    "    results = c.execute(\"SELECT * FROM Titanic_temp WHERE name = 'Jane'\")\n",
    "    for row in results:\n",
    "        print(row)\n",
    "        \n",
    "    conn.close()"
   ]
  },
  {
   "cell_type": "markdown",
   "metadata": {},
   "source": [
    "Typically, we'll want to add more than just one row to our table.  To add many rows, we can use the `executemany()` function."
   ]
  },
  {
   "cell_type": "code",
   "execution_count": 18,
   "metadata": {},
   "outputs": [
    {
     "name": "stdout",
     "output_type": "stream",
     "text": [
      "('John', '2nd', '35', 'male', '1', '0')\n",
      "('Tim', '2nd', '5', 'male', '1', '0')\n",
      "('Anna', '3nd', '24', 'female', '1', '1')\n",
      "('Rose', '1st', '17', 'female', '1', '1')\n",
      "('Jack', '3rd', '21', 'male', '0', '0')\n"
     ]
    }
   ],
   "source": [
    "conn = sqlite3.connect(sqlite_db)\n",
    "\n",
    "new_names = ('John','Tim','Anna','Rose','Jack')\n",
    "new_data = [('John', '2nd', '35', 'male', '1', '0'),\n",
    "           ('Tim', '2nd', '5', 'male', '1', '0'),\n",
    "           ('Anna', '3nd', '24', 'female', '1', '1'),\n",
    "           ('Rose', '1st', '17', 'female', '1', '1'),\n",
    "           ('Jack', '3rd', '21', 'male', '0', '0')]\n",
    "\n",
    "with conn:\n",
    "    conn = sqlite3.connect(sqlite_db)\n",
    "    c = conn.cursor()\n",
    "\n",
    "    c.executemany('INSERT INTO Titanic_temp VALUES (?, ?, ?, ?, ?, ?)', new_data)\n",
    "    results = c.execute(\"SELECT * FROM Titanic_temp WHERE Name IN (?, ?, ?, ?, ?)\", new_names)\n",
    "    for row in results:\n",
    "        print(row)\n",
    "        \n",
    "    conn.commit()"
   ]
  },
  {
   "cell_type": "markdown",
   "metadata": {},
   "source": [
    "We can also access the data using the row names by making use of the `Row`, and `row_factory` attributes."
   ]
  },
  {
   "cell_type": "code",
   "execution_count": 19,
   "metadata": {},
   "outputs": [
    {
     "name": "stdout",
     "output_type": "stream",
     "text": [
      "Allen, Miss Elisabeth Walton 1st 29\n",
      "Allison, Miss Helen Loraine 1st 2\n",
      "Allison, Mr Hudson Joshua Creighton 1st 30\n",
      "Allison, Mrs Hudson JC (Bessie Waldo Daniels) 1st 25\n",
      "Allison, Master Hudson Trevor 1st 0.92\n"
     ]
    }
   ],
   "source": [
    "conn = sqlite3.connect(sqlite_db)    \n",
    "\n",
    "with conn:\n",
    "    \n",
    "    conn.row_factory = sqlite3.Row\n",
    "       \n",
    "    cur = conn.cursor() \n",
    "    cur.execute(\"SELECT * FROM Titanic LIMIT 5\")\n",
    "\n",
    "    rows = cur.fetchall()\n",
    "\n",
    "    for row in rows:\n",
    "        print(\"%s %s %s\" % (row[\"Name\"], row[\"PClass\"], row[\"Age\"]))"
   ]
  },
  {
   "cell_type": "markdown",
   "metadata": {},
   "source": [
    "Allows accesing the columns by name.\n",
    "\n",
    "When working with databases, you may find that you want to access the metadata, or, information about the data contained within the database.  To do this in sqlite3, run the following."
   ]
  },
  {
   "cell_type": "code",
   "execution_count": 20,
   "metadata": {},
   "outputs": [
    {
     "name": "stdout",
     "output_type": "stream",
     "text": [
      "0 Name TEXT\n",
      "1 PClass TEXT\n",
      "2 Age TEXT\n",
      "3 Sex TEXT\n",
      "4 Survived TEXT\n",
      "5 SexCode TEXT\n"
     ]
    }
   ],
   "source": [
    "conn = sqlite3.connect(sqlite_db)  \n",
    "\n",
    "with conn:\n",
    "    \n",
    "    cur = conn.cursor()    \n",
    "    \n",
    "    cur.execute('PRAGMA table_info(Titanic)')\n",
    "    \n",
    "    data = cur.fetchall()\n",
    "    \n",
    "    for d in data:\n",
    "        print(d[0], d[1], d[2])"
   ]
  },
  {
   "cell_type": "markdown",
   "metadata": {},
   "source": [
    "Which returns information regarding column names and datatypes.\n",
    "\n",
    "**Exercise:** Like we did above, create a copy of the `mtcars` table, and insert 3 new cars into the table, using only a subset of the columns, with proper error checking using a `try` statement, verifying that they were properly inserted before commiting your changes."
   ]
  },
  {
   "cell_type": "code",
   "execution_count": 21,
   "metadata": {},
   "outputs": [
    {
     "name": "stdout",
     "output_type": "stream",
     "text": [
      "('Mazda RX4', '21', '6', '160', '110', '3.9', '2.62', '16.46', '0', '1', '4', '4', 'high')\n",
      "('Mazda RX4 Wag', '21', '6', '160', '110', '3.9', '2.875', '17.02', '0', '1', '4', '4', 'high')\n",
      "('Datsun 710', '22.8', '4', '108', '93', '3.85', '2.32', '18.61', '1', '1', '4', '1', 'high')\n",
      "('Hornet 4 Drive', '21.4', '6', '258', '110', '3.08', '3.215', '19.44', '1', '0', '3', '1', 'high')\n",
      "('Hornet Sportabout', '18.7', '8', '360', '175', '3.15', '3.44', '17.02', '0', '0', '3', '2', 'med')\n"
     ]
    }
   ],
   "source": [
    "# Open database connection\n",
    "conn = sqlite3.connect(sqlite_db)\n",
    "c = conn.cursor()\n",
    "\n",
    "# Make a copy of the mtcars table\n",
    "c.execute(\"CREATE TABLE mtcars_temp AS SELECT * FROM mtcars;\")\n",
    "conn.commit()\n",
    "\n",
    "# Make sure everything looks in order and close database\n",
    "results = c.execute(\"SELECT * from mtcars_temp LIMIT 5\")\n",
    "for row in results:\n",
    "    print(row)\n",
    "conn.close()"
   ]
  },
  {
   "cell_type": "code",
   "execution_count": 22,
   "metadata": {},
   "outputs": [
    {
     "name": "stdout",
     "output_type": "stream",
     "text": [
      "Error table mtcars_temp has 13 columns but 3 values were supplied:\n"
     ]
    }
   ],
   "source": [
    "# Try to insert a subset of columns\n",
    "conn = None\n",
    "\n",
    "try:\n",
    "    conn = sqlite3.connect(sqlite_db)\n",
    "    c = conn.cursor()\n",
    "      \n",
    "    new_names = ('Toyota RAV4', 'Jeep Cherokee', 'Honda Civic')\n",
    "    new_data = [('Toyota RAV4', '28', '6'),\n",
    "               ('Jeep Cherokee', '22', '8'),\n",
    "               ('Honda Civic', '31', '6')]\n",
    "\n",
    "    c.executemany('INSERT INTO mtcars_temp VALUES (?, ?, ?)', new_data)\n",
    "    results = c.execute(\"SELECT * FROM mtcars_temp WHERE Name IN (?, ?, ?)\", new_names)        \n",
    "        \n",
    "except sqlite3.Error as e:\n",
    "        print(\"Error %s:\" % e.args[0])\n",
    "        \n",
    "finally:\n",
    "    if conn:\n",
    "        conn.close()"
   ]
  },
  {
   "cell_type": "markdown",
   "metadata": {},
   "source": [
    "## Pandas\n",
    "Now that we have seen how the sqlite3 module functions, we can work with the data more directly in our Python enviroment by importing it into a Pandas dataframe, providing you with all the tools that you are used to using.\n",
    "\n",
    "Doing this in Pandas is very easy.  All we have to do is open a connection with our database using sqlite3, and then make use of the Pandas `read_sql_query()` function."
   ]
  },
  {
   "cell_type": "code",
   "execution_count": 23,
   "metadata": {},
   "outputs": [
    {
     "data": {
      "text/html": [
       "<div>\n",
       "<style>\n",
       "    .dataframe thead tr:only-child th {\n",
       "        text-align: right;\n",
       "    }\n",
       "\n",
       "    .dataframe thead th {\n",
       "        text-align: left;\n",
       "    }\n",
       "\n",
       "    .dataframe tbody tr th {\n",
       "        vertical-align: top;\n",
       "    }\n",
       "</style>\n",
       "<table border=\"1\" class=\"dataframe\">\n",
       "  <thead>\n",
       "    <tr style=\"text-align: right;\">\n",
       "      <th></th>\n",
       "      <th>Name</th>\n",
       "      <th>PClass</th>\n",
       "      <th>Age</th>\n",
       "      <th>Sex</th>\n",
       "      <th>Survived</th>\n",
       "      <th>SexCode</th>\n",
       "    </tr>\n",
       "  </thead>\n",
       "  <tbody>\n",
       "    <tr>\n",
       "      <th>0</th>\n",
       "      <td>Allen, Miss Elisabeth Walton</td>\n",
       "      <td>1st</td>\n",
       "      <td>29</td>\n",
       "      <td>female</td>\n",
       "      <td>1</td>\n",
       "      <td>1</td>\n",
       "    </tr>\n",
       "    <tr>\n",
       "      <th>1</th>\n",
       "      <td>Allison, Miss Helen Loraine</td>\n",
       "      <td>1st</td>\n",
       "      <td>2</td>\n",
       "      <td>female</td>\n",
       "      <td>0</td>\n",
       "      <td>1</td>\n",
       "    </tr>\n",
       "    <tr>\n",
       "      <th>2</th>\n",
       "      <td>Allison, Mr Hudson Joshua Creighton</td>\n",
       "      <td>1st</td>\n",
       "      <td>30</td>\n",
       "      <td>male</td>\n",
       "      <td>0</td>\n",
       "      <td>0</td>\n",
       "    </tr>\n",
       "    <tr>\n",
       "      <th>3</th>\n",
       "      <td>Allison, Mrs Hudson JC (Bessie Waldo Daniels)</td>\n",
       "      <td>1st</td>\n",
       "      <td>25</td>\n",
       "      <td>female</td>\n",
       "      <td>0</td>\n",
       "      <td>1</td>\n",
       "    </tr>\n",
       "    <tr>\n",
       "      <th>4</th>\n",
       "      <td>Allison, Master Hudson Trevor</td>\n",
       "      <td>1st</td>\n",
       "      <td>0.92</td>\n",
       "      <td>male</td>\n",
       "      <td>1</td>\n",
       "      <td>0</td>\n",
       "    </tr>\n",
       "  </tbody>\n",
       "</table>\n",
       "</div>"
      ],
      "text/plain": [
       "                                            Name PClass   Age     Sex  \\\n",
       "0                   Allen, Miss Elisabeth Walton    1st    29  female   \n",
       "1                    Allison, Miss Helen Loraine    1st     2  female   \n",
       "2            Allison, Mr Hudson Joshua Creighton    1st    30    male   \n",
       "3  Allison, Mrs Hudson JC (Bessie Waldo Daniels)    1st    25  female   \n",
       "4                  Allison, Master Hudson Trevor    1st  0.92    male   \n",
       "\n",
       "  Survived SexCode  \n",
       "0        1       1  \n",
       "1        0       1  \n",
       "2        0       0  \n",
       "3        0       1  \n",
       "4        1       0  "
      ]
     },
     "execution_count": 23,
     "metadata": {},
     "output_type": "execute_result"
    }
   ],
   "source": [
    "import sqlite3\n",
    "import pandas as pd\n",
    "\n",
    "sqlite_db = './myDB.db'\n",
    "conn = sqlite3.connect(sqlite_db)\n",
    "\n",
    "titanic_data = pd.read_sql_query(\"select * from Titanic\", conn)\n",
    "titanic_data.head()"
   ]
  },
  {
   "cell_type": "markdown",
   "metadata": {},
   "source": [
    "We can also pass whatever options we'd like to `read_sql_query()` as well.  For example"
   ]
  },
  {
   "cell_type": "code",
   "execution_count": 24,
   "metadata": {},
   "outputs": [
    {
     "data": {
      "text/html": [
       "<div>\n",
       "<style>\n",
       "    .dataframe thead tr:only-child th {\n",
       "        text-align: right;\n",
       "    }\n",
       "\n",
       "    .dataframe thead th {\n",
       "        text-align: left;\n",
       "    }\n",
       "\n",
       "    .dataframe tbody tr th {\n",
       "        vertical-align: top;\n",
       "    }\n",
       "</style>\n",
       "<table border=\"1\" class=\"dataframe\">\n",
       "  <thead>\n",
       "    <tr style=\"text-align: right;\">\n",
       "      <th></th>\n",
       "      <th>Name</th>\n",
       "      <th>PClass</th>\n",
       "      <th>Age</th>\n",
       "      <th>Sex</th>\n",
       "      <th>Survived</th>\n",
       "      <th>SexCode</th>\n",
       "    </tr>\n",
       "  </thead>\n",
       "  <tbody>\n",
       "    <tr>\n",
       "      <th>0</th>\n",
       "      <td>Allen, Miss Elisabeth Walton</td>\n",
       "      <td>1st</td>\n",
       "      <td>29</td>\n",
       "      <td>female</td>\n",
       "      <td>1</td>\n",
       "      <td>1</td>\n",
       "    </tr>\n",
       "    <tr>\n",
       "      <th>1</th>\n",
       "      <td>Allison, Master Hudson Trevor</td>\n",
       "      <td>1st</td>\n",
       "      <td>0.92</td>\n",
       "      <td>male</td>\n",
       "      <td>1</td>\n",
       "      <td>0</td>\n",
       "    </tr>\n",
       "    <tr>\n",
       "      <th>2</th>\n",
       "      <td>Anderson, Mr Harry</td>\n",
       "      <td>1st</td>\n",
       "      <td>47</td>\n",
       "      <td>male</td>\n",
       "      <td>1</td>\n",
       "      <td>0</td>\n",
       "    </tr>\n",
       "    <tr>\n",
       "      <th>3</th>\n",
       "      <td>Andrews, Miss Kornelia Theodosia</td>\n",
       "      <td>1st</td>\n",
       "      <td>63</td>\n",
       "      <td>female</td>\n",
       "      <td>1</td>\n",
       "      <td>1</td>\n",
       "    </tr>\n",
       "    <tr>\n",
       "      <th>4</th>\n",
       "      <td>Appleton, Mrs Edward Dale (Charlotte Lamson)</td>\n",
       "      <td>1st</td>\n",
       "      <td>58</td>\n",
       "      <td>female</td>\n",
       "      <td>1</td>\n",
       "      <td>1</td>\n",
       "    </tr>\n",
       "  </tbody>\n",
       "</table>\n",
       "</div>"
      ],
      "text/plain": [
       "                                           Name PClass   Age     Sex Survived  \\\n",
       "0                  Allen, Miss Elisabeth Walton    1st    29  female        1   \n",
       "1                 Allison, Master Hudson Trevor    1st  0.92    male        1   \n",
       "2                            Anderson, Mr Harry    1st    47    male        1   \n",
       "3              Andrews, Miss Kornelia Theodosia    1st    63  female        1   \n",
       "4  Appleton, Mrs Edward Dale (Charlotte Lamson)    1st    58  female        1   \n",
       "\n",
       "  SexCode  \n",
       "0       1  \n",
       "1       0  \n",
       "2       0  \n",
       "3       1  \n",
       "4       1  "
      ]
     },
     "execution_count": 24,
     "metadata": {},
     "output_type": "execute_result"
    }
   ],
   "source": [
    "titanic_survivors = pd.read_sql_query(\"select * from Titanic where Survived = 1\", conn)\n",
    "titanic_survivors.head()"
   ]
  },
  {
   "cell_type": "markdown",
   "metadata": {},
   "source": [
    "We can also create new tables in our database using Pandas.  Let's say we want to add the `titanic_survivors` dataframe to our database permanently.  We can do so by calling"
   ]
  },
  {
   "cell_type": "code",
   "execution_count": 25,
   "metadata": {
    "collapsed": true
   },
   "outputs": [],
   "source": [
    "titanic_survivors.to_sql(\"Titanic_survivors\", conn)"
   ]
  },
  {
   "cell_type": "markdown",
   "metadata": {},
   "source": [
    "And then query the results to make sure it worked."
   ]
  },
  {
   "cell_type": "code",
   "execution_count": 26,
   "metadata": {},
   "outputs": [
    {
     "data": {
      "text/html": [
       "<div>\n",
       "<style>\n",
       "    .dataframe thead tr:only-child th {\n",
       "        text-align: right;\n",
       "    }\n",
       "\n",
       "    .dataframe thead th {\n",
       "        text-align: left;\n",
       "    }\n",
       "\n",
       "    .dataframe tbody tr th {\n",
       "        vertical-align: top;\n",
       "    }\n",
       "</style>\n",
       "<table border=\"1\" class=\"dataframe\">\n",
       "  <thead>\n",
       "    <tr style=\"text-align: right;\">\n",
       "      <th></th>\n",
       "      <th>index</th>\n",
       "      <th>Name</th>\n",
       "      <th>PClass</th>\n",
       "      <th>Age</th>\n",
       "      <th>Sex</th>\n",
       "      <th>Survived</th>\n",
       "      <th>SexCode</th>\n",
       "    </tr>\n",
       "  </thead>\n",
       "  <tbody>\n",
       "    <tr>\n",
       "      <th>0</th>\n",
       "      <td>0</td>\n",
       "      <td>Allen, Miss Elisabeth Walton</td>\n",
       "      <td>1st</td>\n",
       "      <td>29</td>\n",
       "      <td>female</td>\n",
       "      <td>1</td>\n",
       "      <td>1</td>\n",
       "    </tr>\n",
       "    <tr>\n",
       "      <th>1</th>\n",
       "      <td>1</td>\n",
       "      <td>Allison, Master Hudson Trevor</td>\n",
       "      <td>1st</td>\n",
       "      <td>0.92</td>\n",
       "      <td>male</td>\n",
       "      <td>1</td>\n",
       "      <td>0</td>\n",
       "    </tr>\n",
       "    <tr>\n",
       "      <th>2</th>\n",
       "      <td>2</td>\n",
       "      <td>Anderson, Mr Harry</td>\n",
       "      <td>1st</td>\n",
       "      <td>47</td>\n",
       "      <td>male</td>\n",
       "      <td>1</td>\n",
       "      <td>0</td>\n",
       "    </tr>\n",
       "    <tr>\n",
       "      <th>3</th>\n",
       "      <td>3</td>\n",
       "      <td>Andrews, Miss Kornelia Theodosia</td>\n",
       "      <td>1st</td>\n",
       "      <td>63</td>\n",
       "      <td>female</td>\n",
       "      <td>1</td>\n",
       "      <td>1</td>\n",
       "    </tr>\n",
       "    <tr>\n",
       "      <th>4</th>\n",
       "      <td>4</td>\n",
       "      <td>Appleton, Mrs Edward Dale (Charlotte Lamson)</td>\n",
       "      <td>1st</td>\n",
       "      <td>58</td>\n",
       "      <td>female</td>\n",
       "      <td>1</td>\n",
       "      <td>1</td>\n",
       "    </tr>\n",
       "  </tbody>\n",
       "</table>\n",
       "</div>"
      ],
      "text/plain": [
       "   index                                          Name PClass   Age     Sex  \\\n",
       "0      0                  Allen, Miss Elisabeth Walton    1st    29  female   \n",
       "1      1                 Allison, Master Hudson Trevor    1st  0.92    male   \n",
       "2      2                            Anderson, Mr Harry    1st    47    male   \n",
       "3      3              Andrews, Miss Kornelia Theodosia    1st    63  female   \n",
       "4      4  Appleton, Mrs Edward Dale (Charlotte Lamson)    1st    58  female   \n",
       "\n",
       "  Survived SexCode  \n",
       "0        1       1  \n",
       "1        1       0  \n",
       "2        1       0  \n",
       "3        1       1  \n",
       "4        1       1  "
      ]
     },
     "execution_count": 26,
     "metadata": {},
     "output_type": "execute_result"
    }
   ],
   "source": [
    "pd.read_sql_query(\"select * from Titanic_survivors\", conn).head()"
   ]
  },
  {
   "cell_type": "markdown",
   "metadata": {},
   "source": [
    "Note that the `to_sql()` function takes a parameter called `if_exists` which specifies what action to take when writing to the database.  If we set this parameter equal to `replace`, then it will replace any table with the same name, altering the table.\n",
    "\n",
    "**Exercise:** Create a Pandas dataframe from the mtcars dataset, containing only cars with 6 cylinder engines and then create a new table in the database from this dataframe.  Verify that all operations worked."
   ]
  },
  {
   "cell_type": "code",
   "execution_count": 27,
   "metadata": {},
   "outputs": [
    {
     "data": {
      "text/html": [
       "<div>\n",
       "<style>\n",
       "    .dataframe thead tr:only-child th {\n",
       "        text-align: right;\n",
       "    }\n",
       "\n",
       "    .dataframe thead th {\n",
       "        text-align: left;\n",
       "    }\n",
       "\n",
       "    .dataframe tbody tr th {\n",
       "        vertical-align: top;\n",
       "    }\n",
       "</style>\n",
       "<table border=\"1\" class=\"dataframe\">\n",
       "  <thead>\n",
       "    <tr style=\"text-align: right;\">\n",
       "      <th></th>\n",
       "      <th>name</th>\n",
       "      <th>mpg</th>\n",
       "      <th>cyl</th>\n",
       "      <th>disp</th>\n",
       "      <th>hp</th>\n",
       "      <th>drat</th>\n",
       "      <th>wt</th>\n",
       "      <th>qsec</th>\n",
       "      <th>vs</th>\n",
       "      <th>am</th>\n",
       "      <th>gear</th>\n",
       "      <th>carb</th>\n",
       "      <th>class</th>\n",
       "    </tr>\n",
       "  </thead>\n",
       "  <tbody>\n",
       "    <tr>\n",
       "      <th>0</th>\n",
       "      <td>Mazda RX4</td>\n",
       "      <td>21</td>\n",
       "      <td>6</td>\n",
       "      <td>160</td>\n",
       "      <td>110</td>\n",
       "      <td>3.9</td>\n",
       "      <td>2.62</td>\n",
       "      <td>16.46</td>\n",
       "      <td>0</td>\n",
       "      <td>1</td>\n",
       "      <td>4</td>\n",
       "      <td>4</td>\n",
       "      <td>high</td>\n",
       "    </tr>\n",
       "    <tr>\n",
       "      <th>1</th>\n",
       "      <td>Mazda RX4 Wag</td>\n",
       "      <td>21</td>\n",
       "      <td>6</td>\n",
       "      <td>160</td>\n",
       "      <td>110</td>\n",
       "      <td>3.9</td>\n",
       "      <td>2.875</td>\n",
       "      <td>17.02</td>\n",
       "      <td>0</td>\n",
       "      <td>1</td>\n",
       "      <td>4</td>\n",
       "      <td>4</td>\n",
       "      <td>high</td>\n",
       "    </tr>\n",
       "    <tr>\n",
       "      <th>2</th>\n",
       "      <td>Hornet 4 Drive</td>\n",
       "      <td>21.4</td>\n",
       "      <td>6</td>\n",
       "      <td>258</td>\n",
       "      <td>110</td>\n",
       "      <td>3.08</td>\n",
       "      <td>3.215</td>\n",
       "      <td>19.44</td>\n",
       "      <td>1</td>\n",
       "      <td>0</td>\n",
       "      <td>3</td>\n",
       "      <td>1</td>\n",
       "      <td>high</td>\n",
       "    </tr>\n",
       "    <tr>\n",
       "      <th>3</th>\n",
       "      <td>Valiant</td>\n",
       "      <td>18.1</td>\n",
       "      <td>6</td>\n",
       "      <td>225</td>\n",
       "      <td>105</td>\n",
       "      <td>2.76</td>\n",
       "      <td>3.46</td>\n",
       "      <td>20.22</td>\n",
       "      <td>1</td>\n",
       "      <td>0</td>\n",
       "      <td>3</td>\n",
       "      <td>1</td>\n",
       "      <td>med</td>\n",
       "    </tr>\n",
       "    <tr>\n",
       "      <th>4</th>\n",
       "      <td>Merc 280</td>\n",
       "      <td>19.2</td>\n",
       "      <td>6</td>\n",
       "      <td>167.6</td>\n",
       "      <td>123</td>\n",
       "      <td>3.92</td>\n",
       "      <td>3.44</td>\n",
       "      <td>18.3</td>\n",
       "      <td>1</td>\n",
       "      <td>0</td>\n",
       "      <td>4</td>\n",
       "      <td>4</td>\n",
       "      <td>med</td>\n",
       "    </tr>\n",
       "  </tbody>\n",
       "</table>\n",
       "</div>"
      ],
      "text/plain": [
       "             name   mpg cyl   disp   hp  drat     wt   qsec vs am gear carb  \\\n",
       "0       Mazda RX4    21   6    160  110   3.9   2.62  16.46  0  1    4    4   \n",
       "1   Mazda RX4 Wag    21   6    160  110   3.9  2.875  17.02  0  1    4    4   \n",
       "2  Hornet 4 Drive  21.4   6    258  110  3.08  3.215  19.44  1  0    3    1   \n",
       "3         Valiant  18.1   6    225  105  2.76   3.46  20.22  1  0    3    1   \n",
       "4        Merc 280  19.2   6  167.6  123  3.92   3.44   18.3  1  0    4    4   \n",
       "\n",
       "  class  \n",
       "0  high  \n",
       "1  high  \n",
       "2  high  \n",
       "3   med  \n",
       "4   med  "
      ]
     },
     "execution_count": 27,
     "metadata": {},
     "output_type": "execute_result"
    }
   ],
   "source": [
    "# Create connection\n",
    "sqlite_db = './myDB.db'\n",
    "conn = sqlite3.connect(sqlite_db)\n",
    "\n",
    "mtcars_6cyl = pd.read_sql_query(\"select * from mtcars where cyl = 6\", conn)\n",
    "mtcars_6cyl.head()"
   ]
  },
  {
   "cell_type": "code",
   "execution_count": 28,
   "metadata": {},
   "outputs": [],
   "source": [
    "# Create a new table in the database from this dataframe\n",
    "mtcars_6cyl.to_sql(\"mtcars_6cyl\", conn)"
   ]
  },
  {
   "cell_type": "code",
   "execution_count": 29,
   "metadata": {},
   "outputs": [
    {
     "data": {
      "text/html": [
       "<div>\n",
       "<style>\n",
       "    .dataframe thead tr:only-child th {\n",
       "        text-align: right;\n",
       "    }\n",
       "\n",
       "    .dataframe thead th {\n",
       "        text-align: left;\n",
       "    }\n",
       "\n",
       "    .dataframe tbody tr th {\n",
       "        vertical-align: top;\n",
       "    }\n",
       "</style>\n",
       "<table border=\"1\" class=\"dataframe\">\n",
       "  <thead>\n",
       "    <tr style=\"text-align: right;\">\n",
       "      <th></th>\n",
       "      <th>index</th>\n",
       "      <th>name</th>\n",
       "      <th>mpg</th>\n",
       "      <th>cyl</th>\n",
       "      <th>disp</th>\n",
       "      <th>hp</th>\n",
       "      <th>drat</th>\n",
       "      <th>wt</th>\n",
       "      <th>qsec</th>\n",
       "      <th>vs</th>\n",
       "      <th>am</th>\n",
       "      <th>gear</th>\n",
       "      <th>carb</th>\n",
       "      <th>class</th>\n",
       "    </tr>\n",
       "  </thead>\n",
       "  <tbody>\n",
       "    <tr>\n",
       "      <th>0</th>\n",
       "      <td>0</td>\n",
       "      <td>Mazda RX4</td>\n",
       "      <td>21</td>\n",
       "      <td>6</td>\n",
       "      <td>160</td>\n",
       "      <td>110</td>\n",
       "      <td>3.9</td>\n",
       "      <td>2.62</td>\n",
       "      <td>16.46</td>\n",
       "      <td>0</td>\n",
       "      <td>1</td>\n",
       "      <td>4</td>\n",
       "      <td>4</td>\n",
       "      <td>high</td>\n",
       "    </tr>\n",
       "    <tr>\n",
       "      <th>1</th>\n",
       "      <td>1</td>\n",
       "      <td>Mazda RX4 Wag</td>\n",
       "      <td>21</td>\n",
       "      <td>6</td>\n",
       "      <td>160</td>\n",
       "      <td>110</td>\n",
       "      <td>3.9</td>\n",
       "      <td>2.875</td>\n",
       "      <td>17.02</td>\n",
       "      <td>0</td>\n",
       "      <td>1</td>\n",
       "      <td>4</td>\n",
       "      <td>4</td>\n",
       "      <td>high</td>\n",
       "    </tr>\n",
       "    <tr>\n",
       "      <th>2</th>\n",
       "      <td>2</td>\n",
       "      <td>Hornet 4 Drive</td>\n",
       "      <td>21.4</td>\n",
       "      <td>6</td>\n",
       "      <td>258</td>\n",
       "      <td>110</td>\n",
       "      <td>3.08</td>\n",
       "      <td>3.215</td>\n",
       "      <td>19.44</td>\n",
       "      <td>1</td>\n",
       "      <td>0</td>\n",
       "      <td>3</td>\n",
       "      <td>1</td>\n",
       "      <td>high</td>\n",
       "    </tr>\n",
       "    <tr>\n",
       "      <th>3</th>\n",
       "      <td>3</td>\n",
       "      <td>Valiant</td>\n",
       "      <td>18.1</td>\n",
       "      <td>6</td>\n",
       "      <td>225</td>\n",
       "      <td>105</td>\n",
       "      <td>2.76</td>\n",
       "      <td>3.46</td>\n",
       "      <td>20.22</td>\n",
       "      <td>1</td>\n",
       "      <td>0</td>\n",
       "      <td>3</td>\n",
       "      <td>1</td>\n",
       "      <td>med</td>\n",
       "    </tr>\n",
       "    <tr>\n",
       "      <th>4</th>\n",
       "      <td>4</td>\n",
       "      <td>Merc 280</td>\n",
       "      <td>19.2</td>\n",
       "      <td>6</td>\n",
       "      <td>167.6</td>\n",
       "      <td>123</td>\n",
       "      <td>3.92</td>\n",
       "      <td>3.44</td>\n",
       "      <td>18.3</td>\n",
       "      <td>1</td>\n",
       "      <td>0</td>\n",
       "      <td>4</td>\n",
       "      <td>4</td>\n",
       "      <td>med</td>\n",
       "    </tr>\n",
       "  </tbody>\n",
       "</table>\n",
       "</div>"
      ],
      "text/plain": [
       "   index            name   mpg cyl   disp   hp  drat     wt   qsec vs am gear  \\\n",
       "0      0       Mazda RX4    21   6    160  110   3.9   2.62  16.46  0  1    4   \n",
       "1      1   Mazda RX4 Wag    21   6    160  110   3.9  2.875  17.02  0  1    4   \n",
       "2      2  Hornet 4 Drive  21.4   6    258  110  3.08  3.215  19.44  1  0    3   \n",
       "3      3         Valiant  18.1   6    225  105  2.76   3.46  20.22  1  0    3   \n",
       "4      4        Merc 280  19.2   6  167.6  123  3.92   3.44   18.3  1  0    4   \n",
       "\n",
       "  carb class  \n",
       "0    4  high  \n",
       "1    4  high  \n",
       "2    1  high  \n",
       "3    1   med  \n",
       "4    4   med  "
      ]
     },
     "execution_count": 29,
     "metadata": {},
     "output_type": "execute_result"
    }
   ],
   "source": [
    "# Query the results to ensure it worked and close the connection\n",
    "pd.read_sql_query(\"select * from mtcars_6cyl\", conn).head()"
   ]
  },
  {
   "cell_type": "code",
   "execution_count": 30,
   "metadata": {
    "collapsed": true
   },
   "outputs": [],
   "source": [
    "# Close connection\n",
    "conn.close()"
   ]
  }
 ],
 "metadata": {
  "anaconda-cloud": {},
  "kernelspec": {
   "display_name": "Python 3",
   "language": "python",
   "name": "python3"
  },
  "language_info": {
   "codemirror_mode": {
    "name": "ipython",
    "version": 3
   },
   "file_extension": ".py",
   "mimetype": "text/x-python",
   "name": "python",
   "nbconvert_exporter": "python",
   "pygments_lexer": "ipython3",
   "version": "3.6.1"
  }
 },
 "nbformat": 4,
 "nbformat_minor": 2
}

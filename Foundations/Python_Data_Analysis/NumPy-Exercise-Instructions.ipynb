{
 "cells": [
  {
   "cell_type": "markdown",
   "metadata": {},
   "source": [
    "# NumPy Exercise\n",
    "NumPy is the fundamental package for scientific computing in Python. It is a Python library that provides a multidimensional array object, various derived objects (such as masked arrays and matrices), and an assortment of routines for fast operations on arrays, including mathematical, logical, shape manipulation, sorting, selecting, I/O, discrete Fourier transforms, basic linear algebra, basic statistical operations, random simulation and much more.\n",
    "\n",
    "At the core of the NumPy package, is the ndarray object. This encapsulates n-dimensional arrays of homogeneous data types, with many operations being performed in compiled code for performance. There are several important differences between NumPy arrays and the standard Python sequences:\n",
    "\n",
    "- NumPy arrays have a fixed size at creation, unlike Python lists (which can grow dynamically). Changing the size of an ndarray will create a new array and delete the original.\n",
    "- The elements in a NumPy array are all required to be of the same data type, and thus will be the same size in memory. The exception: one can have arrays of (Python, including NumPy) objects, thereby allowing for arrays of different sized elements.\n",
    "- NumPy arrays facilitate advanced mathematical and other types of operations on large numbers of data. Typically, such operations are executed more efficiently and with less code than is possible using Python’s built-in sequences.\n",
    "- A growing plethora of scientific and mathematical Python-based packages are using NumPy arrays; though these typically support Python-sequence input, they convert such input to NumPy arrays prior to processing, and they often output NumPy arrays. In other words, in order to efficiently use much (perhaps even most) of today’s scientific/mathematical Python-based software, just knowing how to use Python’s built-in sequence types is insufficient - one also needs to know how to use NumPy arrays.\n",
    "\n",
    "Using only NumPy, perform the following.\n",
    "\n",
    "1. Create an array of the form $b = \\begin{bmatrix} 1 \\\\ 2 \\end{bmatrix}$\n",
    "1. Create a 2x2 array of the form $X = \\begin{bmatrix} 1 & 2 \\\\ 3 & 4 \\end{bmatrix}$\n",
    "1. Multiply the two arrays element wise, then using matrix multiplication, and finally the inner product of $b \\bullet b$.\n",
    "1. For each of your results in part (3), print the shape and data type.\n",
    "1. Reshape (or flatten), the array $X$ such that it consists of only 1 row.\n",
    "1. Create an array of the integers 1 to 10, inclusive, setting the datatype to float.\n",
    "1. Create a 10x10 identity matrix using the built in numpy function.\n",
    "1. Create a 10x10 identity matrix using a for loop.\n",
    "1. Generate a set of random data, $X$, drawn from a normal distribution, consisting of 9 columns of 100 rows each, then attach a column of all ones, resulting in a 100x10 matrix for $X$.  Next generate a random array $\\beta$, drawn from a uniform distribution, of length 10.  Also make an array, $\\epsilon$ of length 100, drawn from a normal distribution.  Finally, compute a vector $\\vec{y}$ such that $\\vec{y} = X\\beta + \\epsilon$.  Be sure to set the random seed to 0 before drawing any random numbers.  All random numbers should be on the interval [0, 1).\n",
    "1. Using the vector $\\vec{y}$ computed in part 9, create a vector $\\vec{c}$ containing the labels \"positive\" or \"negative\" for each value in $\\vec{y}$, treating 0 as positive.  **Bonus:** Do it with a one-liner.\n",
    "1. Using the classes generated in part 10, separate the matrix X into two smaller matricies, $X_p$, $X_n$, containing only rows which map to positive or negative values respectively.\n",
    "1. Generate a meshgrid on the interval [0, 1], of shape 100x100.  Then compute the Euclidean Distance given by $d = \\sqrt{x^2 + y^2}$ from the origin for each unit, $(x_n, y_n)$, in the grid.  **Bonus:** Do it with a one-liner.\n",
    "1. Generate a set of 100 values, $p$,  on the interval $[0, 2\\pi]$ and two vectors, $\\vec{x}, \\vec{y}$ such that $\\vec{x} = cos(p)$ and $\\vec{y} = sin(p)$.  Then compute the vector $\\vec{r} = \\sqrt{x^2 + y^2}$.  Comment on your results.\n",
    "1. Generate two lists, `a`, `b`, consisting of 10 randomly drawn values from a normal and uniform distribution respectively.  Compute the mean and median of each.\n",
    "1. Using `a` from part 14, create a new list `c` by calling `a = c`.  Now change the shape of `c`.  Comment on your results.\n",
    "1. How would you solve the problem that appeared in part 15?"
   ]
  },
  {
   "cell_type": "code",
   "execution_count": null,
   "metadata": {
    "collapsed": true
   },
   "outputs": [],
   "source": []
  }
 ],
 "metadata": {
  "anaconda-cloud": {},
  "kernelspec": {
   "display_name": "Python 3",
   "language": "python",
   "name": "python3"
  },
  "language_info": {
   "codemirror_mode": {
    "name": "ipython",
    "version": 3
   },
   "file_extension": ".py",
   "mimetype": "text/x-python",
   "name": "python",
   "nbconvert_exporter": "python",
   "pygments_lexer": "ipython3",
   "version": "3.6.1"
  }
 },
 "nbformat": 4,
 "nbformat_minor": 2
}

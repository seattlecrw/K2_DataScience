{
 "cells": [
  {
   "cell_type": "markdown",
   "metadata": {
    "collapsed": true
   },
   "source": [
    "# Matplotlib\n",
    "As it turns out, people are very terrible at understanding numerical data, but can process and interpret visual information at remarkable speeds -- quite the opposite of computers in fact, and as such, you will nearly always want some sort of visual to accompany your analysis.  In this exercise, we'll be using `Matplotlib`, a package in `SciPy`, utilizying MATLAB-like syntax, to generate many plots."
   ]
  },
  {
   "cell_type": "markdown",
   "metadata": {},
   "source": [
    "# Basics Using Generated Data\n",
    "1. Generate three arrays of 500 values, $x$, $y_1$, $y_2$ such that $$\\{x \\mid -2\\pi \\le x \\le 2\\pi \\}$$ $$y_1 = sin(x)$$ $$y_2 = cos(x)$$\n",
    "1. Using the default settings, use pyplot to plot $y_1$ and $y_2$ versus $x$, all on the same plot.\n",
    "1. Generate the same plots, but set the horizontal and vertical limits to be slightly smaller than the default settings.  In otherwords, tighten up the plot a bit.\n",
    "1. Generate the same plots using all settings from above, but now change the color and thickness of each from the defaults.  Play around with the values a bit until you are satisfied with how they look.\n",
    "1. Generate the same plots using all settings from above, but now add some custom tickmarks with labels of your choosing.  Which values would make sense given the functions we are using?\n",
    "1. Generate the same plots using all the settings from above, but now change your plot spines so that they are centered at the origin.  In other words, change the plot area from a \"box\" to a \"cross\".\n",
    "1. Generate the same plots using all the settings from above, but now add a legend, with labels `sine` and `cosine`, to your plot in a position of your choosing.\n",
    "1. Now generate two more data sets, $$y_3 = sin(x) + sin(2x)$$ $$y_3 = cos(x) + cos(2x)$$ and add them to your plot, setting different color and line styles (for example, dotted).  Be sure to adjust your scales and legend as needed.  Also add a title to your plot."
   ]
  },
  {
   "cell_type": "code",
   "execution_count": null,
   "metadata": {
    "collapsed": true
   },
   "outputs": [],
   "source": []
  },
  {
   "cell_type": "markdown",
   "metadata": {},
   "source": [
    "# More Plots With Real Data\n",
    "In this exercise we'll be using a real data set to test out the functionality of `matplotlib`.\n",
    "\n",
    "1. Go to the [R Data Repository](https://vincentarelbundock.github.io/Rdatasets/datasets.html) and download, or load directly, the [Aircraft Crash data](https://vincentarelbundock.github.io/Rdatasets/csv/gamclass/airAccs.csv), load it into a Data Frame, and print the first few rows.\n",
    "1. Generate a histogram for the number of deaths, using bin sizes of your choice.  Be sure to adjust the axis and to add a title to make your plot aesthetically appealing.\n",
    "1. Make some plots of total number of deaths with respect to time, making use of Pandas time series functionality.  Again, be sure to make your plot aesthetically appealing.\n",
    "1. We're now going to add in some data from a different source to take a look at the bigger picture in terms of number of passengers flying each year.  Head over to the [World Bank Webpage](http://data.worldbank.org/indicator/IS.AIR.PSGR) and download the `.csv` version of the data in the link.  Clean it up and merge it with your original aircraft accident data above.  Call this merged data set `data_all`.\n",
    "1. Using `data_all`, create two graphs to visualize how the number of deaths and passengers vary with time, and, as always, make your plots as visually appealing as possible.\n",
    "1. Make a pie chart representing the number of deaths for each decade.  Consult the `pyplot` documentation to play around with the settings a bit."
   ]
  },
  {
   "cell_type": "code",
   "execution_count": null,
   "metadata": {
    "collapsed": true
   },
   "outputs": [],
   "source": []
  }
 ],
 "metadata": {
  "anaconda-cloud": {},
  "kernelspec": {
   "display_name": "Python 3",
   "language": "python",
   "name": "python3"
  },
  "language_info": {
   "codemirror_mode": {
    "name": "ipython",
    "version": 3
   },
   "file_extension": ".py",
   "mimetype": "text/x-python",
   "name": "python",
   "nbconvert_exporter": "python",
   "pygments_lexer": "ipython3",
   "version": "3.6.1"
  }
 },
 "nbformat": 4,
 "nbformat_minor": 2
}

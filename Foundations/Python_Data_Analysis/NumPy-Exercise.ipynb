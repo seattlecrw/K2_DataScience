{
 "cells": [
  {
   "cell_type": "markdown",
   "metadata": {},
   "source": [
    "# NumPy Exercise\n",
    "\n",
    "\n",
    "### Task: using only NumPy, perform the following operations:"
   ]
  },
  {
   "cell_type": "code",
   "execution_count": 1,
   "metadata": {
    "collapsed": true
   },
   "outputs": [],
   "source": [
    "# Import numpy for use in all exercises\n",
    "import numpy as np"
   ]
  },
  {
   "cell_type": "markdown",
   "metadata": {},
   "source": [
    "### 1. Create an array of the form $b = \\begin{bmatrix} 1 \\\\ 2 \\end{bmatrix}$"
   ]
  },
  {
   "cell_type": "code",
   "execution_count": 2,
   "metadata": {},
   "outputs": [
    {
     "name": "stdout",
     "output_type": "stream",
     "text": [
      "[1 2]\n"
     ]
    }
   ],
   "source": [
    "b = np.array( [1, 2] )\n",
    "print(b)"
   ]
  },
  {
   "cell_type": "markdown",
   "metadata": {},
   "source": [
    "### 2. Create a 2x2 array of the form $X = \\begin{bmatrix} 1 & 2 \\\\ 3 & 4 \\end{bmatrix}$"
   ]
  },
  {
   "cell_type": "code",
   "execution_count": 3,
   "metadata": {},
   "outputs": [
    {
     "name": "stdout",
     "output_type": "stream",
     "text": [
      "[[1 2]\n",
      " [3 4]]\n"
     ]
    }
   ],
   "source": [
    "X = np.array( [[1, 2], [3, 4]] )\n",
    "print(X)"
   ]
  },
  {
   "cell_type": "markdown",
   "metadata": {},
   "source": [
    "### 3. Multiply the two arrays element wise, then using matrix multiplication, and finally the inner product of $b \\bullet b$."
   ]
  },
  {
   "cell_type": "markdown",
   "metadata": {},
   "source": [
    "Element-wise multiplication"
   ]
  },
  {
   "cell_type": "code",
   "execution_count": 4,
   "metadata": {},
   "outputs": [
    {
     "name": "stdout",
     "output_type": "stream",
     "text": [
      "[[1 4]\n",
      " [3 8]]\n"
     ]
    }
   ],
   "source": [
    "element_mult = X * b\n",
    "print(element_mult)"
   ]
  },
  {
   "cell_type": "markdown",
   "metadata": {},
   "source": [
    "Matrix multiplication"
   ]
  },
  {
   "cell_type": "code",
   "execution_count": 5,
   "metadata": {},
   "outputs": [
    {
     "name": "stdout",
     "output_type": "stream",
     "text": [
      "[ 5 11]\n"
     ]
    }
   ],
   "source": [
    "matrix_mult = X.dot(b)\n",
    "print(matrix_mult)"
   ]
  },
  {
   "cell_type": "markdown",
   "metadata": {},
   "source": [
    "Inner product of $b \\bullet b$"
   ]
  },
  {
   "cell_type": "code",
   "execution_count": 6,
   "metadata": {},
   "outputs": [
    {
     "name": "stdout",
     "output_type": "stream",
     "text": [
      "5\n"
     ]
    }
   ],
   "source": [
    "inner_prod = b.dot(b)\n",
    "print(inner_prod)"
   ]
  },
  {
   "cell_type": "markdown",
   "metadata": {},
   "source": [
    "### 4. For each of your results in part (3), print the shape and data type."
   ]
  },
  {
   "cell_type": "markdown",
   "metadata": {},
   "source": [
    "Shape and data type from element-wise multiplication"
   ]
  },
  {
   "cell_type": "code",
   "execution_count": 7,
   "metadata": {},
   "outputs": [
    {
     "name": "stdout",
     "output_type": "stream",
     "text": [
      "shape = (2, 2)\n",
      "data type = int64\n"
     ]
    }
   ],
   "source": [
    "print(\"shape = {}\".format(element_mult.shape))\n",
    "print(\"data type = {}\".format(element_mult.dtype))"
   ]
  },
  {
   "cell_type": "markdown",
   "metadata": {},
   "source": [
    "Shape and data type from matrix multiplication"
   ]
  },
  {
   "cell_type": "code",
   "execution_count": 8,
   "metadata": {},
   "outputs": [
    {
     "name": "stdout",
     "output_type": "stream",
     "text": [
      "shape = (2,)\n",
      "data type = int64\n"
     ]
    }
   ],
   "source": [
    "print(\"shape = {}\".format(matrix_mult.shape))\n",
    "print(\"data type = {}\".format(matrix_mult.dtype))"
   ]
  },
  {
   "cell_type": "markdown",
   "metadata": {},
   "source": [
    "Shape and data type from inner dot product of $b \\bullet b$"
   ]
  },
  {
   "cell_type": "code",
   "execution_count": 9,
   "metadata": {},
   "outputs": [
    {
     "name": "stdout",
     "output_type": "stream",
     "text": [
      "shape = ()\n",
      "data type = int64\n"
     ]
    }
   ],
   "source": [
    "print(\"shape = {}\".format(inner_prod.shape))\n",
    "print(\"data type = {}\".format(inner_prod.dtype))"
   ]
  },
  {
   "cell_type": "markdown",
   "metadata": {},
   "source": [
    "### 5. Reshape (or flatten), the array $X$ such that it consists of only 1 row."
   ]
  },
  {
   "cell_type": "code",
   "execution_count": 10,
   "metadata": {},
   "outputs": [
    {
     "name": "stdout",
     "output_type": "stream",
     "text": [
      "[1 2 3 4]\n"
     ]
    }
   ],
   "source": [
    "flatX = X.ravel()\n",
    "print(flatX)"
   ]
  },
  {
   "cell_type": "markdown",
   "metadata": {},
   "source": [
    "### 6. Create an array of the integers 1 to 10, inclusive, setting the datatype to float."
   ]
  },
  {
   "cell_type": "code",
   "execution_count": 11,
   "metadata": {},
   "outputs": [
    {
     "name": "stdout",
     "output_type": "stream",
     "text": [
      "[  1.   2.   3.   4.   5.   6.   7.   8.   9.  10.]\n"
     ]
    }
   ],
   "source": [
    "new_array = np.linspace(1, 10, 10, dtype = np.float)\n",
    "print(new_array)"
   ]
  },
  {
   "cell_type": "markdown",
   "metadata": {},
   "source": [
    "### 7. Create a 10x10 identity matrix using the built in numpy function."
   ]
  },
  {
   "cell_type": "code",
   "execution_count": 12,
   "metadata": {},
   "outputs": [
    {
     "name": "stdout",
     "output_type": "stream",
     "text": [
      "[[ 1.  0.  0.  0.  0.  0.  0.  0.  0.  0.]\n",
      " [ 0.  1.  0.  0.  0.  0.  0.  0.  0.  0.]\n",
      " [ 0.  0.  1.  0.  0.  0.  0.  0.  0.  0.]\n",
      " [ 0.  0.  0.  1.  0.  0.  0.  0.  0.  0.]\n",
      " [ 0.  0.  0.  0.  1.  0.  0.  0.  0.  0.]\n",
      " [ 0.  0.  0.  0.  0.  1.  0.  0.  0.  0.]\n",
      " [ 0.  0.  0.  0.  0.  0.  1.  0.  0.  0.]\n",
      " [ 0.  0.  0.  0.  0.  0.  0.  1.  0.  0.]\n",
      " [ 0.  0.  0.  0.  0.  0.  0.  0.  1.  0.]\n",
      " [ 0.  0.  0.  0.  0.  0.  0.  0.  0.  1.]]\n"
     ]
    }
   ],
   "source": [
    "identity_10 = np.eye(10)\n",
    "print(identity_10)"
   ]
  },
  {
   "cell_type": "markdown",
   "metadata": {},
   "source": [
    "### 8. Create a 10x10 identity matrix using a for loop."
   ]
  },
  {
   "cell_type": "code",
   "execution_count": 13,
   "metadata": {},
   "outputs": [
    {
     "name": "stdout",
     "output_type": "stream",
     "text": [
      "[[ 1.  0.  0.  0.  0.  0.  0.  0.  0.  0.]\n",
      " [ 0.  1.  0.  0.  0.  0.  0.  0.  0.  0.]\n",
      " [ 0.  0.  1.  0.  0.  0.  0.  0.  0.  0.]\n",
      " [ 0.  0.  0.  1.  0.  0.  0.  0.  0.  0.]\n",
      " [ 0.  0.  0.  0.  1.  0.  0.  0.  0.  0.]\n",
      " [ 0.  0.  0.  0.  0.  1.  0.  0.  0.  0.]\n",
      " [ 0.  0.  0.  0.  0.  0.  1.  0.  0.  0.]\n",
      " [ 0.  0.  0.  0.  0.  0.  0.  1.  0.  0.]\n",
      " [ 0.  0.  0.  0.  0.  0.  0.  0.  1.  0.]\n",
      " [ 0.  0.  0.  0.  0.  0.  0.  0.  0.  1.]]\n"
     ]
    }
   ],
   "source": [
    "identity_array = np.zeros((10, 10))\n",
    "for i in np.arange(0, 10):\n",
    "    identity_array[i, i] = 1\n",
    "print(identity_array)"
   ]
  },
  {
   "cell_type": "markdown",
   "metadata": {},
   "source": [
    "### 9. Generate a set of random data, $X$, drawn from a normal distribution, consisting of 9 columns of 100 rows each, then attach a column of all ones, resulting in a 100x10 matrix for $X$.  Next generate a random array $\\beta$, drawn from a uniform distribution, of length 10.  Also make an array, $\\epsilon$ of length 100, drawn from a normal distribution.  Finally, compute a vector $\\vec{y}$ such that $\\vec{y} = X\\beta + \\epsilon$.  Be sure to set the random seed to 0 before drawing any random numbers.  All random numbers should be on the interval [0, 1)."
   ]
  },
  {
   "cell_type": "code",
   "execution_count": 14,
   "metadata": {
    "collapsed": true
   },
   "outputs": [],
   "source": [
    "# Set random seed\n",
    "np.random.seed(0)\n",
    "\n",
    "# Perform calculations\n",
    "X = np.hstack( (np.ones((100, 1)), np.random.randn(100, 9)) )\n",
    "β = np.random.rand(10)\n",
    "ϵ = np.random.rand(100)\n",
    "y = X.dot(β) + ϵ"
   ]
  },
  {
   "cell_type": "markdown",
   "metadata": {},
   "source": [
    "### 10. Using the vector $\\vec{y}$ computed in part 9, create a vector $\\vec{c}$ containing the labels \"positive\" or \"negative\" for each value in $\\vec{y}$, treating 0 as positive.  **Bonus:** Do it with a one-liner."
   ]
  },
  {
   "cell_type": "code",
   "execution_count": 15,
   "metadata": {
    "collapsed": true
   },
   "outputs": [],
   "source": [
    "c = ['positive' if element >= 0 else 'negative' for element in y]"
   ]
  },
  {
   "cell_type": "markdown",
   "metadata": {},
   "source": [
    "### 11. Using the classes generated in part 10, separate the matrix X into two smaller matricies, $X_p$, $X_n$, containing only rows which map to positive or negative values respectively."
   ]
  },
  {
   "cell_type": "code",
   "execution_count": 17,
   "metadata": {},
   "outputs": [
    {
     "name": "stdout",
     "output_type": "stream",
     "text": [
      "X = (100, 10), Xp = (74, 10), Xn = (26, 10)\n"
     ]
    }
   ],
   "source": [
    "# Identify positive and negative rows\n",
    "c = np.array(c)\n",
    "Xp = X[c == 'positive']\n",
    "Xn = X[c == 'negative']\n",
    "print(\"X = {}, Xp = {}, Xn = {}\".format(X.shape, Xp.shape, Xn.shape))"
   ]
  },
  {
   "cell_type": "markdown",
   "metadata": {},
   "source": [
    "### 12. Generate a meshgrid on the interval [0, 1], of shape 100x100.  Then compute the Euclidean Distance given by $d = \\sqrt{x^2 + y^2}$ from the origin for each unit, $(x_n, y_n)$, in the grid.  **Bonus:** Do it with a one-liner."
   ]
  },
  {
   "cell_type": "code",
   "execution_count": 18,
   "metadata": {
    "collapsed": true
   },
   "outputs": [],
   "source": [
    "x, y = np.meshgrid(np.linspace(0, 1, 100), np.linspace(0, 1, 100))\n",
    "d = [np.sqrt(x[i,j]**2 + y[i,j]**2) for i in range(100) for j in range(100)]"
   ]
  },
  {
   "cell_type": "markdown",
   "metadata": {},
   "source": [
    "### 13. Generate a set of 100 values, $p$,  on the interval $[0, 2\\pi]$ and two vectors, $\\vec{x}, \\vec{y}$ such that $\\vec{x} = cos(p)$ and $\\vec{y} = sin(p)$.  Then compute the vector $\\vec{r} = \\sqrt{x^2 + y^2}$.  Comment on your results."
   ]
  },
  {
   "cell_type": "code",
   "execution_count": null,
   "metadata": {},
   "outputs": [],
   "source": [
    "p = np.linspace(0, 2*np.pi, 100)\n",
    "x = np.cos(p)\n",
    "y = np.sin(p)\n",
    "r = np.sqrt(x**2 + y**2)\n",
    "r"
   ]
  },
  {
   "cell_type": "markdown",
   "metadata": {},
   "source": [
    "Every value equals 1, as expected. By definition, squaring and adding the sine and cosine of an angle in a triangle over $[0, 2\\pi]$ gives the hypotenuse squared, the square root of which equals one."
   ]
  },
  {
   "cell_type": "markdown",
   "metadata": {},
   "source": [
    "### 14. Generate two lists, `a`, `b`, consisting of 10 randomly drawn values from a normal and uniform distribution respectively.  Compute the mean and median of each."
   ]
  },
  {
   "cell_type": "code",
   "execution_count": null,
   "metadata": {},
   "outputs": [],
   "source": [
    "# Generate lists\n",
    "a = np.random.randn(10)\n",
    "b = np.random.rand(10)\n",
    "\n",
    "# Calculate values\n",
    "print(\"Mean of a = {}, median of a = {}\".format(np.mean(a), np.median(a)))\n",
    "print(\"Mean of b = {}, median of b = {}\".format(np.mean(b), np.median(b)))"
   ]
  },
  {
   "cell_type": "markdown",
   "metadata": {},
   "source": [
    "### 15. Using `a` from part 14, create a new list `c` by calling `c = a`.  Now change the shape of `c`.  Comment on your results."
   ]
  },
  {
   "cell_type": "code",
   "execution_count": null,
   "metadata": {},
   "outputs": [],
   "source": [
    "c = a\n",
    "c.shape = (2, 5)\n",
    "print(\"a shape: {}\".format(a.shape))\n",
    "print(\"c shape: {}\".format(c.shape))"
   ]
  },
  {
   "cell_type": "markdown",
   "metadata": {},
   "source": [
    "Changing $c$ in place also changed $a$, demonstrating that calling $c = a$ did not make a copy of $a$ but rather referenced $a$ in memory."
   ]
  },
  {
   "cell_type": "markdown",
   "metadata": {},
   "source": [
    "### 16. How would you solve the problem that appeared in part 15?"
   ]
  },
  {
   "cell_type": "markdown",
   "metadata": {
    "collapsed": true
   },
   "source": [
    "I would call $c = a.copy()$ instead, resulting in an independent copy of the list that can be changed without side effects."
   ]
  }
 ],
 "metadata": {
  "anaconda-cloud": {},
  "kernelspec": {
   "display_name": "Python 3",
   "language": "python",
   "name": "python3"
  },
  "language_info": {
   "codemirror_mode": {
    "name": "ipython",
    "version": 3
   },
   "file_extension": ".py",
   "mimetype": "text/x-python",
   "name": "python",
   "nbconvert_exporter": "python",
   "pygments_lexer": "ipython3",
   "version": "3.6.1"
  }
 },
 "nbformat": 4,
 "nbformat_minor": 2
}

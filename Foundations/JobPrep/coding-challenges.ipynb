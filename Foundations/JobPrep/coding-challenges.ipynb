{
 "cells": [
  {
   "cell_type": "markdown",
   "metadata": {},
   "source": [
    "# Coding Challenges\n",
    "\n",
    "\n",
    "- [Good introductory article on the basics of Big-O](https://justin.abrah.ms/computer-science/big-o-notation-explained.html)\n",
    "- Hash table is another name for dictionary\n",
    "\n",
    "<hr>"
   ]
  },
  {
   "cell_type": "markdown",
   "metadata": {},
   "source": [
    "## Fizz Buzz\n",
    "\n",
    "We will start off with the infamous Fizz buzz challenge. This challenge has been used frequently in the\n",
    "past as an initial coding challenge to filter out people who cannot write a simple solution. The general\n",
    "problem is:\n",
    "\n",
    "*Print out all the numbers from 1 to 100. But for every number divisible by 3 print replace it with the\n",
    "word “Fizz,” for any number divisible by 5 replace it with the word “Buzz” and for a number divisible\n",
    "by both 3 and 5 replace it with the word “FizzBuzz.”\n",
    "So your program should output:*\n",
    "\n",
    "    1\n",
    "    2\n",
    "    Fizz\n",
    "    4\n",
    "    Buzz\n",
    "    Fizz\n",
    "    7\n",
    "    .\n",
    "    .\n",
    "    .\n"
   ]
  },
  {
   "cell_type": "code",
   "execution_count": 1,
   "metadata": {},
   "outputs": [
    {
     "name": "stdout",
     "output_type": "stream",
     "text": [
      "1\n",
      "2\n",
      "Fizz\n",
      "4\n",
      "Buzz\n",
      "Fizz\n",
      "7\n",
      "8\n",
      "Fizz\n",
      "Buzz\n",
      "11\n",
      "Fizz\n",
      "13\n",
      "14\n",
      "FizzBuzz\n",
      "16\n",
      "17\n",
      "Fizz\n",
      "19\n",
      "Buzz\n",
      "Fizz\n",
      "22\n",
      "23\n",
      "Fizz\n",
      "Buzz\n",
      "26\n",
      "Fizz\n",
      "28\n",
      "29\n",
      "FizzBuzz\n",
      "31\n",
      "32\n",
      "Fizz\n",
      "34\n",
      "Buzz\n",
      "Fizz\n",
      "37\n",
      "38\n",
      "Fizz\n",
      "Buzz\n",
      "41\n",
      "Fizz\n",
      "43\n",
      "44\n",
      "FizzBuzz\n",
      "46\n",
      "47\n",
      "Fizz\n",
      "49\n",
      "Buzz\n",
      "Fizz\n",
      "52\n",
      "53\n",
      "Fizz\n",
      "Buzz\n",
      "56\n",
      "Fizz\n",
      "58\n",
      "59\n",
      "FizzBuzz\n",
      "61\n",
      "62\n",
      "Fizz\n",
      "64\n",
      "Buzz\n",
      "Fizz\n",
      "67\n",
      "68\n",
      "Fizz\n",
      "Buzz\n",
      "71\n",
      "Fizz\n",
      "73\n",
      "74\n",
      "FizzBuzz\n",
      "76\n",
      "77\n",
      "Fizz\n",
      "79\n",
      "Buzz\n",
      "Fizz\n",
      "82\n",
      "83\n",
      "Fizz\n",
      "Buzz\n",
      "86\n",
      "Fizz\n",
      "88\n",
      "89\n",
      "FizzBuzz\n",
      "91\n",
      "92\n",
      "Fizz\n",
      "94\n",
      "Buzz\n",
      "Fizz\n",
      "97\n",
      "98\n",
      "Fizz\n",
      "Buzz\n"
     ]
    }
   ],
   "source": [
    "for i in range(1, 101):\n",
    "    if i % 3 == 0 and i % 5 == 0:\n",
    "        print 'FizzBuzz'\n",
    "    elif i % 3 == 0:\n",
    "        print 'Fizz'\n",
    "    elif i % 5 == 0:\n",
    "        print 'Buzz'\n",
    "    else:\n",
    "        print i"
   ]
  },
  {
   "cell_type": "markdown",
   "metadata": {},
   "source": [
    "# Two Sum Problem"
   ]
  },
  {
   "cell_type": "markdown",
   "metadata": {},
   "source": [
    "The two sum problem is a classic coding interview question asked at both coding bootcamps and job\n",
    "interviews. The problem is as follows:\n",
    "\n",
    "*You are given an array and some number S. Determine if any two numbers within the array sum to S.*"
   ]
  },
  {
   "cell_type": "code",
   "execution_count": 12,
   "metadata": {},
   "outputs": [
    {
     "name": "stdout",
     "output_type": "stream",
     "text": [
      "Positive control passes\n",
      "Negative control passes\n"
     ]
    }
   ],
   "source": [
    "def twoSum(arr, S):\n",
    "    for i in arr:\n",
    "        for j in arr:\n",
    "            if i != j and i + j == S:\n",
    "                return True\n",
    "    return False\n",
    "\n",
    "# Test function\n",
    "print 'Positive control passes' if twoSum([2, 4, 3], 5) else 'Positive control fails'\n",
    "print 'Negative control passes' if not twoSum([15, 17, 21], 5) else 'Negative control fails'"
   ]
  },
  {
   "cell_type": "markdown",
   "metadata": {},
   "source": [
    "# Calculate the Sum of Nested Array"
   ]
  },
  {
   "cell_type": "markdown",
   "metadata": {},
   "source": [
    "This problem asks you to sum up all of the numbers within an array, but the array may also contains\n",
    "other arrays with numbers. This is what we call a nested array. For example:\n",
    "\n",
    "    [1, 1, 1, [3, 4, [8]], [5]]\n",
    "\n",
    "is a nested array and summing all the elements should produce 23."
   ]
  },
  {
   "cell_type": "code",
   "execution_count": 13,
   "metadata": {},
   "outputs": [
    {
     "name": "stdout",
     "output_type": "stream",
     "text": [
      "Test passes\n"
     ]
    }
   ],
   "source": [
    "def sumArray(arr):\n",
    "    sum = 0\n",
    "    for element in arr:\n",
    "        if isinstance(element, list):\n",
    "            # Flatten list through recursion\n",
    "            sum += sumArray(element)\n",
    "        else:\n",
    "            sum += element\n",
    "    return sum\n",
    "\n",
    "# Test function\n",
    "myArr = [1, 1, 1, [3, 4, [8]], [5]]\n",
    "print 'Test passes' if sumArray(myArr) == 23 else 'Test fails'"
   ]
  },
  {
   "cell_type": "markdown",
   "metadata": {},
   "source": [
    "# Calculate the Angle on a Clock"
   ]
  },
  {
   "cell_type": "markdown",
   "metadata": {},
   "source": [
    "This problem asks you to determine the angle between the to hands on a clock. For example, if the\n",
    "minute hand is on the 3 and the hour hand is on the 12, then this forms a 90 degree angle. If the hour\n",
    "hand is slightly past the 2 and the minute hand is on the 4, then the angle formed between the hands\n",
    "is 50 degrees. Check out the [wiki article](https://en.wikipedia.org/wiki/Clock_angle_problem) for a more detailed description."
   ]
  },
  {
   "cell_type": "code",
   "execution_count": 26,
   "metadata": {},
   "outputs": [
    {
     "name": "stdout",
     "output_type": "stream",
     "text": [
      "Test 1 fails\n",
      "Test 2 passes\n"
     ]
    },
    {
     "data": {
      "text/plain": [
       "90.0"
      ]
     },
     "execution_count": 26,
     "metadata": {},
     "output_type": "execute_result"
    }
   ],
   "source": [
    "def clockAngle(H, M):\n",
    "    M = M * 5 if M != 12 else 0 # Calculate M from position of minute hand\n",
    "    angle = abs(0.5 * (60 * H - 11 * M))\n",
    "    return angle if angle < 180 else (360 - angle)\n",
    "\n",
    "# Test function\n",
    "print 'Test 1 passes' if clockAngle(3, 12) == 90 else 'Test 1 fails'\n",
    "print 'Test 2 passes' if clockAngle(2, 4) == 50 else 'Test 2 fails'"
   ]
  },
  {
   "cell_type": "markdown",
   "metadata": {},
   "source": [
    "# Determine if N is a Prime Number"
   ]
  },
  {
   "cell_type": "markdown",
   "metadata": {},
   "source": [
    "This is a classic coding questins that asks you to write a program to determine whether or not some\n",
    "input N is a prime number. A prime number is a number that is divisible only by 1 and itself. The first\n",
    "few prime numbers are: 2, 3, 5, 7, 11, 17, …"
   ]
  },
  {
   "cell_type": "code",
   "execution_count": 7,
   "metadata": {},
   "outputs": [
    {
     "name": "stdout",
     "output_type": "stream",
     "text": [
      "Test 1 passes\n",
      "Test 2 passes\n",
      "Test 3 passes\n",
      "Test 4 passes\n"
     ]
    }
   ],
   "source": [
    "import math\n",
    "\n",
    "def isPrime(N):\n",
    "    if N <= 1:\n",
    "        return False\n",
    "    else:\n",
    "        # Only need to test up to square root of N\n",
    "        for i in range(2, int(math.sqrt(N))):\n",
    "            if N % i == 0:\n",
    "                return False\n",
    "    return True\n",
    "\n",
    "# Test function\n",
    "print 'Test 1 passes' if isPrime(1) == False else 'Test 1 fails'\n",
    "print 'Test 2 passes' if isPrime(100) == False else 'Test 2 fails'\n",
    "print 'Test 3 passes' if isPrime(2) == True else 'Test 3 fails'\n",
    "print 'Test 4 passes' if isPrime(17) == True else 'Test 4 fails'"
   ]
  },
  {
   "cell_type": "markdown",
   "metadata": {},
   "source": [
    "# Implement Map and Filter"
   ]
  },
  {
   "cell_type": "markdown",
   "metadata": {},
   "source": [
    "Map and filter are common functional programming methods that you’ve most likely used when\n",
    "coding. They are both functions that take in a list, perform some operation on that list without\n",
    "changing the original list, and then return a new lists. The functions do not change any other variables\n",
    "and do not touch anything else except those lists they were given. JavaScript, Python, and Ruby all\n",
    "have their own built-in versions of these functions, but we are going to impement our own.\n",
    "\n",
    "**Map** works by taking a list and a function, and it applies the function to each element in the list and\n",
    "returns a new list. For example, you may want to square every number in an array or append a string\n",
    "to every element in an array. We want an implementation where we can pass in two parameters, one\n",
    "being the array and the second being some function that will be mapped onto every element.\n",
    "\n",
    "**Filter** works by taking a list and a conditional statement, and it returns a new list where every\n",
    "element in the original list passes the conditional (returns true). For example, you may have a list of\n",
    "ages and you want a new list of ages where each one is between 21 and 35. We want an\n",
    "implementation where, similar to the map function, we pass in a list and a function that contains\n",
    "within it a conditional statement."
   ]
  },
  {
   "cell_type": "code",
   "execution_count": 5,
   "metadata": {},
   "outputs": [
    {
     "name": "stdout",
     "output_type": "stream",
     "text": [
      "Map test passes\n"
     ]
    }
   ],
   "source": [
    "def Map(arr, func):\n",
    "    newList = []\n",
    "    for item in arr:\n",
    "        newList.append(func(item))\n",
    "    return newList\n",
    "\n",
    "# Test function\n",
    "myList = [1, 2, 3, 4]\n",
    "myFunction = lambda x: x + 5\n",
    "print 'Map test passes' if Map(myList, myFunction) == [6, 7, 8, 9] else 'Map test fails'"
   ]
  },
  {
   "cell_type": "code",
   "execution_count": 6,
   "metadata": {},
   "outputs": [
    {
     "name": "stdout",
     "output_type": "stream",
     "text": [
      "Filter test passes\n"
     ]
    }
   ],
   "source": [
    "def Filter(arr, cond):\n",
    "    newList = []\n",
    "    for item in arr: \n",
    "        if cond(item):\n",
    "            newList.append(item)\n",
    "    return newList\n",
    "\n",
    "# Test function\n",
    "myList = [12, 19, 21, 24, 35, 37, 40, 50]\n",
    "myCondition = lambda x: x >= 21 and x <= 35\n",
    "print 'Filter test passes' if Filter(myList, myCondition) == [21, 24, 35] else 'Filter test fails'"
   ]
  },
  {
   "cell_type": "markdown",
   "metadata": {},
   "source": [
    "# Remove Set of Characters from a String"
   ]
  },
  {
   "cell_type": "markdown",
   "metadata": {},
   "source": [
    "These types of challenges are very common for people who have recently learned how to code. The problem description is:\n",
    "\n",
    "*You are given an array of characters and a string S. Write a function to return the string S with all the\n",
    "characters from the array removed.*"
   ]
  },
  {
   "cell_type": "code",
   "execution_count": 3,
   "metadata": {},
   "outputs": [
    {
     "name": "stdout",
     "output_type": "stream",
     "text": [
      "Test passes\n"
     ]
    }
   ],
   "source": [
    "def removeCharacters(arr, S):\n",
    "    newArr = []\n",
    "    for char in list(S):\n",
    "        if char not in arr:\n",
    "            newArr.append(char)\n",
    "    return \"\".join(newArr)\n",
    "\n",
    "# Test function\n",
    "chars = ['a', 'b', 'c']\n",
    "string = 'The quick brown fox jumps over the lazy dog'\n",
    "test = removeCharacters(chars, string)\n",
    "print 'Test passes' if test == 'The quik rown fox jumps over the lzy dog' else 'Test fails'"
   ]
  },
  {
   "cell_type": "markdown",
   "metadata": {},
   "source": [
    "# Check if Valid Number of Parenthesis"
   ]
  },
  {
   "cell_type": "markdown",
   "metadata": {},
   "source": [
    "This problem asks you to determine if there is a valid number of matching parenthsis in a string, or\n",
    "more formally:\n",
    "\n",
    "*You are given a string with the symbols ( and ) and you need to write a function that will determine if\n",
    "the parenthsis are correctly nested in the string which means every opening ( has a closing )*\n",
    "\n",
    "There are countless ways to actually nest parenthsis and have them be valid, for example:\n",
    "\n",
    "    ()\n",
    "    (())\n",
    "    ()()()\n",
    "    ((()()))\n",
    "\n",
    "Below are examples of some invalid matchings:\n",
    "\n",
    "    (()\n",
    "    ((((\n",
    "    ())()\n",
    "    ()()())"
   ]
  },
  {
   "cell_type": "code",
   "execution_count": 4,
   "metadata": {},
   "outputs": [
    {
     "name": "stdout",
     "output_type": "stream",
     "text": [
      "Test 1 passes\n",
      "Test 2 passes\n",
      "Test 3 passes\n",
      "Test 4 passes\n"
     ]
    }
   ],
   "source": [
    "def validParens(S):\n",
    "    parens = 0\n",
    "    for char in list(S):\n",
    "        if char == \"(\":\n",
    "            parens += 1\n",
    "        elif char == \")\":\n",
    "            parens -= 1\n",
    "            \n",
    "        # Parentheses should never reach below zero\n",
    "        if parens < 0:\n",
    "            return False\n",
    "    return True if parens == 0 else False  \n",
    " \n",
    "# Test function\n",
    "print 'Test 1 passes' if validParens(\")()((()))\") == False else 'Test 1 fails'\n",
    "print 'Test 2 passes' if validParens(\"()()())\") == False else 'Test 2 fails'\n",
    "print 'Test 3 passes' if validParens(\"()\") == True else 'Test 3 fails'\n",
    "print 'Test 4 passes' if validParens(\"((()()))\") == True else 'Test 4 fails'"
   ]
  },
  {
   "cell_type": "markdown",
   "metadata": {},
   "source": [
    "# First Non-Repeating Character"
   ]
  },
  {
   "cell_type": "markdown",
   "metadata": {},
   "source": [
    "For this challenge you are given a string and you should return the first character that is unique in the\n",
    "entire string. For example:\n",
    "\n",
    "If string is “hello henry” then the first non-repeating character is the letter “o” because\n",
    "the first three characters in the string appear multiple times."
   ]
  },
  {
   "cell_type": "code",
   "execution_count": 6,
   "metadata": {},
   "outputs": [
    {
     "name": "stdout",
     "output_type": "stream",
     "text": [
      "Test 1 passes\n",
      "Test 2 passes\n"
     ]
    }
   ],
   "source": [
    "def firstNonRepeating(S):\n",
    "    for char in S:\n",
    "        if S.count(char) == 1:\n",
    "            return char\n",
    "    return None\n",
    "\n",
    "# Test function\n",
    "print 'Test 1 passes' if firstNonRepeating(\"Hello Henry\") == \"o\" else 'Test 1 fails'\n",
    "print 'Test 2 passes' if firstNonRepeating(\"mama\") == None else 'Test 2 fails'"
   ]
  },
  {
   "cell_type": "markdown",
   "metadata": {},
   "source": [
    "# Count Words that have at Least 3 Continuous Vowels"
   ]
  },
  {
   "cell_type": "markdown",
   "metadata": {},
   "source": [
    "This challenge will require us to take a string, separate it into words, and then loop through the words\n",
    "and count how many words have at least 3 vowels."
   ]
  },
  {
   "cell_type": "code",
   "execution_count": 3,
   "metadata": {},
   "outputs": [
    {
     "name": "stdout",
     "output_type": "stream",
     "text": [
      "Test passes\n"
     ]
    }
   ],
   "source": [
    "import re\n",
    "\n",
    "def threeContinuousVowels(S):\n",
    "    words = S.split(\" \")\n",
    "    has3 = 0\n",
    "    for word in words:\n",
    "        if re.search(r'[aeiou]{3,}', word):\n",
    "            has3 += 1\n",
    "    return has3\n",
    "\n",
    "# Test function\n",
    "test = \"Count words with 3 continuous vowels, like the word continuous.\"\n",
    "print 'Test passes' if threeContinuousVowels(test) == 2 else 'Test fails'"
   ]
  },
  {
   "cell_type": "markdown",
   "metadata": {},
   "source": [
    "# Remove All Adjacent Matching Characters"
   ]
  },
  {
   "cell_type": "markdown",
   "metadata": {},
   "source": [
    "This challenge asks you to remove all matching adjacent pairs of letters from a string and return the\n",
    "modified string. For example, if the string is “aaagykkok” then your program would return\n",
    "“agyok” because “aa” and “kk” had been removed."
   ]
  },
  {
   "cell_type": "code",
   "execution_count": 18,
   "metadata": {},
   "outputs": [
    {
     "name": "stdout",
     "output_type": "stream",
     "text": [
      "Test passes\n"
     ]
    }
   ],
   "source": [
    "def removeAdjacentMatching(S):\n",
    "    pruned = \"\"\n",
    "    i = 0\n",
    "    \n",
    "    # Up to last element\n",
    "    while i < (len(S) - 1):\n",
    "        if S[i] != S[i + 1]:\n",
    "            pruned += S[i]\n",
    "        else:\n",
    "            i += 1\n",
    "        i += 1\n",
    "        \n",
    "    # Avoid off-by-one error\n",
    "    if S[-1] != S[-2]:\n",
    "        pruned += S[-1]\n",
    "        \n",
    "    return pruned\n",
    "\n",
    "# Test function\n",
    "print 'Test passes' if removeAdjacentMatching(\"aaagykkok\") == \"agyok\" else 'Test fails'"
   ]
  },
  {
   "cell_type": "markdown",
   "metadata": {},
   "source": [
    "# Find the Majority Element"
   ]
  },
  {
   "cell_type": "markdown",
   "metadata": {},
   "source": [
    "Finding the majority element in an array involves finding an element that appears strictly more than\n",
    "n/2 times where n is the size of the array. For example, in the array [1, 4, 5, 5, 5, 5] the\n",
    "element 5 appears 4 times and n/2 = 6/2 = 3, so the element 5 is the majority element. If on the other\n",
    "hand the array was [1, 4, 4, 5, 5] then the element 5 is not the majority element. There\n",
    "actually is no majority element because no element appears more than n/2 = 5/2 = 2 times."
   ]
  },
  {
   "cell_type": "code",
   "execution_count": 23,
   "metadata": {},
   "outputs": [
    {
     "name": "stdout",
     "output_type": "stream",
     "text": [
      "Test 1 passes\n",
      "Test 2 passes\n"
     ]
    }
   ],
   "source": [
    "from collections import Counter\n",
    "\n",
    "def findMajorityElement(arr):\n",
    "    counts = Counter(arr)\n",
    "    length = len(arr)\n",
    "    for item in counts.keys():\n",
    "        if counts[item] > (length / 2):\n",
    "            # Can stop here, as there can only be one majority item\n",
    "            return item\n",
    "    return None\n",
    "\n",
    "# Test function\n",
    "print 'Test 1 passes' if findMajorityElement([1, 4, 5, 5, 5, 5]) == 5 else 'Test 1 fails'\n",
    "print 'Test 2 passes' if findMajorityElement([1, 4, 4, 5, 5]) == None else 'Test 2 fails'"
   ]
  },
  {
   "cell_type": "markdown",
   "metadata": {},
   "source": [
    "# Switching Light Bulbs Problem"
   ]
  },
  {
   "cell_type": "markdown",
   "metadata": {},
   "source": [
    "This problem has a lot of different variations, but the one we will cover here is the following: Imagine\n",
    "there are 100 light bulbs, labeled from 1 to 100, lined up all set to off initially. There are also 100\n",
    "people each numbered 1 to 100 as well. Person 1 will go through all the light bulbs and flip the switch\n",
    "turning all of them on. Then person number 2 will go through all the light bulbs and flip the switch on\n",
    "each 2nd element turning them off, namely: light bulbs #2, #4, #6, #8, etc. Then person 3 will go and\n",
    "do the same for the 3rd ligh bulb, 6th, 9th, etc. Then questions are usually asked about the light bulbs,\n",
    "for example:\n",
    "\n",
    "• How many light bulbs will be on after 100 people have gone through them?\n",
    "\n",
    "• What is the status of the Nth light bulb (34th, 62nd, etc.)? Is it on or off?\n",
    "\n",
    "• How many people need to go through the line of light bulbs until exactly K light bulbs are set\n",
    "to on?"
   ]
  },
  {
   "cell_type": "code",
   "execution_count": 27,
   "metadata": {},
   "outputs": [
    {
     "name": "stdout",
     "output_type": "stream",
     "text": [
      "Question 1 passes\n",
      "Question 2 passes\n",
      "Question 3 passes\n"
     ]
    }
   ],
   "source": [
    "def switchingBulbs(N):\n",
    "    bulbs = [False] * N\n",
    "    for i in range(1, (N + 1)):\n",
    "        # Person i switches every ith bulb\n",
    "        k = i # position of kth bulb\n",
    "        \n",
    "        while k <= N:\n",
    "            bulbs[k - 1] = not bulbs[k - 1]\n",
    "            k = k + i\n",
    "    return bulbs\n",
    "\n",
    "# How many light bulbs will be on after 100 people have gone through them?\n",
    "Q1 = len([x for x in switchingBulbs(100) if x == True])\n",
    "print 'Question 1 passes' if Q1 == 10 else 'Question 1 fails'\n",
    "\n",
    "# What is the status of the Nth light bulb (34th, 62nd, etc,)? Is it on or off? Use N = 34 for test.\n",
    "Q2 = 'On' if switchingBulbs(100)[34] else 'False'\n",
    "print 'Question 2 passes' if Q2 == 'False' else 'Question 2 fails'\n",
    "\n",
    "# How many people need to go through the line of light bulbs until exactly K light bulbs are set to on?\n",
    "# Use N = 5 for test.\n",
    "test = 1\n",
    "while len([x for x in switchingBulbs(test) if x == True]) != 5:\n",
    "    test += 1\n",
    "Q3 = test\n",
    "print 'Question 3 passes' if Q3 == 25 else 'Question 3 fails'    "
   ]
  },
  {
   "cell_type": "markdown",
   "metadata": {},
   "source": [
    "# List of Integers that Overlap in 2 Ranges"
   ]
  },
  {
   "cell_type": "markdown",
   "metadata": {},
   "source": [
    "For this problem you’ll need to find all the numbers that overlap between two ranges, for example:\n",
    "between the two ranges of [5, 20] and [17, 21] the overlapping integers are [17, 18, 19, 20]."
   ]
  },
  {
   "cell_type": "code",
   "execution_count": 33,
   "metadata": {},
   "outputs": [
    {
     "name": "stdout",
     "output_type": "stream",
     "text": [
      "Test passes\n"
     ]
    }
   ],
   "source": [
    "def integerOverlap(range1, range2):\n",
    "    lower = max(range1[0], range2[0])\n",
    "    upper = min(range1[-1], range2[-1])\n",
    "    new = range(lower, upper + 1)\n",
    "    return new\n",
    "\n",
    "# Test function\n",
    "print 'Test passes' if integerOverlap([5, 20], [17, 21]) == [17, 18, 19, 20] else 'Test fails'"
   ]
  },
  {
   "cell_type": "markdown",
   "metadata": {},
   "source": [
    "# Return Mean, Median, and Mode of an Array"
   ]
  },
  {
   "cell_type": "markdown",
   "metadata": {},
   "source": [
    "This is more of a simpler question that doesn’t require too much complex code to solve. It simply\n",
    "requires you to do 3 things, calculcate the mean which is the average of all the numbers, the median\n",
    "which is the middle number when the array is sorted, and the mode which is the number that\n",
    "appears the most."
   ]
  },
  {
   "cell_type": "code",
   "execution_count": 56,
   "metadata": {},
   "outputs": [
    {
     "name": "stdout",
     "output_type": "stream",
     "text": [
      "Mean test passes\n",
      "Median test passes\n",
      "Mode test passes\n"
     ]
    }
   ],
   "source": [
    "import collections\n",
    "def summaryStats(arr):\n",
    "    mean = sum(arr) / float(len(arr))\n",
    "    median = sorted(arr)[int(len(arr) / 2)]\n",
    "    mode=collections.Counter(arr).most_common(1)[0][0] # value which is top most common\n",
    "    return {'mean': mean, 'median': median, 'mode': mode}\n",
    "\n",
    "# Test function\n",
    "myArray = [24, 26, 4, 7, 45, 23, 64, 24, 53, 72, 16, 93, 3, 4, 4]\n",
    "stats = summaryStats(myArray)\n",
    "print 'Mean test passes' if summaryStats(myArray)['mean'] == 30.8 else 'Mean test fails'\n",
    "print 'Median test passes' if summaryStats(myArray)['median'] == 24 else 'Median test fails'\n",
    "print 'Mode test passes' if summaryStats(myArray)['mode'] == 4 else 'Mode test fails'"
   ]
  },
  {
   "cell_type": "markdown",
   "metadata": {},
   "source": [
    "# Encode Consonants within a String"
   ]
  },
  {
   "cell_type": "markdown",
   "metadata": {},
   "source": [
    "This challenge asks you to take a string composed of only lowercase letters and space characters, for\n",
    "example `“hello world”` and replace every consonant in the string with the next consontant in the\n",
    "alphabet. So in the above example, the output should be `“jemmo xosmf”` and you can see that we\n",
    "left every vowel in place and only changed the consonants. You should notice that the last letter\n",
    "changed was from d to f and not from d to e because e is a vowel."
   ]
  },
  {
   "cell_type": "code",
   "execution_count": 25,
   "metadata": {},
   "outputs": [
    {
     "name": "stdout",
     "output_type": "stream",
     "text": [
      "Test passes\n"
     ]
    }
   ],
   "source": [
    "def encodeConsonants(S):\n",
    "    # Create lists of vowels and consonants\n",
    "    vowels = ['a', 'e', 'i', 'o', 'u']\n",
    "    alphabet = [chr(x) for x in range(ord('a'), ord('z') + 1)]\n",
    "    consonants = [x for x in alphabet if x not in vowels]\n",
    "    \n",
    "    # Iterate through string (making sure it's lowercase), encoding each character\n",
    "    newString = ''\n",
    "    for char in S.lower():\n",
    "        if char == ' ' or char in vowels:\n",
    "            newString += char\n",
    "        else:\n",
    "            newChar = consonants[consonants.index(char) + 1 % len(consonants)]\n",
    "            newString += newChar\n",
    "    return newString\n",
    "    \n",
    "# Test function\n",
    "print 'Test passes' if encodeConsonants('hello world') == 'jemmo xosmf' else 'Test fails'"
   ]
  },
  {
   "cell_type": "markdown",
   "metadata": {},
   "source": [
    "# Convert an Array of Strings into an Object"
   ]
  },
  {
   "cell_type": "markdown",
   "metadata": {},
   "source": [
    "This challenge doesn’t strictly have a single output like the previous challenges, rather this challenge\n",
    "focuses on you using certain data structures correctly. Imagine you have several users entering\n",
    "information through a form, and on the back-end you get the information as a comma separated\n",
    "string of information. The information the user will enter in the form is: Name, Email, Age, and\n",
    "Occupation all in that order. Each user’s piece of information will be separated by a comma, and each\n",
    "user will be separated by a space, but some pieces of information can be blank for a user (excluding\n",
    "the name), for example:\n",
    "\n",
    "    “Daniel,me@test.com,56,Coder John,,,Teacher Michael,mike@test.com,,”\n",
    "\n",
    "You can see above that all the information exists for Daniel, but email and age are missing for\n",
    "John, and age and occupation are missing for Michael. "
   ]
  },
  {
   "cell_type": "code",
   "execution_count": 33,
   "metadata": {},
   "outputs": [
    {
     "name": "stdout",
     "output_type": "stream",
     "text": [
      "Test 1 passes\n",
      "Test 2 passes\n",
      "Test 3 passes\n"
     ]
    }
   ],
   "source": [
    "def stringToObject(S):\n",
    "    users = {}\n",
    "    byUser = S.split(' ')\n",
    "    for user in byUser:\n",
    "        data = user.split(',')\n",
    "        \n",
    "        # Create user object\n",
    "        info = {}\n",
    "        info['name'] = data[0] # Required element\n",
    "        info['email'] = data[1] if data[1] else None\n",
    "        info['age'] = data[2] if data[2] else None\n",
    "        info['job'] = data[3] if data[3] else None\n",
    "        \n",
    "        # Add to overall users\n",
    "        users[info['name']] = info\n",
    "    return users\n",
    "\n",
    "# Test function\n",
    "myUsers = stringToObject(\"Daniel,me@test.com,56,Coder John,,,Teacher Michael,mike@test.com,,\")\n",
    "print 'Test 1 passes' if len(myUsers) == 3 else 'Test 1 fails'\n",
    "print 'Test 2 passes' if myUsers['Michael']['email'] == 'mike@test.com' else 'Test 2 fails'\n",
    "print 'Test 3 passes' if myUsers['John']['age'] == None else 'Test 3 fails'"
   ]
  },
  {
   "cell_type": "markdown",
   "metadata": {},
   "source": [
    "# Three Sum Problem"
   ]
  },
  {
   "cell_type": "markdown",
   "metadata": {},
   "source": [
    "The three sum problem is very similar to the two sum problem we covered at the beginning of the\n",
    "chapter, except the problem statement now naturally changes to 3 elements instead of two:\n",
    "\n",
    "*You are given an array and some number S. Determine if any three numbers within the array sum to S.*"
   ]
  },
  {
   "cell_type": "code",
   "execution_count": 39,
   "metadata": {},
   "outputs": [
    {
     "name": "stdout",
     "output_type": "stream",
     "text": [
      "Positive control passes\n",
      "Negative control passes\n"
     ]
    }
   ],
   "source": [
    "def threeSum(arr, S):\n",
    "    for i in arr:\n",
    "        for j in arr:\n",
    "            for k in arr:\n",
    "                if i != j and i != k and i + j + k == S:\n",
    "                    return True\n",
    "    return False\n",
    "\n",
    "# Test function\n",
    "print 'Positive control passes' if threeSum([4, 6, 7, 19, 21], 29) else 'Positive control fails'\n",
    "print 'Negative control passes' if not threeSum([1, 5, 7, 10, 24], 50) else 'Negative control fails'"
   ]
  }
 ],
 "metadata": {
  "anaconda-cloud": {},
  "kernelspec": {
   "display_name": "Python 2",
   "language": "python",
   "name": "python2"
  },
  "language_info": {
   "codemirror_mode": {
    "name": "ipython",
    "version": 2
   },
   "file_extension": ".py",
   "mimetype": "text/x-python",
   "name": "python",
   "nbconvert_exporter": "python",
   "pygments_lexer": "ipython2",
   "version": "2.7.8"
  }
 },
 "nbformat": 4,
 "nbformat_minor": 1
}

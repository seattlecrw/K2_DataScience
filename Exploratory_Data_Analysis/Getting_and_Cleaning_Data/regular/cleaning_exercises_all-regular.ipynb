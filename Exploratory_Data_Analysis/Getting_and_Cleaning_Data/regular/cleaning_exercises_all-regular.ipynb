{
 "cells": [
  {
   "cell_type": "markdown",
   "metadata": {},
   "source": [
    "# Cleaning: Flight Delays\n",
    "\n",
    "This data set comes from the featured Kaggle datasets, containing three tables that relate to commercial airline flights. The flight delay and cancellation data was collected and published by the DOT's Bureau of Transportation Statistics.\n",
    "\n",
    "**There are three tables:**\n",
    "\n",
    "* airlines : contains airline IATA codes with corresponding airline names\n",
    "* airports : contains\n",
    "    IATA_CODE:\n",
    "    Location Identifier\n",
    "    String\n",
    "\n",
    "    AIRPORT:\n",
    "    Airport's Name\n",
    "    String\n",
    "\n",
    "    CITY:\n",
    "    City Name of the Airport\n",
    "    String\n",
    "\n",
    "    STATE:\n",
    "    State Name of the Airport\n",
    "    String\n",
    "\n",
    "    COUNTRY:\n",
    "    Country Name of the Airport\n",
    "    String\n",
    "\n",
    "    LATITUDE:\n",
    "    Latitude of the Airport\n",
    "    Numeric\n",
    "\n",
    "    LONGITUDE:\n",
    "    Longitude of the Airport\n",
    "    Numeric\n",
    "* flights : contains many features with descriptions that can be found [here](https://www.kaggle.com/usdot/flight-delays), by selecting flights.csv in the data and clicking on Edit descriptions above the data preview."
   ]
  },
  {
   "cell_type": "code",
   "execution_count": 1,
   "metadata": {
    "collapsed": true
   },
   "outputs": [],
   "source": [
    "# Import modules\n",
    "import numpy as np\n",
    "import pandas as pd\n",
    "from pandas import DataFrame as DF\n",
    "from pandas import Series\n",
    "\n",
    "from itertools import combinations\n",
    "from datetime import datetime"
   ]
  },
  {
   "cell_type": "markdown",
   "metadata": {},
   "source": [
    "Use pandas to read in airline data and preview."
   ]
  },
  {
   "cell_type": "code",
   "execution_count": 2,
   "metadata": {},
   "outputs": [
    {
     "data": {
      "text/html": [
       "<div>\n",
       "<style>\n",
       "    .dataframe thead tr:only-child th {\n",
       "        text-align: right;\n",
       "    }\n",
       "\n",
       "    .dataframe thead th {\n",
       "        text-align: left;\n",
       "    }\n",
       "\n",
       "    .dataframe tbody tr th {\n",
       "        vertical-align: top;\n",
       "    }\n",
       "</style>\n",
       "<table border=\"1\" class=\"dataframe\">\n",
       "  <thead>\n",
       "    <tr style=\"text-align: right;\">\n",
       "      <th></th>\n",
       "      <th>IATA_CODE</th>\n",
       "      <th>AIRLINE</th>\n",
       "    </tr>\n",
       "  </thead>\n",
       "  <tbody>\n",
       "    <tr>\n",
       "      <th>0</th>\n",
       "      <td>UA</td>\n",
       "      <td>United Air Lines Inc.</td>\n",
       "    </tr>\n",
       "    <tr>\n",
       "      <th>1</th>\n",
       "      <td>AA</td>\n",
       "      <td>American Airlines Inc.</td>\n",
       "    </tr>\n",
       "    <tr>\n",
       "      <th>2</th>\n",
       "      <td>US</td>\n",
       "      <td>US Airways Inc.</td>\n",
       "    </tr>\n",
       "  </tbody>\n",
       "</table>\n",
       "</div>"
      ],
      "text/plain": [
       "  IATA_CODE                 AIRLINE\n",
       "0        UA   United Air Lines Inc.\n",
       "1        AA  American Airlines Inc.\n",
       "2        US         US Airways Inc."
      ]
     },
     "execution_count": 2,
     "metadata": {},
     "output_type": "execute_result"
    }
   ],
   "source": [
    "airlines = pd.read_csv('flights/airlines.csv')\n",
    "airlines.head(3)"
   ]
  },
  {
   "cell_type": "markdown",
   "metadata": {},
   "source": [
    "Use pandas to read in airport data and preview."
   ]
  },
  {
   "cell_type": "code",
   "execution_count": 3,
   "metadata": {},
   "outputs": [
    {
     "data": {
      "text/html": [
       "<div>\n",
       "<style>\n",
       "    .dataframe thead tr:only-child th {\n",
       "        text-align: right;\n",
       "    }\n",
       "\n",
       "    .dataframe thead th {\n",
       "        text-align: left;\n",
       "    }\n",
       "\n",
       "    .dataframe tbody tr th {\n",
       "        vertical-align: top;\n",
       "    }\n",
       "</style>\n",
       "<table border=\"1\" class=\"dataframe\">\n",
       "  <thead>\n",
       "    <tr style=\"text-align: right;\">\n",
       "      <th></th>\n",
       "      <th>IATA_CODE</th>\n",
       "      <th>AIRPORT</th>\n",
       "      <th>CITY</th>\n",
       "      <th>STATE</th>\n",
       "      <th>COUNTRY</th>\n",
       "      <th>LATITUDE</th>\n",
       "      <th>LONGITUDE</th>\n",
       "    </tr>\n",
       "  </thead>\n",
       "  <tbody>\n",
       "    <tr>\n",
       "      <th>0</th>\n",
       "      <td>ABE</td>\n",
       "      <td>Lehigh Valley International Airport</td>\n",
       "      <td>Allentown</td>\n",
       "      <td>PA</td>\n",
       "      <td>USA</td>\n",
       "      <td>40.65236</td>\n",
       "      <td>-75.44040</td>\n",
       "    </tr>\n",
       "    <tr>\n",
       "      <th>1</th>\n",
       "      <td>ABI</td>\n",
       "      <td>Abilene Regional Airport</td>\n",
       "      <td>Abilene</td>\n",
       "      <td>TX</td>\n",
       "      <td>USA</td>\n",
       "      <td>32.41132</td>\n",
       "      <td>-99.68190</td>\n",
       "    </tr>\n",
       "    <tr>\n",
       "      <th>2</th>\n",
       "      <td>ABQ</td>\n",
       "      <td>Albuquerque International Sunport</td>\n",
       "      <td>Albuquerque</td>\n",
       "      <td>NM</td>\n",
       "      <td>USA</td>\n",
       "      <td>35.04022</td>\n",
       "      <td>-106.60919</td>\n",
       "    </tr>\n",
       "  </tbody>\n",
       "</table>\n",
       "</div>"
      ],
      "text/plain": [
       "  IATA_CODE                              AIRPORT         CITY STATE COUNTRY  \\\n",
       "0       ABE  Lehigh Valley International Airport    Allentown    PA     USA   \n",
       "1       ABI             Abilene Regional Airport      Abilene    TX     USA   \n",
       "2       ABQ    Albuquerque International Sunport  Albuquerque    NM     USA   \n",
       "\n",
       "   LATITUDE  LONGITUDE  \n",
       "0  40.65236  -75.44040  \n",
       "1  32.41132  -99.68190  \n",
       "2  35.04022 -106.60919  "
      ]
     },
     "execution_count": 3,
     "metadata": {},
     "output_type": "execute_result"
    }
   ],
   "source": [
    "airports = pd.read_csv('flights/airports.csv')\n",
    "airports.head(3)"
   ]
  },
  {
   "cell_type": "markdown",
   "metadata": {},
   "source": [
    "Use pandas to read in flight data and preview."
   ]
  },
  {
   "cell_type": "code",
   "execution_count": 4,
   "metadata": {},
   "outputs": [
    {
     "data": {
      "text/html": [
       "<div>\n",
       "<style>\n",
       "    .dataframe thead tr:only-child th {\n",
       "        text-align: right;\n",
       "    }\n",
       "\n",
       "    .dataframe thead th {\n",
       "        text-align: left;\n",
       "    }\n",
       "\n",
       "    .dataframe tbody tr th {\n",
       "        vertical-align: top;\n",
       "    }\n",
       "</style>\n",
       "<table border=\"1\" class=\"dataframe\">\n",
       "  <thead>\n",
       "    <tr style=\"text-align: right;\">\n",
       "      <th></th>\n",
       "      <th>YEAR</th>\n",
       "      <th>MONTH</th>\n",
       "      <th>DAY</th>\n",
       "      <th>DAY_OF_WEEK</th>\n",
       "      <th>AIRLINE</th>\n",
       "      <th>FLIGHT_NUMBER</th>\n",
       "      <th>TAIL_NUMBER</th>\n",
       "      <th>ORIGIN_AIRPORT</th>\n",
       "      <th>DESTINATION_AIRPORT</th>\n",
       "      <th>SCHEDULED_DEPARTURE</th>\n",
       "      <th>...</th>\n",
       "      <th>ARRIVAL_TIME</th>\n",
       "      <th>ARRIVAL_DELAY</th>\n",
       "      <th>DIVERTED</th>\n",
       "      <th>CANCELLED</th>\n",
       "      <th>CANCELLATION_REASON</th>\n",
       "      <th>AIR_SYSTEM_DELAY</th>\n",
       "      <th>SECURITY_DELAY</th>\n",
       "      <th>AIRLINE_DELAY</th>\n",
       "      <th>LATE_AIRCRAFT_DELAY</th>\n",
       "      <th>WEATHER_DELAY</th>\n",
       "    </tr>\n",
       "  </thead>\n",
       "  <tbody>\n",
       "    <tr>\n",
       "      <th>0</th>\n",
       "      <td>2015</td>\n",
       "      <td>1</td>\n",
       "      <td>1</td>\n",
       "      <td>4</td>\n",
       "      <td>US</td>\n",
       "      <td>2013</td>\n",
       "      <td>N584UW</td>\n",
       "      <td>LAX</td>\n",
       "      <td>CLT</td>\n",
       "      <td>30</td>\n",
       "      <td>...</td>\n",
       "      <td>753.0</td>\n",
       "      <td>-10.0</td>\n",
       "      <td>0</td>\n",
       "      <td>0</td>\n",
       "      <td>NaN</td>\n",
       "      <td>NaN</td>\n",
       "      <td>NaN</td>\n",
       "      <td>NaN</td>\n",
       "      <td>NaN</td>\n",
       "      <td>NaN</td>\n",
       "    </tr>\n",
       "    <tr>\n",
       "      <th>1</th>\n",
       "      <td>2015</td>\n",
       "      <td>1</td>\n",
       "      <td>1</td>\n",
       "      <td>4</td>\n",
       "      <td>AA</td>\n",
       "      <td>1674</td>\n",
       "      <td>N853AA</td>\n",
       "      <td>LAS</td>\n",
       "      <td>MIA</td>\n",
       "      <td>35</td>\n",
       "      <td>...</td>\n",
       "      <td>753.0</td>\n",
       "      <td>-10.0</td>\n",
       "      <td>0</td>\n",
       "      <td>0</td>\n",
       "      <td>NaN</td>\n",
       "      <td>NaN</td>\n",
       "      <td>NaN</td>\n",
       "      <td>NaN</td>\n",
       "      <td>NaN</td>\n",
       "      <td>NaN</td>\n",
       "    </tr>\n",
       "    <tr>\n",
       "      <th>2</th>\n",
       "      <td>2015</td>\n",
       "      <td>1</td>\n",
       "      <td>1</td>\n",
       "      <td>4</td>\n",
       "      <td>DL</td>\n",
       "      <td>1560</td>\n",
       "      <td>N3743H</td>\n",
       "      <td>ANC</td>\n",
       "      <td>SEA</td>\n",
       "      <td>45</td>\n",
       "      <td>...</td>\n",
       "      <td>451.0</td>\n",
       "      <td>-24.0</td>\n",
       "      <td>0</td>\n",
       "      <td>0</td>\n",
       "      <td>NaN</td>\n",
       "      <td>NaN</td>\n",
       "      <td>NaN</td>\n",
       "      <td>NaN</td>\n",
       "      <td>NaN</td>\n",
       "      <td>NaN</td>\n",
       "    </tr>\n",
       "  </tbody>\n",
       "</table>\n",
       "<p>3 rows × 31 columns</p>\n",
       "</div>"
      ],
      "text/plain": [
       "   YEAR  MONTH  DAY  DAY_OF_WEEK AIRLINE  FLIGHT_NUMBER TAIL_NUMBER  \\\n",
       "0  2015      1    1            4      US           2013      N584UW   \n",
       "1  2015      1    1            4      AA           1674      N853AA   \n",
       "2  2015      1    1            4      DL           1560      N3743H   \n",
       "\n",
       "  ORIGIN_AIRPORT DESTINATION_AIRPORT  SCHEDULED_DEPARTURE      ...        \\\n",
       "0            LAX                 CLT                   30      ...         \n",
       "1            LAS                 MIA                   35      ...         \n",
       "2            ANC                 SEA                   45      ...         \n",
       "\n",
       "   ARRIVAL_TIME  ARRIVAL_DELAY  DIVERTED  CANCELLED  CANCELLATION_REASON  \\\n",
       "0         753.0          -10.0         0          0                  NaN   \n",
       "1         753.0          -10.0         0          0                  NaN   \n",
       "2         451.0          -24.0         0          0                  NaN   \n",
       "\n",
       "   AIR_SYSTEM_DELAY  SECURITY_DELAY  AIRLINE_DELAY  LATE_AIRCRAFT_DELAY  \\\n",
       "0               NaN             NaN            NaN                  NaN   \n",
       "1               NaN             NaN            NaN                  NaN   \n",
       "2               NaN             NaN            NaN                  NaN   \n",
       "\n",
       "   WEATHER_DELAY  \n",
       "0            NaN  \n",
       "1            NaN  \n",
       "2            NaN  \n",
       "\n",
       "[3 rows x 31 columns]"
      ]
     },
     "execution_count": 4,
     "metadata": {},
     "output_type": "execute_result"
    }
   ],
   "source": [
    "flights = pd.read_csv('flights/flights_sm_raw.csv')\n",
    "flights.head(3)"
   ]
  },
  {
   "cell_type": "markdown",
   "metadata": {},
   "source": [
    "## 1. Convert column names to lower case (it's a pain to keep typing upper case column names)"
   ]
  },
  {
   "cell_type": "code",
   "execution_count": 5,
   "metadata": {},
   "outputs": [
    {
     "name": "stdout",
     "output_type": "stream",
     "text": [
      "airlines: ['iata_code', 'airline']\n",
      "\n",
      "airports: ['iata_code', 'airport', 'city', 'state', 'country', 'latitude', 'longitude']\n",
      "\n",
      "flights: ['year', 'month', 'day', 'day_of_week', 'airline', 'flight_number', 'tail_number', 'origin_airport', 'destination_airport', 'scheduled_departure', 'departure_time', 'departure_delay', 'taxi_out', 'wheels_off', 'scheduled_time', 'elapsed_time', 'air_time', 'distance', 'wheels_on', 'taxi_in', 'scheduled_arrival', 'arrival_time', 'arrival_delay', 'diverted', 'cancelled', 'cancellation_reason', 'air_system_delay', 'security_delay', 'airline_delay', 'late_aircraft_delay', 'weather_delay']\n"
     ]
    }
   ],
   "source": [
    "# Map lower case function to column names\n",
    "airlines.columns = map(str.lower, airlines.columns)\n",
    "airports.columns = map(str.lower, airports.columns)\n",
    "flights.columns = map(str.lower, flights.columns)\n",
    "\n",
    "# Print results\n",
    "print(\"airlines: {}\".format(list(airlines.columns)))\n",
    "print(\"\\nairports: {}\".format(list(airports.columns)))\n",
    "print(\"\\nflights: {}\".format(list(flights.columns)))"
   ]
  },
  {
   "cell_type": "markdown",
   "metadata": {},
   "source": [
    "## 2. Remove all rows that have null values for critical features\n",
    "- critical features are those that are needed to compute missing values\n",
    "- you need to determine the sets of features that are go together for computing values"
   ]
  },
  {
   "cell_type": "code",
   "execution_count": 6,
   "metadata": {
    "collapsed": true
   },
   "outputs": [],
   "source": [
    "# Split data into flights that were cancelled vs not cancelled\n",
    "cancelled = flights[flights.cancelled == 1].copy()\n",
    "not_cancelled = flights[flights.cancelled == 0].copy()"
   ]
  },
  {
   "cell_type": "code",
   "execution_count": 7,
   "metadata": {
    "collapsed": true
   },
   "outputs": [],
   "source": [
    "# Create lists of subsets needed for computing critical features\n",
    "subset1 = ['departure_delay', 'taxi_out', 'wheels_off'] # guarantee departure time\n",
    "subset2 = ['scheduled_departure', 'departure_delay'] # determine departure delay\n",
    "subset3 = ['wheels_off', 'air_time', 'wheels_on'] # determine air time\n",
    "subset4 = ['taxi_in', 'wheels_on', 'arrival_time'] # guarantee arrival time\n",
    "subset5 = ['scheduled_arrival', 'arrival_delay'] # determine arrival delay\n",
    "\n",
    "# Use itertools to create all size 2 combinations from subsets 1/3/4. Drop any cases where both are NA.\n",
    "for subset in [subset1, subset3, subset4]:\n",
    "    for c in combinations(subset, 2):\n",
    "        not_cancelled.dropna(how = 'all', subset = list(c), inplace = True)\n",
    "        \n",
    "# Drop NA from subsets 2/5\n",
    "for subset in [subset2, subset5]:\n",
    "    not_cancelled.dropna(how = 'all', subset = subset, inplace = True)\n",
    "    \n",
    "# Combine cancelled with not_cancelled and randomize order using 'sample' method\n",
    "flights = pd.concat([cancelled, not_cancelled]).sample(frac = 1).reset_index(drop = True)"
   ]
  },
  {
   "cell_type": "markdown",
   "metadata": {},
   "source": [
    "## 3. Convert times from float values to full 24-hour time format strings"
   ]
  },
  {
   "cell_type": "code",
   "execution_count": 8,
   "metadata": {
    "collapsed": true
   },
   "outputs": [],
   "source": [
    "# Define list of columns containing numeric time values\n",
    "time_vals = ['scheduled_departure', 'departure_time', 'wheels_off', 'wheels_on', 'scheduled_arrival', 'arrival_time']"
   ]
  },
  {
   "cell_type": "markdown",
   "metadata": {},
   "source": [
    "Define function to convert time values from float to 24-hour time format strings"
   ]
  },
  {
   "cell_type": "code",
   "execution_count": 9,
   "metadata": {
    "collapsed": true
   },
   "outputs": [],
   "source": [
    "def time_to_str(time):\n",
    "    if time != time:\n",
    "        return time\n",
    "    else:\n",
    "        return '{:04}'.format(int(time))"
   ]
  },
  {
   "cell_type": "markdown",
   "metadata": {},
   "source": [
    "Apply time_to_str function to each column in time_vals"
   ]
  },
  {
   "cell_type": "code",
   "execution_count": 10,
   "metadata": {},
   "outputs": [
    {
     "data": {
      "text/html": [
       "<div>\n",
       "<style>\n",
       "    .dataframe thead tr:only-child th {\n",
       "        text-align: right;\n",
       "    }\n",
       "\n",
       "    .dataframe thead th {\n",
       "        text-align: left;\n",
       "    }\n",
       "\n",
       "    .dataframe tbody tr th {\n",
       "        vertical-align: top;\n",
       "    }\n",
       "</style>\n",
       "<table border=\"1\" class=\"dataframe\">\n",
       "  <thead>\n",
       "    <tr style=\"text-align: right;\">\n",
       "      <th></th>\n",
       "      <th>scheduled_departure</th>\n",
       "      <th>departure_time</th>\n",
       "      <th>wheels_off</th>\n",
       "      <th>wheels_on</th>\n",
       "      <th>scheduled_arrival</th>\n",
       "      <th>arrival_time</th>\n",
       "    </tr>\n",
       "  </thead>\n",
       "  <tbody>\n",
       "    <tr>\n",
       "      <th>0</th>\n",
       "      <td>0625</td>\n",
       "      <td>0626</td>\n",
       "      <td>0657</td>\n",
       "      <td>1216</td>\n",
       "      <td>1208</td>\n",
       "      <td>1224</td>\n",
       "    </tr>\n",
       "    <tr>\n",
       "      <th>1</th>\n",
       "      <td>1216</td>\n",
       "      <td>1216</td>\n",
       "      <td>1254</td>\n",
       "      <td>1422</td>\n",
       "      <td>1424</td>\n",
       "      <td>1449</td>\n",
       "    </tr>\n",
       "    <tr>\n",
       "      <th>2</th>\n",
       "      <td>0528</td>\n",
       "      <td>NaN</td>\n",
       "      <td>NaN</td>\n",
       "      <td>NaN</td>\n",
       "      <td>0619</td>\n",
       "      <td>NaN</td>\n",
       "    </tr>\n",
       "    <tr>\n",
       "      <th>3</th>\n",
       "      <td>0940</td>\n",
       "      <td>0931</td>\n",
       "      <td>0954</td>\n",
       "      <td>1140</td>\n",
       "      <td>1146</td>\n",
       "      <td>1144</td>\n",
       "    </tr>\n",
       "    <tr>\n",
       "      <th>4</th>\n",
       "      <td>0910</td>\n",
       "      <td>0906</td>\n",
       "      <td>0918</td>\n",
       "      <td>1025</td>\n",
       "      <td>1040</td>\n",
       "      <td>1031</td>\n",
       "    </tr>\n",
       "  </tbody>\n",
       "</table>\n",
       "</div>"
      ],
      "text/plain": [
       "  scheduled_departure departure_time wheels_off wheels_on scheduled_arrival  \\\n",
       "0                0625           0626       0657      1216              1208   \n",
       "1                1216           1216       1254      1422              1424   \n",
       "2                0528            NaN        NaN       NaN              0619   \n",
       "3                0940           0931       0954      1140              1146   \n",
       "4                0910           0906       0918      1025              1040   \n",
       "\n",
       "  arrival_time  \n",
       "0         1224  \n",
       "1         1449  \n",
       "2          NaN  \n",
       "3         1144  \n",
       "4         1031  "
      ]
     },
     "execution_count": 10,
     "metadata": {},
     "output_type": "execute_result"
    }
   ],
   "source": [
    "for col in time_vals:\n",
    "    flights.loc[:, col] = flights.loc[:, col].apply(lambda x: time_to_str(x))\n",
    "flights[time_vals].head()"
   ]
  },
  {
   "cell_type": "markdown",
   "metadata": {},
   "source": [
    "## 4. Convert new hour strings to datetime objects\n",
    "- Test the function and determine the cause of (and fix) any errors"
   ]
  },
  {
   "cell_type": "code",
   "execution_count": 11,
   "metadata": {
    "collapsed": true
   },
   "outputs": [],
   "source": [
    "# Define function to convert hour strings to datetime objects\n",
    "def strings_to_dates(row, col):\n",
    "    # Year/month/day info in first 3 data columns\n",
    "    year = row[1]\n",
    "    month = row[2]\n",
    "    day = row[3]\n",
    "    \n",
    "    # Determine hour/minute based on specified column\n",
    "    if row[col] != row[col]:\n",
    "        return np.nan\n",
    "    else:\n",
    "        # Format hour strings to datetimes\n",
    "        FMT = '%H%M' \n",
    "            \n",
    "        # Convert '2400' to '0000' for datetime compatibility\n",
    "        if row[col] == '2400':\n",
    "            time = datetime.strptime('0000', FMT)\n",
    "        else:\n",
    "            time = datetime.strptime(row[col], FMT)\n",
    "            \n",
    "        # Add year/month/day to datetime\n",
    "        return time.replace(year = year, month = month, day = day)"
   ]
  },
  {
   "cell_type": "code",
   "execution_count": 12,
   "metadata": {},
   "outputs": [
    {
     "data": {
      "text/html": [
       "<div>\n",
       "<style>\n",
       "    .dataframe thead tr:only-child th {\n",
       "        text-align: right;\n",
       "    }\n",
       "\n",
       "    .dataframe thead th {\n",
       "        text-align: left;\n",
       "    }\n",
       "\n",
       "    .dataframe tbody tr th {\n",
       "        vertical-align: top;\n",
       "    }\n",
       "</style>\n",
       "<table border=\"1\" class=\"dataframe\">\n",
       "  <thead>\n",
       "    <tr style=\"text-align: right;\">\n",
       "      <th></th>\n",
       "      <th>year</th>\n",
       "      <th>month</th>\n",
       "      <th>day</th>\n",
       "      <th>day_of_week</th>\n",
       "      <th>airline</th>\n",
       "      <th>flight_number</th>\n",
       "      <th>tail_number</th>\n",
       "      <th>origin_airport</th>\n",
       "      <th>destination_airport</th>\n",
       "      <th>scheduled_departure</th>\n",
       "      <th>...</th>\n",
       "      <th>arrival_time</th>\n",
       "      <th>arrival_delay</th>\n",
       "      <th>diverted</th>\n",
       "      <th>cancelled</th>\n",
       "      <th>cancellation_reason</th>\n",
       "      <th>air_system_delay</th>\n",
       "      <th>security_delay</th>\n",
       "      <th>airline_delay</th>\n",
       "      <th>late_aircraft_delay</th>\n",
       "      <th>weather_delay</th>\n",
       "    </tr>\n",
       "  </thead>\n",
       "  <tbody>\n",
       "    <tr>\n",
       "      <th>0</th>\n",
       "      <td>2015</td>\n",
       "      <td>4</td>\n",
       "      <td>17</td>\n",
       "      <td>5</td>\n",
       "      <td>DL</td>\n",
       "      <td>815</td>\n",
       "      <td>N916DN</td>\n",
       "      <td>SAN</td>\n",
       "      <td>MSP</td>\n",
       "      <td>2015-04-17 06:25:00</td>\n",
       "      <td>...</td>\n",
       "      <td>2015-04-17 12:24:00</td>\n",
       "      <td>16.0</td>\n",
       "      <td>0</td>\n",
       "      <td>0</td>\n",
       "      <td>NaN</td>\n",
       "      <td>16.0</td>\n",
       "      <td>0.0</td>\n",
       "      <td>0.0</td>\n",
       "      <td>0.0</td>\n",
       "      <td>0.0</td>\n",
       "    </tr>\n",
       "    <tr>\n",
       "      <th>1</th>\n",
       "      <td>2015</td>\n",
       "      <td>8</td>\n",
       "      <td>13</td>\n",
       "      <td>4</td>\n",
       "      <td>AA</td>\n",
       "      <td>129</td>\n",
       "      <td>N4YNAA</td>\n",
       "      <td>RIC</td>\n",
       "      <td>DFW</td>\n",
       "      <td>2015-08-13 12:16:00</td>\n",
       "      <td>...</td>\n",
       "      <td>2015-08-13 14:49:00</td>\n",
       "      <td>25.0</td>\n",
       "      <td>0</td>\n",
       "      <td>0</td>\n",
       "      <td>NaN</td>\n",
       "      <td>25.0</td>\n",
       "      <td>0.0</td>\n",
       "      <td>0.0</td>\n",
       "      <td>0.0</td>\n",
       "      <td>0.0</td>\n",
       "    </tr>\n",
       "    <tr>\n",
       "      <th>2</th>\n",
       "      <td>2015</td>\n",
       "      <td>5</td>\n",
       "      <td>29</td>\n",
       "      <td>5</td>\n",
       "      <td>MQ</td>\n",
       "      <td>3432</td>\n",
       "      <td>N907MQ</td>\n",
       "      <td>TYR</td>\n",
       "      <td>DFW</td>\n",
       "      <td>2015-05-29 05:28:00</td>\n",
       "      <td>...</td>\n",
       "      <td>NaT</td>\n",
       "      <td>NaN</td>\n",
       "      <td>0</td>\n",
       "      <td>1</td>\n",
       "      <td>B</td>\n",
       "      <td>NaN</td>\n",
       "      <td>NaN</td>\n",
       "      <td>NaN</td>\n",
       "      <td>NaN</td>\n",
       "      <td>NaN</td>\n",
       "    </tr>\n",
       "    <tr>\n",
       "      <th>3</th>\n",
       "      <td>2015</td>\n",
       "      <td>6</td>\n",
       "      <td>13</td>\n",
       "      <td>6</td>\n",
       "      <td>OO</td>\n",
       "      <td>2885</td>\n",
       "      <td>N869AS</td>\n",
       "      <td>LAX</td>\n",
       "      <td>EUG</td>\n",
       "      <td>2015-06-13 09:40:00</td>\n",
       "      <td>...</td>\n",
       "      <td>2015-06-13 11:44:00</td>\n",
       "      <td>-2.0</td>\n",
       "      <td>0</td>\n",
       "      <td>0</td>\n",
       "      <td>NaN</td>\n",
       "      <td>NaN</td>\n",
       "      <td>NaN</td>\n",
       "      <td>NaN</td>\n",
       "      <td>NaN</td>\n",
       "      <td>NaN</td>\n",
       "    </tr>\n",
       "    <tr>\n",
       "      <th>4</th>\n",
       "      <td>2015</td>\n",
       "      <td>11</td>\n",
       "      <td>20</td>\n",
       "      <td>5</td>\n",
       "      <td>WN</td>\n",
       "      <td>1019</td>\n",
       "      <td>N555LV</td>\n",
       "      <td>BNA</td>\n",
       "      <td>MDW</td>\n",
       "      <td>2015-11-20 09:10:00</td>\n",
       "      <td>...</td>\n",
       "      <td>2015-11-20 10:31:00</td>\n",
       "      <td>-9.0</td>\n",
       "      <td>0</td>\n",
       "      <td>0</td>\n",
       "      <td>NaN</td>\n",
       "      <td>NaN</td>\n",
       "      <td>NaN</td>\n",
       "      <td>NaN</td>\n",
       "      <td>NaN</td>\n",
       "      <td>NaN</td>\n",
       "    </tr>\n",
       "  </tbody>\n",
       "</table>\n",
       "<p>5 rows × 31 columns</p>\n",
       "</div>"
      ],
      "text/plain": [
       "   year  month  day  day_of_week airline  flight_number tail_number  \\\n",
       "0  2015      4   17            5      DL            815      N916DN   \n",
       "1  2015      8   13            4      AA            129      N4YNAA   \n",
       "2  2015      5   29            5      MQ           3432      N907MQ   \n",
       "3  2015      6   13            6      OO           2885      N869AS   \n",
       "4  2015     11   20            5      WN           1019      N555LV   \n",
       "\n",
       "  origin_airport destination_airport scheduled_departure      ...        \\\n",
       "0            SAN                 MSP 2015-04-17 06:25:00      ...         \n",
       "1            RIC                 DFW 2015-08-13 12:16:00      ...         \n",
       "2            TYR                 DFW 2015-05-29 05:28:00      ...         \n",
       "3            LAX                 EUG 2015-06-13 09:40:00      ...         \n",
       "4            BNA                 MDW 2015-11-20 09:10:00      ...         \n",
       "\n",
       "         arrival_time  arrival_delay  diverted cancelled  cancellation_reason  \\\n",
       "0 2015-04-17 12:24:00           16.0         0         0                  NaN   \n",
       "1 2015-08-13 14:49:00           25.0         0         0                  NaN   \n",
       "2                 NaT            NaN         0         1                    B   \n",
       "3 2015-06-13 11:44:00           -2.0         0         0                  NaN   \n",
       "4 2015-11-20 10:31:00           -9.0         0         0                  NaN   \n",
       "\n",
       "   air_system_delay  security_delay  airline_delay late_aircraft_delay  \\\n",
       "0              16.0             0.0            0.0                 0.0   \n",
       "1              25.0             0.0            0.0                 0.0   \n",
       "2               NaN             NaN            NaN                 NaN   \n",
       "3               NaN             NaN            NaN                 NaN   \n",
       "4               NaN             NaN            NaN                 NaN   \n",
       "\n",
       "   weather_delay  \n",
       "0            0.0  \n",
       "1            0.0  \n",
       "2            NaN  \n",
       "3            NaN  \n",
       "4            NaN  \n",
       "\n",
       "[5 rows x 31 columns]"
      ]
     },
     "execution_count": 12,
     "metadata": {},
     "output_type": "execute_result"
    }
   ],
   "source": [
    "# Loop through time_vals and apply function\n",
    "for col in time_vals:\n",
    "    # Find column number (accounting for blank column number at beginning)\n",
    "    col_number = flights.columns.get_loc(col) + 1\n",
    "    \n",
    "    # Change all rows for that column\n",
    "    flights[col] = [strings_to_dates(row, col_number) for row in flights.itertuples()]\n",
    "\n",
    "# Preview results\n",
    "flights.head()"
   ]
  },
  {
   "cell_type": "markdown",
   "metadata": {},
   "source": [
    "## 5. Fill in missing values that can be calculated from subsets (our critical features)"
   ]
  },
  {
   "cell_type": "markdown",
   "metadata": {},
   "source": [
    "Determine which attributes need to be filled"
   ]
  },
  {
   "cell_type": "code",
   "execution_count": 13,
   "metadata": {},
   "outputs": [
    {
     "data": {
      "text/plain": [
       "{'subset3': ['air_time'], 'subset5': ['arrival_delay']}"
      ]
     },
     "execution_count": 13,
     "metadata": {},
     "output_type": "execute_result"
    }
   ],
   "source": [
    "subsets = [subset1, subset2, subset3, subset4, subset5]\n",
    "to_fill = {}\n",
    "for i, sub in enumerate(subsets):\n",
    "    for attr in sub:\n",
    "        temp = flights[flights[attr].isnull() & (flights.cancelled == 0)]\n",
    "        if len(temp) > 0:\n",
    "            k = 'subset{}'.format(i + 1)\n",
    "            to_fill.setdefault(k, [])\n",
    "            to_fill[k].append(attr)\n",
    "to_fill"
   ]
  },
  {
   "cell_type": "markdown",
   "metadata": {},
   "source": [
    "Fill in missing attributes"
   ]
  },
  {
   "cell_type": "code",
   "execution_count": 14,
   "metadata": {
    "collapsed": true
   },
   "outputs": [],
   "source": [
    "flights.air_time = [d.seconds/60 for d in (flights.wheels_on - flights.wheels_off)]\n",
    "flights.arrival_delay = [d.seconds/60 for d in (flights.arrival_time - flights.scheduled_arrival)]"
   ]
  },
  {
   "cell_type": "markdown",
   "metadata": {},
   "source": [
    "## 6. Filter out rows that contain numeric airport codes\n",
    "- there is a mix of character IATA codes and numeric strings"
   ]
  },
  {
   "cell_type": "code",
   "execution_count": 15,
   "metadata": {},
   "outputs": [
    {
     "data": {
      "text/html": [
       "<div>\n",
       "<style>\n",
       "    .dataframe thead tr:only-child th {\n",
       "        text-align: right;\n",
       "    }\n",
       "\n",
       "    .dataframe thead th {\n",
       "        text-align: left;\n",
       "    }\n",
       "\n",
       "    .dataframe tbody tr th {\n",
       "        vertical-align: top;\n",
       "    }\n",
       "</style>\n",
       "<table border=\"1\" class=\"dataframe\">\n",
       "  <thead>\n",
       "    <tr style=\"text-align: right;\">\n",
       "      <th></th>\n",
       "      <th>year</th>\n",
       "      <th>month</th>\n",
       "      <th>day</th>\n",
       "      <th>day_of_week</th>\n",
       "      <th>airline</th>\n",
       "      <th>flight_number</th>\n",
       "      <th>tail_number</th>\n",
       "      <th>origin_airport</th>\n",
       "      <th>destination_airport</th>\n",
       "      <th>scheduled_departure</th>\n",
       "      <th>...</th>\n",
       "      <th>arrival_time</th>\n",
       "      <th>arrival_delay</th>\n",
       "      <th>diverted</th>\n",
       "      <th>cancelled</th>\n",
       "      <th>cancellation_reason</th>\n",
       "      <th>air_system_delay</th>\n",
       "      <th>security_delay</th>\n",
       "      <th>airline_delay</th>\n",
       "      <th>late_aircraft_delay</th>\n",
       "      <th>weather_delay</th>\n",
       "    </tr>\n",
       "  </thead>\n",
       "  <tbody>\n",
       "    <tr>\n",
       "      <th>0</th>\n",
       "      <td>2015</td>\n",
       "      <td>4</td>\n",
       "      <td>17</td>\n",
       "      <td>5</td>\n",
       "      <td>DL</td>\n",
       "      <td>815</td>\n",
       "      <td>N916DN</td>\n",
       "      <td>SAN</td>\n",
       "      <td>MSP</td>\n",
       "      <td>2015-04-17 06:25:00</td>\n",
       "      <td>...</td>\n",
       "      <td>2015-04-17 12:24:00</td>\n",
       "      <td>16.0</td>\n",
       "      <td>0</td>\n",
       "      <td>0</td>\n",
       "      <td>NaN</td>\n",
       "      <td>16.0</td>\n",
       "      <td>0.0</td>\n",
       "      <td>0.0</td>\n",
       "      <td>0.0</td>\n",
       "      <td>0.0</td>\n",
       "    </tr>\n",
       "    <tr>\n",
       "      <th>1</th>\n",
       "      <td>2015</td>\n",
       "      <td>8</td>\n",
       "      <td>13</td>\n",
       "      <td>4</td>\n",
       "      <td>AA</td>\n",
       "      <td>129</td>\n",
       "      <td>N4YNAA</td>\n",
       "      <td>RIC</td>\n",
       "      <td>DFW</td>\n",
       "      <td>2015-08-13 12:16:00</td>\n",
       "      <td>...</td>\n",
       "      <td>2015-08-13 14:49:00</td>\n",
       "      <td>25.0</td>\n",
       "      <td>0</td>\n",
       "      <td>0</td>\n",
       "      <td>NaN</td>\n",
       "      <td>25.0</td>\n",
       "      <td>0.0</td>\n",
       "      <td>0.0</td>\n",
       "      <td>0.0</td>\n",
       "      <td>0.0</td>\n",
       "    </tr>\n",
       "    <tr>\n",
       "      <th>2</th>\n",
       "      <td>2015</td>\n",
       "      <td>5</td>\n",
       "      <td>29</td>\n",
       "      <td>5</td>\n",
       "      <td>MQ</td>\n",
       "      <td>3432</td>\n",
       "      <td>N907MQ</td>\n",
       "      <td>TYR</td>\n",
       "      <td>DFW</td>\n",
       "      <td>2015-05-29 05:28:00</td>\n",
       "      <td>...</td>\n",
       "      <td>NaT</td>\n",
       "      <td>NaN</td>\n",
       "      <td>0</td>\n",
       "      <td>1</td>\n",
       "      <td>B</td>\n",
       "      <td>NaN</td>\n",
       "      <td>NaN</td>\n",
       "      <td>NaN</td>\n",
       "      <td>NaN</td>\n",
       "      <td>NaN</td>\n",
       "    </tr>\n",
       "    <tr>\n",
       "      <th>3</th>\n",
       "      <td>2015</td>\n",
       "      <td>6</td>\n",
       "      <td>13</td>\n",
       "      <td>6</td>\n",
       "      <td>OO</td>\n",
       "      <td>2885</td>\n",
       "      <td>N869AS</td>\n",
       "      <td>LAX</td>\n",
       "      <td>EUG</td>\n",
       "      <td>2015-06-13 09:40:00</td>\n",
       "      <td>...</td>\n",
       "      <td>2015-06-13 11:44:00</td>\n",
       "      <td>1438.0</td>\n",
       "      <td>0</td>\n",
       "      <td>0</td>\n",
       "      <td>NaN</td>\n",
       "      <td>NaN</td>\n",
       "      <td>NaN</td>\n",
       "      <td>NaN</td>\n",
       "      <td>NaN</td>\n",
       "      <td>NaN</td>\n",
       "    </tr>\n",
       "    <tr>\n",
       "      <th>4</th>\n",
       "      <td>2015</td>\n",
       "      <td>11</td>\n",
       "      <td>20</td>\n",
       "      <td>5</td>\n",
       "      <td>WN</td>\n",
       "      <td>1019</td>\n",
       "      <td>N555LV</td>\n",
       "      <td>BNA</td>\n",
       "      <td>MDW</td>\n",
       "      <td>2015-11-20 09:10:00</td>\n",
       "      <td>...</td>\n",
       "      <td>2015-11-20 10:31:00</td>\n",
       "      <td>1431.0</td>\n",
       "      <td>0</td>\n",
       "      <td>0</td>\n",
       "      <td>NaN</td>\n",
       "      <td>NaN</td>\n",
       "      <td>NaN</td>\n",
       "      <td>NaN</td>\n",
       "      <td>NaN</td>\n",
       "      <td>NaN</td>\n",
       "    </tr>\n",
       "  </tbody>\n",
       "</table>\n",
       "<p>5 rows × 31 columns</p>\n",
       "</div>"
      ],
      "text/plain": [
       "   year  month  day  day_of_week airline  flight_number tail_number  \\\n",
       "0  2015      4   17            5      DL            815      N916DN   \n",
       "1  2015      8   13            4      AA            129      N4YNAA   \n",
       "2  2015      5   29            5      MQ           3432      N907MQ   \n",
       "3  2015      6   13            6      OO           2885      N869AS   \n",
       "4  2015     11   20            5      WN           1019      N555LV   \n",
       "\n",
       "  origin_airport destination_airport scheduled_departure      ...        \\\n",
       "0            SAN                 MSP 2015-04-17 06:25:00      ...         \n",
       "1            RIC                 DFW 2015-08-13 12:16:00      ...         \n",
       "2            TYR                 DFW 2015-05-29 05:28:00      ...         \n",
       "3            LAX                 EUG 2015-06-13 09:40:00      ...         \n",
       "4            BNA                 MDW 2015-11-20 09:10:00      ...         \n",
       "\n",
       "         arrival_time  arrival_delay  diverted cancelled  cancellation_reason  \\\n",
       "0 2015-04-17 12:24:00           16.0         0         0                  NaN   \n",
       "1 2015-08-13 14:49:00           25.0         0         0                  NaN   \n",
       "2                 NaT            NaN         0         1                    B   \n",
       "3 2015-06-13 11:44:00         1438.0         0         0                  NaN   \n",
       "4 2015-11-20 10:31:00         1431.0         0         0                  NaN   \n",
       "\n",
       "   air_system_delay  security_delay  airline_delay late_aircraft_delay  \\\n",
       "0              16.0             0.0            0.0                 0.0   \n",
       "1              25.0             0.0            0.0                 0.0   \n",
       "2               NaN             NaN            NaN                 NaN   \n",
       "3               NaN             NaN            NaN                 NaN   \n",
       "4               NaN             NaN            NaN                 NaN   \n",
       "\n",
       "   weather_delay  \n",
       "0            0.0  \n",
       "1            0.0  \n",
       "2            NaN  \n",
       "3            NaN  \n",
       "4            NaN  \n",
       "\n",
       "[5 rows x 31 columns]"
      ]
     },
     "execution_count": 15,
     "metadata": {},
     "output_type": "execute_result"
    }
   ],
   "source": [
    "# Use regular expressions to identify and remove numeric IATA codes\n",
    "flights = flights[-((flights['origin_airport'].str.contains('[0-9]')) &\n",
    "                    (flights['destination_airport'].str.contains('[0-9]')))]\n",
    "flights.head()"
   ]
  },
  {
   "cell_type": "markdown",
   "metadata": {},
   "source": [
    "## 7. BONUS: Write a function and script to correct dates for arrivals that are overnight flights\n",
    "- don't actually run this code (time consuming)"
   ]
  },
  {
   "cell_type": "code",
   "execution_count": 16,
   "metadata": {
    "collapsed": true
   },
   "outputs": [],
   "source": [
    "def correct_dates(departure, arrival):\n",
    "    if arrival.hour < departure.hour:\n",
    "        try:\n",
    "            # Add another day to arrival\n",
    "            arrival.replace(day = day + 1)\n",
    "        except ValueError:\n",
    "            # Error if day went into next month\n",
    "            if arrival.month == 12:\n",
    "                # New day goes into next year\n",
    "                arrival.replace(month = 1, day = 1)\n",
    "            else:\n",
    "                # Any other month\n",
    "                arrival.replace(month = month + 1, day = 1)\n",
    "    # Return arrival whether altered or not\n",
    "    return arrival      "
   ]
  },
  {
   "cell_type": "code",
   "execution_count": 17,
   "metadata": {
    "collapsed": true
   },
   "outputs": [],
   "source": [
    "# Would run code if uncommented\n",
    "# s = flights.columns.get_loc['scheduled_departure'] + 1\n",
    "# for r in flights.itertuples():\n",
    "#     for col in time_vals:\n",
    "#         c = flights.columns.get_loc(col) + 1\n",
    "#         flights.loc[r[0], col] = correct_dates(r[s], r[c])"
   ]
  },
  {
   "cell_type": "markdown",
   "metadata": {},
   "source": [
    "# Cleaning: Legos\n",
    "\n",
    "colors : This file contains information on LEGO colors, including a unique ID for each color, its name, and approximate RGB value, and whether it's transparent\n",
    "\n",
    "inventories : This table contains information on inventories, including a unique ID, it's version and the set number.\n",
    "\n",
    "inventory_parts : This table contains information part inventories, including a unique ID number, the part number, the color of the part, how many are included and whether it's a spare.\n",
    "\n",
    "inventory_sets : This file contains information on what inventory is included in which sets, including the inventory ID, the set number and the quantity of that inventory that are included.\n",
    "\n",
    "part_categories : This dataset includes information on the part category (what type of part it is) and a unique ID for that part category.\n",
    "\n",
    "parts : This dataset includes information on lego parts, including a unique ID number, the name of the part, and what part category it's from.\n",
    "\n",
    "sets : This file contains information on LEGO sets, including a unique ID number, the name of the set, the year it was released, its theme and how many parts it includes.\n",
    "\n",
    "themes : This file includes information on lego themes. Each theme is given a unique ID number, a name, and (if it's part of a bigger theme) which theme it's part of.\n",
    "\n",
    "## Schema\n",
    "\n",
    "!['lego data schema'](legos/images/downloads_schema.png)"
   ]
  },
  {
   "cell_type": "markdown",
   "metadata": {},
   "source": [
    "## 1. Efficiently import all data files into a dictionary for easy access"
   ]
  },
  {
   "cell_type": "code",
   "execution_count": 18,
   "metadata": {
    "collapsed": true
   },
   "outputs": [],
   "source": [
    "# Create list of data files\n",
    "files = ['colors', 'inventories', 'inventory_parts', 'inventory_sets', 'part_categories', 'parts', 'sets', 'themes']"
   ]
  },
  {
   "cell_type": "markdown",
   "metadata": {},
   "source": [
    "Import data files into dictionary by looping through file list"
   ]
  },
  {
   "cell_type": "code",
   "execution_count": 19,
   "metadata": {
    "collapsed": true
   },
   "outputs": [],
   "source": [
    "legos = {}\n",
    "for name in files:\n",
    "    filename = 'legos/{}.csv'.format(name)\n",
    "    file = pd.read_csv(filename)\n",
    "    legos[name] = file"
   ]
  },
  {
   "cell_type": "markdown",
   "metadata": {},
   "source": [
    "Examine dictionary keys"
   ]
  },
  {
   "cell_type": "code",
   "execution_count": 20,
   "metadata": {},
   "outputs": [
    {
     "data": {
      "text/plain": [
       "['colors',\n",
       " 'inventories',\n",
       " 'inventory_parts',\n",
       " 'inventory_sets',\n",
       " 'part_categories',\n",
       " 'parts',\n",
       " 'sets',\n",
       " 'themes']"
      ]
     },
     "execution_count": 20,
     "metadata": {},
     "output_type": "execute_result"
    }
   ],
   "source": [
    "list(legos.keys())"
   ]
  },
  {
   "cell_type": "markdown",
   "metadata": {},
   "source": [
    "View example dataframe from dictionary"
   ]
  },
  {
   "cell_type": "code",
   "execution_count": 21,
   "metadata": {},
   "outputs": [
    {
     "data": {
      "text/html": [
       "<div>\n",
       "<style>\n",
       "    .dataframe thead tr:only-child th {\n",
       "        text-align: right;\n",
       "    }\n",
       "\n",
       "    .dataframe thead th {\n",
       "        text-align: left;\n",
       "    }\n",
       "\n",
       "    .dataframe tbody tr th {\n",
       "        vertical-align: top;\n",
       "    }\n",
       "</style>\n",
       "<table border=\"1\" class=\"dataframe\">\n",
       "  <thead>\n",
       "    <tr style=\"text-align: right;\">\n",
       "      <th></th>\n",
       "      <th>id</th>\n",
       "      <th>name</th>\n",
       "      <th>rgb</th>\n",
       "      <th>is_trans</th>\n",
       "    </tr>\n",
       "  </thead>\n",
       "  <tbody>\n",
       "    <tr>\n",
       "      <th>0</th>\n",
       "      <td>-1</td>\n",
       "      <td>Unknown</td>\n",
       "      <td>0033B2</td>\n",
       "      <td>f</td>\n",
       "    </tr>\n",
       "    <tr>\n",
       "      <th>1</th>\n",
       "      <td>0</td>\n",
       "      <td>Black</td>\n",
       "      <td>05131D</td>\n",
       "      <td>f</td>\n",
       "    </tr>\n",
       "    <tr>\n",
       "      <th>2</th>\n",
       "      <td>1</td>\n",
       "      <td>Blue</td>\n",
       "      <td>0055BF</td>\n",
       "      <td>f</td>\n",
       "    </tr>\n",
       "    <tr>\n",
       "      <th>3</th>\n",
       "      <td>2</td>\n",
       "      <td>Green</td>\n",
       "      <td>237841</td>\n",
       "      <td>f</td>\n",
       "    </tr>\n",
       "    <tr>\n",
       "      <th>4</th>\n",
       "      <td>3</td>\n",
       "      <td>Dark Turquoise</td>\n",
       "      <td>008F9B</td>\n",
       "      <td>f</td>\n",
       "    </tr>\n",
       "  </tbody>\n",
       "</table>\n",
       "</div>"
      ],
      "text/plain": [
       "   id            name     rgb is_trans\n",
       "0  -1         Unknown  0033B2        f\n",
       "1   0           Black  05131D        f\n",
       "2   1            Blue  0055BF        f\n",
       "3   2           Green  237841        f\n",
       "4   3  Dark Turquoise  008F9B        f"
      ]
     },
     "execution_count": 21,
     "metadata": {},
     "output_type": "execute_result"
    }
   ],
   "source": [
    "legos['colors'].head()"
   ]
  },
  {
   "cell_type": "markdown",
   "metadata": {},
   "source": [
    "## 2. Create a table that provides data that can be used to analyze colors by category\n",
    "* We do not want detailed part names, part numbers, or category ID\n",
    "* We also do not want any other ID values\n",
    "* Make sure the color name and category name columns are labeled clearly"
   ]
  },
  {
   "cell_type": "code",
   "execution_count": 22,
   "metadata": {},
   "outputs": [],
   "source": [
    "lego_colors = legos['inventory_parts'].merge(legos['colors'], left_on = 'color_id', right_on = 'id')\n",
    "\n",
    "lego_partid = lego_colors.merge(legos['parts'], on = 'part_num') \\\n",
    "    .drop(['part_num', 'name_y', 'inventory_id', 'color_id', 'id'], axis = 1)\n",
    "\n",
    "lego_color_cat = lego_partid.merge(legos['part_categories'], left_on = 'part_cat_id', right_on = 'id') \\\n",
    "    .drop(['part_cat_id', 'id'], axis = 1)\n",
    "    \n",
    "lego_color_cat.rename(columns = {'name_x': 'color_name', 'name': 'cat_name'}, inplace = True)"
   ]
  },
  {
   "cell_type": "code",
   "execution_count": 23,
   "metadata": {},
   "outputs": [
    {
     "data": {
      "text/html": [
       "<div>\n",
       "<style>\n",
       "    .dataframe thead tr:only-child th {\n",
       "        text-align: right;\n",
       "    }\n",
       "\n",
       "    .dataframe thead th {\n",
       "        text-align: left;\n",
       "    }\n",
       "\n",
       "    .dataframe tbody tr th {\n",
       "        vertical-align: top;\n",
       "    }\n",
       "</style>\n",
       "<table border=\"1\" class=\"dataframe\">\n",
       "  <thead>\n",
       "    <tr style=\"text-align: right;\">\n",
       "      <th></th>\n",
       "      <th>quantity</th>\n",
       "      <th>is_spare</th>\n",
       "      <th>color_name</th>\n",
       "      <th>rgb</th>\n",
       "      <th>is_trans</th>\n",
       "      <th>cat_name</th>\n",
       "    </tr>\n",
       "  </thead>\n",
       "  <tbody>\n",
       "    <tr>\n",
       "      <th>0</th>\n",
       "      <td>1</td>\n",
       "      <td>f</td>\n",
       "      <td>Dark Bluish Gray</td>\n",
       "      <td>6C6E68</td>\n",
       "      <td>f</td>\n",
       "      <td>Minifig Accessories</td>\n",
       "    </tr>\n",
       "    <tr>\n",
       "      <th>1</th>\n",
       "      <td>1</td>\n",
       "      <td>f</td>\n",
       "      <td>Dark Bluish Gray</td>\n",
       "      <td>6C6E68</td>\n",
       "      <td>f</td>\n",
       "      <td>Minifig Accessories</td>\n",
       "    </tr>\n",
       "    <tr>\n",
       "      <th>2</th>\n",
       "      <td>1</td>\n",
       "      <td>f</td>\n",
       "      <td>Black</td>\n",
       "      <td>05131D</td>\n",
       "      <td>f</td>\n",
       "      <td>Minifig Accessories</td>\n",
       "    </tr>\n",
       "    <tr>\n",
       "      <th>3</th>\n",
       "      <td>1</td>\n",
       "      <td>f</td>\n",
       "      <td>White</td>\n",
       "      <td>FFFFFF</td>\n",
       "      <td>f</td>\n",
       "      <td>Minifig Accessories</td>\n",
       "    </tr>\n",
       "    <tr>\n",
       "      <th>4</th>\n",
       "      <td>1</td>\n",
       "      <td>f</td>\n",
       "      <td>Blue</td>\n",
       "      <td>0055BF</td>\n",
       "      <td>f</td>\n",
       "      <td>Minifig Accessories</td>\n",
       "    </tr>\n",
       "  </tbody>\n",
       "</table>\n",
       "</div>"
      ],
      "text/plain": [
       "   quantity is_spare        color_name     rgb is_trans             cat_name\n",
       "0         1        f  Dark Bluish Gray  6C6E68        f  Minifig Accessories\n",
       "1         1        f  Dark Bluish Gray  6C6E68        f  Minifig Accessories\n",
       "2         1        f             Black  05131D        f  Minifig Accessories\n",
       "3         1        f             White  FFFFFF        f  Minifig Accessories\n",
       "4         1        f              Blue  0055BF        f  Minifig Accessories"
      ]
     },
     "execution_count": 23,
     "metadata": {},
     "output_type": "execute_result"
    }
   ],
   "source": [
    "lego_color_cat.head()"
   ]
  },
  {
   "cell_type": "code",
   "execution_count": 24,
   "metadata": {},
   "outputs": [
    {
     "data": {
      "text/plain": [
       "((580251, 5), (580069, 6))"
      ]
     },
     "execution_count": 24,
     "metadata": {},
     "output_type": "execute_result"
    }
   ],
   "source": [
    "legos['inventory_parts'].shape, lego_color_cat.shape"
   ]
  },
  {
   "cell_type": "markdown",
   "metadata": {},
   "source": [
    "The loss of some rows between the original 'inventory parts' data frame in the 'legos' list and the 'lego_color_cat' data frame shows the lack of matching IDs within one or more merges."
   ]
  },
  {
   "cell_type": "markdown",
   "metadata": {},
   "source": [
    "## 3. Create a table that allows us to analyze set names and their themes\n",
    "* Merge everything in one command\n",
    "* Do not include data that will not help with this analysis (remove all of this in a second command)\n",
    "    + do consider that we might later want to look at specific colors or other part details\n",
    "* Rename columns where necessary"
   ]
  },
  {
   "cell_type": "code",
   "execution_count": 25,
   "metadata": {
    "collapsed": true
   },
   "outputs": [],
   "source": [
    "# Create needed merges in one command\n",
    "set_themes = legos['sets'].merge(legos['themes'], left_on = 'theme_id', right_on = 'id') \\\n",
    "    .merge(legos['inventories'], on = 'set_num') \\\n",
    "    .merge(legos['inventory_parts'], left_on = 'id_y', right_on = 'inventory_id')"
   ]
  },
  {
   "cell_type": "code",
   "execution_count": 26,
   "metadata": {
    "collapsed": true
   },
   "outputs": [],
   "source": [
    "# Remove data that will not help in this analysis\n",
    "set_themes.drop(['set_num', 'num_parts', 'theme_id', 'id_x', 'id_y', 'is_spare'], axis = 1, inplace = True)"
   ]
  },
  {
   "cell_type": "code",
   "execution_count": 27,
   "metadata": {
    "collapsed": true
   },
   "outputs": [],
   "source": [
    "# Rename columns where necessary\n",
    "set_themes.rename(columns = {'name_x': 'set_name', 'name_y': 'theme_name'}, inplace = True)"
   ]
  },
  {
   "cell_type": "code",
   "execution_count": 28,
   "metadata": {},
   "outputs": [
    {
     "data": {
      "text/html": [
       "<div>\n",
       "<style>\n",
       "    .dataframe thead tr:only-child th {\n",
       "        text-align: right;\n",
       "    }\n",
       "\n",
       "    .dataframe thead th {\n",
       "        text-align: left;\n",
       "    }\n",
       "\n",
       "    .dataframe tbody tr th {\n",
       "        vertical-align: top;\n",
       "    }\n",
       "</style>\n",
       "<table border=\"1\" class=\"dataframe\">\n",
       "  <thead>\n",
       "    <tr style=\"text-align: right;\">\n",
       "      <th></th>\n",
       "      <th>set_name</th>\n",
       "      <th>year</th>\n",
       "      <th>theme_name</th>\n",
       "      <th>parent_id</th>\n",
       "      <th>version</th>\n",
       "      <th>inventory_id</th>\n",
       "      <th>part_num</th>\n",
       "      <th>color_id</th>\n",
       "      <th>quantity</th>\n",
       "    </tr>\n",
       "  </thead>\n",
       "  <tbody>\n",
       "    <tr>\n",
       "      <th>0</th>\n",
       "      <td>Weetabix Castle</td>\n",
       "      <td>1970</td>\n",
       "      <td>Castle</td>\n",
       "      <td>411.0</td>\n",
       "      <td>1</td>\n",
       "      <td>5574</td>\n",
       "      <td>29c01</td>\n",
       "      <td>4</td>\n",
       "      <td>8</td>\n",
       "    </tr>\n",
       "    <tr>\n",
       "      <th>1</th>\n",
       "      <td>Weetabix Castle</td>\n",
       "      <td>1970</td>\n",
       "      <td>Castle</td>\n",
       "      <td>411.0</td>\n",
       "      <td>1</td>\n",
       "      <td>5574</td>\n",
       "      <td>29c01</td>\n",
       "      <td>15</td>\n",
       "      <td>6</td>\n",
       "    </tr>\n",
       "    <tr>\n",
       "      <th>2</th>\n",
       "      <td>Weetabix Castle</td>\n",
       "      <td>1970</td>\n",
       "      <td>Castle</td>\n",
       "      <td>411.0</td>\n",
       "      <td>1</td>\n",
       "      <td>5574</td>\n",
       "      <td>3001a</td>\n",
       "      <td>15</td>\n",
       "      <td>25</td>\n",
       "    </tr>\n",
       "    <tr>\n",
       "      <th>3</th>\n",
       "      <td>Weetabix Castle</td>\n",
       "      <td>1970</td>\n",
       "      <td>Castle</td>\n",
       "      <td>411.0</td>\n",
       "      <td>1</td>\n",
       "      <td>5574</td>\n",
       "      <td>3001a</td>\n",
       "      <td>4</td>\n",
       "      <td>9</td>\n",
       "    </tr>\n",
       "    <tr>\n",
       "      <th>4</th>\n",
       "      <td>Weetabix Castle</td>\n",
       "      <td>1970</td>\n",
       "      <td>Castle</td>\n",
       "      <td>411.0</td>\n",
       "      <td>1</td>\n",
       "      <td>5574</td>\n",
       "      <td>3001a</td>\n",
       "      <td>1</td>\n",
       "      <td>4</td>\n",
       "    </tr>\n",
       "  </tbody>\n",
       "</table>\n",
       "</div>"
      ],
      "text/plain": [
       "          set_name  year theme_name  parent_id  version  inventory_id  \\\n",
       "0  Weetabix Castle  1970     Castle      411.0        1          5574   \n",
       "1  Weetabix Castle  1970     Castle      411.0        1          5574   \n",
       "2  Weetabix Castle  1970     Castle      411.0        1          5574   \n",
       "3  Weetabix Castle  1970     Castle      411.0        1          5574   \n",
       "4  Weetabix Castle  1970     Castle      411.0        1          5574   \n",
       "\n",
       "  part_num  color_id  quantity  \n",
       "0    29c01         4         8  \n",
       "1    29c01        15         6  \n",
       "2    3001a        15        25  \n",
       "3    3001a         4         9  \n",
       "4    3001a         1         4  "
      ]
     },
     "execution_count": 28,
     "metadata": {},
     "output_type": "execute_result"
    }
   ],
   "source": [
    "# View results\n",
    "set_themes.head()"
   ]
  },
  {
   "cell_type": "markdown",
   "metadata": {},
   "source": [
    "## 4. Create a copy of the parts table and modify it to show what sets the parts belong to"
   ]
  },
  {
   "cell_type": "code",
   "execution_count": 29,
   "metadata": {
    "collapsed": true
   },
   "outputs": [],
   "source": [
    "# Copy parts table and rename columns\n",
    "parts = legos['parts'].copy()\n",
    "parts.rename(columns = {'name': 'part_name'}, inplace = True)"
   ]
  },
  {
   "cell_type": "code",
   "execution_count": 30,
   "metadata": {},
   "outputs": [],
   "source": [
    "# Merge parts table with inventories, inventory parts and sets\n",
    "inv_parts_sets = legos['inventory_parts'].merge(legos['inventories'], left_on = 'inventory_id', right_on = 'id') \\\n",
    "    .merge(legos['sets'], on = 'set_num')\n",
    "inv_parts_sets.rename(columns = {'name': 'set_name'}, inplace = True)    \n",
    "    \n",
    "parts_sets = inv_parts_sets.merge(parts, on = 'part_num')\n",
    "\n",
    "keep = list(parts.columns) + ['set_name']\n",
    "parts_sets = parts_sets[keep]"
   ]
  },
  {
   "cell_type": "code",
   "execution_count": 31,
   "metadata": {},
   "outputs": [
    {
     "data": {
      "text/plain": [
       "((580069, 4), (25993, 3))"
      ]
     },
     "execution_count": 31,
     "metadata": {},
     "output_type": "execute_result"
    }
   ],
   "source": [
    "parts_sets.shape, parts.shape"
   ]
  },
  {
   "cell_type": "code",
   "execution_count": 32,
   "metadata": {},
   "outputs": [
    {
     "data": {
      "text/html": [
       "<div>\n",
       "<style>\n",
       "    .dataframe thead tr:only-child th {\n",
       "        text-align: right;\n",
       "    }\n",
       "\n",
       "    .dataframe thead th {\n",
       "        text-align: left;\n",
       "    }\n",
       "\n",
       "    .dataframe tbody tr th {\n",
       "        vertical-align: top;\n",
       "    }\n",
       "</style>\n",
       "<table border=\"1\" class=\"dataframe\">\n",
       "  <thead>\n",
       "    <tr style=\"text-align: right;\">\n",
       "      <th></th>\n",
       "      <th>part_num</th>\n",
       "      <th>part_name</th>\n",
       "      <th>part_cat_id</th>\n",
       "      <th>set_name</th>\n",
       "    </tr>\n",
       "  </thead>\n",
       "  <tbody>\n",
       "    <tr>\n",
       "      <th>0</th>\n",
       "      <td>48379c01</td>\n",
       "      <td>Sports Promo Figure Base with Feet</td>\n",
       "      <td>27</td>\n",
       "      <td>McDonald's Sports Set Number 6 - Orange Vest S...</td>\n",
       "    </tr>\n",
       "    <tr>\n",
       "      <th>1</th>\n",
       "      <td>48379c01</td>\n",
       "      <td>Sports Promo Figure Base with Feet</td>\n",
       "      <td>27</td>\n",
       "      <td>McDonald's Sports Set Number 5 - Blue Hockey P...</td>\n",
       "    </tr>\n",
       "    <tr>\n",
       "      <th>2</th>\n",
       "      <td>48379c01</td>\n",
       "      <td>Sports Promo Figure Base with Feet</td>\n",
       "      <td>27</td>\n",
       "      <td>McDonald's Sports Set Number 4 - White Hockey ...</td>\n",
       "    </tr>\n",
       "    <tr>\n",
       "      <th>3</th>\n",
       "      <td>48379c01</td>\n",
       "      <td>Sports Promo Figure Base with Feet</td>\n",
       "      <td>27</td>\n",
       "      <td>McDonald's Sports Set Number 1 - White Soccer ...</td>\n",
       "    </tr>\n",
       "    <tr>\n",
       "      <th>4</th>\n",
       "      <td>48379c01</td>\n",
       "      <td>Sports Promo Figure Base with Feet</td>\n",
       "      <td>27</td>\n",
       "      <td>McDonald's Sports Set Number 8 - Green Basketb...</td>\n",
       "    </tr>\n",
       "  </tbody>\n",
       "</table>\n",
       "</div>"
      ],
      "text/plain": [
       "   part_num                           part_name  part_cat_id  \\\n",
       "0  48379c01  Sports Promo Figure Base with Feet           27   \n",
       "1  48379c01  Sports Promo Figure Base with Feet           27   \n",
       "2  48379c01  Sports Promo Figure Base with Feet           27   \n",
       "3  48379c01  Sports Promo Figure Base with Feet           27   \n",
       "4  48379c01  Sports Promo Figure Base with Feet           27   \n",
       "\n",
       "                                            set_name  \n",
       "0  McDonald's Sports Set Number 6 - Orange Vest S...  \n",
       "1  McDonald's Sports Set Number 5 - Blue Hockey P...  \n",
       "2  McDonald's Sports Set Number 4 - White Hockey ...  \n",
       "3  McDonald's Sports Set Number 1 - White Soccer ...  \n",
       "4  McDonald's Sports Set Number 8 - Green Basketb...  "
      ]
     },
     "execution_count": 32,
     "metadata": {},
     "output_type": "execute_result"
    }
   ],
   "source": [
    "parts_sets.head()"
   ]
  },
  {
   "cell_type": "markdown",
   "metadata": {},
   "source": [
    "## 5. Create a copy of the set_themes table created earlier. Modify it to create a new table indicating how many transparent parts there are for each set name"
   ]
  },
  {
   "cell_type": "code",
   "execution_count": 33,
   "metadata": {},
   "outputs": [],
   "source": [
    "set_themes_cpy = set_themes.copy()\n",
    "set_themes_cpy.drop(['theme_name', 'parent_id'], axis = 1, inplace = True)\n",
    "\n",
    "set_themes_cpy = set_themes_cpy.merge(legos['colors'][['id', 'is_trans']], left_on = 'color_id', right_on = 'id') \\\n",
    "    .drop('id', axis = 1)\n",
    "\n",
    "set_themes_cpy['trans'] = [1 if it == 't' else 0 for it in set_themes_cpy.is_trans]\n",
    "set_names_trans = DF(set_themes_cpy.groupby(['set_name']).trans.sum()).rename(columns = {'trans': 'n_trans'})"
   ]
  },
  {
   "cell_type": "code",
   "execution_count": 34,
   "metadata": {},
   "outputs": [
    {
     "data": {
      "text/html": [
       "<div>\n",
       "<style>\n",
       "    .dataframe thead tr:only-child th {\n",
       "        text-align: right;\n",
       "    }\n",
       "\n",
       "    .dataframe thead th {\n",
       "        text-align: left;\n",
       "    }\n",
       "\n",
       "    .dataframe tbody tr th {\n",
       "        vertical-align: top;\n",
       "    }\n",
       "</style>\n",
       "<table border=\"1\" class=\"dataframe\">\n",
       "  <thead>\n",
       "    <tr style=\"text-align: right;\">\n",
       "      <th></th>\n",
       "      <th>n_trans</th>\n",
       "    </tr>\n",
       "    <tr>\n",
       "      <th>set_name</th>\n",
       "      <th></th>\n",
       "    </tr>\n",
       "  </thead>\n",
       "  <tbody>\n",
       "    <tr>\n",
       "      <th>{Red Race Car Number 3}</th>\n",
       "      <td>1</td>\n",
       "    </tr>\n",
       "    <tr>\n",
       "      <th>{Roadplates and Scenery}</th>\n",
       "      <td>0</td>\n",
       "    </tr>\n",
       "    <tr>\n",
       "      <th>{Rock Saw Vehicle}</th>\n",
       "      <td>0</td>\n",
       "    </tr>\n",
       "    <tr>\n",
       "      <th>{Town Vehicles}</th>\n",
       "      <td>1</td>\n",
       "    </tr>\n",
       "    <tr>\n",
       "      <th>{Yellow Cab}</th>\n",
       "      <td>5</td>\n",
       "    </tr>\n",
       "  </tbody>\n",
       "</table>\n",
       "</div>"
      ],
      "text/plain": [
       "                          n_trans\n",
       "set_name                         \n",
       "{Red Race Car Number 3}         1\n",
       "{Roadplates and Scenery}        0\n",
       "{Rock Saw Vehicle}              0\n",
       "{Town Vehicles}                 1\n",
       "{Yellow Cab}                    5"
      ]
     },
     "execution_count": 34,
     "metadata": {},
     "output_type": "execute_result"
    }
   ],
   "source": [
    "set_names_trans.tail()"
   ]
  },
  {
   "cell_type": "code",
   "execution_count": 35,
   "metadata": {},
   "outputs": [
    {
     "data": {
      "text/html": [
       "<div>\n",
       "<style>\n",
       "    .dataframe thead tr:only-child th {\n",
       "        text-align: right;\n",
       "    }\n",
       "\n",
       "    .dataframe thead th {\n",
       "        text-align: left;\n",
       "    }\n",
       "\n",
       "    .dataframe tbody tr th {\n",
       "        vertical-align: top;\n",
       "    }\n",
       "</style>\n",
       "<table border=\"1\" class=\"dataframe\">\n",
       "  <thead>\n",
       "    <tr style=\"text-align: right;\">\n",
       "      <th></th>\n",
       "      <th>n_trans</th>\n",
       "    </tr>\n",
       "  </thead>\n",
       "  <tbody>\n",
       "    <tr>\n",
       "      <th>count</th>\n",
       "      <td>9457.00000</td>\n",
       "    </tr>\n",
       "    <tr>\n",
       "      <th>mean</th>\n",
       "      <td>3.84033</td>\n",
       "    </tr>\n",
       "    <tr>\n",
       "      <th>std</th>\n",
       "      <td>6.64498</td>\n",
       "    </tr>\n",
       "    <tr>\n",
       "      <th>min</th>\n",
       "      <td>0.00000</td>\n",
       "    </tr>\n",
       "    <tr>\n",
       "      <th>25%</th>\n",
       "      <td>0.00000</td>\n",
       "    </tr>\n",
       "    <tr>\n",
       "      <th>50%</th>\n",
       "      <td>1.00000</td>\n",
       "    </tr>\n",
       "    <tr>\n",
       "      <th>75%</th>\n",
       "      <td>5.00000</td>\n",
       "    </tr>\n",
       "    <tr>\n",
       "      <th>max</th>\n",
       "      <td>171.00000</td>\n",
       "    </tr>\n",
       "  </tbody>\n",
       "</table>\n",
       "</div>"
      ],
      "text/plain": [
       "          n_trans\n",
       "count  9457.00000\n",
       "mean      3.84033\n",
       "std       6.64498\n",
       "min       0.00000\n",
       "25%       0.00000\n",
       "50%       1.00000\n",
       "75%       5.00000\n",
       "max     171.00000"
      ]
     },
     "execution_count": 35,
     "metadata": {},
     "output_type": "execute_result"
    }
   ],
   "source": [
    "set_names_trans.describe()"
   ]
  }
 ],
 "metadata": {
  "anaconda-cloud": {},
  "kernelspec": {
   "display_name": "Python 3",
   "language": "python",
   "name": "python3"
  },
  "language_info": {
   "codemirror_mode": {
    "name": "ipython",
    "version": 3
   },
   "file_extension": ".py",
   "mimetype": "text/x-python",
   "name": "python",
   "nbconvert_exporter": "python",
   "pygments_lexer": "ipython3",
   "version": "3.6.1"
  }
 },
 "nbformat": 4,
 "nbformat_minor": 2
}

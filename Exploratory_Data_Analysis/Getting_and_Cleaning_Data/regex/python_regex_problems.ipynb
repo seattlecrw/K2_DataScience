{
 "cells": [
  {
   "cell_type": "markdown",
   "metadata": {},
   "source": [
    "# Regex Problems"
   ]
  },
  {
   "cell_type": "code",
   "execution_count": 1,
   "metadata": {
    "collapsed": true
   },
   "outputs": [],
   "source": [
    "# Import module\n",
    "import re"
   ]
  },
  {
   "cell_type": "markdown",
   "metadata": {},
   "source": [
    "## 1. *Efficiently* Get a list of all complete URLs that use https protocol"
   ]
  },
  {
   "cell_type": "code",
   "execution_count": 2,
   "metadata": {
    "collapsed": true
   },
   "outputs": [],
   "source": [
    "urls = ['http://www.domain.com',\n",
    "        'https://somedomain.com',\n",
    "        'http://my-domain-123.net',\n",
    "        'https://google.com',\n",
    "        'http://www.foo.com',\n",
    "        'https://bar-baz3.com',\n",
    "        'ftp://domain2.com']"
   ]
  },
  {
   "cell_type": "code",
   "execution_count": 3,
   "metadata": {},
   "outputs": [
    {
     "data": {
      "text/plain": [
       "[['https://somedomain.com'], ['https://google.com'], ['https://bar-baz3.com']]"
      ]
     },
     "execution_count": 3,
     "metadata": {},
     "output_type": "execute_result"
    }
   ],
   "source": [
    "# Compile pattern describing URL string\n",
    "pattern = re.compile(r\"https://[a-z0-9.-]+\\.\\w{3}\")\n",
    "\n",
    "# Return list of matches\n",
    "complete_https = []\n",
    "for url in urls:\n",
    "    result = pattern.findall(url)\n",
    "    if result:\n",
    "        complete_https.append(result)\n",
    "complete_https"
   ]
  },
  {
   "cell_type": "markdown",
   "metadata": {},
   "source": [
    "## 2. Get domains (without protocols) (including extension, e.g. .com) for URLs with both http and https protocols."
   ]
  },
  {
   "cell_type": "code",
   "execution_count": 4,
   "metadata": {},
   "outputs": [
    {
     "data": {
      "text/plain": [
       "[['www.domain.com'],\n",
       " ['somedomain.com'],\n",
       " ['my-domain-123.net'],\n",
       " ['google.com'],\n",
       " ['www.foo.com'],\n",
       " ['bar-baz3.com']]"
      ]
     },
     "execution_count": 4,
     "metadata": {},
     "output_type": "execute_result"
    }
   ],
   "source": [
    "# Compile pattern describing URL string\n",
    "pattern = re.compile(r\"https?://([a-z0-9.-]+\\.\\w{3})\")\n",
    "\n",
    "# Return list of matches\n",
    "domains = []\n",
    "for url in urls:\n",
    "    result = pattern.findall(url)\n",
    "    if result:\n",
    "        domains.append(result)\n",
    "domains"
   ]
  },
  {
   "cell_type": "markdown",
   "metadata": {},
   "source": [
    "## 3. Below is a list of language codes. Determine how many are some form of English\n",
    "\n",
    "* English codes will start with En, en, or EN"
   ]
  },
  {
   "cell_type": "code",
   "execution_count": 5,
   "metadata": {
    "collapsed": true
   },
   "outputs": [],
   "source": [
    "languages = ['Ar','It','it','En','En_gb','jp','en_GB','EN_IE','en-NZ','en','es','ES-es']"
   ]
  },
  {
   "cell_type": "code",
   "execution_count": 6,
   "metadata": {},
   "outputs": [
    {
     "data": {
      "text/plain": [
       "6"
      ]
     },
     "execution_count": 6,
     "metadata": {},
     "output_type": "execute_result"
    }
   ],
   "source": [
    "# Compile pattern describing URL string\n",
    "pattern = re.compile(r\"en([-_][A-Za-z]{2})?\", flags = re.IGNORECASE)\n",
    "\n",
    "# Return list of matches\n",
    "english = []\n",
    "for language in languages:\n",
    "    result = pattern.findall(language)\n",
    "    if result:\n",
    "        english.append(result)\n",
    "len(english)"
   ]
  },
  {
   "cell_type": "markdown",
   "metadata": {},
   "source": [
    "## 4. Fix all langauge codes so that they are formatted as such:\n",
    "* first two letters are lower case\n",
    "* codes with region endings use hyphen and not underscore\n",
    "* the region endings are upper case"
   ]
  },
  {
   "cell_type": "code",
   "execution_count": 7,
   "metadata": {},
   "outputs": [
    {
     "data": {
      "text/plain": [
       "['ar',\n",
       " 'it',\n",
       " 'it',\n",
       " 'en',\n",
       " 'en-GB',\n",
       " 'jp',\n",
       " 'en-GB',\n",
       " 'en-IE',\n",
       " 'en-NZ',\n",
       " 'en',\n",
       " 'es',\n",
       " 'es-ES']"
      ]
     },
     "execution_count": 7,
     "metadata": {},
     "output_type": "execute_result"
    }
   ],
   "source": [
    "# Compile pattern describing URL string\n",
    "pattern = re.compile(r\"([A-Za-z]{2})[-_]?([A-Za-z]{2})?\")\n",
    "\n",
    "# Return list of matches\n",
    "formatted = []\n",
    "for language in languages:\n",
    "    result = re.search(pattern, language)\n",
    "    if result:\n",
    "        if result.group(2):\n",
    "            formatted.append(result.group(1).lower() + '-' + result.group(2).upper())\n",
    "        else:\n",
    "            formatted.append(result.group(1).lower())\n",
    "formatted"
   ]
  }
 ],
 "metadata": {
  "anaconda-cloud": {},
  "kernelspec": {
   "display_name": "Python 3",
   "language": "python",
   "name": "python3"
  },
  "language_info": {
   "codemirror_mode": {
    "name": "ipython",
    "version": 3
   },
   "file_extension": ".py",
   "mimetype": "text/x-python",
   "name": "python",
   "nbconvert_exporter": "python",
   "pygments_lexer": "ipython3",
   "version": "3.6.1"
  }
 },
 "nbformat": 4,
 "nbformat_minor": 2
}

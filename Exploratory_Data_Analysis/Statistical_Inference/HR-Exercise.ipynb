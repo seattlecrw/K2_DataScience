{
 "cells": [
  {
   "cell_type": "markdown",
   "metadata": {},
   "source": [
    "# HR Dataset - Statistics Review"
   ]
  },
  {
   "cell_type": "markdown",
   "metadata": {},
   "source": [
    "## Explore the data\n",
    "\n",
    "The data set we will use for this exercise comes from a Kaggle challenge and is often used for predictive analytics, namely to predict why the best and most experienced employees tend to leave the company.  We won't be using it for any predictive purposes here, but will instead use this data set to review many of the concepts explored in the Statistical Inference lectures.\n",
    "\n",
    "This data contains fields for various measures of employee performance and reported satisfaction levels, as well as categorical variables for events and salary level.  For now, just explore the data a bit to get a general idea of what is going on."
   ]
  },
  {
   "cell_type": "code",
   "execution_count": 60,
   "metadata": {},
   "outputs": [],
   "source": [
    "# Import data science modules\n",
    "import numpy as np\n",
    "import pandas as pd\n",
    "import matplotlib.pyplot as plt\n",
    "\n",
    "# Import statistics modules\n",
    "from scipy.stats import binom\n",
    "from scipy.stats import norm\n",
    "from scipy.stats import poisson\n",
    "import statsmodels.stats.api as sm\n",
    "from scipy.stats import ttest_ind\n",
    "from scipy.stats import ttest_1samp"
   ]
  },
  {
   "cell_type": "code",
   "execution_count": 2,
   "metadata": {},
   "outputs": [
    {
     "name": "stdout",
     "output_type": "stream",
     "text": [
      "(14999, 10)\n",
      "satisfaction_level       float64\n",
      "last_evaluation          float64\n",
      "number_project             int64\n",
      "average_montly_hours       int64\n",
      "time_spend_company         int64\n",
      "Work_accident              int64\n",
      "left                       int64\n",
      "promotion_last_5years      int64\n",
      "sales                     object\n",
      "salary                    object\n",
      "dtype: object\n"
     ]
    }
   ],
   "source": [
    "# Read in csv\n",
    "data = pd.read_csv('HR_comma_sep.csv')\n",
    "\n",
    "# Print dimensions of data frame\n",
    "print(data.shape)\n",
    "\n",
    "# Print data types of each column\n",
    "print(data.dtypes)"
   ]
  },
  {
   "cell_type": "code",
   "execution_count": 3,
   "metadata": {},
   "outputs": [
    {
     "data": {
      "text/html": [
       "<div>\n",
       "<style>\n",
       "    .dataframe thead tr:only-child th {\n",
       "        text-align: right;\n",
       "    }\n",
       "\n",
       "    .dataframe thead th {\n",
       "        text-align: left;\n",
       "    }\n",
       "\n",
       "    .dataframe tbody tr th {\n",
       "        vertical-align: top;\n",
       "    }\n",
       "</style>\n",
       "<table border=\"1\" class=\"dataframe\">\n",
       "  <thead>\n",
       "    <tr style=\"text-align: right;\">\n",
       "      <th></th>\n",
       "      <th>satisfaction_level</th>\n",
       "      <th>last_evaluation</th>\n",
       "      <th>number_project</th>\n",
       "      <th>average_montly_hours</th>\n",
       "      <th>time_spend_company</th>\n",
       "      <th>Work_accident</th>\n",
       "      <th>left</th>\n",
       "      <th>promotion_last_5years</th>\n",
       "      <th>sales</th>\n",
       "      <th>salary</th>\n",
       "    </tr>\n",
       "  </thead>\n",
       "  <tbody>\n",
       "    <tr>\n",
       "      <th>0</th>\n",
       "      <td>0.38</td>\n",
       "      <td>0.53</td>\n",
       "      <td>2</td>\n",
       "      <td>157</td>\n",
       "      <td>3</td>\n",
       "      <td>0</td>\n",
       "      <td>1</td>\n",
       "      <td>0</td>\n",
       "      <td>sales</td>\n",
       "      <td>low</td>\n",
       "    </tr>\n",
       "    <tr>\n",
       "      <th>1</th>\n",
       "      <td>0.80</td>\n",
       "      <td>0.86</td>\n",
       "      <td>5</td>\n",
       "      <td>262</td>\n",
       "      <td>6</td>\n",
       "      <td>0</td>\n",
       "      <td>1</td>\n",
       "      <td>0</td>\n",
       "      <td>sales</td>\n",
       "      <td>medium</td>\n",
       "    </tr>\n",
       "    <tr>\n",
       "      <th>2</th>\n",
       "      <td>0.11</td>\n",
       "      <td>0.88</td>\n",
       "      <td>7</td>\n",
       "      <td>272</td>\n",
       "      <td>4</td>\n",
       "      <td>0</td>\n",
       "      <td>1</td>\n",
       "      <td>0</td>\n",
       "      <td>sales</td>\n",
       "      <td>medium</td>\n",
       "    </tr>\n",
       "    <tr>\n",
       "      <th>3</th>\n",
       "      <td>0.72</td>\n",
       "      <td>0.87</td>\n",
       "      <td>5</td>\n",
       "      <td>223</td>\n",
       "      <td>5</td>\n",
       "      <td>0</td>\n",
       "      <td>1</td>\n",
       "      <td>0</td>\n",
       "      <td>sales</td>\n",
       "      <td>low</td>\n",
       "    </tr>\n",
       "    <tr>\n",
       "      <th>4</th>\n",
       "      <td>0.37</td>\n",
       "      <td>0.52</td>\n",
       "      <td>2</td>\n",
       "      <td>159</td>\n",
       "      <td>3</td>\n",
       "      <td>0</td>\n",
       "      <td>1</td>\n",
       "      <td>0</td>\n",
       "      <td>sales</td>\n",
       "      <td>low</td>\n",
       "    </tr>\n",
       "  </tbody>\n",
       "</table>\n",
       "</div>"
      ],
      "text/plain": [
       "   satisfaction_level  last_evaluation  number_project  average_montly_hours  \\\n",
       "0                0.38             0.53               2                   157   \n",
       "1                0.80             0.86               5                   262   \n",
       "2                0.11             0.88               7                   272   \n",
       "3                0.72             0.87               5                   223   \n",
       "4                0.37             0.52               2                   159   \n",
       "\n",
       "   time_spend_company  Work_accident  left  promotion_last_5years  sales  \\\n",
       "0                   3              0     1                      0  sales   \n",
       "1                   6              0     1                      0  sales   \n",
       "2                   4              0     1                      0  sales   \n",
       "3                   5              0     1                      0  sales   \n",
       "4                   3              0     1                      0  sales   \n",
       "\n",
       "   salary  \n",
       "0     low  \n",
       "1  medium  \n",
       "2  medium  \n",
       "3     low  \n",
       "4     low  "
      ]
     },
     "execution_count": 3,
     "metadata": {},
     "output_type": "execute_result"
    }
   ],
   "source": [
    "# Print first few lines of data\n",
    "data.head()"
   ]
  },
  {
   "cell_type": "code",
   "execution_count": 4,
   "metadata": {},
   "outputs": [
    {
     "data": {
      "text/html": [
       "<div>\n",
       "<style>\n",
       "    .dataframe thead tr:only-child th {\n",
       "        text-align: right;\n",
       "    }\n",
       "\n",
       "    .dataframe thead th {\n",
       "        text-align: left;\n",
       "    }\n",
       "\n",
       "    .dataframe tbody tr th {\n",
       "        vertical-align: top;\n",
       "    }\n",
       "</style>\n",
       "<table border=\"1\" class=\"dataframe\">\n",
       "  <thead>\n",
       "    <tr style=\"text-align: right;\">\n",
       "      <th></th>\n",
       "      <th>satisfaction_level</th>\n",
       "      <th>last_evaluation</th>\n",
       "      <th>number_project</th>\n",
       "      <th>average_montly_hours</th>\n",
       "      <th>time_spend_company</th>\n",
       "      <th>Work_accident</th>\n",
       "      <th>left</th>\n",
       "      <th>promotion_last_5years</th>\n",
       "      <th>sales</th>\n",
       "      <th>salary</th>\n",
       "    </tr>\n",
       "  </thead>\n",
       "  <tbody>\n",
       "    <tr>\n",
       "      <th>count</th>\n",
       "      <td>14999.000000</td>\n",
       "      <td>14999.000000</td>\n",
       "      <td>14999.000000</td>\n",
       "      <td>14999.000000</td>\n",
       "      <td>14999.000000</td>\n",
       "      <td>14999.000000</td>\n",
       "      <td>14999.000000</td>\n",
       "      <td>14999.000000</td>\n",
       "      <td>14999</td>\n",
       "      <td>14999</td>\n",
       "    </tr>\n",
       "    <tr>\n",
       "      <th>unique</th>\n",
       "      <td>NaN</td>\n",
       "      <td>NaN</td>\n",
       "      <td>NaN</td>\n",
       "      <td>NaN</td>\n",
       "      <td>NaN</td>\n",
       "      <td>NaN</td>\n",
       "      <td>NaN</td>\n",
       "      <td>NaN</td>\n",
       "      <td>10</td>\n",
       "      <td>3</td>\n",
       "    </tr>\n",
       "    <tr>\n",
       "      <th>top</th>\n",
       "      <td>NaN</td>\n",
       "      <td>NaN</td>\n",
       "      <td>NaN</td>\n",
       "      <td>NaN</td>\n",
       "      <td>NaN</td>\n",
       "      <td>NaN</td>\n",
       "      <td>NaN</td>\n",
       "      <td>NaN</td>\n",
       "      <td>sales</td>\n",
       "      <td>low</td>\n",
       "    </tr>\n",
       "    <tr>\n",
       "      <th>freq</th>\n",
       "      <td>NaN</td>\n",
       "      <td>NaN</td>\n",
       "      <td>NaN</td>\n",
       "      <td>NaN</td>\n",
       "      <td>NaN</td>\n",
       "      <td>NaN</td>\n",
       "      <td>NaN</td>\n",
       "      <td>NaN</td>\n",
       "      <td>4140</td>\n",
       "      <td>7316</td>\n",
       "    </tr>\n",
       "    <tr>\n",
       "      <th>mean</th>\n",
       "      <td>0.612834</td>\n",
       "      <td>0.716102</td>\n",
       "      <td>3.803054</td>\n",
       "      <td>201.050337</td>\n",
       "      <td>3.498233</td>\n",
       "      <td>0.144610</td>\n",
       "      <td>0.238083</td>\n",
       "      <td>0.021268</td>\n",
       "      <td>NaN</td>\n",
       "      <td>NaN</td>\n",
       "    </tr>\n",
       "    <tr>\n",
       "      <th>std</th>\n",
       "      <td>0.248631</td>\n",
       "      <td>0.171169</td>\n",
       "      <td>1.232592</td>\n",
       "      <td>49.943099</td>\n",
       "      <td>1.460136</td>\n",
       "      <td>0.351719</td>\n",
       "      <td>0.425924</td>\n",
       "      <td>0.144281</td>\n",
       "      <td>NaN</td>\n",
       "      <td>NaN</td>\n",
       "    </tr>\n",
       "    <tr>\n",
       "      <th>min</th>\n",
       "      <td>0.090000</td>\n",
       "      <td>0.360000</td>\n",
       "      <td>2.000000</td>\n",
       "      <td>96.000000</td>\n",
       "      <td>2.000000</td>\n",
       "      <td>0.000000</td>\n",
       "      <td>0.000000</td>\n",
       "      <td>0.000000</td>\n",
       "      <td>NaN</td>\n",
       "      <td>NaN</td>\n",
       "    </tr>\n",
       "    <tr>\n",
       "      <th>25%</th>\n",
       "      <td>0.440000</td>\n",
       "      <td>0.560000</td>\n",
       "      <td>3.000000</td>\n",
       "      <td>156.000000</td>\n",
       "      <td>3.000000</td>\n",
       "      <td>0.000000</td>\n",
       "      <td>0.000000</td>\n",
       "      <td>0.000000</td>\n",
       "      <td>NaN</td>\n",
       "      <td>NaN</td>\n",
       "    </tr>\n",
       "    <tr>\n",
       "      <th>50%</th>\n",
       "      <td>0.640000</td>\n",
       "      <td>0.720000</td>\n",
       "      <td>4.000000</td>\n",
       "      <td>200.000000</td>\n",
       "      <td>3.000000</td>\n",
       "      <td>0.000000</td>\n",
       "      <td>0.000000</td>\n",
       "      <td>0.000000</td>\n",
       "      <td>NaN</td>\n",
       "      <td>NaN</td>\n",
       "    </tr>\n",
       "    <tr>\n",
       "      <th>75%</th>\n",
       "      <td>0.820000</td>\n",
       "      <td>0.870000</td>\n",
       "      <td>5.000000</td>\n",
       "      <td>245.000000</td>\n",
       "      <td>4.000000</td>\n",
       "      <td>0.000000</td>\n",
       "      <td>0.000000</td>\n",
       "      <td>0.000000</td>\n",
       "      <td>NaN</td>\n",
       "      <td>NaN</td>\n",
       "    </tr>\n",
       "    <tr>\n",
       "      <th>max</th>\n",
       "      <td>1.000000</td>\n",
       "      <td>1.000000</td>\n",
       "      <td>7.000000</td>\n",
       "      <td>310.000000</td>\n",
       "      <td>10.000000</td>\n",
       "      <td>1.000000</td>\n",
       "      <td>1.000000</td>\n",
       "      <td>1.000000</td>\n",
       "      <td>NaN</td>\n",
       "      <td>NaN</td>\n",
       "    </tr>\n",
       "  </tbody>\n",
       "</table>\n",
       "</div>"
      ],
      "text/plain": [
       "        satisfaction_level  last_evaluation  number_project  \\\n",
       "count         14999.000000     14999.000000    14999.000000   \n",
       "unique                 NaN              NaN             NaN   \n",
       "top                    NaN              NaN             NaN   \n",
       "freq                   NaN              NaN             NaN   \n",
       "mean              0.612834         0.716102        3.803054   \n",
       "std               0.248631         0.171169        1.232592   \n",
       "min               0.090000         0.360000        2.000000   \n",
       "25%               0.440000         0.560000        3.000000   \n",
       "50%               0.640000         0.720000        4.000000   \n",
       "75%               0.820000         0.870000        5.000000   \n",
       "max               1.000000         1.000000        7.000000   \n",
       "\n",
       "        average_montly_hours  time_spend_company  Work_accident          left  \\\n",
       "count           14999.000000        14999.000000   14999.000000  14999.000000   \n",
       "unique                   NaN                 NaN            NaN           NaN   \n",
       "top                      NaN                 NaN            NaN           NaN   \n",
       "freq                     NaN                 NaN            NaN           NaN   \n",
       "mean              201.050337            3.498233       0.144610      0.238083   \n",
       "std                49.943099            1.460136       0.351719      0.425924   \n",
       "min                96.000000            2.000000       0.000000      0.000000   \n",
       "25%               156.000000            3.000000       0.000000      0.000000   \n",
       "50%               200.000000            3.000000       0.000000      0.000000   \n",
       "75%               245.000000            4.000000       0.000000      0.000000   \n",
       "max               310.000000           10.000000       1.000000      1.000000   \n",
       "\n",
       "        promotion_last_5years  sales salary  \n",
       "count            14999.000000  14999  14999  \n",
       "unique                    NaN     10      3  \n",
       "top                       NaN  sales    low  \n",
       "freq                      NaN   4140   7316  \n",
       "mean                 0.021268    NaN    NaN  \n",
       "std                  0.144281    NaN    NaN  \n",
       "min                  0.000000    NaN    NaN  \n",
       "25%                  0.000000    NaN    NaN  \n",
       "50%                  0.000000    NaN    NaN  \n",
       "75%                  0.000000    NaN    NaN  \n",
       "max                  1.000000    NaN    NaN  "
      ]
     },
     "execution_count": 4,
     "metadata": {},
     "output_type": "execute_result"
    }
   ],
   "source": [
    "# Print description of data\n",
    "data.describe(include = 'all')"
   ]
  },
  {
   "cell_type": "code",
   "execution_count": 5,
   "metadata": {
    "collapsed": true
   },
   "outputs": [],
   "source": [
    "# Correct column typos\n",
    "data.rename(columns = {list(data)[3]: 'average_monthly_hours',\n",
    "                       list(data)[5]: 'work_accident'}, inplace = True)"
   ]
  },
  {
   "cell_type": "markdown",
   "metadata": {},
   "source": [
    "## Probability, Expectation Values, and Variance\n",
    "\n",
    "The concepts of probability, expectation values, and variance are the bedrock of statistical inference.  Let's begin by employing some of these concepts to see if we can find some interesting paths to go down which may provide some insight into the inner workings of this company.\n",
    "\n",
    "1. What is the probability that a randomly selected employee left the company?  What about experienced a work accident?  Also compute the probability that a randomly selected employee left the company and experienced a work accident.\n",
    "1. Compute the 25th, 50th, and 90th percentiles for the satisfaction level score for all employees that left the company.  Compare these results to the same percentiles for those that did not leave.  What can you say about the results?\n",
    "1. Compute the variance and standard deviation of hours worked.\n",
    "1. Compare the variance between the satisfaction levels of employees who left versus those who stayed.  Which is larger?  What does this mean?\n",
    "1. Compute the mean satisfaction level for each salary category.  Comment on your results.\n",
    "1. Given an employees salary level (low, medium, or high), calculate the probability that they worked more than two standard deviations of the average monthly hours across all groups.  In other words, compute\n",
    "$$P(hours > 2\\sigma \\vert salary ) = \\dfrac{P(salary \\vert hours > 2\\sigma) P(hours > 2\\sigma)}{P(salary)}$$\n",
    "1. What can you say about your results in part 6?\n",
    "1. Repeat parts 6 and 7 for \n",
    "$$P(left \\vert salary ) = \\dfrac{P(salary \\vert left) P(left)}{P(salary)}$$\n",
    "1. What is the odds ratio of an employee with a high salary getting a promotion within the past five years versus a low salary employee?  Comment on your results.\n",
    "1. Suppose we were to pull a random sample of size 50 of employee satisfaction levels.  What would approximately be the mean of this sample?  What would be the mean of, say, 10 sets of random samples?  Demonstrate your assertions by writing some python code to do just that."
   ]
  },
  {
   "cell_type": "markdown",
   "metadata": {},
   "source": [
    "#### Question 1"
   ]
  },
  {
   "cell_type": "code",
   "execution_count": 6,
   "metadata": {},
   "outputs": [
    {
     "data": {
      "text/plain": [
       "0.2380825388359224"
      ]
     },
     "execution_count": 6,
     "metadata": {},
     "output_type": "execute_result"
    }
   ],
   "source": [
    "# What is the probability that a randomly selected employee left the company?\n",
    "num_employees = len(data)\n",
    "left_company = data[data.left == 1]\n",
    "len(left_company) / num_employees"
   ]
  },
  {
   "cell_type": "code",
   "execution_count": 7,
   "metadata": {},
   "outputs": [
    {
     "data": {
      "text/plain": [
       "0.1446096406427095"
      ]
     },
     "execution_count": 7,
     "metadata": {},
     "output_type": "execute_result"
    }
   ],
   "source": [
    "# What is the probability that a randomly selected employee experienced a work accident?\n",
    "had_accident = data[data.work_accident == 1]\n",
    "len(had_accident) / num_employees"
   ]
  },
  {
   "cell_type": "code",
   "execution_count": 8,
   "metadata": {},
   "outputs": [
    {
     "data": {
      "text/plain": [
       "0.01126741782785519"
      ]
     },
     "execution_count": 8,
     "metadata": {},
     "output_type": "execute_result"
    }
   ],
   "source": [
    "# Also compute the probability that a randomly selected employee left the company and experienced a work accident.\n",
    "left_company_and_had_accident = data[(data.left == 1) & (data.work_accident == 1)]\n",
    "len(left_company_and_had_accident) / num_employees"
   ]
  },
  {
   "cell_type": "markdown",
   "metadata": {},
   "source": [
    "#### Question 2"
   ]
  },
  {
   "cell_type": "code",
   "execution_count": 9,
   "metadata": {},
   "outputs": [
    {
     "name": "stdout",
     "output_type": "stream",
     "text": [
      "Employees that left company\n",
      "25% percentile: 0.13\n",
      "50% percentile: 0.41\n",
      "90% percentile: 0.84\n"
     ]
    }
   ],
   "source": [
    "# Compute 25th, 50th, and 90th percentiles for the satisfaction level score for all employees that left the company.\n",
    "print('Employees that left company')\n",
    "print('25% percentile: {}'.format(np.percentile(left_company.satisfaction_level, 25)))\n",
    "print('50% percentile: {}'.format(np.percentile(left_company.satisfaction_level, 50)))\n",
    "print('90% percentile: {}'.format(np.percentile(left_company.satisfaction_level, 90)))"
   ]
  },
  {
   "cell_type": "code",
   "execution_count": 10,
   "metadata": {},
   "outputs": [
    {
     "name": "stdout",
     "output_type": "stream",
     "text": [
      "Employees that stayed at company\n",
      "25% percentile: 0.54\n",
      "50% percentile: 0.69\n",
      "90% percentile: 0.94\n"
     ]
    }
   ],
   "source": [
    "# Compare these results to the same percentiles for those that did not leave.\n",
    "stayed_at_company = data[data.left == 0]\n",
    "\n",
    "print('Employees that stayed at company')\n",
    "print('25% percentile: {}'.format(np.percentile(stayed_at_company.satisfaction_level, 25)))\n",
    "print('50% percentile: {}'.format(np.percentile(stayed_at_company.satisfaction_level, 50)))\n",
    "print('90% percentile: {}'.format(np.percentile(stayed_at_company.satisfaction_level, 90)))"
   ]
  },
  {
   "cell_type": "markdown",
   "metadata": {},
   "source": [
    "Employees who are overall more satisfied appear more likely to stay at the company."
   ]
  },
  {
   "cell_type": "markdown",
   "metadata": {},
   "source": [
    "#### Question 3"
   ]
  },
  {
   "cell_type": "code",
   "execution_count": 11,
   "metadata": {},
   "outputs": [
    {
     "data": {
      "text/plain": [
       "var    2494.313175\n",
       "std      49.943099\n",
       "Name: average_monthly_hours, dtype: float64"
      ]
     },
     "execution_count": 11,
     "metadata": {},
     "output_type": "execute_result"
    }
   ],
   "source": [
    "# Compute the variance and standard deviation of hours worked.\n",
    "data.average_monthly_hours.agg(['var', 'std'])"
   ]
  },
  {
   "cell_type": "markdown",
   "metadata": {},
   "source": [
    "#### Question 4"
   ]
  },
  {
   "cell_type": "code",
   "execution_count": 12,
   "metadata": {},
   "outputs": [
    {
     "data": {
      "text/plain": [
       "left\n",
       "0    0.047134\n",
       "1    0.069661\n",
       "Name: satisfaction_level, dtype: float64"
      ]
     },
     "execution_count": 12,
     "metadata": {},
     "output_type": "execute_result"
    }
   ],
   "source": [
    "# Compare variance between the satisfaction levels of employees who left versus those who stayed. Which is larger?\n",
    "data.groupby('left').satisfaction_level.var()"
   ]
  },
  {
   "cell_type": "markdown",
   "metadata": {},
   "source": [
    "There is larger variance in satisfaction levels among employees who leave the company, suggesting that employees may leave for a variety of reasons which include but are not limited to low satisfaction levels."
   ]
  },
  {
   "cell_type": "markdown",
   "metadata": {},
   "source": [
    "#### Question 5"
   ]
  },
  {
   "cell_type": "code",
   "execution_count": 13,
   "metadata": {},
   "outputs": [
    {
     "data": {
      "text/plain": [
       "salary\n",
       "high      0.637470\n",
       "low       0.600753\n",
       "medium    0.621817\n",
       "Name: satisfaction_level, dtype: float64"
      ]
     },
     "execution_count": 13,
     "metadata": {},
     "output_type": "execute_result"
    }
   ],
   "source": [
    "# Compute the mean satisfaction level for each salary category.\n",
    "data.groupby('salary').satisfaction_level.mean()"
   ]
  },
  {
   "cell_type": "markdown",
   "metadata": {},
   "source": [
    "Mean satisfaction levels are highest in the 'high' salary group and decrease with each successive salary stepoff. This suggests that employee satisfaction on average correlates with salary category."
   ]
  },
  {
   "cell_type": "markdown",
   "metadata": {},
   "source": [
    "#### Question 6"
   ]
  },
  {
   "cell_type": "markdown",
   "metadata": {},
   "source": [
    "Calculate statistics for comparison"
   ]
  },
  {
   "cell_type": "code",
   "execution_count": 14,
   "metadata": {},
   "outputs": [
    {
     "name": "stdout",
     "output_type": "stream",
     "text": [
      "Average monthly hours: 201.05\n",
      "Standard deviation of monthly hours: 49.94\n"
     ]
    }
   ],
   "source": [
    "# Compute overall avg and sd for average monthly hours worked, avg plus 2 sd\n",
    "avg_hrs, sd_hrs = data.average_monthly_hours.agg(['mean', 'std'])\n",
    "print(\"Average monthly hours: {:.2f}\".format(avg_hrs))\n",
    "print(\"Standard deviation of monthly hours: {:.2f}\".format(sd_hrs))"
   ]
  },
  {
   "cell_type": "code",
   "execution_count": 15,
   "metadata": {},
   "outputs": [
    {
     "name": "stdout",
     "output_type": "stream",
     "text": [
      "Average plus 2 standard deviations: 300.94 hours\n"
     ]
    }
   ],
   "source": [
    "avg_plus_2sd = avg_hrs + (2 * sd_hrs)\n",
    "print(\"Average plus 2 standard deviations: {:.2f} hours\".format(avg_plus_2sd))"
   ]
  },
  {
   "cell_type": "markdown",
   "metadata": {},
   "source": [
    "Calculate individual pieces needed for equation"
   ]
  },
  {
   "cell_type": "code",
   "execution_count": 16,
   "metadata": {},
   "outputs": [
    {
     "data": {
      "text/plain": [
       "0.01060070671378092"
      ]
     },
     "execution_count": 16,
     "metadata": {},
     "output_type": "execute_result"
    }
   ],
   "source": [
    "# Compute probability that employee worked > 2 sds of avg monthly hours\n",
    "p_gt2sd = len(data[data.average_monthly_hours > avg_plus_2sd]) / num_employees\n",
    "p_gt2sd"
   ]
  },
  {
   "cell_type": "code",
   "execution_count": 17,
   "metadata": {},
   "outputs": [
    {
     "data": {
      "text/plain": [
       "low       0.487766\n",
       "medium    0.429762\n",
       "high      0.082472\n",
       "Name: salary, dtype: float64"
      ]
     },
     "execution_count": 17,
     "metadata": {},
     "output_type": "execute_result"
    }
   ],
   "source": [
    "# Compute probability that employee is within a particular salary bracket\n",
    "p_salary = data.salary.value_counts() / num_employees\n",
    "p_salary"
   ]
  },
  {
   "cell_type": "code",
   "execution_count": 18,
   "metadata": {},
   "outputs": [
    {
     "data": {
      "text/plain": [
       "low       0.622642\n",
       "medium    0.364780\n",
       "high      0.012579\n",
       "Name: salary, dtype: float64"
      ]
     },
     "execution_count": 18,
     "metadata": {},
     "output_type": "execute_result"
    }
   ],
   "source": [
    "# Compute probability that the avg monthly hrs for a salary bracket is > 2 sds of overall avg mean\n",
    "num_salary_gt2sd = data[data.average_monthly_hours > avg_plus_2sd].salary.value_counts()\n",
    "num_total_gt2sd = len(data[data.average_monthly_hours > avg_plus_2sd])\n",
    "p_salary_given_gt2sd = num_salary_gt2sd / num_total_gt2sd\n",
    "p_salary_given_gt2sd"
   ]
  },
  {
   "cell_type": "markdown",
   "metadata": {},
   "source": [
    "Calculate equation: $$P(hours > 2\\sigma \\vert salary ) = \\dfrac{P(salary \\vert hours > 2\\sigma) P(hours > 2\\sigma)}{P(salary)}$$"
   ]
  },
  {
   "cell_type": "code",
   "execution_count": 19,
   "metadata": {},
   "outputs": [
    {
     "data": {
      "text/plain": [
       "low       0.013532\n",
       "medium    0.008998\n",
       "high      0.001617\n",
       "Name: salary, dtype: float64"
      ]
     },
     "execution_count": 19,
     "metadata": {},
     "output_type": "execute_result"
    }
   ],
   "source": [
    "# Given employee salary level, compute probability that they worked > 2 sds of avg monthly hrs across all groups\n",
    "p_gt2sd_given_salary = (p_salary_given_gt2sd * p_gt2sd) / p_salary\n",
    "p_gt2sd_given_salary"
   ]
  },
  {
   "cell_type": "markdown",
   "metadata": {},
   "source": [
    "#### Question 7"
   ]
  },
  {
   "cell_type": "markdown",
   "metadata": {
    "collapsed": true
   },
   "source": [
    "What can you say about your results in part 6?\n",
    "* The numbers of employees that fall into each salary category need to be taken into account in the calculation, as a given employee is dramatically less likely to fall in the 'high' salary bracket than in the 'low' or 'medium' salary brackets. When the probability of salary level is accounted for in the equation, it appears that there is a distinct increase in likelihood of working greater than 2 standard deviations of the mean number of working hours with decreasing pay scale."
   ]
  },
  {
   "cell_type": "markdown",
   "metadata": {},
   "source": [
    "#### Question 8"
   ]
  },
  {
   "cell_type": "markdown",
   "metadata": {},
   "source": [
    "Calculate individual pieces needed for equation (recalculating p_left from above)"
   ]
  },
  {
   "cell_type": "code",
   "execution_count": 20,
   "metadata": {},
   "outputs": [
    {
     "data": {
      "text/plain": [
       "0.2380825388359224"
      ]
     },
     "execution_count": 20,
     "metadata": {},
     "output_type": "execute_result"
    }
   ],
   "source": [
    "# Probability that an employee left company\n",
    "p_left = len(data[data.left == 1]) / len(data)\n",
    "p_left"
   ]
  },
  {
   "cell_type": "code",
   "execution_count": 21,
   "metadata": {},
   "outputs": [
    {
     "data": {
      "text/plain": [
       "low       0.608233\n",
       "medium    0.368804\n",
       "high      0.022963\n",
       "Name: salary, dtype: float64"
      ]
     },
     "execution_count": 21,
     "metadata": {},
     "output_type": "execute_result"
    }
   ],
   "source": [
    "# Compute avg probability for each salary bracket leaving company\n",
    "num_salary_left = data[data.left == 1].salary.value_counts()\n",
    "num_total_left = len(data[data.left == 1])\n",
    "p_salary_given_left = num_salary_left / num_total_left\n",
    "p_salary_given_left"
   ]
  },
  {
   "cell_type": "markdown",
   "metadata": {
    "collapsed": true
   },
   "source": [
    "Calculate equation: $$P(left \\vert salary ) = \\dfrac{P(salary \\vert left) P(left)}{P(salary)}$$"
   ]
  },
  {
   "cell_type": "code",
   "execution_count": 22,
   "metadata": {},
   "outputs": [
    {
     "data": {
      "text/plain": [
       "low       0.296884\n",
       "medium    0.204313\n",
       "high      0.066289\n",
       "Name: salary, dtype: float64"
      ]
     },
     "execution_count": 22,
     "metadata": {},
     "output_type": "execute_result"
    }
   ],
   "source": [
    "# Given employee salary level, compute probability that they left the company\n",
    "p_left_given_salary = (p_salary_given_left * p_left) / p_salary\n",
    "p_left_given_salary"
   ]
  },
  {
   "cell_type": "markdown",
   "metadata": {
    "collapsed": true
   },
   "source": [
    "What can you say about your results?\n",
    "* Again, the numbers of employees that fall into each salary category need to be taken into account in the calculation, as a given employee is dramatically less likely to fall in the 'high' salary bracket than in the 'low' or 'medium' salary brackets. When the probability of salary level is accounted for in the equation, it appears that employees in the 'high' salary group are by far less likely to leave the company, where the 'low' and 'medium' groups are much more similar (although higher pay still appears to slightly decrease likelihood of leaving)."
   ]
  },
  {
   "cell_type": "markdown",
   "metadata": {},
   "source": [
    "#### Question 9"
   ]
  },
  {
   "cell_type": "code",
   "execution_count": 23,
   "metadata": {},
   "outputs": [
    {
     "data": {
      "text/plain": [
       "6.788919235271166"
      ]
     },
     "execution_count": 23,
     "metadata": {},
     "output_type": "execute_result"
    }
   ],
   "source": [
    "# Compute proportions of each salary bracket either getting or not getting salary in last 5 years\n",
    "pro_by_salary = data[data.promotion_last_5years == 1].salary.value_counts() / data.salary.value_counts()\n",
    "not_pro_by_salary = data[data.promotion_last_5years == 0].salary.value_counts() / data.salary.value_counts()\n",
    "\n",
    "# Calculate odds ratio of high salary employee getting promotion versus that of low salary employee\n",
    "(pro_by_salary['high'] / not_pro_by_salary['high']) / (pro_by_salary['low'] / not_pro_by_salary['low'])"
   ]
  },
  {
   "cell_type": "markdown",
   "metadata": {},
   "source": [
    "Comment on your results.\n",
    "* Employees in the 'high' salary bracket are over 6.5 times more likely to get a promotion in the next 5 years than those in the 'low' salary bracket. It appears more difficult to start climbing the company ladder than to continue rising once past a particular threshold."
   ]
  },
  {
   "cell_type": "markdown",
   "metadata": {},
   "source": [
    "#### Question 10"
   ]
  },
  {
   "cell_type": "code",
   "execution_count": 24,
   "metadata": {},
   "outputs": [
    {
     "data": {
      "text/plain": [
       "0.6245999999999999"
      ]
     },
     "execution_count": 24,
     "metadata": {},
     "output_type": "execute_result"
    }
   ],
   "source": [
    "# Compute the mean of a random sample of size 50 of employee satisfaction samples\n",
    "data.sample(50).satisfaction_level.mean()"
   ]
  },
  {
   "cell_type": "code",
   "execution_count": 25,
   "metadata": {},
   "outputs": [
    {
     "data": {
      "text/plain": [
       "[0.5592,\n",
       " 0.6128,\n",
       " 0.6334000000000001,\n",
       " 0.6426,\n",
       " 0.5566,\n",
       " 0.5537999999999998,\n",
       " 0.628,\n",
       " 0.6061999999999999,\n",
       " 0.617,\n",
       " 0.5870000000000002]"
      ]
     },
     "execution_count": 25,
     "metadata": {},
     "output_type": "execute_result"
    }
   ],
   "source": [
    "# Compute the means of 10 sets of random samples of size 50 of employee satisfaction levels\n",
    "sample_means = [data.sample(50).satisfaction_level.mean() for i in range(10)]\n",
    "sample_means"
   ]
  },
  {
   "cell_type": "code",
   "execution_count": 26,
   "metadata": {},
   "outputs": [
    {
     "data": {
      "text/plain": [
       "0.59966000000000008"
      ]
     },
     "execution_count": 26,
     "metadata": {},
     "output_type": "execute_result"
    }
   ],
   "source": [
    "# Compute the overall mean of the 10 sample means\n",
    "np.mean(sample_means)"
   ]
  },
  {
   "cell_type": "markdown",
   "metadata": {
    "collapsed": true
   },
   "source": [
    "## Distributions and The Central Limit Theorem\n",
    "### The Bernoulli Distribution\n",
    "Bernoulli distributions are the result of a random variable with a binary outcome, like a coin flip or medical test giving a positive or negative result.  Typically we represent the outcomes of a Bernoulli Random variable $X$ of only taking values of 0 or 1, with probabilities $p$ and $1 - p$ respectively, mean $p$, variance $p(1 - p)$, and PMF given by\n",
    "\n",
    "$$ P(X = x) = p^x (1 - p)^{1 - x} $$\n",
    "\n",
    "Where $x$ is the outcome and $p$ is the probability of the positive outcome (1).\n",
    "\n",
    "Bernoulli random variables crop up very often in statistical analysis &mdash; most often in the form of Binomial trials, or, as a sum of independent Bernoulli variables with PMF given by \n",
    "$$ P(X = x) = {n \\choose x} p^x (1 - p)^{n - x} $$\n",
    "where\n",
    "$$ {n \\choose x} = \\frac{n!}{x!(n - x)!} $$\n",
    "In this exercise you'll take a look at the HR data and apply these concepts to gain some insight."
   ]
  },
  {
   "cell_type": "markdown",
   "metadata": {},
   "source": [
    "Using the HR data, answer the following.\n",
    "1. Which variables in the HR data can be said to be Bernoulli random variables?\n",
    "2. For the variables you identified in part 1, compute the probabilities $p_k$, of each having a positive $(x = 1)$ result, where $k$ is a placeholder for each variable.\n",
    "3. Compute the variance of each of the variables in part 2 using $p_k$ as described above.\n",
    "4. For each of the k variables, compute the probability of randomly selecting 3500 employees with a positive result.  Comment on your answer.\n",
    "5. For each of the k variables, compute the probability of randomly selecting 3500 **or less** with a positive result.  Comment on your answer.\n",
    "6. Now plot both the PMF and CDF as a function of the number of drawn samples for each of the k variables.  Comment on your results."
   ]
  },
  {
   "cell_type": "markdown",
   "metadata": {},
   "source": [
    "#### Question 1"
   ]
  },
  {
   "cell_type": "markdown",
   "metadata": {},
   "source": [
    "Which variables in the HR data can be said to be Bernoulli random variables?\n",
    "- work_accident\n",
    "- left\n",
    "- promotion_last_5years"
   ]
  },
  {
   "cell_type": "markdown",
   "metadata": {},
   "source": [
    "#### Question 2"
   ]
  },
  {
   "cell_type": "code",
   "execution_count": 27,
   "metadata": {},
   "outputs": [
    {
     "data": {
      "text/plain": [
       "work_accident            0.144610\n",
       "left                     0.238083\n",
       "promotion_last_5years    0.021268\n",
       "dtype: float64"
      ]
     },
     "execution_count": 27,
     "metadata": {},
     "output_type": "execute_result"
    }
   ],
   "source": [
    "# Probability p of each variable having a positive result\n",
    "p = data[['work_accident', 'left', 'promotion_last_5years']].mean()\n",
    "p"
   ]
  },
  {
   "cell_type": "markdown",
   "metadata": {},
   "source": [
    "#### Question 3"
   ]
  },
  {
   "cell_type": "code",
   "execution_count": 28,
   "metadata": {},
   "outputs": [
    {
     "data": {
      "text/plain": [
       "work_accident            0.123698\n",
       "left                     0.181399\n",
       "promotion_last_5years    0.020816\n",
       "dtype: float64"
      ]
     },
     "execution_count": 28,
     "metadata": {},
     "output_type": "execute_result"
    }
   ],
   "source": [
    "# Compute the variance of each using Bernoulli equation\n",
    "var = p * (1 - p)\n",
    "var"
   ]
  },
  {
   "cell_type": "markdown",
   "metadata": {},
   "source": [
    "#### Question 4"
   ]
  },
  {
   "cell_type": "code",
   "execution_count": 29,
   "metadata": {},
   "outputs": [
    {
     "data": {
      "text/plain": [
       "{'left': 0.0030366192962612546,\n",
       " 'promotion_last_5years': 0.0,\n",
       " 'work_accident': 3.3494533716445012e-183}"
      ]
     },
     "execution_count": 29,
     "metadata": {},
     "output_type": "execute_result"
    }
   ],
   "source": [
    "# Dictionary to hold probabilies of randomly selecting 3500 positive results for each of k variables\n",
    "b = {}\n",
    "# Iterate through the p values for each variable and add probability to dictionary\n",
    "for x in p.to_dict():\n",
    "    # Instantiate a binomial distribution using our parameters for this variable\n",
    "    myBinom = binom(n = num_employees, p = p[x])\n",
    "    # Calculate probability of selecting 3500 employees\n",
    "    b[x] = myBinom.pmf(3500)\n",
    "b"
   ]
  },
  {
   "cell_type": "markdown",
   "metadata": {},
   "source": [
    "Comment on your results.\n",
    "* It is all but impossible to select exactly 3500 employees with a promotion in the last 5 years or a work accident. While still very unlikely, there is a much higher chance of selecting exactly 3500 employees who have left the company."
   ]
  },
  {
   "cell_type": "markdown",
   "metadata": {},
   "source": [
    "#### Question 5"
   ]
  },
  {
   "cell_type": "code",
   "execution_count": 30,
   "metadata": {},
   "outputs": [
    {
     "data": {
      "text/plain": [
       "{'left': 0.088031181043273107,\n",
       " 'promotion_last_5years': 0.99999999999999989,\n",
       " 'work_accident': 0.99999999999999989}"
      ]
     },
     "execution_count": 30,
     "metadata": {},
     "output_type": "execute_result"
    }
   ],
   "source": [
    "# Dictionary to hold probabilies of randomly selecting 3500 or less positive results for each of k variables\n",
    "b = {}\n",
    "# Iterate through the p values for each variable and add probability to dictionary\n",
    "for x in p.to_dict():\n",
    "    # Instantiate a binomial distribution using our parameters for this variable\n",
    "    myBinom = binom(n = num_employees, p = p[x])\n",
    "    # Calculate probability of selecting 3500 employees\n",
    "    b[x] = myBinom.cdf(3500)\n",
    "b"
   ]
  },
  {
   "cell_type": "markdown",
   "metadata": {},
   "source": [
    "Comment on your results\n",
    "* There is an extremely high chance of drawing up to 3500 employees with a promotion in the last 5 years or a work accident while a much lower chance of drawing up to 3500 employees who have left the company."
   ]
  },
  {
   "cell_type": "markdown",
   "metadata": {},
   "source": [
    "#### Question 6"
   ]
  },
  {
   "cell_type": "code",
   "execution_count": 31,
   "metadata": {
    "collapsed": true
   },
   "outputs": [],
   "source": [
    "# Dictionary to hold PMF probabilies of randomly selecting j positive results for each of k variables\n",
    "b_pmf = {}\n",
    "# Iterate through the p values for each variable and add probability to dictionary\n",
    "for x in p.to_dict():\n",
    "    # Store y-axis variables in list\n",
    "    y = []\n",
    "    # Iterate through range of total number of employees\n",
    "    for j in range(num_employees):\n",
    "        # Create binomial distribution with p = p[variable name]\n",
    "        myBinom = binom(n = num_employees, p = p[x])\n",
    "        # Append the probability of j successes to y-values\n",
    "        y.append(myBinom.pmf(j))\n",
    "    # Add y-values for current variable to dictionary\n",
    "    b_pmf[x] = y"
   ]
  },
  {
   "cell_type": "code",
   "execution_count": 32,
   "metadata": {},
   "outputs": [
    {
     "data": {
      "image/png": "[encoded data removed]",
      "text/plain": [
       "<matplotlib.figure.Figure at 0x113c14940>"
      ]
     },
     "metadata": {},
     "output_type": "display_data"
    }
   ],
   "source": [
    "# Plot figure of PMF values\n",
    "plt.figure(figsize=(8, 4))\n",
    "plt.plot(b_pmf['left'], 'r', label = 'left')\n",
    "plt.plot(b_pmf['promotion_last_5years'], 'b', label = 'promotion_last_5years')\n",
    "plt.plot(b_pmf['work_accident'], 'c', label = 'work_accident')\n",
    "\n",
    "# Plot legend and title, show figure\n",
    "plt.legend()\n",
    "plt.ylabel('Probability')\n",
    "plt.xlabel('Number of employees')\n",
    "plt.title('PMF')\n",
    "plt.show()"
   ]
  },
  {
   "cell_type": "code",
   "execution_count": 33,
   "metadata": {
    "collapsed": true
   },
   "outputs": [],
   "source": [
    "# Dictionary to hold CDF probabilies of randomly selecting j positive results for each of k variables\n",
    "b_cdf = {}\n",
    "# Iterate through the p values for each variable and add probability to dictionary\n",
    "for x in p.to_dict():\n",
    "    # Store y-axis variables in list\n",
    "    y = []\n",
    "    # Iterate through range of total number of employees\n",
    "    for j in range(num_employees):\n",
    "        # Create binomial distribution with p = p[variable name]\n",
    "        myBinom = binom(n = num_employees, p = p[x])\n",
    "        # Append the probability of j successes to y-values\n",
    "        y.append(myBinom.cdf(j))\n",
    "    # Add y-values for current variable to dictionary\n",
    "    b_cdf[x] = y"
   ]
  },
  {
   "cell_type": "code",
   "execution_count": 34,
   "metadata": {},
   "outputs": [
    {
     "data": {
      "image/png": "[encoded data removed]",
      "text/plain": [
       "<matplotlib.figure.Figure at 0x1142adf60>"
      ]
     },
     "metadata": {},
     "output_type": "display_data"
    }
   ],
   "source": [
    "# Plot figure of CDF values\n",
    "plt.figure(figsize=(8, 4))\n",
    "plt.plot(b_cdf['left'], 'r', label = 'left')\n",
    "plt.plot(b_cdf['promotion_last_5years'], 'b', label = 'promotion_last_5years')\n",
    "plt.plot(b_cdf['work_accident'], 'c', label = 'work_accident')\n",
    "\n",
    "# Plot legend and title, show figure\n",
    "plt.legend()\n",
    "plt.ylabel('Probability')\n",
    "plt.xlabel('Number of employees')\n",
    "plt.title('CDF')\n",
    "plt.show()"
   ]
  },
  {
   "cell_type": "code",
   "execution_count": 35,
   "metadata": {},
   "outputs": [
    {
     "data": {
      "text/plain": [
       "work_accident            2169.0\n",
       "left                     3571.0\n",
       "promotion_last_5years     319.0\n",
       "dtype: float64"
      ]
     },
     "execution_count": 35,
     "metadata": {},
     "output_type": "execute_result"
    }
   ],
   "source": [
    "# View expected values\n",
    "p * num_employees"
   ]
  },
  {
   "cell_type": "markdown",
   "metadata": {},
   "source": [
    "Comment on your results.\n",
    "* The PMF and CDF both show the highest spike at the expected mean of the distribution."
   ]
  },
  {
   "cell_type": "markdown",
   "metadata": {},
   "source": [
    "### The Normal Distribution\n",
    "The Normal distribution (or sometimes called the Bell Curve or Gaussian) is by far the most prevalent and useful distribution in any field that utilizes statistical techniques.  In fact, in can be shown that the means of random variables sampled repeatedly from **any** distribution eventually form a normal given a sufficiently large sample size.\n",
    "\n",
    "A normal distribution is characterized by the PDF given by\n",
    "$$p(x|\\mu,\\sigma) = \\frac{1}{\\sqrt{(2\\pi\\sigma^2)}}e^{-\\frac{(x - \\mu)^2}{2\\sigma^2}} $$"
   ]
  },
  {
   "cell_type": "markdown",
   "metadata": {},
   "source": [
    "where $\\mu$ is the mean and $\\sigma^2$ is the variance, thus the distribution is characterized by mean and variance alone.  In this exercise, you'll examine some of the variables in the HR dataset and construct some normal distributions approximating them.\n",
    "\n",
    "Using the HR data, answer the following\n",
    "\n",
    "1. Which variables may be approximately normal?\n",
    "2. For the variables in part 1, plot some histograms.\n",
    "3. Compute the mean and variance for each of the variables used in parts 1 and 2.\n",
    "4. Using the mean and variance in part 3, construct normal distributions for each and overlay them on top of the histograms you made in part one.  Are they well approximated by normals?"
   ]
  },
  {
   "cell_type": "markdown",
   "metadata": {
    "collapsed": true
   },
   "source": [
    "#### Question 1"
   ]
  },
  {
   "cell_type": "markdown",
   "metadata": {
    "collapsed": true
   },
   "source": [
    "Which variables may be approximately normal?\n",
    "* satisfaction_level\n",
    "* last_evaluation\n",
    "* average_monthly_hours"
   ]
  },
  {
   "cell_type": "markdown",
   "metadata": {},
   "source": [
    "#### Question 2"
   ]
  },
  {
   "cell_type": "code",
   "execution_count": 36,
   "metadata": {},
   "outputs": [
    {
     "data": {
      "image/png": "[encoded data removed]",
      "text/plain": [
       "<matplotlib.figure.Figure at 0x11348d860>"
      ]
     },
     "metadata": {},
     "output_type": "display_data"
    }
   ],
   "source": [
    "# Set subplots for histograms of each normal variable\n",
    "f, ax = plt.subplots(3, 1, figsize = (6, 10))\n",
    "\n",
    "# Plot satisfaction level\n",
    "ax[0].hist(data.satisfaction_level, normed = True, bins = 'auto')\n",
    "ax[0].set_xlabel('Satisfaction level')\n",
    "ax[0].set_ylabel('Frequency')\n",
    "\n",
    "# Plot last evaluation\n",
    "ax[1].hist(data.last_evaluation, normed = True, bins = 'auto')\n",
    "ax[1].set_xlabel('Last evaluation')\n",
    "ax[1].set_ylabel('Frequency')\n",
    "\n",
    "# Plot average monthly hours\n",
    "ax[2].hist(data.average_monthly_hours, normed = True, bins = 'auto')\n",
    "ax[2].set_xlabel('Average monthly hours')\n",
    "ax[2].set_ylabel('Frequency')\n",
    "\n",
    "# Show plots\n",
    "plt.show()"
   ]
  },
  {
   "cell_type": "markdown",
   "metadata": {},
   "source": [
    "#### Question 3"
   ]
  },
  {
   "cell_type": "code",
   "execution_count": 37,
   "metadata": {
    "collapsed": true
   },
   "outputs": [],
   "source": [
    "# Select data for each of the variables used in parts 1 and 2\n",
    "norm_data = data[['satisfaction_level', 'last_evaluation', 'average_monthly_hours']]"
   ]
  },
  {
   "cell_type": "code",
   "execution_count": 38,
   "metadata": {},
   "outputs": [
    {
     "data": {
      "text/plain": [
       "satisfaction_level         0.612834\n",
       "last_evaluation            0.716102\n",
       "average_monthly_hours    201.050337\n",
       "dtype: float64"
      ]
     },
     "execution_count": 38,
     "metadata": {},
     "output_type": "execute_result"
    }
   ],
   "source": [
    "# Compute the mean for each of the variables used in parts 1 and 2.\n",
    "norm_means = norm_data.mean()\n",
    "norm_means"
   ]
  },
  {
   "cell_type": "code",
   "execution_count": 39,
   "metadata": {},
   "outputs": [
    {
     "data": {
      "text/plain": [
       "satisfaction_level          0.061817\n",
       "last_evaluation             0.029299\n",
       "average_monthly_hours    2494.313175\n",
       "dtype: float64"
      ]
     },
     "execution_count": 39,
     "metadata": {},
     "output_type": "execute_result"
    }
   ],
   "source": [
    "# Compute the variance for each of the variables used in parts 1 and 2.\n",
    "norm_vars = norm_data.var()\n",
    "norm_vars"
   ]
  },
  {
   "cell_type": "code",
   "execution_count": 40,
   "metadata": {},
   "outputs": [
    {
     "data": {
      "text/plain": [
       "satisfaction_level        0.248631\n",
       "last_evaluation           0.171169\n",
       "average_monthly_hours    49.943099\n",
       "dtype: float64"
      ]
     },
     "execution_count": 40,
     "metadata": {},
     "output_type": "execute_result"
    }
   ],
   "source": [
    "# Compute the standard deviation for each of the variables used in parts 1 and 2.\n",
    "norm_std = norm_data.std()\n",
    "norm_std"
   ]
  },
  {
   "cell_type": "markdown",
   "metadata": {},
   "source": [
    "#### Question 4"
   ]
  },
  {
   "cell_type": "code",
   "execution_count": 41,
   "metadata": {
    "collapsed": true
   },
   "outputs": [],
   "source": [
    "# Create dictionary to hold normal distributions for each variable\n",
    "norms = {}\n",
    "# Create dictionary to hold sequence of evenly spaced x-values for each variable\n",
    "x = {}\n",
    "# Iterate over the variables\n",
    "for col in norm_data:\n",
    "    # Create normal distribution for current variable\n",
    "    norms[col] = norm(loc = norm_means[col], scale = norm_std[col])\n",
    "    # Add sequence for current variable to x-values\n",
    "    x[col] = np.linspace(norms[col].ppf(0.01), norms[col].ppf(0.99), 100)"
   ]
  },
  {
   "cell_type": "code",
   "execution_count": 42,
   "metadata": {},
   "outputs": [
    {
     "data": {
      "image/png": "[encoded data removed]",
      "text/plain": [
       "<matplotlib.figure.Figure at 0x113bf3f98>"
      ]
     },
     "metadata": {},
     "output_type": "display_data"
    }
   ],
   "source": [
    "# Set subplots for histograms and associated normal distributions of each normal variable\n",
    "f, ax = plt.subplots(3, 1, figsize = (6, 10))\n",
    "\n",
    "# Plot satisfaction level and associated normal distribution\n",
    "ax[0].hist(data.satisfaction_level, normed = True, bins = 'auto')\n",
    "ax[0].plot(x['satisfaction_level'], norms['satisfaction_level'].pdf(x['satisfaction_level']))\n",
    "ax[0].set_xlabel('Satisfaction level')\n",
    "ax[0].set_ylabel('Frequency')\n",
    "\n",
    "# Plot last evaluation and associated normal distribution\n",
    "ax[1].hist(data.last_evaluation, normed = True, bins = 'auto')\n",
    "ax[1].plot(x['last_evaluation'], norms['last_evaluation'].pdf(x['last_evaluation']))\n",
    "ax[1].set_xlabel('Last evaluation')\n",
    "ax[1].set_ylabel('Frequency')\n",
    "\n",
    "# Plot average monthly hours and associated normal distribution\n",
    "ax[2].hist(data.average_monthly_hours, normed = True, bins = 'auto')\n",
    "ax[2].plot(x['average_monthly_hours'], norms['average_monthly_hours'].pdf(x['average_monthly_hours']))\n",
    "ax[2].set_xlabel('Average monthly hours')\n",
    "ax[2].set_ylabel('Frequency')\n",
    "\n",
    "# Show plots\n",
    "plt.show()"
   ]
  },
  {
   "cell_type": "markdown",
   "metadata": {},
   "source": [
    "Are the variables well approximated by normals?\n",
    "* Satisfaction level is well approximated by a normal, albeit with an overall skew toward higher scores and a spike at extreme lows.\n",
    "* Last evaluation appears to be primarily bimodal, with one peak around 0.5 and another near the top scores.\n",
    "* Although there is a clear bimodal distribution in average monthly hours, the overall trend follows the normal trends of symmetry at the tails most closely to all of the variables."
   ]
  },
  {
   "cell_type": "markdown",
   "metadata": {},
   "source": [
    "### The Poisson Distribution\n",
    "The Poisson distribution is very versatile but is typically used to model counts per unit time or space, such as the number of ad clicks or arriving flights, each per unit time. It has a PDF given by\n",
    "$$ P(X = x, \\lambda) = \\frac{\\lambda^x e^{-\\lambda}}{x!} $$\n",
    "where the mean and variance are both equal to $\\lambda$\n",
    "\n",
    "Using the HR data, answer the following.\n",
    "\n",
    "1. What variables would be good candidates for modeling with a Poisson distribution?\n",
    "2. For each variable in part 1, divide each by salary and fit a Poisson distribution to each.\n",
    "3. For each salary level, compute the probability of obtaining at least the mean of each variable &mdash; regardless of salary level &mdash; by using the Poisson distributions you constructed in part 2.  Comment on your results."
   ]
  },
  {
   "cell_type": "markdown",
   "metadata": {
    "collapsed": true
   },
   "source": [
    "#### Question 1"
   ]
  },
  {
   "cell_type": "markdown",
   "metadata": {
    "collapsed": true
   },
   "source": [
    "What variables would be good candidates for modeling with a Poisson distribution?\n",
    "* number_project\n",
    "* time_spend_company"
   ]
  },
  {
   "cell_type": "markdown",
   "metadata": {},
   "source": [
    "#### Question 2"
   ]
  },
  {
   "cell_type": "code",
   "execution_count": 43,
   "metadata": {},
   "outputs": [
    {
     "name": "stdout",
     "output_type": "stream",
     "text": [
      "number_project low 3.799890650628759\n",
      "number_project medium 3.8135277691591685\n",
      "number_project high 3.767178658043654\n",
      "time_spend_company low 3.4382176052487696\n",
      "time_spend_company medium 3.52901023890785\n",
      "time_spend_company high 3.692805173807599\n"
     ]
    }
   ],
   "source": [
    "# For each variable in part 1, divide each by salary and fit a Poisson distribution to each.\n",
    "poisson_vars = ['number_project', 'time_spend_company']\n",
    "poisson_data = data[['number_project', 'time_spend_company', 'salary']]\n",
    "\n",
    "# Create dictionary to store distributions for each Poisson variable\n",
    "poisson_dists = {}\n",
    "for poisson_var in poisson_vars:\n",
    "    # Dictionary to hold distribution for each salary level for current variable\n",
    "    salary_dists = {}\n",
    "    # Iterate over each salary category\n",
    "    for salary_level in data.salary.unique():\n",
    "        # Mean for current salary level of current Poisson variable\n",
    "        mu = poisson_data[poisson_var][poisson_data.salary == salary_level].mean()\n",
    "        # Add Poisson distribution for mu\n",
    "        salary_dists[salary_level] = poisson(mu = mu)\n",
    "        # Print current variable, category, mean\n",
    "        print(poisson_var, salary_level, mu)\n",
    "    # Add distributions for current Poisson variable\n",
    "    poisson_dists[poisson_var] = salary_dists"
   ]
  },
  {
   "cell_type": "markdown",
   "metadata": {},
   "source": [
    "#### Question 3"
   ]
  },
  {
   "cell_type": "code",
   "execution_count": 44,
   "metadata": {},
   "outputs": [
    {
     "data": {
      "text/plain": [
       "{'number_project': {'high': 0.5197772989110967,\n",
       "  'low': 0.52649278489553697,\n",
       "  'medium': 0.52927882346076038},\n",
       " 'time_spend_company': {'high': 0.50434403111681059,\n",
       "  'low': 0.44997869146511071,\n",
       "  'medium': 0.4696141528359114}}"
      ]
     },
     "execution_count": 44,
     "metadata": {},
     "output_type": "execute_result"
    }
   ],
   "source": [
    "# Create dictionary to hold probabilities of obtaining at least mean of each variable by salary level\n",
    "poisson_probs = {}\n",
    "# Iterate over Poisson variables\n",
    "for poisson_var in poisson_vars:\n",
    "    # Get current mean\n",
    "    variable_mean = poisson_data[poisson_var].mean()\n",
    "    # Dict to hold probabilities for each salary category for current variable\n",
    "    probs_cat = {}\n",
    "    # Iterate over categories\n",
    "    for salary_level in data.salary.unique():\n",
    "        # Compute probability using survival function\n",
    "        probs_cat[salary_level] = poisson_dists[poisson_var][salary_level].sf(variable_mean)\n",
    "    # Add dict of probs for current variable\n",
    "    poisson_probs[poisson_var] = probs_cat\n",
    "poisson_probs"
   ]
  },
  {
   "cell_type": "markdown",
   "metadata": {},
   "source": [
    "Comment on your results.\n",
    "* number_project: Employees in the 'high' salary group are the least likely to have more than average numbers of projects. 'Medium' salary employees have the highest probability, although that robability is very similar to the 'low' salary employee group.\n",
    "* time_spend_company: It appears that the longer an employee has spent at the company, the more likely they are to be in a higher-paid salary category."
   ]
  },
  {
   "cell_type": "markdown",
   "metadata": {},
   "source": [
    "### The Central Limit Theorem\n",
    "The Central Limit Theorem is perhaps one of the most remarkable results in statistics and mathematics in general.  In short, it says that the distribution of means of independent random variables, sampled from **any** distribution, tends to approach a normal distribution as the sample size increases.\n",
    "\n",
    "An example of this would be taking a pair of dice, rolling them, and recording the mean of each result.  The Central Limit Theorem states, that after enough rolls, the distribution of the means will be approximately normal.  Stated formally, the result is\n",
    "    $$ \\bar{X_n} \\sim N(\\mu, \\sigma^2/n) = \\frac{\\sqrt{n}}{\\sigma \\sqrt{2\\pi}}e^{-n(\\bar{X_n} - \\mu)^2/\\sigma^2}$$\n",
    "In this exercise, you'll conduct some simulation experiments to explore this idea.\n",
    "\n",
    "Using the HR data, answer the following.\n",
    "1. Choose two variables which may be good candidates to test this theorem.\n",
    "2. Using the variables chosen in part 1, randomly select a set of `n = 10` samples and take the mean.  Repeat this 1000 times for each variable.\n",
    "3. Plot a histogram for each variable used in part 2.  Comment on your results.\n",
    "4. Repeat parts 2-3 for `n = 100`, `n = 500`, and `n = 1000`.  Comment on your results.\n",
    "5. Overlay an normal curve on your `n = 1000` plots, using the mean and variance computed from the data.  Comment on your results."
   ]
  },
  {
   "cell_type": "markdown",
   "metadata": {
    "collapsed": true
   },
   "source": [
    "#### Question 1"
   ]
  },
  {
   "cell_type": "markdown",
   "metadata": {
    "collapsed": true
   },
   "source": [
    "Choose two variables which may be good candidates to test this theorem.\n",
    "* average_monthly_hours (continuous)\n",
    "* number_project (discrete)"
   ]
  },
  {
   "cell_type": "markdown",
   "metadata": {},
   "source": [
    "#### Question 2"
   ]
  },
  {
   "cell_type": "code",
   "execution_count": 45,
   "metadata": {
    "collapsed": true
   },
   "outputs": [],
   "source": [
    "# Select data frame with data to be used in CLT questions\n",
    "clt_data = data[['average_monthly_hours', 'number_project']]"
   ]
  },
  {
   "cell_type": "code",
   "execution_count": 46,
   "metadata": {
    "collapsed": true
   },
   "outputs": [],
   "source": [
    "# Using the variables chosen in part 1, randomly select a set of `n = 10` samples and take the mean 1000 times each.\n",
    "clt_means = {}\n",
    "for clt_var in clt_data:\n",
    "    # Ssmple size 10; take mean 1000 times\n",
    "    clt_means[clt_var] = [clt_data[clt_var].sample(10).mean() for i in range(1000)]"
   ]
  },
  {
   "cell_type": "markdown",
   "metadata": {},
   "source": [
    "#### Question 3"
   ]
  },
  {
   "cell_type": "code",
   "execution_count": 47,
   "metadata": {},
   "outputs": [
    {
     "data": {
      "image/png": "[encoded data removed]",
      "text/plain": [
       "<matplotlib.figure.Figure at 0x113bf31d0>"
      ]
     },
     "metadata": {},
     "output_type": "display_data"
    }
   ],
   "source": [
    "# Plot a histogram for each variable used in part 2.\n",
    "f, ax = plt.subplots(2, 1, figsize = (6, 6))\n",
    "\n",
    "# Plot average monthly hours\n",
    "ax[0].hist(clt_means['average_monthly_hours'], normed = True, bins = 'auto')\n",
    "ax[0].set_xlabel('Average monthly hours')\n",
    "ax[0].set_ylabel('Frequency')\n",
    "\n",
    "# Plot number of projects\n",
    "ax[1].hist(clt_means['number_project'], normed = True, bins = 'auto')\n",
    "ax[1].set_xlabel('Number of projects')\n",
    "ax[1].set_ylabel('Frequency')\n",
    "\n",
    "# Show plot\n",
    "plt.show()"
   ]
  },
  {
   "cell_type": "markdown",
   "metadata": {},
   "source": [
    "Comment on your results.\n",
    "* The data appear much more normally distributed through this method than in the original, as expected by the central limit theorem."
   ]
  },
  {
   "cell_type": "markdown",
   "metadata": {},
   "source": [
    "#### Question 4"
   ]
  },
  {
   "cell_type": "code",
   "execution_count": 48,
   "metadata": {},
   "outputs": [
    {
     "data": {
      "image/png": "[encoded data removed]",
      "text/plain": [
       "<matplotlib.figure.Figure at 0x114569438>"
      ]
     },
     "metadata": {},
     "output_type": "display_data"
    }
   ],
   "source": [
    "# Repeat parts 2-3 for `n = 100`.\n",
    "clt_means_100 = {}\n",
    "for clt_var in clt_data:\n",
    "    # Ssmple size 100; take mean 1000 times\n",
    "    clt_means_100[clt_var] = [clt_data[clt_var].sample(10).mean() for i in range(1000)]\n",
    "    \n",
    "\n",
    "# Plot a histogram for each variable.\n",
    "f, ax = plt.subplots(2, 1, figsize = (6, 6))\n",
    "\n",
    "# Plot average monthly hours\n",
    "ax[0].hist(clt_means_100['average_monthly_hours'], normed = True, bins = 'auto')\n",
    "ax[0].set_xlabel('Average monthly hours')\n",
    "ax[0].set_ylabel('Frequency')\n",
    "\n",
    "# Plot number of projects\n",
    "ax[1].hist(clt_means_100['number_project'], normed = True, bins = 'auto')\n",
    "ax[1].set_xlabel('Number of projects')\n",
    "ax[1].set_ylabel('Frequency')\n",
    "\n",
    "# Show plot\n",
    "plt.show()"
   ]
  },
  {
   "cell_type": "code",
   "execution_count": 49,
   "metadata": {},
   "outputs": [
    {
     "data": {
      "image/png": "[encoded data removed]",
      "text/plain": [
       "<matplotlib.figure.Figure at 0x113ab3898>"
      ]
     },
     "metadata": {},
     "output_type": "display_data"
    }
   ],
   "source": [
    "# Repeat parts 2-3 for `n = 500`.\n",
    "clt_means_500 = {}\n",
    "for clt_var in clt_data:\n",
    "    # Ssmple size 500; take mean 1000 times\n",
    "    clt_means_500[clt_var] = [clt_data[clt_var].sample(500).mean() for i in range(1000)]\n",
    "    \n",
    "    \n",
    "# Plot a histogram for each variable.\n",
    "f, ax = plt.subplots(2, 1, figsize = (6, 6))\n",
    "\n",
    "# Plot average monthly hours\n",
    "ax[0].hist(clt_means_500['average_monthly_hours'], normed = True, bins = 'auto')\n",
    "ax[0].set_xlabel('Average monthly hours')\n",
    "ax[0].set_ylabel('Frequency')\n",
    "\n",
    "# Plot number of projects\n",
    "ax[1].hist(clt_means_500['number_project'], normed = True, bins = 'auto')\n",
    "ax[1].set_xlabel('Number of projects')\n",
    "ax[1].set_ylabel('Frequency')\n",
    "\n",
    "# Show plot\n",
    "plt.show()"
   ]
  },
  {
   "cell_type": "code",
   "execution_count": 50,
   "metadata": {},
   "outputs": [
    {
     "data": {
      "image/png": "[encoded data removed]",
      "text/plain": [
       "<matplotlib.figure.Figure at 0x11483ed68>"
      ]
     },
     "metadata": {},
     "output_type": "display_data"
    }
   ],
   "source": [
    "# Repeat parts 2-3 for `n = 1000`.\n",
    "clt_means_1000 = {}\n",
    "for clt_var in clt_data:\n",
    "    # Ssmple size 1000; take mean 1000 times\n",
    "    clt_means_1000[clt_var] = [clt_data[clt_var].sample(1000).mean() for i in range(1000)]\n",
    "    \n",
    "\n",
    "# Plot a histogram for each variable.\n",
    "f, ax = plt.subplots(2, 1, figsize = (6, 6))\n",
    "\n",
    "# Plot average monthly hours\n",
    "ax[0].hist(clt_means_1000['average_monthly_hours'], normed = True, bins = 'auto')\n",
    "ax[0].set_xlabel('Average monthly hours')\n",
    "ax[0].set_ylabel('Frequency')\n",
    "\n",
    "# Plot number of projects\n",
    "ax[1].hist(clt_means_1000['number_project'], normed = True, bins = 'auto')\n",
    "ax[1].set_xlabel('Number of projects')\n",
    "ax[1].set_ylabel('Frequency')\n",
    "\n",
    "# Show plot\n",
    "plt.show()"
   ]
  },
  {
   "cell_type": "markdown",
   "metadata": {},
   "source": [
    "Comment on your results.\n",
    "* As expected, the distributions become more and more normally distributed as larger sample sizes are drawn from the population."
   ]
  },
  {
   "cell_type": "markdown",
   "metadata": {},
   "source": [
    "#### Question 5"
   ]
  },
  {
   "cell_type": "code",
   "execution_count": 51,
   "metadata": {
    "collapsed": true
   },
   "outputs": [],
   "source": [
    "# Compute the mean and variance (standard deviation) from the data for creating normal curves\n",
    "clt_data_mean = clt_data.mean()\n",
    "clt_data_stds = clt_data.std()\n",
    "\n",
    "# Create dictionary to hold normal distributions\n",
    "clt_normals = {}\n",
    "# Create dictionary to hold sequence of evenly spaced x-values for each variable\n",
    "x = {}\n",
    "# Iterate over the variables\n",
    "for col in clt_data:\n",
    "    # Create normal distribution for current variable\n",
    "    clt_normals[col] = norm(loc = clt_data_mean[col], scale = clt_data_stds[col]/np.sqrt(1000))\n",
    "    # Add sequence for current variable to x-values\n",
    "    x[col] = np.linspace(clt_normals[col].ppf(0.01), clt_normals[col].ppf(0.99), 100)"
   ]
  },
  {
   "cell_type": "code",
   "execution_count": 52,
   "metadata": {},
   "outputs": [
    {
     "data": {
      "image/png": "[encoded data removed]",
      "text/plain": [
       "<matplotlib.figure.Figure at 0x114887550>"
      ]
     },
     "metadata": {},
     "output_type": "display_data"
    }
   ],
   "source": [
    "# Overlay an normal curve on your `n = 1000` plots\n",
    "f, ax = plt.subplots(2, 1, figsize = (6, 6))\n",
    "\n",
    "# Plot average monthly hours\n",
    "ax[0].hist(clt_means_1000['average_monthly_hours'], normed = True, bins = 'auto')\n",
    "ax[0].plot(x['average_monthly_hours'], clt_normals['average_monthly_hours'].pdf(x['average_monthly_hours']))\n",
    "ax[0].set_xlabel('Average monthly hours')\n",
    "ax[0].set_ylabel('Frequency')\n",
    "\n",
    "# Plot number of projects\n",
    "ax[1].hist(clt_means_1000['number_project'], normed = True, bins = 'auto')\n",
    "ax[1].plot(x['number_project'], clt_normals['number_project'].pdf(x['number_project']))\n",
    "ax[1].set_xlabel('Number of projects')\n",
    "ax[1].set_ylabel('Frequency')\n",
    "\n",
    "# Show plot\n",
    "plt.show()"
   ]
  },
  {
   "cell_type": "markdown",
   "metadata": {},
   "source": [
    "Comment on your results.\n",
    "* The distribution of 1000 samples is well-approximated by a normal distribution."
   ]
  },
  {
   "cell_type": "markdown",
   "metadata": {},
   "source": [
    "## Hypothesis Testing\n",
    "Hypothesis testing is essentially using the data to answer questions of interest.  For example, does a new medication provide any benefit over placebo?  Or is a subset of the population disproportionately more susceptible to a particular disease?  Or is the difference between two companies profits' significant or due to chance alone?\n",
    "\n",
    "Before doing some hypothesis testing on the HR data, recall that hypothesis typically come in pairs of the form $H_0$, called the null hypothesis, versus $H_a$, called the alternative hypothesis.  The null hypothesis represents the \"default\" assumption -- that a medication has no effect for example, while the alternative hypothesis represents what exactly we are looking to discover, in the medication case, whether it provides a significant benefit.  Another common case is testing the difference between two means.  Here, the null hypothesis is that there is no difference between two population means, whereas the alternative hypothesis is that there is a difference.  Stated more precisely\n",
    "$$H_0: \\mu_1 - \\mu_2 = 0$$\n",
    "$$H_a: \\mu_1 - \\mu_2 \\ne 0$$\n",
    "\n",
    "Hypotheses are usually tested by constructing a confidence interval around the test statistic and selecting a \"cut-off\" significance level denoted $\\alpha$.  A typical $\\alpha$ significance is 0.05 and is often called a \"p-value\".  If a test produces a p-value of $\\alpha$ or below, then the null hypothesis can be rejected, strengthening the case of the alternative hypothesis.  It is very important to remember that hypothesis testing can only tell you if your hypothesis is statistically significant -- this does **not** mean that your result may be scientifically significant which requires much more evidence.\n",
    "\n",
    "In this exercise you'll explore the HR data more and test some hypothesis.\n",
    "\n",
    "Using the HR data, answer the following.\n",
    "\n",
    "1. Compute a confidence interval for satisfaction levels, at the 95% confidence level, of employees who left the company and those who didn't.  Do this using both a t distribution and a normal.  Comment on your results.\n",
    "2. Use a t-test to test the hypothesis that employees who left the company, had lower satisfaction levels than those who did not.  If significant, is the mean difference?  Comment on your results.  (Hint: Do the two populations have equal variance?)\n",
    "3. Fit a normal curve to each group in part 2 and put them on the same plot next to each other.  Comment on your results.\n",
    "4. Test the hypothesis that the satisfaction level between each salary group, denoted k, differs signicantly from the mean.  Namely\n",
    "    - $H_0: \\mu - \\mu_k = 0$\n",
    "    - $H_a: \\mu - \\mu_k \\ne 0$\n",
    "5. How would you interpret your results in part 5?\n",
    "6. Generate plots for part 5 as you did in part 3.  What conclusions can you draw from the plot?\n",
    "7. Repeat parts 4-6 on a hypothesis of your choosing.\n",
    "8. Recall that Power is the probability of failing to reject the null hypothesis when it is false (thus more power is good).  Compute the power for the hypothesis that the satisfaction level of high paid employees is different than that of medium paid employees using a t distribution."
   ]
  },
  {
   "cell_type": "markdown",
   "metadata": {
    "collapsed": true
   },
   "source": [
    "#### Question 1"
   ]
  },
  {
   "cell_type": "code",
   "execution_count": 53,
   "metadata": {},
   "outputs": [
    {
     "data": {
      "text/plain": [
       "{'left': (0.43143847133170987, 0.44875755219111291),\n",
       " 'stayed': (0.66282873590383395, 0.6707904450552139)}"
      ]
     },
     "execution_count": 53,
     "metadata": {},
     "output_type": "execute_result"
    }
   ],
   "source": [
    "# Compute 95% CI for satisfaction levels of employees who did and didn't leave company using t-distribution.\n",
    "{'stayed': sm.DescrStatsW(data[data.left == 0].satisfaction_level).tconfint_mean(alpha = 0.05),\n",
    " 'left': sm.DescrStatsW(data[data.left == 1].satisfaction_level).tconfint_mean(alpha = 0.05)}"
   ]
  },
  {
   "cell_type": "code",
   "execution_count": 54,
   "metadata": {},
   "outputs": [
    {
     "data": {
      "text/plain": [
       "{'left': (0.43144140722566182, 0.44875461629716096),\n",
       " 'stayed': (0.66282915756106564, 0.67079002339798222)}"
      ]
     },
     "execution_count": 54,
     "metadata": {},
     "output_type": "execute_result"
    }
   ],
   "source": [
    "# Compute 95% CI for satisfaction levels of employees who did and didn't leave company using normal distribution.\n",
    "{'stayed': sm.DescrStatsW(data[data.left == 0].satisfaction_level).zconfint_mean(alpha = 0.05),\n",
    " 'left': sm.DescrStatsW(data[data.left == 1].satisfaction_level).zconfint_mean(alpha = 0.05)}"
   ]
  },
  {
   "cell_type": "markdown",
   "metadata": {},
   "source": [
    "Comment on your results.\n",
    "* The results from the t-distribution and normal distribution are not noticably different in this case.\n",
    "* Employees who left the company had lower satisfaction levels (with non-overlapping confidence intervals) than the employees who stayed."
   ]
  },
  {
   "cell_type": "markdown",
   "metadata": {},
   "source": [
    "#### Question 2"
   ]
  },
  {
   "cell_type": "code",
   "execution_count": 55,
   "metadata": {},
   "outputs": [
    {
     "data": {
      "text/plain": [
       "Ttest_indResult(statistic=46.636414352775716, pvalue=0.0)"
      ]
     },
     "execution_count": 55,
     "metadata": {},
     "output_type": "execute_result"
    }
   ],
   "source": [
    "# Use t-test to test hypothesis that employees who left company had lower satisfaction levels than those who did not.\n",
    "ttest_ind(data[data.left == 0].satisfaction_level, data[data.left == 1].satisfaction_level, equal_var = False)"
   ]
  },
  {
   "cell_type": "code",
   "execution_count": 56,
   "metadata": {},
   "outputs": [
    {
     "data": {
      "text/plain": [
       "0.22671157871810688"
      ]
     },
     "execution_count": 56,
     "metadata": {},
     "output_type": "execute_result"
    }
   ],
   "source": [
    "# Since the result is significant, are the means different? \n",
    "data[data.left == 0].satisfaction_level.mean() - data[data.left == 1].satisfaction_level.mean()"
   ]
  },
  {
   "cell_type": "markdown",
   "metadata": {},
   "source": [
    "Comment on your results.\n",
    "* There is a highly significant difference in the satisfaction levels of employees who left the company versus those who stayed (p-value near zero). This is a one-sided test, which is defined as the returned t-test divided by 2. However, $\\frac0 2$ is still equal to $0$.\n",
    "* Employees who stayed at the company had a satisfaction level of approximately 0.23 greater than those employees who left."
   ]
  },
  {
   "cell_type": "markdown",
   "metadata": {},
   "source": [
    "#### Question 3"
   ]
  },
  {
   "cell_type": "code",
   "execution_count": 57,
   "metadata": {
    "collapsed": true
   },
   "outputs": [],
   "source": [
    "# Fit a normal curve to each group in part 2 and put them on the same plot next to each other.\n",
    "satisfaction_means = {'stayed': data[data.left == 0].satisfaction_level.mean(),\n",
    "                      'left': data[data.left == 1].satisfaction_level.mean()}\n",
    "satisfaction_stds = {'stayed': data[data.left == 0].satisfaction_level.std() / np.sqrt(len(data[data.left == 0])),\n",
    "                     'left': data[data.left == 1].satisfaction_level.std() / np.sqrt(len(data[data.left == 1]))}\n",
    "\n",
    "normals = {}\n",
    "x = {}\n",
    "for key in satisfaction_means.keys():\n",
    "    # Create and store normal distribution based on current mean and std\n",
    "    normals[key] = norm(loc = satisfaction_means[key], scale = satisfaction_stds[key])\n",
    "    # Create and store uniformly-spaced x-values\n",
    "    x[key] = np.linspace(normals[key].ppf(0.01), normals[key].ppf(0.99), 100)"
   ]
  },
  {
   "cell_type": "code",
   "execution_count": 58,
   "metadata": {},
   "outputs": [
    {
     "data": {
      "image/png": "[encoded data removed]",
      "text/plain": [
       "<matplotlib.figure.Figure at 0x114244d30>"
      ]
     },
     "metadata": {},
     "output_type": "display_data"
    }
   ],
   "source": [
    "# Plot results\n",
    "plt.figure(figsize=(8, 4))\n",
    "plt.plot(x['stayed'], normals['stayed'].pdf(x['stayed']), label = 'stayed')\n",
    "plt.plot(x['left'], normals['left'].pdf(x['left']), label = 'left')\n",
    "\n",
    "# Add annotation\n",
    "plt.title('Satisfaction Level by Retention')\n",
    "plt.xlabel('Mean satisfaction level')\n",
    "plt.ylabel('Number of employees')\n",
    "plt.legend()\n",
    "\n",
    "# Show plot\n",
    "plt.show()"
   ]
  },
  {
   "cell_type": "markdown",
   "metadata": {},
   "source": [
    "Comment on your results.\n",
    "* The two distributions are far from each other and completely nonoverlapping, which is consistent with the results of the t-tests."
   ]
  },
  {
   "cell_type": "markdown",
   "metadata": {},
   "source": [
    "#### Question 4"
   ]
  },
  {
   "cell_type": "code",
   "execution_count": 84,
   "metadata": {},
   "outputs": [
    {
     "name": "stdout",
     "output_type": "stream",
     "text": [
      "overall mean: 0.6128335222348166\n"
     ]
    },
    {
     "data": {
      "text/plain": [
       "{'high': Ttest_1sampResult(statistic=3.8205997501861702, pvalue=0.00013974368695866474),\n",
       " 'low': Ttest_1sampResult(statistic=-4.0585381216022212, pvalue=4.9895149767038095e-05),\n",
       " 'medium': Ttest_1sampResult(statistic=2.9429521364929117, pvalue=0.0032625787024487714)}"
      ]
     },
     "execution_count": 84,
     "metadata": {},
     "output_type": "execute_result"
    }
   ],
   "source": [
    "# Create dictionary to hold t-tests of whether satisfaction level of each salary level varies from overall mean. \n",
    "t_tests = {}\n",
    "\n",
    "# Calculate overall mean\n",
    "overall_mean = data.satisfaction_level.mean()\n",
    "print('overall mean: {}'.format(overall_mean))\n",
    "\n",
    "# Iterate over salary levels\n",
    "for salary_level in data.salary.unique():\n",
    "    # Perform t-test for each salary level and add to dictionary\n",
    "    t_tests[salary_level] = ttest_1samp(data[data.salary == salary_level].satisfaction_level, overall_mean)\n",
    "t_tests"
   ]
  },
  {
   "cell_type": "markdown",
   "metadata": {},
   "source": [
    "#### Question 5"
   ]
  },
  {
   "cell_type": "markdown",
   "metadata": {
    "collapsed": true
   },
   "source": [
    "How would you interpret your results in part 5?\n",
    "* Each salary level has a satisfaction level significantly (p < 0.05) different from the overall mean satisfaction level. This implies that satisfaction level and salary level are correlated.\n",
    "* The null hypothesis is rejected at a p-value of 0.05."
   ]
  },
  {
   "cell_type": "markdown",
   "metadata": {},
   "source": [
    "#### Question 6"
   ]
  },
  {
   "cell_type": "code",
   "execution_count": 68,
   "metadata": {},
   "outputs": [],
   "source": [
    "# Generate plots for part 5 as you did in part 3.\n",
    "satisfaction_means = {'low': data[data.salary == 'low'].satisfaction_level.mean(),\n",
    "                      'medium': data[data.salary == 'medium'].satisfaction_level.mean(),\n",
    "                      'high': data[data.salary == 'high'].satisfaction_level.mean()}\n",
    "satisfaction_stds = {'low': data[data.salary == 'low'].satisfaction_level.std() /\n",
    "                             np.sqrt(len(data[data.salary == 'low'])),\n",
    "                     'medium': data[data.salary == 'low'].satisfaction_level.std() /\n",
    "                                 np.sqrt(len(data[data.salary == 'medium'])),\n",
    "                     'high': data[data.salary == 'low'].satisfaction_level.std() /\n",
    "                             np.sqrt(len(data[data.salary == 'high']))}\n",
    "\n",
    "normals = {}\n",
    "x = {}\n",
    "for key in satisfaction_means.keys():\n",
    "    # Create and store normal distribution based on current mean and std\n",
    "    normals[key] = norm(loc = satisfaction_means[key], scale = satisfaction_stds[key])\n",
    "    # Create and store uniformly-spaced x-values\n",
    "    x[key] = np.linspace(normals[key].ppf(0.01), normals[key].ppf(0.99), 100)"
   ]
  },
  {
   "cell_type": "code",
   "execution_count": 69,
   "metadata": {},
   "outputs": [
    {
     "data": {
      "image/png": "[encoded data removed]",
      "text/plain": [
       "<matplotlib.figure.Figure at 0x1148451d0>"
      ]
     },
     "metadata": {},
     "output_type": "display_data"
    }
   ],
   "source": [
    "# Plot results\n",
    "plt.figure(figsize=(8, 4))\n",
    "plt.plot(x['low'], normals['low'].pdf(x['low']), label = 'low')\n",
    "plt.plot(x['medium'], normals['medium'].pdf(x['medium']), label = 'medium')\n",
    "plt.plot(x['high'], normals['high'].pdf(x['high']), label = 'high')\n",
    "\n",
    "# Add annotation\n",
    "plt.title('Satisfaction Level by Salary Level')\n",
    "plt.xlabel('Mean satisfaction level')\n",
    "plt.ylabel('Number of employees')\n",
    "plt.legend()\n",
    "\n",
    "# Show plot\n",
    "plt.show()"
   ]
  },
  {
   "cell_type": "markdown",
   "metadata": {},
   "source": [
    "What conclusions can you draw from the plot?\n",
    "* Data means: Increasing salary level corresponds with increasing satisfaction level.\n",
    "* Data distribution: Low and medium salary levels have similar distribution shapes. However, the satisfaction level of high-salaried employees has a much higher spread, and the lower tail crosses into the distribution of the medium-salaried employees."
   ]
  },
  {
   "cell_type": "markdown",
   "metadata": {},
   "source": [
    "#### Question 7"
   ]
  },
  {
   "cell_type": "code",
   "execution_count": 85,
   "metadata": {},
   "outputs": [
    {
     "name": "stdout",
     "output_type": "stream",
     "text": [
      "overall mean: 0.6128335222348166\n"
     ]
    },
    {
     "data": {
      "text/plain": [
       "{0: Ttest_1sampResult(statistic=-0.45611485152391584, pvalue=0.64831413877772004),\n",
       " 1: Ttest_1sampResult(statistic=3.62989484546297, pvalue=0.00033029607681138619)}"
      ]
     },
     "execution_count": 85,
     "metadata": {},
     "output_type": "execute_result"
    }
   ],
   "source": [
    "# Repeat parts 4-6 on a hypothesis of your choosing.\n",
    "# Null hypothesis: getting a promotion in the last 5 years does not affect satisfaction levels\n",
    "# Alternative hypothesis: getting a promotion in the last 5 years does affect satisfaction levels\n",
    "\n",
    "# Create dictionary to hold t-tests of whether satisfaction level of +/- promotion varies from overall mean. \n",
    "t_tests = {}\n",
    "\n",
    "# Calculate overall mean\n",
    "overall_mean = data.satisfaction_level.mean()\n",
    "print('overall mean: {}'.format(overall_mean))\n",
    "\n",
    "# Iterate over salary levels\n",
    "for outcome in data.promotion_last_5years.unique():\n",
    "    # Perform t-test for each outcome and add to dictionary\n",
    "    t_tests[outcome] = ttest_1samp(data[data.promotion_last_5years == outcome].satisfaction_level, overall_mean)\n",
    "t_tests"
   ]
  },
  {
   "cell_type": "code",
   "execution_count": 82,
   "metadata": {
    "collapsed": true
   },
   "outputs": [],
   "source": [
    "# Generate plots\n",
    "satisfaction_means = {'no_promotion': data[data.promotion_last_5years == 0].satisfaction_level.mean(),\n",
    "                      'promotion': data[data.promotion_last_5years == 1].satisfaction_level.mean()}\n",
    "satisfaction_stds = {'no_promotion': data[data.promotion_last_5years == 0].satisfaction_level.std() /\n",
    "                                     np.sqrt(len(data[data.promotion_last_5years == 0])),\n",
    "                     'promotion': data[data.promotion_last_5years == 1].satisfaction_level.std() /\n",
    "                                  np.sqrt(len(data[data.promotion_last_5years == 1]))}\n",
    "\n",
    "normals = {}\n",
    "x = {}\n",
    "for key in satisfaction_means.keys():\n",
    "    # Create and store normal distribution based on current mean and std\n",
    "    normals[key] = norm(loc = satisfaction_means[key], scale = satisfaction_stds[key])\n",
    "    # Create and store uniformly-spaced x-values\n",
    "    x[key] = np.linspace(normals[key].ppf(0.01), normals[key].ppf(0.99), 100)"
   ]
  },
  {
   "cell_type": "code",
   "execution_count": 83,
   "metadata": {},
   "outputs": [
    {
     "data": {
      "text/plain": [
       "<matplotlib.figure.Figure at 0x113bebc18>"
      ]
     },
     "metadata": {},
     "output_type": "display_data"
    },
    {
     "data": {
      "image/png": "[encoded data removed]",
      "text/plain": [
       "<matplotlib.figure.Figure at 0x113475390>"
      ]
     },
     "metadata": {},
     "output_type": "display_data"
    }
   ],
   "source": [
    "# Plot results\n",
    "plt.figure(figsize=(8, 4))\n",
    "plt.plot(x['no_promotion'], normals['no_promotion'].pdf(x['no_promotion']), label = 'no_promotion')\n",
    "plt.plot(x['promotion'], normals['promotion'].pdf(x['promotion']), label = 'promotion')\n",
    "\n",
    "# Add annotation\n",
    "plt.title('Satisfaction Level by Promotion')\n",
    "plt.xlabel('Mean satisfaction level')\n",
    "plt.ylabel('Number of employees')\n",
    "plt.legend()\n",
    "\n",
    "# Show plot\n",
    "plt.show()"
   ]
  },
  {
   "cell_type": "markdown",
   "metadata": {},
   "source": [
    "Comment on your results\n",
    "* T-tests: The satisfaction level of employees who did not get a promotion in the past 5 years is not significantly different from the overall mean (p < 0.05), while those employees who did get a promotion in the past 5 years have significantly higher satisfaction levels as compared to the overall mean. This implies that while not getting a promotion does not have a measurable effect on satisfaction levels, receiving a promotion increases employee satisfaction.\n",
    "* Plot: The employees who did not receive an employee in the past 5 years have a peaked distribution right around the overall data mean. Those employees who did receive a promotion have a flattened distribution that is higher and non-overlapping to the other employees, as expected from the t-tests."
   ]
  },
  {
   "cell_type": "markdown",
   "metadata": {},
   "source": [
    "#### Question 8"
   ]
  },
  {
   "cell_type": "code",
   "execution_count": 90,
   "metadata": {},
   "outputs": [
    {
     "data": {
      "text/plain": [
       "0.77046543921945354"
      ]
     },
     "execution_count": 90,
     "metadata": {},
     "output_type": "execute_result"
    }
   ],
   "source": [
    "# Compute the power for the hypothesis that the satisfaction level of high paid employees is different than\n",
    "# that of medium paid employees using a t distribution.\n",
    "\n",
    "# Effect size between high and medium salary means\n",
    "effect = ( data[data.salary == 'high'].satisfaction_level.mean() - \n",
    "           data[data.salary == 'medium'].satisfaction_level.mean() ) / data.satisfaction_level.std()\n",
    "\n",
    "# Count ratio between high and medium salaries\n",
    "count_ratio = len(data[data.salary == 'high']) / len(data[data.salary == 'medium'])\n",
    "\n",
    "# Compute the power using the desired alpha\n",
    "sm.TTestIndPower().power(effect, len(data[data.left == 0]), alpha = 0.05, ratio = count_ratio)"
   ]
  },
  {
   "cell_type": "markdown",
   "metadata": {},
   "source": [
    "## Bootstrapping\n",
    "Bootstrapping is an immensely useful technique in practice.  Very often you may find yourself in a situation where you want to compute some statistic, but lack sufficient data to do so.  Bootstrapping works as a remedy to this problem.\n",
    "\n",
    "Recall that the bootstrapping algorithm breaks down as follows:\n",
    "1. Sample n observations with replacement from the observed data resulting in one simulated complete data set. \n",
    "1. Take the statistic of the simulated data set\n",
    "1. Repeat these two steps B times, resulting in B simulated statistics\n",
    "1. These statistics are approximately drawn from the sampling distribution of the statistic of n observations\n",
    "    - This is a lot like what you did when drawing many sample means\n",
    "\n",
    "In this exercise you will implement this algorithm on the HR data.\n",
    "\n",
    "Write a function that can perform bootstrapping for the median of a set of n samples in the HR data set.  Test this function on the `satisfaction_level` with `n = 100` and `b = 100` and compare your results to the true median.  Also compute the standard deviation of the bootstrapped median."
   ]
  },
  {
   "cell_type": "code",
   "execution_count": 98,
   "metadata": {
    "collapsed": true
   },
   "outputs": [],
   "source": [
    "# Write a function that can perform bootstrapping for the median of a set of n samples in the HR data set.\n",
    "def median_bootstrap(data, n, b):\n",
    "    \"\"\" Use bootstrapping to find the medium value of a specified sample within the dataset.\n",
    "        Inputs:\n",
    "            - data: column of the dataset to calculate medium\n",
    "            - n: number of samples to calculate\n",
    "            - b: number of bootstraps\n",
    "        Return: Bootstrapped median\n",
    "    \"\"\"\n",
    "    # Retain bootstrapped medians in a list\n",
    "    medians = []\n",
    "    # Iterate through data 'b' times\n",
    "    for i in range(b):\n",
    "        # Extract sample of size 'n' with replacement and compute median\n",
    "        new_median = data.sample(n = n, replace = True).median()\n",
    "        # Add new median to ongoing list\n",
    "        medians.append(new_median)\n",
    "    # Return completed list\n",
    "    return(medians)"
   ]
  },
  {
   "cell_type": "code",
   "execution_count": 99,
   "metadata": {},
   "outputs": [
    {
     "name": "stdout",
     "output_type": "stream",
     "text": [
      "True median = 0.64\n",
      "Bootstrapped median = 0.6465499999999998\n"
     ]
    }
   ],
   "source": [
    "# Test function on satisfaction_level with n = 100 and b = 100 and compare results to true median.\n",
    "true_median = data.satisfaction_level.median()\n",
    "boot_data = median_bootstrap(data.satisfaction_level, n = 100, b = 100)\n",
    "boot_median = np.mean(boot_data) # Mean of bootstrapped means\n",
    "\n",
    "# Print results\n",
    "print(\"True median = {}\".format(true_median))\n",
    "print(\"Bootstrapped median = {}\".format(boot_median))"
   ]
  },
  {
   "cell_type": "code",
   "execution_count": 102,
   "metadata": {},
   "outputs": [
    {
     "data": {
      "text/plain": [
       "0.036198722353143906"
      ]
     },
     "execution_count": 102,
     "metadata": {},
     "output_type": "execute_result"
    }
   ],
   "source": [
    "# Compute standard deviation of the bootstrapped median.\n",
    "boot_std = np.std(boot_data)\n",
    "boot_std"
   ]
  }
 ],
 "metadata": {
  "anaconda-cloud": {},
  "kernelspec": {
   "display_name": "Python 3",
   "language": "python",
   "name": "python3"
  },
  "language_info": {
   "codemirror_mode": {
    "name": "ipython",
    "version": 3
   },
   "file_extension": ".py",
   "mimetype": "text/x-python",
   "name": "python",
   "nbconvert_exporter": "python",
   "pygments_lexer": "ipython3",
   "version": "3.6.1"
  }
 },
 "nbformat": 4,
 "nbformat_minor": 2
}
